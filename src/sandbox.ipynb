{
 "cells": [
  {
   "cell_type": "code",
   "execution_count": 7,
   "metadata": {},
   "outputs": [],
   "source": [
    "import plotly.express as px\n",
    "import numpy as np\n",
    "import pandas as pd"
   ]
  },
  {
   "cell_type": "markdown",
   "metadata": {},
   "source": [
    "Import the datasets from data/"
   ]
  },
  {
   "cell_type": "code",
   "execution_count": 13,
   "metadata": {},
   "outputs": [],
   "source": [
    "wi_grid = pd.read_csv(\"../data/mygrid.csv\")\n",
    "r0_county = pd.read_csv(\"../data/df_gg_ms.csv\")"
   ]
  },
  {
   "cell_type": "code",
   "execution_count": 17,
   "metadata": {},
   "outputs": [],
   "source": [
    "r0_county_grid = pd.merge(r0_county, wi_grid, how = \"left\", on = \"code\")"
   ]
  },
  {
   "cell_type": "code",
   "execution_count": 18,
   "metadata": {},
   "outputs": [
    {
     "output_type": "execute_result",
     "data": {
      "text/plain": "         county  t_start  t_end   Mean(R)    Std(R)  Quantile.0.025(R)  \\\n0         Adams      NaN    NaN       NaN       NaN                NaN   \n1       Ashland      NaN    NaN       NaN       NaN                NaN   \n2        Barron      2.0    8.0  3.498576  1.428288           1.283916   \n3        Barron      3.0    9.0  2.684234  1.095834           0.985067   \n4        Barron      4.0   10.0  1.090765  0.629754           0.224942   \n...         ...      ...    ...       ...       ...                ...   \n2507  Winnebago     59.0   65.0  1.005305  0.197156           0.656698   \n2508  Winnebago     60.0   66.0  1.013614  0.202723           0.655957   \n2509  Winnebago     61.0   67.0  1.098441  0.215422           0.717538   \n2510  Winnebago     62.0   68.0  1.431578  0.249206           0.985432   \n2511       Wood      NaN    NaN       NaN       NaN                NaN   \n\n      Quantile.0.05(R)  Quantile.0.25(R)  Median(R)  Quantile.0.75(R)  \\\n0                  NaN               NaN        NaN               NaN   \n1                  NaN               NaN        NaN               NaN   \n2             1.523639          6.130109   3.306249          6.130109   \n3             1.168990          4.703241   2.536673          4.703241   \n4             0.297303          2.289078   0.972257          2.289078   \n...                ...               ...        ...               ...   \n2507          0.704430          1.350050   0.992446          1.350050   \n2508          0.704750          1.368476   1.000131          1.368476   \n2509          0.769692          1.475125   1.084391          1.475125   \n2510          1.047771          1.864628   1.417143          1.864628   \n2511               NaN               NaN        NaN               NaN   \n\n      Quantile.0.95(R)  Quantile.0.975(R)          Date       code  \\\n0                  NaN                NaN           NaN      adams   \n1                  NaN                NaN           NaN    ashland   \n2             6.130109           6.803759  1.586477e+12     barron   \n3             4.703241           5.220089  1.586563e+12     barron   \n4             2.289078           2.626813  1.586650e+12     barron   \n...                ...                ...           ...        ...   \n2507          1.350050           1.426950  1.589674e+12  winnebago   \n2508          1.368476           1.447850  1.589760e+12  winnebago   \n2509          1.475125           1.559149  1.589846e+12  winnebago   \n2510          1.864628           1.959719  1.589933e+12  winnebago   \n2511               NaN                NaN           NaN       wood   \n\n                 Risk  yintercept              name  row  col  \n0     Low-Case Counts         NaN      Adams County    6    6  \n1     Low-Case Counts         NaN    Ashland County    2    4  \n2                 Low         NaN     Barron County    3    2  \n3                 Low         NaN     Barron County    3    2  \n4                 Low         NaN     Barron County    3    2  \n...               ...         ...               ...  ...  ...  \n2507             High         NaN  Winnebago County    6    8  \n2508             High         NaN  Winnebago County    6    8  \n2509             High         NaN  Winnebago County    6    8  \n2510             High         1.0  Winnebago County    6    8  \n2511  Low-Case Counts         NaN       Wood County    5    5  \n\n[2512 rows x 19 columns]",
      "text/html": "<div>\n<style scoped>\n    .dataframe tbody tr th:only-of-type {\n        vertical-align: middle;\n    }\n\n    .dataframe tbody tr th {\n        vertical-align: top;\n    }\n\n    .dataframe thead th {\n        text-align: right;\n    }\n</style>\n<table border=\"1\" class=\"dataframe\">\n  <thead>\n    <tr style=\"text-align: right;\">\n      <th></th>\n      <th>county</th>\n      <th>t_start</th>\n      <th>t_end</th>\n      <th>Mean(R)</th>\n      <th>Std(R)</th>\n      <th>Quantile.0.025(R)</th>\n      <th>Quantile.0.05(R)</th>\n      <th>Quantile.0.25(R)</th>\n      <th>Median(R)</th>\n      <th>Quantile.0.75(R)</th>\n      <th>Quantile.0.95(R)</th>\n      <th>Quantile.0.975(R)</th>\n      <th>Date</th>\n      <th>code</th>\n      <th>Risk</th>\n      <th>yintercept</th>\n      <th>name</th>\n      <th>row</th>\n      <th>col</th>\n    </tr>\n  </thead>\n  <tbody>\n    <tr>\n      <th>0</th>\n      <td>Adams</td>\n      <td>NaN</td>\n      <td>NaN</td>\n      <td>NaN</td>\n      <td>NaN</td>\n      <td>NaN</td>\n      <td>NaN</td>\n      <td>NaN</td>\n      <td>NaN</td>\n      <td>NaN</td>\n      <td>NaN</td>\n      <td>NaN</td>\n      <td>NaN</td>\n      <td>adams</td>\n      <td>Low-Case Counts</td>\n      <td>NaN</td>\n      <td>Adams County</td>\n      <td>6</td>\n      <td>6</td>\n    </tr>\n    <tr>\n      <th>1</th>\n      <td>Ashland</td>\n      <td>NaN</td>\n      <td>NaN</td>\n      <td>NaN</td>\n      <td>NaN</td>\n      <td>NaN</td>\n      <td>NaN</td>\n      <td>NaN</td>\n      <td>NaN</td>\n      <td>NaN</td>\n      <td>NaN</td>\n      <td>NaN</td>\n      <td>NaN</td>\n      <td>ashland</td>\n      <td>Low-Case Counts</td>\n      <td>NaN</td>\n      <td>Ashland County</td>\n      <td>2</td>\n      <td>4</td>\n    </tr>\n    <tr>\n      <th>2</th>\n      <td>Barron</td>\n      <td>2.0</td>\n      <td>8.0</td>\n      <td>3.498576</td>\n      <td>1.428288</td>\n      <td>1.283916</td>\n      <td>1.523639</td>\n      <td>6.130109</td>\n      <td>3.306249</td>\n      <td>6.130109</td>\n      <td>6.130109</td>\n      <td>6.803759</td>\n      <td>1.586477e+12</td>\n      <td>barron</td>\n      <td>Low</td>\n      <td>NaN</td>\n      <td>Barron County</td>\n      <td>3</td>\n      <td>2</td>\n    </tr>\n    <tr>\n      <th>3</th>\n      <td>Barron</td>\n      <td>3.0</td>\n      <td>9.0</td>\n      <td>2.684234</td>\n      <td>1.095834</td>\n      <td>0.985067</td>\n      <td>1.168990</td>\n      <td>4.703241</td>\n      <td>2.536673</td>\n      <td>4.703241</td>\n      <td>4.703241</td>\n      <td>5.220089</td>\n      <td>1.586563e+12</td>\n      <td>barron</td>\n      <td>Low</td>\n      <td>NaN</td>\n      <td>Barron County</td>\n      <td>3</td>\n      <td>2</td>\n    </tr>\n    <tr>\n      <th>4</th>\n      <td>Barron</td>\n      <td>4.0</td>\n      <td>10.0</td>\n      <td>1.090765</td>\n      <td>0.629754</td>\n      <td>0.224942</td>\n      <td>0.297303</td>\n      <td>2.289078</td>\n      <td>0.972257</td>\n      <td>2.289078</td>\n      <td>2.289078</td>\n      <td>2.626813</td>\n      <td>1.586650e+12</td>\n      <td>barron</td>\n      <td>Low</td>\n      <td>NaN</td>\n      <td>Barron County</td>\n      <td>3</td>\n      <td>2</td>\n    </tr>\n    <tr>\n      <th>...</th>\n      <td>...</td>\n      <td>...</td>\n      <td>...</td>\n      <td>...</td>\n      <td>...</td>\n      <td>...</td>\n      <td>...</td>\n      <td>...</td>\n      <td>...</td>\n      <td>...</td>\n      <td>...</td>\n      <td>...</td>\n      <td>...</td>\n      <td>...</td>\n      <td>...</td>\n      <td>...</td>\n      <td>...</td>\n      <td>...</td>\n      <td>...</td>\n    </tr>\n    <tr>\n      <th>2507</th>\n      <td>Winnebago</td>\n      <td>59.0</td>\n      <td>65.0</td>\n      <td>1.005305</td>\n      <td>0.197156</td>\n      <td>0.656698</td>\n      <td>0.704430</td>\n      <td>1.350050</td>\n      <td>0.992446</td>\n      <td>1.350050</td>\n      <td>1.350050</td>\n      <td>1.426950</td>\n      <td>1.589674e+12</td>\n      <td>winnebago</td>\n      <td>High</td>\n      <td>NaN</td>\n      <td>Winnebago County</td>\n      <td>6</td>\n      <td>8</td>\n    </tr>\n    <tr>\n      <th>2508</th>\n      <td>Winnebago</td>\n      <td>60.0</td>\n      <td>66.0</td>\n      <td>1.013614</td>\n      <td>0.202723</td>\n      <td>0.655957</td>\n      <td>0.704750</td>\n      <td>1.368476</td>\n      <td>1.000131</td>\n      <td>1.368476</td>\n      <td>1.368476</td>\n      <td>1.447850</td>\n      <td>1.589760e+12</td>\n      <td>winnebago</td>\n      <td>High</td>\n      <td>NaN</td>\n      <td>Winnebago County</td>\n      <td>6</td>\n      <td>8</td>\n    </tr>\n    <tr>\n      <th>2509</th>\n      <td>Winnebago</td>\n      <td>61.0</td>\n      <td>67.0</td>\n      <td>1.098441</td>\n      <td>0.215422</td>\n      <td>0.717538</td>\n      <td>0.769692</td>\n      <td>1.475125</td>\n      <td>1.084391</td>\n      <td>1.475125</td>\n      <td>1.475125</td>\n      <td>1.559149</td>\n      <td>1.589846e+12</td>\n      <td>winnebago</td>\n      <td>High</td>\n      <td>NaN</td>\n      <td>Winnebago County</td>\n      <td>6</td>\n      <td>8</td>\n    </tr>\n    <tr>\n      <th>2510</th>\n      <td>Winnebago</td>\n      <td>62.0</td>\n      <td>68.0</td>\n      <td>1.431578</td>\n      <td>0.249206</td>\n      <td>0.985432</td>\n      <td>1.047771</td>\n      <td>1.864628</td>\n      <td>1.417143</td>\n      <td>1.864628</td>\n      <td>1.864628</td>\n      <td>1.959719</td>\n      <td>1.589933e+12</td>\n      <td>winnebago</td>\n      <td>High</td>\n      <td>1.0</td>\n      <td>Winnebago County</td>\n      <td>6</td>\n      <td>8</td>\n    </tr>\n    <tr>\n      <th>2511</th>\n      <td>Wood</td>\n      <td>NaN</td>\n      <td>NaN</td>\n      <td>NaN</td>\n      <td>NaN</td>\n      <td>NaN</td>\n      <td>NaN</td>\n      <td>NaN</td>\n      <td>NaN</td>\n      <td>NaN</td>\n      <td>NaN</td>\n      <td>NaN</td>\n      <td>NaN</td>\n      <td>wood</td>\n      <td>Low-Case Counts</td>\n      <td>NaN</td>\n      <td>Wood County</td>\n      <td>5</td>\n      <td>5</td>\n    </tr>\n  </tbody>\n</table>\n<p>2512 rows × 19 columns</p>\n</div>"
     },
     "metadata": {},
     "execution_count": 18
    }
   ],
   "source": [
    "r0_county_grid"
   ]
  },
  {
   "cell_type": "code",
   "execution_count": 33,
   "metadata": {},
   "outputs": [],
   "source": [
    "rows = sorted(set(wi_grid[\"row\"].tolist()))\n",
    "cols = sorted(set(wi_grid[\"col\"].tolist()))"
   ]
  },
  {
   "cell_type": "markdown",
   "metadata": {},
   "source": [
    "## Attempt 1: using plotly express\n",
    "Problem is I don't know how to control the individual titles"
   ]
  },
  {
   "cell_type": "code",
   "execution_count": 43,
   "metadata": {},
   "outputs": [
    {
     "output_type": "display_data",
     "data": {
      "application/vnd.plotly.v1+json": {
       "config": {
        "plotlyServerURL": "https://plot.ly"
       },
       "data": [
        {
         "hovertemplate": "row=1<br>col=2<br>t_end=%{x}<br>Mean(R)=%{y}<extra></extra>",
         "legendgroup": "",
         "line": {
          "color": "#636efa",
          "dash": "solid"
         },
         "mode": "lines",
         "name": "",
         "showlegend": false,
         "type": "scattergl",
         "x": [
          8,
          9,
          10,
          11,
          12,
          13,
          14,
          15,
          16,
          17,
          18,
          19,
          20,
          21,
          22,
          23,
          24,
          25,
          26,
          27,
          28,
          29,
          30,
          31,
          32,
          33,
          34,
          35,
          36,
          37,
          38,
          39,
          40,
          41,
          42,
          43,
          44,
          45,
          46,
          47,
          48,
          49,
          50,
          51,
          52,
          53,
          54,
          55,
          56,
          57,
          58,
          59,
          60,
          61,
          62
         ],
         "xaxis": "x98",
         "y": [
          4.4464970927877525,
          3.8352116611927634,
          2.9446294112374036,
          1.9919062122186837,
          1.009485131696484,
          1.1812142157027985,
          1.0877725951396142,
          0.7888234011001843,
          0.5258449972108548,
          0.5383654138498061,
          0.5652901522259359,
          0.6106134405320173,
          0.33796447352166537,
          0.3804411926706597,
          0.4347840979472243,
          0.5078788221242809,
          0.6080707753819297,
          0.7443163135106359,
          0.926264879074514,
          1.1634289230007648,
          1.4629459732915169,
          1.825951392730477,
          4.48711508887445,
          5.371206545783156,
          5.902300334583478,
          5.49745307487239,
          4.531275472325995,
          5.447655065481378,
          4.467567520168926,
          2.4825385463081453,
          2.0685552817245334,
          1.765619769874964,
          1.584870935174939,
          1.4937518873786606,
          0.7298788944292081,
          0.7307442572674088,
          0.7516595107464633,
          0.8049774298904866,
          0.8991394268240979,
          1.0404366302872563,
          2.4702671739039177,
          2.971704658980474,
          3.472614206086948,
          5.513174471790992,
          5.208762947614472,
          4.489399341679599,
          3.64803685752288,
          1.961700007829282,
          2.438115290923053,
          2.1200526162165567,
          1.28867914857511,
          1.2055976985168024,
          1.7301482853297947,
          2.84268699688818,
          2.8495330580578453
         ],
         "yaxis": "y98"
        },
        {
         "hovertemplate": "row=1<br>col=3<br>t_end=%{x}<br>Mean(R)=%{y}<extra></extra>",
         "legendgroup": "",
         "line": {
          "color": "#636efa",
          "dash": "solid"
         },
         "mode": "lines",
         "name": "",
         "showlegend": false,
         "type": "scattergl",
         "x": [
          null
         ],
         "xaxis": "x99",
         "y": [
          null
         ],
         "yaxis": "y99"
        },
        {
         "hovertemplate": "row=2<br>col=1<br>t_end=%{x}<br>Mean(R)=%{y}<extra></extra>",
         "legendgroup": "",
         "line": {
          "color": "#636efa",
          "dash": "solid"
         },
         "mode": "lines",
         "name": "",
         "showlegend": false,
         "type": "scattergl",
         "x": [
          null
         ],
         "xaxis": "x85",
         "y": [
          null
         ],
         "yaxis": "y85"
        },
        {
         "hovertemplate": "row=2<br>col=2<br>t_end=%{x}<br>Mean(R)=%{y}<extra></extra>",
         "legendgroup": "",
         "line": {
          "color": "#636efa",
          "dash": "solid"
         },
         "mode": "lines",
         "name": "",
         "showlegend": false,
         "type": "scattergl",
         "x": [
          null
         ],
         "xaxis": "x86",
         "y": [
          null
         ],
         "yaxis": "y86"
        },
        {
         "hovertemplate": "row=2<br>col=3<br>t_end=%{x}<br>Mean(R)=%{y}<extra></extra>",
         "legendgroup": "",
         "line": {
          "color": "#636efa",
          "dash": "solid"
         },
         "mode": "lines",
         "name": "",
         "showlegend": false,
         "type": "scattergl",
         "x": [
          null
         ],
         "xaxis": "x87",
         "y": [
          null
         ],
         "yaxis": "y87"
        },
        {
         "hovertemplate": "row=2<br>col=4<br>t_end=%{x}<br>Mean(R)=%{y}<extra></extra>",
         "legendgroup": "",
         "line": {
          "color": "#636efa",
          "dash": "solid"
         },
         "mode": "lines",
         "name": "",
         "showlegend": false,
         "type": "scattergl",
         "x": [
          null
         ],
         "xaxis": "x88",
         "y": [
          null
         ],
         "yaxis": "y88"
        },
        {
         "hovertemplate": "row=2<br>col=5<br>t_end=%{x}<br>Mean(R)=%{y}<extra></extra>",
         "legendgroup": "",
         "line": {
          "color": "#636efa",
          "dash": "solid"
         },
         "mode": "lines",
         "name": "",
         "showlegend": false,
         "type": "scattergl",
         "x": [
          null
         ],
         "xaxis": "x89",
         "y": [
          null
         ],
         "yaxis": "y89"
        },
        {
         "hovertemplate": "row=2<br>col=6<br>t_end=%{x}<br>Mean(R)=%{y}<extra></extra>",
         "legendgroup": "",
         "line": {
          "color": "#636efa",
          "dash": "solid"
         },
         "mode": "lines",
         "name": "",
         "showlegend": false,
         "type": "scattergl",
         "x": [
          null
         ],
         "xaxis": "x90",
         "y": [
          null
         ],
         "yaxis": "y90"
        },
        {
         "hovertemplate": "row=2<br>col=7<br>t_end=%{x}<br>Mean(R)=%{y}<extra></extra>",
         "legendgroup": "",
         "line": {
          "color": "#636efa",
          "dash": "solid"
         },
         "mode": "lines",
         "name": "",
         "showlegend": false,
         "type": "scattergl",
         "x": [
          null
         ],
         "xaxis": "x91",
         "y": [
          null
         ],
         "yaxis": "y91"
        },
        {
         "hovertemplate": "row=3<br>col=1<br>t_end=%{x}<br>Mean(R)=%{y}<extra></extra>",
         "legendgroup": "",
         "line": {
          "color": "#636efa",
          "dash": "solid"
         },
         "mode": "lines",
         "name": "",
         "showlegend": false,
         "type": "scattergl",
         "x": [
          null
         ],
         "xaxis": "x73",
         "y": [
          null
         ],
         "yaxis": "y73"
        },
        {
         "hovertemplate": "row=3<br>col=2<br>t_end=%{x}<br>Mean(R)=%{y}<extra></extra>",
         "legendgroup": "",
         "line": {
          "color": "#636efa",
          "dash": "solid"
         },
         "mode": "lines",
         "name": "",
         "showlegend": false,
         "type": "scattergl",
         "x": [
          8,
          9,
          10,
          11,
          12,
          13,
          14,
          15,
          16,
          17,
          18,
          19,
          20,
          21,
          22,
          23,
          24,
          25,
          26,
          27,
          28,
          29,
          30,
          31,
          32,
          33,
          34,
          35,
          36,
          37,
          38,
          39,
          40,
          41,
          42,
          43,
          44,
          45,
          46,
          47,
          48
         ],
         "xaxis": "x74",
         "y": [
          3.4985764454244284,
          2.6842339358709424,
          1.0907652446164977,
          0.9279513541181966,
          0.8315273946055122,
          0.7916698079381266,
          0.5292636833303025,
          0.27537468480700683,
          0.29463144299624866,
          0.3249745529885476,
          0.371610469221704,
          0.4403332555398685,
          0.5379444410401193,
          0.6728583125952918,
          0.8549936295402044,
          1.0946322746955082,
          1.3998344001374423,
          1.7723251341855026,
          2.2028992812229387,
          2.669002608042016,
          3.1375601607319035,
          3.57345236040008,
          7.899137730031912,
          8.460009594760846,
          8.185838384957401,
          6.689919644703234,
          5.0325721021507315,
          3.8373252893673087,
          7.684860488269228,
          5.159885566862972,
          6.394554870341968,
          5.02536747331634,
          3.873189790751419,
          2.9958683334182727,
          2.3856207117801134,
          0.989703284106594,
          0.8564029972537763,
          0.2595773845870299,
          0.2502274210104904,
          0.2559309998930593,
          0.2778473392207165
         ],
         "yaxis": "y74"
        },
        {
         "hovertemplate": "row=3<br>col=3<br>t_end=%{x}<br>Mean(R)=%{y}<extra></extra>",
         "legendgroup": "",
         "line": {
          "color": "#636efa",
          "dash": "solid"
         },
         "mode": "lines",
         "name": "",
         "showlegend": false,
         "type": "scattergl",
         "x": [
          8,
          9,
          10,
          11,
          12,
          13,
          14,
          15,
          16,
          17,
          18,
          19,
          20,
          21,
          22,
          23,
          24,
          25,
          26,
          27,
          28,
          29,
          30,
          31,
          32,
          33,
          34,
          35,
          36,
          37,
          38,
          39,
          40,
          41,
          42,
          43,
          44,
          45,
          46,
          47,
          48,
          49,
          50,
          51,
          52,
          53,
          54,
          55,
          56,
          57,
          58,
          59,
          60,
          61,
          62
         ],
         "xaxis": "x75",
         "y": [
          3.9018500282164377,
          4.569551957246466,
          4.071825300923326,
          6.183834111329781,
          5.913859367420976,
          5.944453741357478,
          5.04945170679694,
          4.1863660265980105,
          2.9418671064326376,
          2.736697930374972,
          1.7209382480110702,
          1.3161385470235527,
          0.90268441371163,
          0.829296216772308,
          0.5672802877361013,
          0.564249278028333,
          0.5797503672046549,
          0.6126394707584247,
          0.6607815175749903,
          0.7207412127247536,
          0.6304724342950946,
          0.5148023600443177,
          0.7431146044122938,
          0.4025315978169219,
          0.4379273691374215,
          0.4793820196777082,
          0.5323576415890227,
          0.6010729783507258,
          0.6871165224038103,
          0.394782294371182,
          0.452704509451201,
          0.5192288538574092,
          1.2068290482197503,
          1.430159912064815,
          2.5515923963931364,
          3.9041492249796814,
          4.131426736662377,
          5.816078589281987,
          4.9255253177243405,
          3.278300328389287,
          3.5899597432330483,
          2.46536536739142,
          1.7086544419819123,
          2.0534785204822366,
          1.3062689395561589,
          1.4403290405740254,
          1.5789442581320334,
          1.081493598244684,
          1.4663477617463458,
          2.2453969727730696,
          2.1993810547281973,
          2.119401054427272,
          2.1519206435311027,
          1.95245893509466,
          1.903348124252093
         ],
         "yaxis": "y75"
        },
        {
         "hovertemplate": "row=3<br>col=4<br>t_end=%{x}<br>Mean(R)=%{y}<extra></extra>",
         "legendgroup": "",
         "line": {
          "color": "#636efa",
          "dash": "solid"
         },
         "mode": "lines",
         "name": "",
         "showlegend": false,
         "type": "scattergl",
         "x": [
          null
         ],
         "xaxis": "x76",
         "y": [
          null
         ],
         "yaxis": "y76"
        },
        {
         "hovertemplate": "row=3<br>col=5<br>t_end=%{x}<br>Mean(R)=%{y}<extra></extra>",
         "legendgroup": "",
         "line": {
          "color": "#636efa",
          "dash": "solid"
         },
         "mode": "lines",
         "name": "",
         "showlegend": false,
         "type": "scattergl",
         "x": [
          null
         ],
         "xaxis": "x77",
         "y": [
          null
         ],
         "yaxis": "y77"
        },
        {
         "hovertemplate": "row=3<br>col=6<br>t_end=%{x}<br>Mean(R)=%{y}<extra></extra>",
         "legendgroup": "",
         "line": {
          "color": "#636efa",
          "dash": "solid"
         },
         "mode": "lines",
         "name": "",
         "showlegend": false,
         "type": "scattergl",
         "x": [
          null
         ],
         "xaxis": "x78",
         "y": [
          null
         ],
         "yaxis": "y78"
        },
        {
         "hovertemplate": "row=3<br>col=7<br>t_end=%{x}<br>Mean(R)=%{y}<extra></extra>",
         "legendgroup": "",
         "line": {
          "color": "#636efa",
          "dash": "solid"
         },
         "mode": "lines",
         "name": "",
         "showlegend": false,
         "type": "scattergl",
         "x": [
          null
         ],
         "xaxis": "x79",
         "y": [
          null
         ],
         "yaxis": "y79"
        },
        {
         "hovertemplate": "row=3<br>col=8<br>t_end=%{x}<br>Mean(R)=%{y}<extra></extra>",
         "legendgroup": "",
         "line": {
          "color": "#636efa",
          "dash": "solid"
         },
         "mode": "lines",
         "name": "",
         "showlegend": false,
         "type": "scattergl",
         "x": [
          8,
          9,
          10,
          11,
          12,
          13,
          14,
          15
         ],
         "xaxis": "x80",
         "y": [
          5.218866720468449,
          3.7496551630379455,
          2.8130766606406747,
          3.1320508254081267,
          2.6274368419375733,
          1.9517986642866505,
          1.7135297253342932,
          1.7823208004242947
         ],
         "yaxis": "y80"
        },
        {
         "hovertemplate": "row=3<br>col=9<br>t_end=%{x}<br>Mean(R)=%{y}<extra></extra>",
         "legendgroup": "",
         "line": {
          "color": "#636efa",
          "dash": "solid"
         },
         "mode": "lines",
         "name": "",
         "showlegend": false,
         "type": "scattergl",
         "x": [
          null
         ],
         "xaxis": "x81",
         "y": [
          null
         ],
         "yaxis": "y81"
        },
        {
         "hovertemplate": "row=3<br>col=10<br>t_end=%{x}<br>Mean(R)=%{y}<extra></extra>",
         "legendgroup": "",
         "line": {
          "color": "#636efa",
          "dash": "solid"
         },
         "mode": "lines",
         "name": "",
         "showlegend": false,
         "type": "scattergl",
         "x": [
          8,
          9,
          10,
          11,
          12,
          13,
          14,
          15,
          16,
          17,
          18,
          19,
          20,
          21,
          22,
          23,
          24,
          25,
          26,
          27,
          28,
          29,
          30,
          31,
          32,
          33,
          34,
          35,
          36,
          37,
          38,
          39,
          40,
          41,
          42,
          43,
          44,
          45,
          46,
          47,
          48,
          49,
          50,
          51,
          52,
          53,
          54,
          55
         ],
         "xaxis": "x82",
         "y": [
          2.5311605688315577,
          2.090338798345365,
          1.7758405049788286,
          2.3852348057969377,
          2.243004599924173,
          1.4391954333900747,
          1.3780381647927946,
          1.318037047906584,
          1.284694722864648,
          1.2832553887251272,
          0.6536665412500461,
          1.3492081881708562,
          1.4169597920828685,
          1.5166660188485297,
          1.6211138410951704,
          2.5549638223216764,
          2.625204757987775,
          2.606735268372336,
          2.4694925020836767,
          2.261102554278568,
          3.4133245793118028,
          3.1057597972547035,
          2.2449367286442894,
          1.981205008191661,
          1.7404032286515196,
          1.1710973883527076,
          1.0814781873559187,
          0.6871054173938723,
          1.3540911816758985,
          1.3783612558676586,
          1.7891326162778456,
          1.8445236996498693,
          1.8500757333969369,
          2.5089208495999187,
          2.030358388015764,
          1.8780393280978107,
          1.9963927231128435,
          1.5617565070295854,
          2.636105110116804,
          2.4507753380991613,
          1.858168689215894,
          1.6847810116609354,
          1.1771023225446142,
          1.224437235825974,
          1.2873962116194135,
          0.6880343694458859,
          0.6747015830681848,
          1.076691195634201
         ],
         "yaxis": "y82"
        },
        {
         "hovertemplate": "row=4<br>col=1<br>t_end=%{x}<br>Mean(R)=%{y}<extra></extra>",
         "legendgroup": "",
         "line": {
          "color": "#636efa",
          "dash": "solid"
         },
         "mode": "lines",
         "name": "",
         "showlegend": false,
         "type": "scattergl",
         "x": [
          8,
          9,
          10,
          11,
          12,
          13,
          14,
          15,
          16,
          17,
          18,
          19,
          20,
          21,
          22,
          23,
          24,
          25,
          26,
          27,
          28,
          29,
          30,
          31,
          32,
          33,
          34,
          35,
          36,
          37,
          38,
          39,
          40,
          41,
          42,
          43,
          44,
          45,
          46,
          47,
          48,
          49,
          50,
          51,
          52,
          53,
          54,
          55,
          56,
          57,
          58,
          59,
          60,
          61,
          62,
          63
         ],
         "xaxis": "x61",
         "y": [
          3.028607699563163,
          1.7509533464840676,
          1.4191074500214431,
          1.2280518978481,
          0.7553214992018299,
          0.7323859039357641,
          1.1083661327088583,
          1.1584804325978548,
          1.6475449135816718,
          1.7517770326579831,
          1.816718712622796,
          1.8118449669418963,
          1.3106705979712934,
          0.8284779452612191,
          0.7889041351497398,
          0.3861045173300864,
          0.7864042184937635,
          1.2535262071763031,
          1.8420583003919897,
          2.043500746497121,
          2.18200745300552,
          2.723384664810058,
          2.567460134450946,
          1.8678274080421131,
          1.250343116537456,
          0.7486681584889245,
          0.6941299270682848,
          1.0121943506948998,
          1.033884388011306,
          1.0924285099686977,
          1.1655887507175984,
          1.2351455057512168,
          1.290745664720441,
          1.3294418055829786,
          0.9021226907429529,
          1.822255564228329,
          1.8444962255171,
          1.8660592574390804,
          2.7700816608619263,
          3.55399687969913,
          3.720732528494336,
          4.0308317490020205,
          2.4802219069560247,
          2.8113862021355587,
          2.548327535049707,
          1.8152145876019572,
          1.5850715504059285,
          1.5544414688689376,
          1.810487144843648,
          1.8158511947975533,
          1.3723778343978648,
          1.3988284090145373,
          1.8199206698917136,
          1.9155441191523388,
          1.6370719654848251,
          1.4526117699240142
         ],
         "yaxis": "y61"
        },
        {
         "hovertemplate": "row=4<br>col=2<br>t_end=%{x}<br>Mean(R)=%{y}<extra></extra>",
         "legendgroup": "",
         "line": {
          "color": "#636efa",
          "dash": "solid"
         },
         "mode": "lines",
         "name": "",
         "showlegend": false,
         "type": "scattergl",
         "x": [
          8,
          9,
          10,
          11,
          12,
          13,
          14,
          15,
          16,
          17,
          18,
          19,
          20,
          21,
          22,
          23,
          24,
          25,
          26,
          27,
          28,
          29,
          30,
          31,
          32,
          33,
          34,
          35,
          36,
          37,
          38,
          39,
          40,
          41,
          42,
          43,
          44,
          45,
          46,
          47,
          48,
          49,
          50,
          51,
          52,
          53,
          54,
          55,
          56,
          57,
          58,
          59,
          60,
          61,
          62,
          63
         ],
         "xaxis": "x62",
         "y": [
          1.3006166760721458,
          2.29140434106998,
          2.128135551932728,
          3.1117983156058404,
          3.077506416110498,
          2.974706446220292,
          2.7435800579514638,
          2.4479477385556243,
          2.8925378297546023,
          2.590167005553906,
          1.7529381088015292,
          1.580200323416295,
          1.4395209856937632,
          1.3466447720489487,
          2.1595721179965417,
          1.6974511174041025,
          2.0832230073422,
          2.0062065657715547,
          1.8981664178507505,
          1.7712630349620042,
          1.644725596341749,
          0.9199744211458668,
          0.5775067835368753,
          0.27787523304868994,
          0.27801293047651937,
          0.2923539744124042,
          0.32404689041646145,
          0.3765858510970832,
          0.4549299158533559,
          0.5661104225891337,
          0.7192568442266732,
          0.9249227976219336,
          1.1932510567756185,
          1.5305310962528516,
          1.934410547968032,
          2.3895911123520563,
          2.867336036182308,
          6.662539385387645,
          14.92026165654902,
          14.924896143918064,
          14.063760516907509,
          8.683935368304551,
          6.494368803657307,
          4.3807438336143765,
          2.6650142595782382,
          1.2434309027920112,
          1.0272027968316175,
          0.6051547830058902,
          2.0026099322621618,
          2.0040482605307917,
          2.0484552791423773,
          2.3190618045477303,
          2.1932362755007384,
          2.005826052219252,
          1.8063253235991519,
          0.6109761967244617
         ],
         "yaxis": "y62"
        },
        {
         "hovertemplate": "row=4<br>col=3<br>t_end=%{x}<br>Mean(R)=%{y}<extra></extra>",
         "legendgroup": "",
         "line": {
          "color": "#636efa",
          "dash": "solid"
         },
         "mode": "lines",
         "name": "",
         "showlegend": false,
         "type": "scattergl",
         "x": [
          8,
          9,
          10,
          11,
          12,
          13,
          14,
          15,
          16,
          17,
          18,
          19,
          20,
          21,
          22,
          23,
          24,
          25,
          26,
          27,
          28,
          29,
          30,
          31,
          32,
          33,
          34,
          35,
          36,
          37,
          38,
          39,
          40,
          41,
          42,
          43,
          44,
          45,
          46,
          47,
          48,
          49,
          50,
          51,
          52,
          53,
          54,
          55,
          56,
          57,
          58,
          59,
          60,
          61,
          62,
          63
         ],
         "xaxis": "x63",
         "y": [
          3.241316443537733,
          2.129416517497257,
          1.7622281995419808,
          2.1330763744191783,
          1.9239208246477943,
          2.035433443159115,
          1.895756015547628,
          1.9806889028506112,
          2.0350977886805186,
          1.877663706881069,
          2.0732935206218013,
          1.9052059576333091,
          1.60368193212459,
          1.3375668859456942,
          0.9878523686641308,
          0.6950661161876086,
          0.6682749188466779,
          0.11047876855458844,
          0.11321841966596337,
          0.1203201008606664,
          0.13378627727067355,
          0.31151268063855936,
          0.3777078124997438,
          0.4716755074354619,
          0.5958960183613194,
          0.7477912487590844,
          0.9178684195569784,
          1.6355975641832274,
          1.2471816709514212,
          1.35993467215649,
          2.1182552606510656,
          2.861814445070558,
          2.8470833065768613,
          4.0836606784728815,
          3.095727363583648,
          3.226083708714265,
          2.7258339546850436,
          4.2332850349633535,
          3.963318104829424,
          4.794530440102166,
          3.7495412903356917,
          3.600727628381289,
          3.0376222714989067,
          2.8394257654472077,
          2.1538593628662097,
          1.6548265294768842,
          1.2865801847199536,
          1.286781377040587,
          1.0650325766556856,
          1.0142891093320496,
          0.9287938045095452,
          0.688961734181393,
          0.7476893275583076,
          0.8176411217584634,
          0.9630652574259528,
          1.1269872640853635
         ],
         "yaxis": "y63"
        },
        {
         "hovertemplate": "row=4<br>col=4<br>t_end=%{x}<br>Mean(R)=%{y}<extra></extra>",
         "legendgroup": "",
         "line": {
          "color": "#636efa",
          "dash": "solid"
         },
         "mode": "lines",
         "name": "",
         "showlegend": false,
         "type": "scattergl",
         "x": [
          8,
          9,
          10,
          11,
          12,
          13,
          14,
          15,
          16,
          17,
          18,
          19,
          20,
          21,
          22,
          23,
          24,
          25,
          26,
          27,
          28,
          29,
          30,
          31,
          32,
          33,
          34,
          35,
          36,
          37,
          38,
          39,
          40,
          41,
          42,
          43,
          44,
          45,
          46,
          47,
          48,
          49,
          50,
          51,
          52,
          53,
          54,
          55,
          56,
          57
         ],
         "xaxis": "x64",
         "y": [
          3.93230147584986,
          3.665371769548055,
          2.5026797789366166,
          1.6851492260689456,
          1.4491140960997622,
          1.6137208039097568,
          1.498613444885803,
          0.8606005672340189,
          0.5568551824578954,
          0.5486027138218776,
          0.5569891891903899,
          0.8810734826574216,
          0.6404060911461534,
          0.7105515177742585,
          1.1844942519329469,
          1.7523747655710715,
          2.8829334956859745,
          4.053149936561196,
          4.452120702860562,
          3.9322615811162,
          3.5734166482598386,
          2.8566695680047234,
          2.087208522008458,
          1.5511416980736272,
          1.0085189249671436,
          0.6067979939924107,
          0.5715581295636738,
          0.5634639145428187,
          0.4351817027764489,
          0.4638196944538203,
          0.3380055844474817,
          0.37674433184986905,
          0.6401582579852505,
          0.7363443797322069,
          0.5685341459180236,
          0.9784131588331512,
          1.4722385028131784,
          1.6320647966253439,
          2.1867498108063117,
          1.7851276468078443,
          1.731557917494095,
          1.6234902829888984,
          1.1356898943636555,
          1.0710591329128527,
          1.03142580186924,
          1.0205908845684364,
          1.723827794615714,
          1.7737981829502294,
          2.17806651417506,
          2.52136951602839
         ],
         "yaxis": "y64"
        },
        {
         "hovertemplate": "row=4<br>col=5<br>t_end=%{x}<br>Mean(R)=%{y}<extra></extra>",
         "legendgroup": "",
         "line": {
          "color": "#636efa",
          "dash": "solid"
         },
         "mode": "lines",
         "name": "",
         "showlegend": false,
         "type": "scattergl",
         "x": [
          null
         ],
         "xaxis": "x65",
         "y": [
          null
         ],
         "yaxis": "y65"
        },
        {
         "hovertemplate": "row=4<br>col=6<br>t_end=%{x}<br>Mean(R)=%{y}<extra></extra>",
         "legendgroup": "",
         "line": {
          "color": "#636efa",
          "dash": "solid"
         },
         "mode": "lines",
         "name": "",
         "showlegend": false,
         "type": "scattergl",
         "x": [
          8,
          9,
          10,
          11,
          12,
          13,
          14,
          15,
          16,
          17,
          18,
          19,
          20,
          21,
          22,
          23,
          24,
          25,
          26,
          27,
          28,
          29,
          30,
          31,
          32,
          33,
          34,
          35,
          36,
          37,
          38,
          39,
          40,
          41,
          42,
          43,
          44,
          45,
          46,
          47,
          48,
          49,
          50,
          51,
          52,
          53,
          54,
          55,
          56,
          57,
          58,
          59,
          60,
          61,
          62
         ],
         "xaxis": "x66",
         "y": [
          1.3006166760721458,
          1.1457021705349897,
          1.0655032156504642,
          2.1213689602576755,
          3.367533729633609,
          6.082241394887508,
          9.970973050892358,
          9.898716782484902,
          7.288987886233481,
          6.548602469219544,
          4.138893238788594,
          2.7424791987431143,
          1.6890828933049653,
          0.8622379581688572,
          0.5988483808751709,
          0.6917072004614637,
          0.2715533571554517,
          0.4197351455514074,
          0.4493933107014578,
          0.4975886618671499,
          0.5638278731661357,
          1.076596536762422,
          1.232844605116425,
          1.3849189597548812,
          1.1922362607389425,
          1.2220452926338403,
          1.2136952405021375,
          1.1961690916584653,
          0.5922028389010688,
          0.5911428373276867,
          0.6002564866679048,
          0.6282088064078113,
          0.6782148331936595,
          0.7497062951288433,
          1.260091882961894,
          1.4163245126414084,
          1.5686389928537567,
          1.673921776339447,
          1.7107594329647946,
          2.8190259831500626,
          2.7333507647918767,
          2.0670639174972982,
          2.3533118172402685,
          2.5299854519679617,
          2.2790006759628407,
          2.40315797994946,
          1.549730367615213,
          2.2379606772447014,
          2.293360231749954,
          2.348891838932878,
          1.941067684160831,
          1.956992958991517,
          1.5909163811008216,
          1.6076336023891282,
          1.1851688914130996
         ],
         "yaxis": "y66"
        },
        {
         "hovertemplate": "row=4<br>col=7<br>t_end=%{x}<br>Mean(R)=%{y}<extra></extra>",
         "legendgroup": "",
         "line": {
          "color": "#636efa",
          "dash": "solid"
         },
         "mode": "lines",
         "name": "",
         "showlegend": false,
         "type": "scattergl",
         "x": [
          8,
          9,
          10,
          11,
          12,
          13,
          14,
          15,
          16,
          17,
          18,
          19,
          20,
          21,
          22,
          23,
          24,
          25,
          26,
          27,
          28,
          29,
          30,
          31,
          32,
          33,
          34,
          35,
          36,
          37,
          38,
          39,
          40,
          41,
          42,
          43,
          44,
          45,
          46
         ],
         "xaxis": "x67",
         "y": [
          3.056815300002839,
          1.8518652755698233,
          1.4909401868178132,
          1.2832906591515498,
          0.8803622623978364,
          0.5621856398410594,
          0.5582354081475944,
          0.5744630288037494,
          0.6127822732618208,
          0.3366417085283302,
          0.3773995134454495,
          0.4304795352674442,
          1.5075813019519653,
          1.802326327086519,
          2.143215144215304,
          2.385080993078203,
          2.4145627093973383,
          3.79126851651124,
          3.4549240361541496,
          4.912172050999969,
          4.7550104315549335,
          3.94928975071518,
          3.1721744284100932,
          2.8176050397983965,
          1.844778592297528,
          1.5600657864964342,
          1.0256509772575881,
          0.7790164992984072,
          1.0332656185023568,
          1.4535613193777317,
          1.3253114552831842,
          1.6462877728899858,
          1.793499134023132,
          1.4582094315006402,
          1.6672538378276176,
          1.3070592679680066,
          1.1066604594632323,
          1.0484439060649966,
          0.8969681240408618
         ],
         "yaxis": "y67"
        },
        {
         "hovertemplate": "row=4<br>col=8<br>t_end=%{x}<br>Mean(R)=%{y}<extra></extra>",
         "legendgroup": "",
         "line": {
          "color": "#636efa",
          "dash": "solid"
         },
         "mode": "lines",
         "name": "",
         "showlegend": false,
         "type": "scattergl",
         "x": [
          null
         ],
         "xaxis": "x68",
         "y": [
          null
         ],
         "yaxis": "y68"
        },
        {
         "hovertemplate": "row=4<br>col=9<br>t_end=%{x}<br>Mean(R)=%{y}<extra></extra>",
         "legendgroup": "",
         "line": {
          "color": "#636efa",
          "dash": "solid"
         },
         "mode": "lines",
         "name": "",
         "showlegend": false,
         "type": "scattergl",
         "x": [
          8,
          9,
          10,
          11,
          12,
          13,
          14,
          15,
          16,
          17,
          18,
          19,
          20,
          21,
          22,
          23,
          24,
          25,
          26,
          27,
          28,
          29,
          30,
          31,
          32,
          33,
          34,
          35,
          36,
          37,
          38,
          39,
          40,
          41,
          42,
          43,
          44,
          45,
          46,
          47,
          48,
          49,
          50,
          51
         ],
         "xaxis": "x69",
         "y": [
          1.3006166760721458,
          1.1457021705349897,
          3.1965096469513927,
          3.1735299063872877,
          3.2183169392908586,
          3.1010156150575323,
          2.8038350438284643,
          3.275784590419097,
          2.87030037540069,
          1.2647597210393644,
          1.1166559947580856,
          1.010244499932861,
          0.961063761977314,
          1.4413541476013845,
          0.9965022927298341,
          1.0478118046296614,
          1.0977740506906295,
          1.14951765801681,
          1.8109828672425732,
          2.539464835404611,
          2.633259805594868,
          2.60836383682658,
          2.4346881887468528,
          3.2818314605083283,
          4.8675662484751765,
          4.2974717653532215,
          4.378862287112357,
          3.256186635527392,
          3.073797531471764,
          3.065022217570508,
          2.7143043503479416,
          1.9020044223770416,
          1.638516806195388,
          1.1302062139475195,
          1.1144135648970817,
          0.8679108024036977,
          0.5863374491352791,
          0.33206829661878884,
          0.42237588089301065,
          0.3547009650766027,
          0.3844762142347532,
          0.32077670320291474,
          0.3636523841656111,
          0.5569588842134982
         ],
         "yaxis": "y69"
        },
        {
         "hovertemplate": "row=4<br>col=10<br>t_end=%{x}<br>Mean(R)=%{y}<extra></extra>",
         "legendgroup": "",
         "line": {
          "color": "#636efa",
          "dash": "solid"
         },
         "mode": "lines",
         "name": "",
         "showlegend": false,
         "type": "scattergl",
         "x": [
          8,
          9,
          10,
          11,
          12,
          13,
          14,
          15,
          16,
          17,
          18,
          19,
          20,
          21,
          22,
          23,
          24,
          25,
          26,
          27,
          28,
          29,
          30,
          31,
          32,
          33,
          34,
          35,
          36,
          37,
          38,
          39,
          40,
          41,
          42,
          43,
          44,
          45,
          46,
          47,
          48,
          49,
          50,
          51,
          52,
          53,
          54,
          55,
          56,
          57,
          58,
          59,
          60,
          61,
          62,
          63
         ],
         "xaxis": "x70",
         "y": [
          1.3006166760721458,
          1.1457021705349897,
          1.0655032156504642,
          1.0606844801288378,
          1.124108813389494,
          1.2507599012499429,
          2.879537789239959,
          5.063745456033528,
          5.7514931896553225,
          5.6866490678762505,
          6.318006322288772,
          4.884673687681206,
          3.761626317033759,
          2.2140051145246047,
          1.1995752951878649,
          1.0246864329099477,
          0.9324135648923076,
          0.4519750124214209,
          0.9219442533032934,
          0.981027617484726,
          1.0793714830710708,
          1.2006305244626396,
          1.3246198043754265,
          1.4346286543067004,
          2.2817975888623234,
          1.5810488021917748,
          1.5965654420954956,
          1.5655849973313791,
          1.5279827984848586,
          2.25964898000912,
          2.253448781325342,
          1.491151745275451,
          2.886620109044114,
          3.4416616287804866,
          4.544615439253055,
          4.705608910712048,
          4.013093171788438,
          4.064356364961878,
          3.8967177569582567,
          2.8852086542839377,
          2.3601287231699706,
          1.6089288411548992,
          1.5344369242765985,
          2.8698573441258053,
          2.5199803955086493,
          2.6799973923706277,
          2.40937050686954,
          2.2060571378920644,
          2.0011528809149293,
          1.7567719245357396,
          1.3782178461072634,
          1.2506432794570923,
          0.9479162882712888,
          0.8983948931216255,
          0.7746688476455511,
          0.8168544977350085
         ],
         "yaxis": "y70"
        },
        {
         "hovertemplate": "row=4<br>col=12<br>t_end=%{x}<br>Mean(R)=%{y}<extra></extra>",
         "legendgroup": "",
         "line": {
          "color": "#636efa",
          "dash": "solid"
         },
         "mode": "lines",
         "name": "",
         "showlegend": false,
         "type": "scattergl",
         "x": [
          8,
          9,
          10,
          11,
          12,
          13,
          14,
          15,
          16,
          17,
          18,
          19,
          20,
          21,
          22,
          23,
          24,
          25,
          26,
          27,
          28,
          29,
          30,
          31,
          32,
          33,
          34,
          35,
          36,
          37,
          38,
          39,
          40,
          41,
          42,
          43,
          44,
          45,
          46,
          47,
          48,
          49,
          50,
          51
         ],
         "xaxis": "x72",
         "y": [
          6.21455993627147,
          4.694305284042222,
          3.595915868936397,
          2.8015150646507454,
          2.575844630105767,
          1.6172043793935251,
          1.4022987524898725,
          0.6285031049760265,
          0.5845673968326845,
          0.3779242341001631,
          0.3840722403866565,
          0.2039750339539104,
          0.22530275370506395,
          0.2577044462994961,
          0.3049871221756528,
          0.3724002893971449,
          0.4667553624193557,
          0.5967482722953312,
          1.5456784590188517,
          2.009888276118512,
          2.54200789793254,
          5.87912567708004,
          6.021890024159533,
          5.372130830068481,
          4.251456181083024,
          4.069233187715255,
          3.843092485085734,
          3.1373527239326666,
          3.051763926680572,
          2.579214397875836,
          2.209540106124498,
          1.9195626574523008,
          1.698220681569796,
          1.5342126742085007,
          1.6172444934539596,
          0.9494843446065624,
          1.0840437576772843,
          1.0466542616529215,
          2.0643711627243806,
          2.4119137041223064,
          2.2199158386109894,
          1.9423418349114097,
          1.7617574187111882,
          1.5754496225257903
         ],
         "yaxis": "y72"
        },
        {
         "hovertemplate": "row=5<br>col=1<br>t_end=%{x}<br>Mean(R)=%{y}<extra></extra>",
         "legendgroup": "",
         "line": {
          "color": "#636efa",
          "dash": "solid"
         },
         "mode": "lines",
         "name": "",
         "showlegend": false,
         "type": "scattergl",
         "x": [
          8,
          9,
          10,
          11,
          12,
          13,
          14,
          15,
          16,
          17,
          18,
          19,
          20,
          21,
          22,
          23,
          24,
          25,
          26,
          27,
          28,
          29,
          30,
          31,
          32,
          33,
          34,
          35,
          36,
          37,
          38,
          39,
          40,
          41,
          42,
          43,
          44,
          45,
          46,
          47,
          48,
          49,
          50,
          51,
          52,
          53,
          54,
          55,
          56,
          57,
          58,
          59,
          60,
          61,
          62,
          63,
          64,
          65,
          66,
          67,
          68,
          69,
          70,
          71,
          72
         ],
         "xaxis": "x49",
         "y": [
          1.645416042354483,
          0.6936288381580386,
          0.6205973021356984,
          0.5947739182398385,
          0.6126020715085709,
          0.6715431654453771,
          2.318267401347708,
          2.7566717947941046,
          3.2161107811751872,
          3.3735387401100905,
          4.17027310662044,
          3.6114555595094973,
          3.0533901188794377,
          2.567811755347689,
          2.7332756613281517,
          2.3818486718059715,
          2.115107158638564,
          1.517618590602314,
          1.3754600620457644,
          1.2706227294167658,
          0.6028721865129595,
          0.2934833303119875,
          0.29435089745919,
          0.3082932112217853,
          0.33962414597453056,
          0.3922296041195921,
          0.4711234870560743,
          0.5832856073693088,
          0.7377380091221539,
          0.94485547199871,
          1.2145021141514276,
          1.5525874602712404,
          1.956346599868267,
          2.4101927113384662,
          2.885404865098569,
          6.691975617842826,
          7.482210229621613,
          7.5469850736990045,
          6.396393314339483,
          4.9208123600004186,
          5.6916161466052975,
          4.575121690639513,
          2.5152036134964884,
          3.125066756761215,
          2.655988886359454,
          2.3431895599681565,
          2.1112054914503657,
          1.284859358949472,
          1.1886009185805968,
          1.6886813085869958,
          1.1036950649478503,
          1.661044119485051,
          1.680899824522827,
          1.703259159742595,
          1.7043515219543923,
          2.2365489856741356,
          2.174130830147469,
          2.083156633909679,
          1.957252633720113,
          2.2700252223510544,
          2.523419162341844,
          3.5046210717944137,
          3.207951358327592,
          2.8492611510591157,
          3.533497425574952
         ],
         "yaxis": "y49"
        },
        {
         "hovertemplate": "row=5<br>col=2<br>t_end=%{x}<br>Mean(R)=%{y}<extra></extra>",
         "legendgroup": "",
         "line": {
          "color": "#636efa",
          "dash": "solid"
         },
         "mode": "lines",
         "name": "",
         "showlegend": false,
         "type": "scattergl",
         "x": [
          null
         ],
         "xaxis": "x50",
         "y": [
          null
         ],
         "yaxis": "y50"
        },
        {
         "hovertemplate": "row=5<br>col=3<br>t_end=%{x}<br>Mean(R)=%{y}<extra></extra>",
         "legendgroup": "",
         "line": {
          "color": "#636efa",
          "dash": "solid"
         },
         "mode": "lines",
         "name": "",
         "showlegend": false,
         "type": "scattergl",
         "x": [
          8,
          9,
          10,
          11,
          12,
          13,
          14,
          15,
          16,
          17,
          18,
          19,
          20,
          21,
          22,
          23,
          24,
          25,
          26,
          27,
          28,
          29,
          30,
          31,
          32,
          33,
          34,
          35,
          36,
          37,
          38,
          39,
          40,
          41,
          42,
          43,
          44,
          45,
          46,
          47,
          48,
          49
         ],
         "xaxis": "x51",
         "y": [
          1.3006166760721458,
          1.1457021705349897,
          1.0655032156504642,
          1.0606844801288378,
          1.124108813389494,
          1.2507599012499429,
          1.4397688946199796,
          1.6915300097572497,
          2.003798118735552,
          2.3679253363953694,
          2.766619018054121,
          3.1749274966674506,
          3.565035278455708,
          3.9130236758569272,
          4.204155001700558,
          8.868575136011945,
          9.161960406436046,
          8.600302966693297,
          6.864611437749912,
          5.0952487400890565,
          3.8604738305059123,
          4.625052638416981,
          2.5926250977889187,
          2.2348052053712117,
          1.9550351784738864,
          2.652942671121585,
          2.4875272035696794,
          3.15566650242667,
          2.224323512355148,
          2.036594325388817,
          1.8331657244883452,
          1.6671732015118816,
          1.0336590107712331,
          1.4749636757418614,
          0.959822586772102,
          1.4397878142903329,
          1.4632342040886128,
          1.5006622867539352,
          3.0588275848957203,
          3.5804502333184542,
          2.9550203624574003,
          2.64727870851606
         ],
         "yaxis": "y51"
        },
        {
         "hovertemplate": "row=5<br>col=4<br>t_end=%{x}<br>Mean(R)=%{y}<extra></extra>",
         "legendgroup": "",
         "line": {
          "color": "#636efa",
          "dash": "solid"
         },
         "mode": "lines",
         "name": "",
         "showlegend": false,
         "type": "scattergl",
         "x": [
          8,
          9,
          10,
          11,
          12,
          13,
          14,
          15,
          16,
          17,
          18,
          19,
          20,
          21,
          22,
          23,
          24,
          25,
          26,
          27,
          28,
          29,
          30,
          31,
          32,
          33,
          34,
          35,
          36,
          37,
          38,
          39,
          40,
          41,
          42,
          43,
          44,
          45,
          46,
          47,
          48,
          49,
          50,
          51,
          52
         ],
         "xaxis": "x52",
         "y": [
          2.240481031394397,
          1.9130142511018915,
          1.6832294520199993,
          3.0655507141545666,
          4.315223450715607,
          4.039017763537056,
          3.1741844662161003,
          2.3033649725070124,
          1.8830277721029312,
          1.5870570519781049,
          0.999644284141207,
          0.3672832211165041,
          0.3502374220505439,
          0.5240413364775919,
          0.5502501617967797,
          0.6028997082120047,
          0.6771068431088001,
          0.5111522263914177,
          0.5765791934588756,
          0.6462158234149596,
          0.36197789832735583,
          0.4066571269451637,
          0.4609220514833938,
          0.5332045479715475,
          0.6326216193467353,
          1.5366147891473765,
          1.8973249647616277,
          2.3143194455766483,
          2.640580545034706,
          2.742120232850743,
          2.6413745229500707,
          2.4517684195778933,
          1.1295205955757568,
          1.0503275933377412,
          3.0245308990799726,
          3.0583746651476313,
          3.1390492895016897,
          3.0522751727973145,
          3.7035953142247258,
          3.2550267242321964,
          2.8212708567222786,
          1.2145591283161774,
          1.05456050526934,
          0.9487424065759956,
          0.9035885552309958
         ],
         "yaxis": "y52"
        },
        {
         "hovertemplate": "row=5<br>col=5<br>t_end=%{x}<br>Mean(R)=%{y}<extra></extra>",
         "legendgroup": "",
         "line": {
          "color": "#636efa",
          "dash": "solid"
         },
         "mode": "lines",
         "name": "",
         "showlegend": false,
         "type": "scattergl",
         "x": [
          null
         ],
         "xaxis": "x53",
         "y": [
          null
         ],
         "yaxis": "y53"
        },
        {
         "hovertemplate": "row=5<br>col=6<br>t_end=%{x}<br>Mean(R)=%{y}<extra></extra>",
         "legendgroup": "",
         "line": {
          "color": "#636efa",
          "dash": "solid"
         },
         "mode": "lines",
         "name": "",
         "showlegend": false,
         "type": "scattergl",
         "x": [
          null
         ],
         "xaxis": "x54",
         "y": [
          null
         ],
         "yaxis": "y54"
        },
        {
         "hovertemplate": "row=5<br>col=7<br>t_end=%{x}<br>Mean(R)=%{y}<extra></extra>",
         "legendgroup": "",
         "line": {
          "color": "#636efa",
          "dash": "solid"
         },
         "mode": "lines",
         "name": "",
         "showlegend": false,
         "type": "scattergl",
         "x": [
          null
         ],
         "xaxis": "x55",
         "y": [
          null
         ],
         "yaxis": "y55"
        },
        {
         "hovertemplate": "row=5<br>col=8<br>t_end=%{x}<br>Mean(R)=%{y}<extra></extra>",
         "legendgroup": "",
         "line": {
          "color": "#636efa",
          "dash": "solid"
         },
         "mode": "lines",
         "name": "",
         "showlegend": false,
         "type": "scattergl",
         "x": [
          8,
          9,
          10,
          11,
          12,
          13,
          14,
          15,
          16,
          17,
          18,
          19,
          20,
          21,
          22,
          23,
          24,
          25,
          26,
          27,
          28,
          29,
          30,
          31,
          32,
          33,
          34,
          35,
          36,
          37,
          38,
          39,
          40,
          41,
          42,
          43,
          44,
          45,
          46,
          47,
          48,
          49,
          50,
          51,
          52,
          53,
          54,
          55,
          56
         ],
         "xaxis": "x56",
         "y": [
          2.5969569851706797,
          2.2368549493100605,
          1.9560300168236435,
          1.7691427546940648,
          1.6603794055028729,
          1.6049484167183494,
          0.7915012027877991,
          1.5822685334739053,
          1.614410837768708,
          1.6857957054378143,
          2.643169201706599,
          2.7187421861658465,
          2.6995562605969665,
          2.54814911057963,
          1.5462142224082924,
          1.3931422856836184,
          1.2790704634890528,
          0.6105431319538227,
          0.6059442886261629,
          0.6256203628076091,
          1.352883382431045,
          2.2908369263866657,
          3.5105203389406423,
          3.8630243395715818,
          3.7968988606046215,
          3.3173622576771384,
          2.748335516488136,
          2.2862416715275025,
          1.4678633612548828,
          1.7328091739953289,
          1.591240320994031,
          1.509062844774797,
          1.4556652423664131,
          1.4145839167291097,
          1.0350222282056176,
          1.013398280043507,
          0.6677933954665254,
          1.3438674150229015,
          1.3832544744787327,
          1.4439597654475038,
          1.491748962188257,
          1.8831411836684828,
          2.234381606991489,
          2.1660530294385136,
          1.706139686547283,
          1.575416021000511,
          1.4473137360203214,
          1.8871612633445929,
          1.535224735980553
         ],
         "yaxis": "y56"
        },
        {
         "hovertemplate": "row=5<br>col=9<br>t_end=%{x}<br>Mean(R)=%{y}<extra></extra>",
         "legendgroup": "",
         "line": {
          "color": "#636efa",
          "dash": "solid"
         },
         "mode": "lines",
         "name": "",
         "showlegend": false,
         "type": "scattergl",
         "x": [
          8,
          9,
          10,
          11,
          12,
          13,
          14,
          15,
          16,
          17,
          18,
          19,
          20,
          21,
          22,
          23,
          24,
          25,
          26,
          27,
          28,
          29,
          30,
          31,
          32,
          33,
          34,
          35,
          36,
          37,
          38,
          39,
          40,
          41,
          42,
          43,
          44,
          45,
          46,
          47,
          48,
          49,
          50,
          51,
          52,
          53,
          54,
          55,
          56,
          57,
          58,
          59,
          60,
          61,
          62,
          63,
          64,
          65,
          66
         ],
         "xaxis": "x57",
         "y": [
          2.345156468861374,
          1.8858481560493128,
          3.191131065914904,
          2.873663128715944,
          1.9986272143711816,
          1.8289870585278791,
          2.7647423733481125,
          4.068345964515894,
          5.1684958306174735,
          3.7576375300848848,
          3.802554767951852,
          4.406977591573511,
          3.5435419784380264,
          2.880873242851372,
          2.0624007944269303,
          1.7190617257480223,
          1.4798326145526255,
          1.228482960275312,
          0.9609699824416822,
          0.9130703232347772,
          0.7275740256014425,
          0.6442933830020154,
          0.4092776925393036,
          0.5937690012500463,
          0.5386056224676484,
          0.29070765979037005,
          0.5294505882834264,
          0.8191111752067544,
          0.9156756168939956,
          1.0210181090601564,
          1.1138409925209627,
          1.346222455555429,
          2.2473275824853225,
          1.9051923208051524,
          2.0114891887813537,
          2.028934084759477,
          2.279022625248392,
          2.327318104032612,
          1.9892207634439376,
          2.104798807887288,
          1.9842550413778937,
          1.959828333909741,
          2.0846628336503152,
          1.9671792457914756,
          1.9197128743479681,
          2.328624293841484,
          2.3312981753512942,
          2.3533414907042536,
          1.9379235279010856,
          1.7221830992824327,
          1.396766304391888,
          1.2306256501483046,
          0.908458714333622,
          0.6440259647005449,
          0.6502496782653652,
          0.7261311418061513,
          0.6911348013857637,
          0.8332487989990336,
          0.936719152338126
         ],
         "yaxis": "y57"
        },
        {
         "hovertemplate": "row=5<br>col=10<br>t_end=%{x}<br>Mean(R)=%{y}<extra></extra>",
         "legendgroup": "",
         "line": {
          "color": "#636efa",
          "dash": "solid"
         },
         "mode": "lines",
         "name": "",
         "showlegend": false,
         "type": "scattergl",
         "x": [
          8,
          9,
          10,
          11,
          12,
          13,
          14,
          15,
          16,
          17,
          18,
          19,
          20,
          21,
          22,
          23,
          24,
          25,
          26,
          27,
          28,
          29,
          30,
          31,
          32,
          33,
          34,
          35,
          36,
          37,
          38,
          39,
          40,
          41,
          42,
          43,
          44,
          45,
          46,
          47,
          48,
          49,
          50,
          51,
          52,
          53,
          54,
          55,
          56,
          57,
          58,
          59,
          60,
          61,
          62,
          63,
          64
         ],
         "xaxis": "x58",
         "y": [
          2.137967851056282,
          1.7078023065311627,
          1.9424557627327763,
          1.7599989966779306,
          1.6585706738101351,
          1.983673836662637,
          2.6669380709291373,
          3.274592326734893,
          4.746963529583879,
          6.0422489994344195,
          4.810122443795335,
          4.767314597982047,
          4.999275392143455,
          3.856967711168528,
          2.835305539822551,
          2.471849753491679,
          1.906438695286839,
          1.8743787581929925,
          1.7829238622637866,
          1.571560988196076,
          2.110795321374193,
          2.543254187993464,
          2.868046724479174,
          3.6487054789228393,
          3.697133181494752,
          3.2081701861908307,
          3.743854528799356,
          3.2055315792694974,
          3.5016869277581337,
          3.1788782353960863,
          3.551803935459581,
          3.5934223907696685,
          3.255425064026612,
          2.7319223863543955,
          2.414289771307312,
          1.9012796538450167,
          1.7237011934768427,
          1.4354926044274468,
          1.2552765404235695,
          1.2233489773998534,
          1.1809932748974252,
          1.1917258724234487,
          1.2633608288617717,
          1.1749153032981956,
          1.0656144013139142,
          0.9711788114866032,
          0.9110605876897088,
          0.7927373054471938,
          0.6847460324444956,
          0.5496737017577636,
          0.4999704435690348,
          0.4551562193147826,
          0.4413554874006866,
          0.3996403064816091,
          0.389056408914752,
          0.3847149100336121,
          0.40800021884682747
         ],
         "yaxis": "y58"
        },
        {
         "hovertemplate": "row=5<br>col=11<br>t_end=%{x}<br>Mean(R)=%{y}<extra></extra>",
         "legendgroup": "",
         "line": {
          "color": "#636efa",
          "dash": "solid"
         },
         "mode": "lines",
         "name": "",
         "showlegend": false,
         "type": "scattergl",
         "x": [
          8,
          9,
          10,
          11,
          12,
          13,
          14,
          15,
          16,
          17,
          18,
          19,
          20,
          21,
          22,
          23,
          24,
          25,
          26,
          27,
          28,
          29,
          30,
          31,
          32,
          33,
          34,
          35,
          36,
          37,
          38,
          39,
          40,
          41,
          42,
          43,
          44,
          45
         ],
         "xaxis": "x59",
         "y": [
          5.1853893112301,
          4.363649435788451,
          4.433724524315996,
          4.2752819769389125,
          4.624947568996902,
          3.781609486752652,
          2.313788451956956,
          1.5741753786363797,
          1.3206842158635783,
          0.9320081488672328,
          1.0826297958604527,
          0.6308877004755564,
          0.8441197664253722,
          0.8674757722741002,
          0.9093967653907706,
          1.2029924121435884,
          2.036016769018818,
          1.5958452010777495,
          1.6097926052118663,
          1.811694779035714,
          2.44234010451236,
          3.2074509684649906,
          2.7575901207285316,
          2.4689745147025715,
          2.1407725651397658,
          1.988797975038628,
          1.7423964726354904,
          1.3369068977645089,
          0.8139688066018782,
          0.7595710541467948,
          0.4562921622192395,
          0.4542109688793402,
          0.4681415203591107,
          0.2992061474461446,
          0.218121141249718,
          0.2435371204688821,
          0.4168026679448186,
          0.4863649210534234
         ],
         "yaxis": "y59"
        },
        {
         "hovertemplate": "row=6<br>col=2<br>t_end=%{x}<br>Mean(R)=%{y}<extra></extra>",
         "legendgroup": "",
         "line": {
          "color": "#636efa",
          "dash": "solid"
         },
         "mode": "lines",
         "name": "",
         "showlegend": false,
         "type": "scattergl",
         "x": [
          null
         ],
         "xaxis": "x38",
         "y": [
          null
         ],
         "yaxis": "y38"
        },
        {
         "hovertemplate": "row=6<br>col=3<br>t_end=%{x}<br>Mean(R)=%{y}<extra></extra>",
         "legendgroup": "",
         "line": {
          "color": "#636efa",
          "dash": "solid"
         },
         "mode": "lines",
         "name": "",
         "showlegend": false,
         "type": "scattergl",
         "x": [
          8,
          9,
          10,
          11,
          12,
          13,
          14,
          15,
          16,
          17,
          18,
          19,
          20,
          21,
          22,
          23,
          24,
          25,
          26,
          27,
          28,
          29,
          30,
          31,
          32,
          33,
          34,
          35,
          36,
          37,
          38,
          39,
          40,
          41,
          42,
          43,
          44,
          45,
          46,
          47,
          48,
          49,
          50,
          51,
          52,
          53,
          54,
          55,
          56,
          57,
          58,
          59,
          60,
          61,
          62,
          63,
          64
         ],
         "xaxis": "x39",
         "y": [
          3.7210076173359306,
          2.995340018835281,
          3.0740918668667687,
          2.621314013683321,
          2.2504759499758014,
          2.121605402141361,
          2.3239179926711624,
          1.3809581431243707,
          0.995288065836554,
          0.6818578002394216,
          0.5352017102698448,
          0.7347698643430981,
          0.7506380188857531,
          0.4519460387662562,
          0.4829961147411183,
          0.6500917072396472,
          0.9909337249414312,
          1.0876425498531377,
          0.8462761482290547,
          0.7188946184848242,
          0.7448585896679158,
          0.7671450233571462,
          0.5977510110430418,
          0.209499302528872,
          0.22310627738663724,
          0.24296201709344584,
          0.27402402151195465,
          0.6422695524338591,
          0.7789046189666546,
          0.962789757783297,
          1.1788032771329728,
          2.089511461037869,
          2.3494975227083157,
          2.480006282461067,
          2.4342177788851624,
          2.2658099012162984,
          2.751668111709209,
          2.5072744054352443,
          2.288186535797604,
          2.0769085981792195,
          2.8251106627380294,
          2.578225174122968,
          2.3487975030779022,
          1.7587461121820118,
          1.5704727605387705,
          1.1348639539537793,
          1.3139279111791369,
          0.7523052044838516,
          0.9828999060623916,
          0.985059372989915,
          1.765315423055967,
          3.1325389049329324,
          3.728649306700776,
          3.571745480588175,
          3.1230652303040176,
          2.5776849220873306,
          2.116913932048828
         ],
         "yaxis": "y39"
        },
        {
         "hovertemplate": "row=6<br>col=4<br>t_end=%{x}<br>Mean(R)=%{y}<extra></extra>",
         "legendgroup": "",
         "line": {
          "color": "#636efa",
          "dash": "solid"
         },
         "mode": "lines",
         "name": "",
         "showlegend": false,
         "type": "scattergl",
         "x": [
          8,
          9,
          10,
          11,
          12,
          13,
          14,
          15,
          16,
          17,
          18,
          19,
          20,
          21,
          22,
          23,
          24,
          25,
          26,
          27,
          28,
          29,
          30,
          31,
          32,
          33,
          34,
          35,
          36,
          37,
          38,
          39,
          40,
          41,
          42,
          43,
          44,
          45,
          46,
          47,
          48,
          49,
          50,
          51,
          52,
          53,
          54,
          55,
          56,
          57
         ],
         "xaxis": "x40",
         "y": [
          2.5969569851706797,
          3.3552824239650905,
          2.9304164531435335,
          2.6046723396680878,
          4.65657927638092,
          4.8690646142857,
          3.650757804469572,
          3.024510890135973,
          2.4454777949479727,
          2.692020091126366,
          2.3066499836438723,
          1.2699943033096186,
          0.907520515264538,
          0.8290142819419352,
          1.1822923684657358,
          1.3684604924116657,
          1.1949026284704016,
          1.2176188050529828,
          1.224019049888137,
          1.2175045241720794,
          1.2055366880300076,
          0.7953427229456053,
          0.5913845852066222,
          0.39460792484920654,
          0.40410044674871537,
          0.4274542371460738,
          0.4681970721297512,
          0.5281673935747094,
          0.6079968469856192,
          0.3534583552262399,
          0.4112420221698752,
          0.4788104324554626,
          0.5639694444385878,
          0.6764782695676126,
          0.8262783382711352,
          1.0233169455361382,
          1.2765527548339834,
          1.591534584181007,
          1.9667819463553744,
          2.3902999038390296,
          5.6773514735495985,
          6.5346455467285045,
          6.836183487487137,
          6.025396428732133,
          4.765406555180814,
          3.7306418161047175,
          3.027959017035716,
          1.2854942242790786,
          1.1380643669854291,
          1.061238009880734
         ],
         "yaxis": "y40"
        },
        {
         "hovertemplate": "row=6<br>col=5<br>t_end=%{x}<br>Mean(R)=%{y}<extra></extra>",
         "legendgroup": "",
         "line": {
          "color": "#636efa",
          "dash": "solid"
         },
         "mode": "lines",
         "name": "",
         "showlegend": false,
         "type": "scattergl",
         "x": [
          8,
          9,
          10,
          11,
          12,
          13,
          14,
          15,
          16,
          17,
          18,
          19,
          20,
          21,
          22,
          23,
          24,
          25,
          26,
          27,
          28,
          29,
          30,
          31,
          32,
          33,
          34,
          35,
          36,
          37,
          38,
          39,
          40,
          41,
          42,
          43,
          44,
          45,
          46,
          47,
          48,
          49,
          50,
          51,
          52,
          53,
          54,
          55,
          56
         ],
         "xaxis": "x41",
         "y": [
          2.848054062281949,
          1.687356532715043,
          1.40060050830115,
          1.2305770095253132,
          1.144415872977282,
          1.1129459992599369,
          0.7435831927790106,
          0.7587653401909087,
          0.7864043130202587,
          0.8314838908785844,
          0.8954944448686305,
          1.4640721644105168,
          1.6013566091318483,
          1.7273941378781397,
          1.7978179182737115,
          1.7981774077258643,
          3.497134572733516,
          2.7908058233754813,
          2.0733150865861307,
          1.843041543644869,
          2.0300956547815745,
          1.8304925470230902,
          1.6915128205717191,
          0.950367806909788,
          0.8977221365060515,
          1.1512414967609874,
          1.1418513102659775,
          1.1612617409680723,
          2.0850826382381595,
          2.132158395111857,
          2.1290383397851924,
          2.033150473854958,
          1.6050793202249003,
          1.45860866378981,
          1.336424196630048,
          0.8337573397573788,
          0.9976490679342918,
          0.7831537027884803,
          0.7883206711934153,
          0.8094115795988119,
          0.8443858732317914,
          0.6676200256386238,
          0.4713397675482278,
          0.2505198621837257,
          0.2695636149531141,
          0.29745779950025275,
          0.6798300292969927,
          0.8048323308584899,
          0.9739454952662427
         ],
         "yaxis": "y41"
        },
        {
         "hovertemplate": "row=6<br>col=6<br>t_end=%{x}<br>Mean(R)=%{y}<extra></extra>",
         "legendgroup": "",
         "line": {
          "color": "#636efa",
          "dash": "solid"
         },
         "mode": "lines",
         "name": "",
         "showlegend": false,
         "type": "scattergl",
         "x": [
          null
         ],
         "xaxis": "x42",
         "y": [
          null
         ],
         "yaxis": "y42"
        },
        {
         "hovertemplate": "row=6<br>col=7<br>t_end=%{x}<br>Mean(R)=%{y}<extra></extra>",
         "legendgroup": "",
         "line": {
          "color": "#636efa",
          "dash": "solid"
         },
         "mode": "lines",
         "name": "",
         "showlegend": false,
         "type": "scattergl",
         "x": [
          8,
          9,
          10,
          11,
          12,
          13,
          14,
          15,
          16,
          17,
          18,
          19,
          20,
          21,
          22,
          23,
          24,
          25,
          26,
          27,
          28,
          29,
          30,
          31,
          32,
          33,
          34,
          35,
          36,
          37,
          38
         ],
         "xaxis": "x43",
         "y": [
          1.3006166760721458,
          1.1457021705349897,
          1.0655032156504642,
          1.0606844801288378,
          1.124108813389494,
          1.2507599012499429,
          1.4397688946199796,
          3.3830600195144997,
          3.997454825585233,
          4.50860752838504,
          4.490269905941108,
          5.968113452294438,
          5.027495479727609,
          4.146657961997897,
          4.49094323492142,
          3.674517488566709,
          3.0462902249982213,
          2.55005259980025,
          2.17242465372935,
          2.3715487046895865,
          2.5510033064193127,
          1.550257527876916,
          1.414161406636102,
          1.944074495947648,
          1.8215371889688752,
          1.4456367151880658,
          1.1004049338163608,
          1.0463717580880318,
          1.0083034528996395,
          0.994012974981052,
          0.5005299140776764
         ],
         "yaxis": "y43"
        },
        {
         "hovertemplate": "row=6<br>col=8<br>t_end=%{x}<br>Mean(R)=%{y}<extra></extra>",
         "legendgroup": "",
         "line": {
          "color": "#636efa",
          "dash": "solid"
         },
         "mode": "lines",
         "name": "",
         "showlegend": false,
         "type": "scattergl",
         "x": [
          8,
          9,
          10,
          11,
          12,
          13,
          14,
          15,
          16,
          17,
          18,
          19,
          20,
          21,
          22,
          23,
          24,
          25,
          26,
          27,
          28,
          29,
          30,
          31,
          32,
          33,
          34,
          35,
          36,
          37,
          38,
          39,
          40,
          41,
          42,
          43,
          44,
          45,
          46,
          47,
          48,
          49,
          50,
          51,
          52,
          53,
          54,
          55,
          56,
          57,
          58,
          59,
          60,
          61,
          62,
          63,
          64,
          65,
          66,
          67,
          68
         ],
         "xaxis": "x44",
         "y": [
          3.1914666284900584,
          2.33481381477352,
          1.108583327159983,
          0.9428904384128468,
          0.2853577477782453,
          0.5508514073514903,
          0.5630540998669251,
          0.909899098860631,
          1.354750639775384,
          2.29537229546302,
          2.9518530588804275,
          6.510195080519915,
          7.684978369088988,
          6.332280060498182,
          4.421013022207701,
          2.9926068288847585,
          2.5009275060721747,
          1.8904332570508764,
          0.8878463191200702,
          0.4707530702931783,
          0.435051628842624,
          0.4241226869867931,
          0.5812349928944744,
          0.31158704483729044,
          0.5143269074402446,
          0.7651816955538854,
          0.8610285577628956,
          1.2045310990868412,
          1.8449939954858228,
          2.086269314230113,
          2.0925267017351854,
          1.7188605905889256,
          1.5673557368775024,
          1.6350910023355238,
          1.2989542659294913,
          1.0253740266663425,
          0.7065771505639075,
          0.6825300394898571,
          0.6765150153077556,
          0.7761306647937957,
          0.7199758773723847,
          1.6172696907787218,
          2.015514966754834,
          2.3026507688008264,
          2.5783272253712983,
          3.4433777426694303,
          2.9706935370922984,
          2.6265819782858446,
          1.8470272699030936,
          1.671234290455516,
          1.3629960233785459,
          1.185664284441459,
          0.7210313984721336,
          0.6511093516348649,
          0.743967257102807,
          0.7865322356009717,
          0.7391606815178847,
          1.0053046600428637,
          1.0136136446110176,
          1.098440657746462,
          1.4315776157924989
         ],
         "yaxis": "y44"
        },
        {
         "hovertemplate": "row=6<br>col=9<br>t_end=%{x}<br>Mean(R)=%{y}<extra></extra>",
         "legendgroup": "",
         "line": {
          "color": "#636efa",
          "dash": "solid"
         },
         "mode": "lines",
         "name": "",
         "showlegend": false,
         "type": "scattergl",
         "x": [
          8,
          9,
          10,
          11,
          12,
          13,
          14,
          15,
          16,
          17,
          18,
          19,
          20,
          21,
          22,
          23,
          24,
          25,
          26,
          27,
          28,
          29,
          30,
          31,
          32,
          33,
          34,
          35,
          36,
          37,
          38,
          39,
          40,
          41,
          42,
          43,
          44,
          45,
          46,
          47,
          48,
          49,
          50,
          51,
          52,
          53,
          54,
          55,
          56,
          57,
          58,
          59,
          60,
          61,
          62,
          63,
          64
         ],
         "xaxis": "x45",
         "y": [
          7.6922762613725855,
          5.729815800586791,
          4.0609547490191735,
          3.45847146436392,
          1.668823542183241,
          1.5073052330486711,
          1.5409921041115036,
          1.3832155363856853,
          1.1826363568346927,
          1.3312985004256654,
          1.0867311572575242,
          1.2966596792267266,
          1.1256990238233202,
          0.919105682985917,
          0.9014599455201546,
          0.8007154179532062,
          0.7108709144463113,
          0.8993532415233878,
          0.6918040853013255,
          0.8111622904166578,
          0.7430429736443828,
          0.8249227390555813,
          0.912997227068794,
          0.8386879103610534,
          0.6955979864739363,
          0.8367353097613612,
          0.8626002480365795,
          0.9564401318858408,
          0.7264158847294051,
          0.8176391018868807,
          0.7711467415461453,
          0.7954581151919351,
          0.6739703499670178,
          0.7004551811791615,
          0.8123150420791215,
          0.8528044811967301,
          0.8079954112996197,
          0.8478110367659576,
          0.8845524952730781,
          1.0209559085122737,
          1.1622220789861508,
          1.1954915117120832,
          1.2159466096230362,
          1.7736069790429745,
          1.7565993150460846,
          1.8175113750676508,
          1.7281137384639875,
          1.4228752882261313,
          1.2296344497600065,
          1.3084471840374567,
          1.0061891964028364,
          1.1925067649504346,
          1.8204538384416895,
          2.300159420134035,
          2.2499852953715336,
          2.4570614738832357,
          2.531760295336465
         ],
         "yaxis": "y45"
        },
        {
         "hovertemplate": "row=6<br>col=10<br>t_end=%{x}<br>Mean(R)=%{y}<extra></extra>",
         "legendgroup": "",
         "line": {
          "color": "#636efa",
          "dash": "solid"
         },
         "mode": "lines",
         "name": "",
         "showlegend": false,
         "type": "scattergl",
         "x": [
          8,
          9,
          10,
          11,
          12,
          13,
          14,
          15,
          16,
          17,
          18,
          19,
          20,
          21,
          22,
          23,
          24,
          25,
          26,
          27,
          28,
          29,
          30,
          31,
          32,
          33,
          34,
          35,
          36,
          37,
          38,
          39,
          40,
          41,
          42,
          43,
          44,
          45,
          46,
          47,
          48,
          49,
          50,
          51,
          52,
          53,
          54,
          55,
          56,
          57,
          58,
          59,
          60,
          61,
          62,
          63,
          64,
          65,
          66,
          67,
          68,
          69
         ],
         "xaxis": "x46",
         "y": [
          2.072092638365331,
          1.7057513095040355,
          1.4434254826220547,
          1.2825775282707903,
          1.1957025694114432,
          1.155844895775615,
          0.5721653413638293,
          0.574876902454954,
          0.8821072166009459,
          0.9284850000688748,
          1.0002357636711805,
          2.1667886860721657,
          2.323629854183569,
          3.9984262764318186,
          5.390074252311662,
          4.4345221378614434,
          3.8836091812739437,
          3.0270151355895467,
          3.4122604806676144,
          2.9275505585293726,
          1.9903158638967118,
          1.49436141229785,
          1.3834616237231572,
          1.1643750933995964,
          1.2275876393306624,
          0.5529154187294762,
          0.4722564363082017,
          0.4704302495101474,
          0.4141779964570724,
          0.4392592480572911,
          0.5579785728417637,
          0.7074641862520994,
          0.7913713246349675,
          0.880214637780544,
          0.9615485810580928,
          1.0261582033161711,
          0.9372189573154518,
          0.9614743293756648,
          0.6978946478563225,
          0.7084287794260551,
          0.5794606357824814,
          0.7515493252676491,
          0.951648135833053,
          1.3564094685607475,
          1.448991760816723,
          1.515545939792908,
          1.9111203830674997,
          2.6108519328262902,
          3.366954060323261,
          2.771142398017685,
          2.1528686825555288,
          1.8393787822994183,
          1.4757789184857273,
          1.1190919808995887,
          0.6825519967946754,
          0.2421150943579644,
          0.3165306556343101,
          0.3240833807412292,
          0.34751579468303423,
          0.387153344995096,
          0.5534808328840941,
          1.0271099290869556
         ],
         "yaxis": "y46"
        },
        {
         "hovertemplate": "row=6<br>col=11<br>t_end=%{x}<br>Mean(R)=%{y}<extra></extra>",
         "legendgroup": "",
         "line": {
          "color": "#636efa",
          "dash": "solid"
         },
         "mode": "lines",
         "name": "",
         "showlegend": false,
         "type": "scattergl",
         "x": [
          8,
          9,
          10,
          11,
          12,
          13,
          14,
          15,
          16,
          17,
          18,
          19,
          20,
          21,
          22,
          23,
          24,
          25,
          26,
          27,
          28,
          29,
          30,
          31,
          32,
          33,
          34,
          35,
          36,
          37,
          38,
          39,
          40,
          41,
          42,
          43,
          44,
          45,
          46,
          47
         ],
         "xaxis": "x47",
         "y": [
          2.376121790112766,
          0.9548750903876132,
          0.8091002295199694,
          1.0969783042956671,
          1.0626742030852954,
          1.0834813255286413,
          1.1313784526972597,
          1.5824004251717891,
          1.6499109966263383,
          2.113602165454477,
          1.684476349077528,
          1.6254375365324905,
          1.150344612592871,
          1.8079497419854496,
          1.386121415087595,
          1.685193415674358,
          1.642714401463567,
          1.5973980049813743,
          1.5420928291881393,
          1.4800858500674026,
          0.8514711184541106,
          1.3659379183831346,
          1.0674609126183885,
          1.0625179598433458,
          1.60189625921469,
          1.8906632524510572,
          1.9027419494260465,
          1.8662844143949249,
          1.7729759988921672,
          1.6506826909642809,
          1.3112750454842668,
          1.01918657211179,
          0.7718012668791426,
          0.7477425175780449,
          0.9322088568366887,
          0.5740899486196016,
          0.8006716104947892,
          0.8470022510197779,
          1.356931995460867,
          1.6926546473678554
         ],
         "yaxis": "y47"
        },
        {
         "hovertemplate": "row=7<br>col=4<br>t_end=%{x}<br>Mean(R)=%{y}<extra></extra>",
         "legendgroup": "",
         "line": {
          "color": "#636efa",
          "dash": "solid"
         },
         "mode": "lines",
         "name": "",
         "showlegend": false,
         "type": "scattergl",
         "x": [
          8,
          9,
          10,
          11,
          12,
          13,
          14,
          15,
          16,
          17,
          18,
          19,
          20,
          21,
          22,
          23,
          24,
          25,
          26,
          27
         ],
         "xaxis": "x28",
         "y": [
          1.3006166760721458,
          1.1457021705349897,
          1.0655032156504642,
          2.1213689602576755,
          2.245022486422406,
          2.436649290088284,
          2.5690053157101747,
          3.8516629645558313,
          3.6797682906070412,
          3.3699233941027487,
          1.971854597425185,
          2.5521085395676852,
          3.744638796410346,
          4.08498461723177,
          3.694326914015181,
          4.264341091357668,
          4.003134972540535,
          3.2879577938712727,
          2.686551065236852,
          1.7243868382049403
         ],
         "yaxis": "y28"
        },
        {
         "hovertemplate": "row=7<br>col=5<br>t_end=%{x}<br>Mean(R)=%{y}<extra></extra>",
         "legendgroup": "",
         "line": {
          "color": "#636efa",
          "dash": "solid"
         },
         "mode": "lines",
         "name": "",
         "showlegend": false,
         "type": "scattergl",
         "x": [
          8,
          9,
          10,
          11,
          12,
          13,
          14,
          15,
          16,
          17,
          18,
          19,
          20,
          21,
          22,
          23,
          24,
          25,
          26,
          27,
          28,
          29,
          30,
          31,
          32,
          33,
          34,
          35,
          36,
          37,
          38,
          39,
          40,
          41,
          42,
          43,
          44,
          45,
          46,
          47,
          48,
          49,
          50,
          51,
          52,
          53,
          54
         ],
         "xaxis": "x29",
         "y": [
          0.7475338352402348,
          1.2939503420840033,
          1.191672515392154,
          1.1717421278884108,
          1.202542628651382,
          1.2604526945275218,
          1.9945983588155975,
          2.7966950631249574,
          2.159015845141366,
          2.108682546714015,
          2.6091151528265497,
          2.9821492353430985,
          2.725194166844555,
          2.4613972233370065,
          1.7506281200726312,
          1.551890369943396,
          1.3986224693501126,
          0.9738923730592052,
          0.9311013517442626,
          1.2202843355901103,
          0.9244397274296979,
          0.949289748356026,
          1.3067254855880572,
          1.3551533424726,
          1.4021871616923898,
          1.0727340055600931,
          1.0755840737533795,
          1.0710437699964943,
          1.074745376490484,
          1.0918474058499348,
          1.120214965017812,
          1.155298588261126,
          1.1924891286693182,
          0.8187394494784125,
          0.8402821865501211,
          0.8653964740141091,
          0.4523482623167301,
          0.4813384259855077,
          0.5236115322140239,
          0.5879299100053323,
          0.6827363431691376,
          0.8162067538289534,
          1.9940417461535638,
          2.4634855687548103,
          2.967609112744627,
          3.266330076644681,
          3.21819822837264
         ],
         "yaxis": "y29"
        },
        {
         "hovertemplate": "row=7<br>col=6<br>t_end=%{x}<br>Mean(R)=%{y}<extra></extra>",
         "legendgroup": "",
         "line": {
          "color": "#636efa",
          "dash": "solid"
         },
         "mode": "lines",
         "name": "",
         "showlegend": false,
         "type": "scattergl",
         "x": [
          8,
          9,
          10,
          11,
          12,
          13,
          14,
          15,
          16,
          17,
          18,
          19,
          20,
          21,
          22,
          23,
          24,
          25,
          26,
          27,
          28,
          29,
          30,
          31,
          32,
          33,
          34,
          35,
          36,
          37,
          38,
          39,
          40,
          41,
          42,
          43,
          44,
          45,
          46,
          47,
          48,
          49,
          50,
          51,
          52,
          53,
          54,
          55,
          56,
          57,
          58,
          59,
          60,
          61,
          62,
          63
         ],
         "xaxis": "x30",
         "y": [
          0.6844401653041028,
          0.5780054837973019,
          0.783660575095428,
          1.2715447920168508,
          1.3127029582569805,
          2.7763285432000666,
          2.8946634832034484,
          3.1404388595031856,
          3.3732656148711095,
          2.6744800277759446,
          2.0600157586795573,
          2.0562185826933828,
          1.3712504949252549,
          1.2251764937933778,
          1.238763936393125,
          0.8529831116702172,
          0.8270909265595099,
          0.71562343260575,
          0.6190242872855976,
          0.4244038030330908,
          0.6663650577201046,
          0.4739342359545965,
          0.5140306843782713,
          0.5629012304276452,
          0.6212151136032142,
          0.5166404615970918,
          0.5729048662182361,
          0.2114319800314382,
          0.23440352085388416,
          0.2625666520846785,
          0.3015260027093695,
          0.35723184868647584,
          0.4360592851843677,
          0.5456953377097695,
          0.6955310979108462,
          0.8962686659552153,
          2.316675543259201,
          4.45768287531229,
          5.427656959993776,
          7.502830633310232,
          9.549598292584204,
          7.2179839195431,
          5.18091798627998,
          3.0912772759379274,
          1.8497133483213144,
          1.4772432377331468,
          0.9504749961888134,
          0.8692533367458353,
          0.8377228605881213,
          0.8427278509785694,
          0.8743881387719782,
          1.540497968030493,
          1.6402919708116244,
          1.7238831924148372,
          1.04755417531715,
          1.3618612491137287
         ],
         "yaxis": "y30"
        },
        {
         "hovertemplate": "row=7<br>col=7<br>t_end=%{x}<br>Mean(R)=%{y}<extra></extra>",
         "legendgroup": "",
         "line": {
          "color": "#636efa",
          "dash": "solid"
         },
         "mode": "lines",
         "name": "",
         "showlegend": false,
         "type": "scattergl",
         "x": [
          null
         ],
         "xaxis": "x31",
         "y": [
          null
         ],
         "yaxis": "y31"
        },
        {
         "hovertemplate": "row=7<br>col=8<br>t_end=%{x}<br>Mean(R)=%{y}<extra></extra>",
         "legendgroup": "",
         "line": {
          "color": "#636efa",
          "dash": "solid"
         },
         "mode": "lines",
         "name": "",
         "showlegend": false,
         "type": "scattergl",
         "x": [
          8,
          9,
          10,
          11,
          12,
          13,
          14,
          15,
          16,
          17,
          18,
          19,
          20,
          21,
          22,
          23,
          24,
          25,
          26,
          27,
          28,
          29,
          30,
          31,
          32,
          33,
          34,
          35,
          36,
          37,
          38,
          39,
          40,
          41,
          42,
          43,
          44,
          45,
          46,
          47,
          48,
          49,
          50,
          51,
          52,
          53,
          54,
          55,
          56,
          57,
          58,
          59
         ],
         "xaxis": "x32",
         "y": [
          3.6705307084224033,
          3.4642461735694323,
          3.2726332054731677,
          2.669854859592301,
          1.8420063010183745,
          1.5839212349502805,
          1.0858933253069991,
          1.1302687237606128,
          0.7994578197546229,
          0.3891854728122032,
          0.5187443297611245,
          0.6681099548247971,
          0.7114531700591373,
          0.9295313820429536,
          0.8481950635159109,
          0.91975924640312,
          0.9791444752851745,
          0.8207475398973221,
          0.6379559054652231,
          0.658834388025889,
          0.4573311171059738,
          0.4841599687489362,
          0.5231123735352771,
          0.8672073143715845,
          0.9766031544965031,
          1.105109633774227,
          2.050310696295789,
          4.869907494321118,
          5.4468429522342126,
          5.826744650838518,
          4.672032311596876,
          3.515032758051228,
          3.045420193516128,
          2.408663718604134,
          1.2455313945902924,
          1.0697129476526217,
          0.8617204945930682,
          0.8985998978242132,
          1.2310358770938332,
          1.4183029669466043,
          1.624207878725192,
          2.7192159336884045,
          3.1868309776214248,
          2.9751656348349536,
          2.7674247806505474,
          2.347794952212121,
          1.9297582634961716,
          1.745344740983637,
          1.5369068430596242,
          1.2470851568600232,
          1.152917633318708,
          1.056515845193319
         ],
         "yaxis": "y32"
        },
        {
         "hovertemplate": "row=7<br>col=9<br>t_end=%{x}<br>Mean(R)=%{y}<extra></extra>",
         "legendgroup": "",
         "line": {
          "color": "#636efa",
          "dash": "solid"
         },
         "mode": "lines",
         "name": "",
         "showlegend": false,
         "type": "scattergl",
         "x": [
          8,
          9,
          10,
          11,
          12,
          13,
          14,
          15,
          16,
          17,
          18,
          19,
          20,
          21,
          22,
          23,
          24,
          25,
          26,
          27,
          28,
          29,
          30,
          31,
          32,
          33,
          34,
          35,
          36,
          37,
          38,
          39,
          40,
          41,
          42,
          43,
          44,
          45,
          46,
          47,
          48,
          49,
          50,
          51,
          52,
          53,
          54,
          55,
          56,
          57,
          58,
          59,
          60,
          61,
          62,
          63,
          64,
          65,
          66,
          67,
          68,
          69,
          70
         ],
         "xaxis": "x33",
         "y": [
          3.5419089124251784,
          1.8023826793689168,
          1.5704173470139395,
          1.3187498525783994,
          0.7083435824805955,
          0.775801725467242,
          0.648889521944269,
          0.5466410522724758,
          0.6814814957526245,
          0.8437274454494319,
          0.7783254685357777,
          0.9784293342993712,
          0.8954462368276994,
          1.2579506431356418,
          1.9602310204606288,
          2.1714700876468043,
          1.8193442335578418,
          3.752068882628703,
          3.2863148729809124,
          2.9038976997000074,
          2.2495379486304232,
          1.9748374197083576,
          1.7609437385150857,
          1.5490080133148023,
          0.7316010599602387,
          0.8473550825939435,
          0.8616037016990518,
          0.8504403991469136,
          0.5925750362016754,
          0.5539627796898765,
          0.6330665522648736,
          0.5452901392287595,
          0.5811968903459344,
          0.4858944587791509,
          0.5254277117372402,
          0.6526227947150721,
          0.6239302429734558,
          0.5850893293694939,
          0.8499076229137593,
          0.5759364717860948,
          0.6202193363441013,
          0.6629426240376992,
          0.5669937509825548,
          0.7606617772028329,
          1.148509422053678,
          0.8868240145356028,
          1.3265902785024066,
          1.782971499493211,
          3.0383269210347934,
          3.2063894406110585,
          2.809395743065799,
          2.294477633535408,
          2.916470479035115,
          3.2021877320964887,
          3.2893167729312487,
          2.5743450409168185,
          2.7211681565296773,
          2.2464083739356537,
          2.1484823627600544,
          2.255177686342844,
          1.7838668523992247,
          1.4437135087767734,
          1.3031091096393632
         ],
         "yaxis": "y33"
        },
        {
         "hovertemplate": "row=7<br>col=10<br>t_end=%{x}<br>Mean(R)=%{y}<extra></extra>",
         "legendgroup": "",
         "line": {
          "color": "#636efa",
          "dash": "solid"
         },
         "mode": "lines",
         "name": "",
         "showlegend": false,
         "type": "scattergl",
         "x": [
          8,
          9,
          10,
          11,
          12,
          13,
          14,
          15,
          16,
          17,
          18,
          19,
          20,
          21,
          22,
          23,
          24,
          25,
          26,
          27,
          28,
          29,
          30,
          31,
          32,
          33,
          34,
          35,
          36,
          37,
          38,
          39,
          40,
          41,
          42,
          43,
          44,
          45,
          46,
          47,
          48,
          49,
          50,
          51,
          52,
          53,
          54,
          55,
          56,
          57,
          58,
          59,
          60,
          61,
          62,
          63
         ],
         "xaxis": "x34",
         "y": [
          3.6630537517752986,
          3.2636797815518532,
          2.4587131590911304,
          1.9330740147031555,
          1.719782453835601,
          1.8409650578355037,
          1.6074603724745349,
          1.428241681186886,
          1.074276412348935,
          0.8653639116955294,
          1.0553325486711655,
          1.2095438001885463,
          1.070707308933891,
          1.1173277935131838,
          1.115094601655621,
          0.9751378446160396,
          1.0102763381980433,
          0.7408207974356897,
          0.4780295772368446,
          0.3500886025983264,
          0.3594440117598371,
          0.3321070023781328,
          0.4127709837692979,
          0.4600452590997289,
          0.5210981066455292,
          0.667612768576145,
          0.6726687495380798,
          0.3760657940987677,
          0.4126593001400716,
          0.3361620166957562,
          0.48980094424974396,
          0.9508712503043634,
          1.0699260771148502,
          1.1990623942670626,
          1.3030509830698809,
          1.7450798459281096,
          1.7518108732009925,
          1.5172296455986822,
          1.4422083553283738,
          1.5261196350355624,
          1.6021773309004663,
          1.5265369127343806,
          1.7509288303780577,
          1.9498178088033236,
          2.115960001853669,
          1.7370699454098422,
          1.603786783226966,
          1.3637549947021332,
          1.5474607591739733,
          1.3585583016747995,
          1.6344706545484289,
          1.399403802258502,
          1.4191101527681194,
          1.2043835667596652,
          1.3661308829451606,
          1.4499784337292227
         ],
         "yaxis": "y34"
        },
        {
         "hovertemplate": "row=8<br>col=4<br>t_end=%{x}<br>Mean(R)=%{y}<extra></extra>",
         "legendgroup": "",
         "line": {
          "color": "#636efa",
          "dash": "solid"
         },
         "mode": "lines",
         "name": "",
         "showlegend": false,
         "type": "scattergl",
         "x": [
          8,
          9,
          10,
          11,
          12,
          13,
          14,
          15,
          16,
          17,
          18,
          19,
          20,
          21,
          22,
          23,
          24,
          25,
          26,
          27,
          28,
          29,
          30,
          31,
          32,
          33,
          34,
          35,
          36,
          37,
          38,
          39,
          40,
          41,
          42,
          43,
          44,
          45,
          46,
          47,
          48,
          49,
          50
         ],
         "xaxis": "x16",
         "y": [
          2.345156468861374,
          1.8858481560493128,
          2.3933482994361777,
          2.1572094824082493,
          1.3515842548217896,
          1.2851020327522316,
          1.233971343552151,
          1.2129161709627438,
          1.223033730546412,
          0.6286577600385216,
          0.6540927767452456,
          0.6921985172837525,
          0.7562341078549941,
          0.856559621100903,
          1.0011754867002924,
          1.1975487054271752,
          1.4519884591059584,
          1.7671786714190605,
          2.1387429860627902,
          2.552411632693353,
          2.9840379591462,
          3.403953943310229,
          3.7844749579776846,
          4.106793782330452,
          8.727663241300226,
          13.597309142478624,
          16.99887320945334,
          15.880548390605858,
          10.007387764173608,
          17.254238371030958,
          11.227991116115382,
          7.325409404906028,
          4.390327754424832,
          2.7662231624949807,
          1.8829561478510881,
          1.5169583350922116,
          0.3569173632423792,
          0.5417186621029871,
          0.6240706129962466,
          0.6334920979301432,
          0.7821078498199668,
          0.8462326797616685,
          0.9196473934889476
         ],
         "yaxis": "y16"
        },
        {
         "hovertemplate": "row=8<br>col=5<br>t_end=%{x}<br>Mean(R)=%{y}<extra></extra>",
         "legendgroup": "",
         "line": {
          "color": "#636efa",
          "dash": "solid"
         },
         "mode": "lines",
         "name": "",
         "showlegend": false,
         "type": "scattergl",
         "x": [
          8,
          9,
          10,
          11,
          12,
          13,
          14,
          15,
          16,
          17,
          18,
          19,
          20,
          21,
          22,
          23,
          24,
          25,
          26,
          27,
          28,
          29,
          30,
          31,
          32,
          33,
          34,
          35,
          36,
          37,
          38,
          39,
          40,
          41,
          42,
          43,
          44,
          45,
          46,
          47,
          48,
          49,
          50,
          51,
          52,
          53,
          54,
          55,
          56,
          57,
          58
         ],
         "xaxis": "x17",
         "y": [
          1.804912901577212,
          0.4973740453367849,
          0.4377942428188625,
          0.41325135147074826,
          0.42102276752289375,
          0.4589890637344322,
          0.5280991438808492,
          1.2655884193287654,
          1.5592355050857982,
          1.9199376746872143,
          2.2471184229899706,
          2.422552728328354,
          3.634653574401296,
          3.470377762472719,
          2.1296419590997493,
          1.8903271451089307,
          1.674640999612501,
          2.3022765477384857,
          2.193921055951518,
          1.419172517512221,
          1.3660294543215772,
          1.9663636775794568,
          1.9189420384579243,
          1.8948782573977327,
          1.2376636108345775,
          1.196584580446886,
          1.1587342220218395,
          1.1464128834943002,
          0.5817434351399865,
          0.6025834046255273,
          0.6388928283785792,
          0.7013521633401898,
          0.798946991447596,
          0.9393773442427459,
          1.1303733813108932,
          1.37893454625455,
          6.755465946869887,
          8.165197005942192,
          8.5377061744353,
          6.7136522070249605,
          4.635757553757553,
          3.29736524240345,
          2.5219864459663675,
          0.5161280895188061,
          0.8932597476573371,
          0.8229309861216103,
          0.8135140693420029,
          0.8480095892834321,
          0.9132663469919028,
          0.9995050777115236,
          1.097882136874877
         ],
         "yaxis": "y17"
        },
        {
         "hovertemplate": "row=8<br>col=6<br>t_end=%{x}<br>Mean(R)=%{y}<extra></extra>",
         "legendgroup": "",
         "line": {
          "color": "#636efa",
          "dash": "solid"
         },
         "mode": "lines",
         "name": "",
         "showlegend": false,
         "type": "scattergl",
         "x": [
          8,
          9,
          10,
          11,
          12,
          13,
          14,
          15,
          16,
          17,
          18,
          19,
          20,
          21,
          22,
          23,
          24,
          25,
          26,
          27,
          28,
          29,
          30,
          31,
          32,
          33,
          34,
          35,
          36,
          37,
          38,
          39,
          40,
          41,
          42,
          43,
          44,
          45,
          46,
          47,
          48,
          49,
          50,
          51,
          52,
          53,
          54,
          55,
          56,
          57,
          58,
          59,
          60,
          61,
          62,
          63
         ],
         "xaxis": "x18",
         "y": [
          5.2899214850041725,
          3.983635071748537,
          4.339397719613073,
          3.7576779313565867,
          3.0432464677867617,
          2.2721402756022786,
          1.7067801669970115,
          1.6270807353838548,
          1.5924207414016485,
          1.0660078705758584,
          0.8782389802219619,
          0.7221000136877924,
          0.9461212932081332,
          0.8354709320043906,
          0.7372513148054196,
          1.020601878477126,
          1.0642347935545833,
          1.2478930417452028,
          1.2877386199156176,
          1.3071052881286689,
          1.7369092378227262,
          1.5640917014378033,
          0.963538836995146,
          1.0504016972754884,
          1.0045367630372328,
          1.1022084206743574,
          0.8528235661943838,
          0.7358754056766177,
          0.8703210633142399,
          1.0188834488495653,
          0.9228065558544,
          1.0936408266095412,
          1.2689815344366293,
          1.586900257324375,
          1.3108572580776865,
          1.2962300701251777,
          2.934896042740144,
          3.635053909749266,
          3.2866928672814457,
          2.787776205184456,
          2.2425598055815708,
          2.099719372355928,
          1.7242789797742242,
          0.7585860544705826,
          0.4750926340169934,
          0.39568791823698496,
          0.3890131236639385,
          0.4017746739203469,
          0.27015637743347404,
          0.3589823024316055,
          0.5406817633345488,
          0.5420897127174445,
          0.6231170712607662,
          0.6077923247140794,
          0.566628629033196,
          0.6230786927566458
         ],
         "yaxis": "y18"
        },
        {
         "hovertemplate": "row=8<br>col=7<br>t_end=%{x}<br>Mean(R)=%{y}<extra></extra>",
         "legendgroup": "",
         "line": {
          "color": "#636efa",
          "dash": "solid"
         },
         "mode": "lines",
         "name": "",
         "showlegend": false,
         "type": "scattergl",
         "x": [
          8,
          9,
          10,
          11,
          12,
          13,
          14,
          15,
          16,
          17,
          18,
          19,
          20,
          21,
          22,
          23,
          24,
          25,
          26,
          27,
          28,
          29,
          30,
          31,
          32,
          33,
          34,
          35,
          36,
          37,
          38,
          39,
          40,
          41,
          42,
          43,
          44,
          45,
          46,
          47,
          48,
          49,
          50,
          51,
          52,
          53,
          54,
          55,
          56,
          57,
          58,
          59,
          60,
          61,
          62,
          63,
          64,
          65,
          66,
          67,
          68,
          69,
          70,
          71,
          72
         ],
         "xaxis": "x19",
         "y": [
          8.02011709251968,
          7.241347989883697,
          5.841098505209937,
          4.961594676732198,
          5.733380600954807,
          5.5272495308002405,
          4.638007553897535,
          3.157196182309405,
          2.9843815537041527,
          3.8899468565503215,
          3.7833496576991648,
          3.096003433436262,
          2.546104646010605,
          2.1042468641822865,
          2.0576516374395157,
          1.5943346836435928,
          1.1627060590960034,
          0.9563301189643548,
          0.9202249567831612,
          0.8840220141078919,
          0.8542642688811191,
          0.6797665724667193,
          0.8092886443314664,
          0.6528308023193194,
          0.5975623609807307,
          0.5909024034191332,
          0.5766764428737471,
          0.5979637553445092,
          0.6599399919462375,
          0.6175848757871037,
          0.6205041763904207,
          0.6768914521008644,
          0.5062692467267044,
          0.4729533945053127,
          0.4509821226452282,
          0.7429304881803634,
          0.7431954642528404,
          0.806656982029668,
          0.8910210059386531,
          1.092461115962335,
          1.1634116991763137,
          1.2958426615566845,
          0.955620985136106,
          1.0217818133537402,
          1.0782973792280703,
          0.9103957009745824,
          0.8278715774778851,
          0.8014669769742165,
          0.7568060815170831,
          0.6931006328808369,
          0.5801290002817797,
          0.5465042994110613,
          0.7435364492144821,
          0.9990113086088176,
          1.193334872641231,
          1.158601146499326,
          1.2300945939097088,
          1.6215456632743392,
          1.6636648821102231,
          1.7762960477959857,
          1.7500482488838374,
          1.9634593178656057,
          1.7905928642087965,
          1.6476648864345154,
          1.7198639259416495
         ],
         "yaxis": "y19"
        },
        {
         "hovertemplate": "row=8<br>col=8<br>t_end=%{x}<br>Mean(R)=%{y}<extra></extra>",
         "legendgroup": "",
         "line": {
          "color": "#636efa",
          "dash": "solid"
         },
         "mode": "lines",
         "name": "",
         "showlegend": false,
         "type": "scattergl",
         "x": [
          8,
          9,
          10,
          11,
          12,
          13,
          14,
          15,
          16,
          17,
          18,
          19,
          20,
          21,
          22,
          23,
          24,
          25,
          26,
          27,
          28,
          29,
          30,
          31,
          32,
          33,
          34,
          35,
          36,
          37,
          38,
          39,
          40,
          41,
          42,
          43,
          44,
          45,
          46,
          47,
          48,
          49,
          50,
          51,
          52,
          53,
          54,
          55,
          56,
          57,
          58,
          59,
          60,
          61,
          62
         ],
         "xaxis": "x20",
         "y": [
          4.713228410593884,
          4.494159931022669,
          2.980230577004435,
          3.0504801722987165,
          2.240502135113203,
          1.9088449730204704,
          1.6663128342420732,
          1.493213896887229,
          1.029341726602925,
          1.128396307029338,
          0.7747732669904378,
          0.7622525608460173,
          0.6126650280564271,
          1.257796637480572,
          1.4809442374525568,
          1.730068227322796,
          1.7757279527971146,
          1.924953461535145,
          1.6622035642532036,
          1.5444568638701062,
          0.8560514593090799,
          0.9307438660344692,
          0.7608114499342915,
          1.2487688807828932,
          1.1381758229085106,
          1.1670069145449071,
          1.5839202654866618,
          1.8562730570537098,
          1.5700095076092713,
          1.6350263292618834,
          0.9471058510657084,
          0.886887648412838,
          1.1567618361950207,
          1.1283944524342338,
          0.9213830224655468,
          0.9266048532745156,
          0.8299038971658218,
          0.8399441898146088,
          0.8560365103793104,
          0.5496235979890597,
          0.3408853689067471,
          0.7112183578018084,
          0.6305056188253806,
          0.6842107858211293,
          0.7478915241187033,
          0.9793798227736868,
          1.237794969484099,
          1.5108144354610336,
          1.3773584456448296,
          1.784669064732629,
          1.746321056018346,
          2.0467696251501866,
          1.9315316650443477,
          1.7987603147077238,
          1.3562407848154552
         ],
         "yaxis": "y20"
        },
        {
         "hovertemplate": "row=8<br>col=9<br>t_end=%{x}<br>Mean(R)=%{y}<extra></extra>",
         "legendgroup": "",
         "line": {
          "color": "#636efa",
          "dash": "solid"
         },
         "mode": "lines",
         "name": "",
         "showlegend": false,
         "type": "scattergl",
         "x": [
          8,
          9,
          10,
          11,
          12,
          13,
          14,
          15,
          16,
          17,
          18,
          19,
          20,
          21,
          22,
          23,
          24,
          25,
          26,
          27,
          28,
          29,
          30,
          31,
          32,
          33,
          34,
          35,
          36,
          37,
          38,
          39,
          40,
          41,
          42,
          43,
          44,
          45,
          46,
          47,
          48,
          49,
          50,
          51,
          52,
          53,
          54,
          55,
          56,
          57,
          58,
          59,
          60,
          61,
          62,
          63,
          64,
          65,
          66,
          67,
          68,
          69,
          70
         ],
         "xaxis": "x21",
         "y": [
          8.442866613475019,
          7.977897589496296,
          7.197954600859378,
          8.118363992682422,
          6.025219786227138,
          4.177703257668308,
          4.1366983064898335,
          3.727267389056935,
          3.090459440913686,
          2.837466160413192,
          2.3974804334646738,
          2.363172314967129,
          2.2934588589984553,
          1.8672084701335692,
          1.6281151999023058,
          1.816031883126395,
          1.427806653922468,
          1.3548390989526051,
          1.1925902283610683,
          1.092466881197214,
          0.9503919956123712,
          0.9994197372671868,
          0.8023249966021924,
          0.920244162132124,
          0.8503119752423994,
          0.9091757277696207,
          0.9265952735940116,
          1.169932730998717,
          1.0119729509454054,
          1.0394803070386345,
          0.974042154084428,
          0.9366134537522928,
          0.8504931262162907,
          0.8337654593406375,
          0.6746493359533391,
          0.6012148143522976,
          0.5991342720229155,
          0.728733090421547,
          0.8039777835983516,
          0.8915223908884664,
          1.0050605936733892,
          1.1384746403936072,
          1.2846057597355451,
          1.4125995383849133,
          1.3110123651695402,
          1.1895100478664502,
          1.166700850472252,
          0.9793360571083659,
          0.9087361876309958,
          0.8702274073943518,
          0.7293379017371381,
          0.7914524627175834,
          0.8058543636543551,
          0.8696189108520755,
          0.9832692828109604,
          1.0383047156143683,
          1.4442896667790226,
          1.5342902452182894,
          1.6193157088588188,
          1.6826398619709189,
          1.536041207328953,
          1.5354010644904668,
          1.7030062963229298
         ],
         "yaxis": "y21"
        },
        {
         "hovertemplate": "row=8<br>col=10<br>t_end=%{x}<br>Mean(R)=%{y}<extra></extra>",
         "legendgroup": "",
         "line": {
          "color": "#636efa",
          "dash": "solid"
         },
         "mode": "lines",
         "name": "",
         "showlegend": false,
         "type": "scattergl",
         "x": [
          8,
          9,
          10,
          11,
          12,
          13,
          14,
          15,
          16,
          17,
          18,
          19,
          20,
          21,
          22,
          23,
          24,
          25,
          26,
          27,
          28,
          29,
          30,
          31,
          32,
          33,
          34,
          35,
          36,
          37,
          38,
          39,
          40,
          41,
          42,
          43,
          44,
          45,
          46,
          47,
          48,
          49,
          50,
          51,
          52,
          53,
          54,
          55,
          56,
          57,
          58,
          59,
          60,
          61,
          62,
          63,
          64,
          65,
          66,
          67,
          68,
          69
         ],
         "xaxis": "x22",
         "y": [
          16.01294758679699,
          11.654171948582349,
          10.244588792457655,
          7.086080429232307,
          5.427928366010529,
          4.815084943160202,
          3.6334465956089264,
          3.0936112502067603,
          3.228824339865637,
          2.7094259074451625,
          2.214857843650549,
          2.128769200783533,
          1.7940920311761732,
          1.8157946312151343,
          1.913184909749428,
          1.3755179925607497,
          1.5308495359397196,
          1.5500066282830272,
          1.3922520070621782,
          1.3620033675899894,
          1.2470419042781884,
          1.0653026868723234,
          1.1644697054572295,
          0.9302664084145408,
          0.8518233587241952,
          0.8146454659050745,
          0.7823230711432092,
          0.8063449403678432,
          0.7791145475711707,
          0.7536810511434836,
          0.8302814463254553,
          0.8737506894984562,
          0.885095919444793,
          0.901563344454778,
          0.9260386315373136,
          0.9072574750735016,
          1.0133968670008642,
          1.068241054108785,
          1.0873107126455814,
          1.1028461235270122,
          1.1514206113482317,
          1.2462955320304423,
          1.3509101657748437,
          1.3454776255314156,
          1.2958415023244003,
          1.2662255001992562,
          1.235548470456438,
          1.2320918479443337,
          1.1511835323441433,
          1.1946578080070611,
          1.2118561502558,
          1.1847621279208354,
          1.1873647515347343,
          1.1442048422919406,
          1.1645895875337882,
          1.2422482876220582,
          1.2146544898159362,
          1.3228747710709552,
          1.4166135616229936,
          1.3634341438112159,
          1.3490345054577193,
          1.4885595255510546
         ],
         "yaxis": "y22"
        },
        {
         "hovertemplate": "row=9<br>col=4<br>t_end=%{x}<br>Mean(R)=%{y}<extra></extra>",
         "legendgroup": "",
         "line": {
          "color": "#636efa",
          "dash": "solid"
         },
         "mode": "lines",
         "name": "",
         "showlegend": false,
         "type": "scattergl",
         "x": [
          8,
          9,
          10,
          11,
          12,
          13,
          14,
          15,
          16,
          17,
          18,
          19,
          20,
          21,
          22,
          23,
          24,
          25,
          26,
          27,
          28,
          29,
          30,
          31,
          32,
          33,
          34,
          35,
          36,
          37,
          38,
          39,
          40,
          41,
          42,
          43,
          44,
          45,
          46,
          47,
          48,
          49,
          50,
          51,
          52,
          53,
          54,
          55,
          56,
          57
         ],
         "xaxis": "x4",
         "y": [
          2.5969569851706797,
          2.2368549493100605,
          1.9560300168236435,
          1.7691427546940648,
          1.6603794055028729,
          2.4074226250775244,
          1.5814176617932716,
          1.5560650934442442,
          2.270093505690876,
          2.2155465120189857,
          2.88333734662318,
          3.4570128389987653,
          2.5737059745997706,
          3.4487594528244068,
          3.0056217916930894,
          3.037266284346116,
          3.741218179118166,
          3.546620417000371,
          3.5801503108963275,
          4.167238056513924,
          3.0830304243981006,
          2.8597565573370467,
          2.2280321021963196,
          1.6522604524942748,
          1.331555126123546,
          1.1035756634871197,
          0.7064688001233046,
          0.7501266901601831,
          0.8139840067243937,
          0.902363478783522,
          1.1688603449104789,
          1.2995308284036236,
          1.5933473425215874,
          1.523972451293304,
          1.9940337103313936,
          2.0669682006806798,
          2.2363475224092126,
          1.7818701664520344,
          1.550950041370483,
          1.1754573966763442,
          1.074672725583316,
          0.7187024181681408,
          0.5071533955896729,
          0.2737302473664572,
          0.32600983131584743,
          0.2953385241019113,
          0.2692429770290853,
          0.4240717403541063,
          0.4870976864483678,
          0.7274633083049854
         ],
         "yaxis": "y4"
        },
        {
         "hovertemplate": "row=9<br>col=5<br>t_end=%{x}<br>Mean(R)=%{y}<extra></extra>",
         "legendgroup": "",
         "line": {
          "color": "#636efa",
          "dash": "solid"
         },
         "mode": "lines",
         "name": "",
         "showlegend": false,
         "type": "scattergl",
         "x": [
          8,
          9,
          10,
          11,
          12,
          13,
          14,
          15,
          16,
          17,
          18,
          19,
          20,
          21,
          22,
          23,
          24,
          25,
          26,
          27,
          28,
          29,
          30,
          31,
          32,
          33,
          34,
          35,
          36,
          37,
          38,
          39,
          40,
          41,
          42,
          43,
          44
         ],
         "xaxis": "x5",
         "y": [
          2.568994773982689,
          1.9904950121976688,
          1.0974899794346642,
          0.9698161079248258,
          0.4551695912256935,
          0.4514410630258103,
          0.4711040800444852,
          0.5172015667576108,
          1.1882116724070837,
          1.4141557143995709,
          1.7001807424321742,
          1.975475044647801,
          2.1535247857636777,
          2.2031632468194515,
          2.1587872700933644,
          1.0363702897559517,
          0.991849912191323,
          2.9101900277493544,
          2.977368558118476,
          3.080831159537275,
          3.015174254643941,
          2.7572112295706037,
          4.055535351104287,
          4.278084825472395,
          2.4863139954487155,
          4.2117215452785315,
          3.5422427414545448,
          2.996141080608244,
          2.516048595720409,
          1.8554964038548607,
          1.5943388647276415,
          1.6133771174385685,
          0.7386119827851985,
          0.6946470168025871,
          0.6714680334047728,
          0.6731572975560919,
          0.6982299076864666
         ],
         "yaxis": "y5"
        },
        {
         "hovertemplate": "row=9<br>col=6<br>t_end=%{x}<br>Mean(R)=%{y}<extra></extra>",
         "legendgroup": "",
         "line": {
          "color": "#636efa",
          "dash": "solid"
         },
         "mode": "lines",
         "name": "",
         "showlegend": false,
         "type": "scattergl",
         "x": [
          8,
          9,
          10,
          11,
          12,
          13,
          14,
          15,
          16,
          17,
          18,
          19,
          20,
          21,
          22,
          23,
          24,
          25,
          26,
          27,
          28,
          29,
          30,
          31,
          32,
          33,
          34,
          35,
          36,
          37,
          38,
          39,
          40,
          41,
          42,
          43,
          44,
          45,
          46,
          47,
          48,
          49,
          50,
          51,
          52,
          53,
          54,
          55,
          56,
          57,
          58,
          59,
          60,
          61,
          62
         ],
         "xaxis": "x6",
         "y": [
          3.9018500282164377,
          4.569551957246466,
          4.071825300923326,
          4.417024365235559,
          4.44371250510085,
          4.269152492805232,
          3.4838398041449112,
          2.4306364285128144,
          1.6658624763769716,
          1.6935965166895892,
          1.2496186839343812,
          0.9228802924269442,
          0.6595948648396363,
          0.6475766073116161,
          0.4376847924314049,
          0.4580689569043403,
          0.2468066610407315,
          0.27342242426578073,
          0.3113627769468221,
          0.3655456973007922,
          0.4421450983665919,
          0.5486332902334848,
          0.6941033753273305,
          0.8889606003895736,
          1.1435098767731853,
          1.4650048756018512,
          1.8532386874749267,
          4.5921832453118405,
          5.516712250691106,
          9.078026487751414,
          8.370507942775543,
          6.55597278710595,
          4.754854654762059,
          3.5076016573218203,
          2.7336616675167984,
          3.0086104755168703,
          1.9536483381094616,
          2.899450589857018,
          3.150260512433812,
          4.784125297995059,
          4.271843067059971,
          3.6346805770583748,
          3.244497916255765,
          4.99059630157479,
          3.7070940342127567,
          2.8849561376956947,
          1.9515071086194091,
          1.8211287622577224,
          1.7406217267789583,
          1.3890826214038303,
          0.6759005883978368,
          0.8457623084785424,
          0.8834660078356307,
          0.8803686287062797,
          0.9669978453458288
         ],
         "yaxis": "y6"
        },
        {
         "hovertemplate": "row=9<br>col=7<br>t_end=%{x}<br>Mean(R)=%{y}<extra></extra>",
         "legendgroup": "",
         "line": {
          "color": "#636efa",
          "dash": "solid"
         },
         "mode": "lines",
         "name": "",
         "showlegend": false,
         "type": "scattergl",
         "x": [
          8,
          9,
          10,
          11,
          12,
          13,
          14,
          15,
          16,
          17,
          18,
          19,
          20,
          21,
          22,
          23,
          24,
          25,
          26,
          27,
          28,
          29,
          30,
          31,
          32,
          33,
          34,
          35,
          36,
          37,
          38,
          39,
          40,
          41,
          42,
          43,
          44,
          45,
          46,
          47,
          48,
          49,
          50,
          51,
          52,
          53,
          54,
          55,
          56,
          57,
          58,
          59,
          60,
          61,
          62
         ],
         "xaxis": "x7",
         "y": [
          6.0749525009784255,
          4.3693278141426495,
          4.056052606577894,
          3.3958363185159204,
          2.9027219797784523,
          2.3751842633195364,
          1.7129742392763352,
          1.1100707449968021,
          0.9888820612449306,
          1.5252077219496427,
          1.9569764925470867,
          2.1147278661638778,
          1.9588468938086263,
          2.5392884472759114,
          2.5580917975307624,
          2.437195224333149,
          1.8351511537196337,
          1.4978360504779855,
          1.1781789049463574,
          1.2024765248135867,
          0.75010077594732,
          0.5612007137967637,
          0.6717464342019971,
          0.801124089274513,
          0.9164574937872312,
          1.097244314975608,
          1.1529266895842565,
          1.7647426469029637,
          2.796848250232429,
          3.971034908602284,
          3.4285128027246703,
          3.2293720426009984,
          2.9954913108744483,
          2.4980853272897408,
          2.1191072204290817,
          1.8578695880392384,
          1.4646083750555308,
          1.577980361036531,
          1.626056197712895,
          1.4941356304660292,
          1.4635085047122574,
          1.3591512368663368,
          1.2340870703957891,
          1.0081789974928674,
          0.8542401437926784,
          0.6496952671537272,
          0.6057486511774696,
          0.6193849901610249,
          0.6384680459067147,
          0.6127507106532376,
          0.7720850004138965,
          0.8227840224003434,
          0.8288613441253806,
          0.8487453131785535,
          0.9210206375032352
         ],
         "yaxis": "y7"
        },
        {
         "hovertemplate": "row=9<br>col=8<br>t_end=%{x}<br>Mean(R)=%{y}<extra></extra>",
         "legendgroup": "",
         "line": {
          "color": "#636efa",
          "dash": "solid"
         },
         "mode": "lines",
         "name": "",
         "showlegend": false,
         "type": "scattergl",
         "x": [
          8,
          9,
          10,
          11,
          12,
          13,
          14,
          15,
          16,
          17,
          18,
          19,
          20,
          21,
          22,
          23,
          24,
          25,
          26,
          27,
          28,
          29,
          30,
          31,
          32,
          33,
          34,
          35,
          36,
          37,
          38,
          39,
          40,
          41,
          42,
          43,
          44,
          45,
          46,
          47,
          48,
          49,
          50,
          51,
          52,
          53,
          54,
          55,
          56,
          57,
          58,
          59,
          60,
          61,
          62,
          63,
          64
         ],
         "xaxis": "x8",
         "y": [
          3.2643158815283,
          2.0932800683975907,
          1.3126473214414858,
          1.5233467729815664,
          1.3913891614705451,
          1.3268042615628002,
          0.9730412316613865,
          2.568508996916815,
          3.5271257401195983,
          3.467846934953048,
          2.8971642474987656,
          3.7140174388721947,
          3.093638929217476,
          2.7535784397679923,
          1.4434427044026736,
          1.7192314534337865,
          2.263927545898337,
          2.0644039905038043,
          1.6375398574228883,
          1.588280119224352,
          1.9142450990737303,
          2.0516529293724037,
          2.8936478509627364,
          2.489452657913229,
          3.010742043476168,
          2.54466674709655,
          2.154595031000501,
          1.7442713796833704,
          1.5171353096986333,
          0.9102140897474232,
          1.0611358354026992,
          1.1221303899889583,
          1.1628397978623664,
          1.2219491058292056,
          1.1471377791112831,
          1.4312872801859375,
          1.3854814683859376,
          1.2866768163674047,
          1.0954996302483295,
          1.2753809016513165,
          1.445064135963258,
          1.4036569207589693,
          1.1048660054931578,
          1.1720198810643931,
          0.9578035205914388,
          0.7797915200414071,
          0.6346457565170228,
          0.4865269075249932,
          0.544254739385399,
          0.5147283651861654,
          0.4921451546529221,
          0.8842145623103589,
          1.068092641994115,
          1.08741451712762,
          1.1260010931316242,
          1.1283804505939858,
          1.3520277583523777
         ],
         "yaxis": "y8"
        },
        {
         "hovertemplate": "row=9<br>col=9<br>t_end=%{x}<br>Mean(R)=%{y}<extra></extra>",
         "legendgroup": "",
         "line": {
          "color": "#636efa",
          "dash": "solid"
         },
         "mode": "lines",
         "name": "",
         "showlegend": false,
         "type": "scattergl",
         "x": [
          8,
          9,
          10,
          11,
          12,
          13,
          14,
          15,
          16,
          17,
          18,
          19,
          20,
          21,
          22,
          23,
          24,
          25,
          26,
          27,
          28,
          29,
          30,
          31,
          32,
          33,
          34,
          35,
          36,
          37,
          38,
          39,
          40,
          41,
          42,
          43,
          44,
          45,
          46,
          47,
          48,
          49,
          50,
          51,
          52,
          53,
          54,
          55,
          56,
          57,
          58,
          59,
          60,
          61,
          62,
          63,
          64,
          65,
          66
         ],
         "xaxis": "x9",
         "y": [
          5.6169840349738935,
          3.6070616566253872,
          3.0485074606626386,
          3.4765307471389093,
          3.5547225197347454,
          2.9925015465481373,
          2.5276914432596658,
          2.025850210310705,
          2.2755474457963087,
          3.2611299587621536,
          3.472322058592092,
          3.6952059696010084,
          3.1087058016919555,
          3.1184443162668734,
          2.756663285312792,
          2.3293893001265293,
          1.9208473470188705,
          1.546178449330341,
          1.326696408755328,
          1.4913273417697783,
          1.2723233159018024,
          1.255454564502512,
          1.1422797945103704,
          1.146349727636749,
          1.0562668417415952,
          1.0046699591907953,
          1.0155846386635106,
          1.0326078729704435,
          1.028199384055804,
          1.0675479456306605,
          1.0128833796150132,
          1.1728376934421674,
          1.3032982170262564,
          1.2551479585317236,
          1.2111168695674122,
          1.0796570807786925,
          1.0612724521618602,
          1.045250400596082,
          1.1679780981676957,
          1.93109462986258,
          2.25004530615556,
          2.224641613945169,
          2.199497897666612,
          2.146944031054171,
          1.8525757018246345,
          1.6569606778301442,
          1.0180730174124526,
          0.8041114770201433,
          0.8540992610478042,
          0.819630322344191,
          0.8058643148577999,
          0.8814922244231429,
          0.8830217864454084,
          0.9158625275368092,
          1.0383583544983792,
          0.9794128475646204,
          0.9866309487396442,
          0.9608912899490448,
          0.9818966442594174
         ],
         "yaxis": "y9"
        },
        {
         "hovertemplate": "row=9<br>col=10<br>t_end=%{x}<br>Mean(R)=%{y}<extra></extra>",
         "legendgroup": "",
         "line": {
          "color": "#636efa",
          "dash": "solid"
         },
         "mode": "lines",
         "name": "",
         "showlegend": false,
         "type": "scattergl",
         "x": [
          8,
          9,
          10,
          11,
          12,
          13,
          14,
          15,
          16,
          17,
          18,
          19,
          20,
          21,
          22,
          23,
          24,
          25,
          26,
          27,
          28,
          29,
          30,
          31,
          32,
          33,
          34,
          35,
          36,
          37,
          38,
          39,
          40,
          41,
          42,
          43,
          44,
          45,
          46,
          47,
          48,
          49,
          50,
          51,
          52,
          53,
          54,
          55,
          56,
          57,
          58,
          59,
          60,
          61,
          62,
          63,
          64,
          65,
          66,
          67,
          68,
          69
         ],
         "xaxis": "x10",
         "y": [
          3.889041983422575,
          4.369684763569538,
          3.6110834542091514,
          3.7327920059117585,
          3.1158162498103525,
          3.680787598017629,
          2.6860948288627693,
          2.676856603696299,
          4.261766216531154,
          3.9808291800571527,
          4.146490986479951,
          4.453832046089525,
          3.6146173546470695,
          3.6946580153401496,
          3.5097966370155365,
          2.2590474731994,
          2.728947506151018,
          2.242256310933829,
          2.1482342283330405,
          1.794064692129969,
          2.045350720269691,
          2.2117349567656626,
          2.1802706193499284,
          1.950261973102192,
          1.6758302217352998,
          1.729768693149032,
          1.6364291839809535,
          1.2359958888745872,
          1.1092740370409269,
          1.0788305673768244,
          0.8952504428150645,
          0.9736695399277172,
          0.8479695496202585,
          1.0169382200354269,
          1.2298927005135276,
          1.2465983423015738,
          1.5809059538450432,
          1.754008658900582,
          1.6548909853850509,
          1.948886573522304,
          1.7596996870797428,
          1.9086017969462292,
          2.049257947627686,
          1.751811249653049,
          1.7236108277527782,
          1.7512554253429993,
          1.9781958720211337,
          1.9438164364232524,
          1.7398313774506375,
          1.634509975448854,
          1.6859144281354628,
          1.5331071270037713,
          1.4099701671928138,
          1.1238367449063822,
          1.047928714333915,
          1.0734375426514309,
          1.2238216570664489,
          1.3625680899780843,
          1.3009247714257666,
          1.2656141084544057,
          1.182659385823106,
          1.2645267029247835
         ],
         "yaxis": "y10"
        }
       ],
       "layout": {
        "annotations": [
         {
          "font": {},
          "showarrow": false,
          "text": "",
          "x": 0.03166666666666666,
          "xanchor": "center",
          "xref": "paper",
          "y": 1,
          "yanchor": "bottom",
          "yref": "paper"
         },
         {
          "font": {},
          "showarrow": false,
          "text": "",
          "x": 0.11499999999999999,
          "xanchor": "center",
          "xref": "paper",
          "y": 1,
          "yanchor": "bottom",
          "yref": "paper"
         },
         {
          "font": {},
          "showarrow": false,
          "text": "",
          "x": 0.1983333333333333,
          "xanchor": "center",
          "xref": "paper",
          "y": 1,
          "yanchor": "bottom",
          "yref": "paper"
         },
         {
          "font": {},
          "showarrow": false,
          "text": "",
          "x": 0.2816666666666666,
          "xanchor": "center",
          "xref": "paper",
          "y": 1,
          "yanchor": "bottom",
          "yref": "paper"
         },
         {
          "font": {},
          "showarrow": false,
          "text": "",
          "x": 0.365,
          "xanchor": "center",
          "xref": "paper",
          "y": 1,
          "yanchor": "bottom",
          "yref": "paper"
         },
         {
          "font": {},
          "showarrow": false,
          "text": "",
          "x": 0.4483333333333333,
          "xanchor": "center",
          "xref": "paper",
          "y": 1,
          "yanchor": "bottom",
          "yref": "paper"
         },
         {
          "font": {},
          "showarrow": false,
          "text": "",
          "x": 0.5316666666666667,
          "xanchor": "center",
          "xref": "paper",
          "y": 1,
          "yanchor": "bottom",
          "yref": "paper"
         },
         {
          "font": {},
          "showarrow": false,
          "text": "",
          "x": 0.615,
          "xanchor": "center",
          "xref": "paper",
          "y": 1,
          "yanchor": "bottom",
          "yref": "paper"
         },
         {
          "font": {},
          "showarrow": false,
          "text": "",
          "x": 0.6983333333333335,
          "xanchor": "center",
          "xref": "paper",
          "y": 1,
          "yanchor": "bottom",
          "yref": "paper"
         },
         {
          "font": {},
          "showarrow": false,
          "text": "",
          "x": 0.7816666666666667,
          "xanchor": "center",
          "xref": "paper",
          "y": 1,
          "yanchor": "bottom",
          "yref": "paper"
         },
         {
          "font": {},
          "showarrow": false,
          "text": "",
          "x": 0.8650000000000002,
          "xanchor": "center",
          "xref": "paper",
          "y": 1,
          "yanchor": "bottom",
          "yref": "paper"
         },
         {
          "font": {},
          "showarrow": false,
          "text": "",
          "x": 0.9483333333333335,
          "xanchor": "center",
          "xref": "paper",
          "y": 1,
          "yanchor": "bottom",
          "yref": "paper"
         },
         {
          "font": {},
          "showarrow": false,
          "text": "",
          "textangle": 90,
          "x": 0.9800000000000001,
          "xanchor": "left",
          "xref": "paper",
          "y": 0.042222222222222223,
          "yanchor": "middle",
          "yref": "paper"
         },
         {
          "font": {},
          "showarrow": false,
          "text": "",
          "textangle": 90,
          "x": 0.9800000000000001,
          "xanchor": "left",
          "xref": "paper",
          "y": 0.15666666666666668,
          "yanchor": "middle",
          "yref": "paper"
         },
         {
          "font": {},
          "showarrow": false,
          "text": "",
          "textangle": 90,
          "x": 0.9800000000000001,
          "xanchor": "left",
          "xref": "paper",
          "y": 0.27111111111111114,
          "yanchor": "middle",
          "yref": "paper"
         },
         {
          "font": {},
          "showarrow": false,
          "text": "",
          "textangle": 90,
          "x": 0.9800000000000001,
          "xanchor": "left",
          "xref": "paper",
          "y": 0.3855555555555556,
          "yanchor": "middle",
          "yref": "paper"
         },
         {
          "font": {},
          "showarrow": false,
          "text": "",
          "textangle": 90,
          "x": 0.9800000000000001,
          "xanchor": "left",
          "xref": "paper",
          "y": 0.5,
          "yanchor": "middle",
          "yref": "paper"
         },
         {
          "font": {},
          "showarrow": false,
          "text": "",
          "textangle": 90,
          "x": 0.9800000000000001,
          "xanchor": "left",
          "xref": "paper",
          "y": 0.6144444444444443,
          "yanchor": "middle",
          "yref": "paper"
         },
         {
          "font": {},
          "showarrow": false,
          "text": "",
          "textangle": 90,
          "x": 0.9800000000000001,
          "xanchor": "left",
          "xref": "paper",
          "y": 0.7288888888888889,
          "yanchor": "middle",
          "yref": "paper"
         },
         {
          "font": {},
          "showarrow": false,
          "text": "",
          "textangle": 90,
          "x": 0.9800000000000001,
          "xanchor": "left",
          "xref": "paper",
          "y": 0.8433333333333333,
          "yanchor": "middle",
          "yref": "paper"
         },
         {
          "font": {},
          "showarrow": false,
          "text": "",
          "textangle": 90,
          "x": 0.9800000000000001,
          "xanchor": "left",
          "xref": "paper",
          "y": 0.9577777777777778,
          "yanchor": "middle",
          "yref": "paper"
         }
        ],
        "legend": {
         "tracegroupgap": 0
        },
        "margin": {
         "t": 60
        },
        "template": {
         "data": {
          "bar": [
           {
            "error_x": {
             "color": "#2a3f5f"
            },
            "error_y": {
             "color": "#2a3f5f"
            },
            "marker": {
             "line": {
              "color": "#E5ECF6",
              "width": 0.5
             }
            },
            "type": "bar"
           }
          ],
          "barpolar": [
           {
            "marker": {
             "line": {
              "color": "#E5ECF6",
              "width": 0.5
             }
            },
            "type": "barpolar"
           }
          ],
          "carpet": [
           {
            "aaxis": {
             "endlinecolor": "#2a3f5f",
             "gridcolor": "white",
             "linecolor": "white",
             "minorgridcolor": "white",
             "startlinecolor": "#2a3f5f"
            },
            "baxis": {
             "endlinecolor": "#2a3f5f",
             "gridcolor": "white",
             "linecolor": "white",
             "minorgridcolor": "white",
             "startlinecolor": "#2a3f5f"
            },
            "type": "carpet"
           }
          ],
          "choropleth": [
           {
            "colorbar": {
             "outlinewidth": 0,
             "ticks": ""
            },
            "type": "choropleth"
           }
          ],
          "contour": [
           {
            "colorbar": {
             "outlinewidth": 0,
             "ticks": ""
            },
            "colorscale": [
             [
              0,
              "#0d0887"
             ],
             [
              0.1111111111111111,
              "#46039f"
             ],
             [
              0.2222222222222222,
              "#7201a8"
             ],
             [
              0.3333333333333333,
              "#9c179e"
             ],
             [
              0.4444444444444444,
              "#bd3786"
             ],
             [
              0.5555555555555556,
              "#d8576b"
             ],
             [
              0.6666666666666666,
              "#ed7953"
             ],
             [
              0.7777777777777778,
              "#fb9f3a"
             ],
             [
              0.8888888888888888,
              "#fdca26"
             ],
             [
              1,
              "#f0f921"
             ]
            ],
            "type": "contour"
           }
          ],
          "contourcarpet": [
           {
            "colorbar": {
             "outlinewidth": 0,
             "ticks": ""
            },
            "type": "contourcarpet"
           }
          ],
          "heatmap": [
           {
            "colorbar": {
             "outlinewidth": 0,
             "ticks": ""
            },
            "colorscale": [
             [
              0,
              "#0d0887"
             ],
             [
              0.1111111111111111,
              "#46039f"
             ],
             [
              0.2222222222222222,
              "#7201a8"
             ],
             [
              0.3333333333333333,
              "#9c179e"
             ],
             [
              0.4444444444444444,
              "#bd3786"
             ],
             [
              0.5555555555555556,
              "#d8576b"
             ],
             [
              0.6666666666666666,
              "#ed7953"
             ],
             [
              0.7777777777777778,
              "#fb9f3a"
             ],
             [
              0.8888888888888888,
              "#fdca26"
             ],
             [
              1,
              "#f0f921"
             ]
            ],
            "type": "heatmap"
           }
          ],
          "heatmapgl": [
           {
            "colorbar": {
             "outlinewidth": 0,
             "ticks": ""
            },
            "colorscale": [
             [
              0,
              "#0d0887"
             ],
             [
              0.1111111111111111,
              "#46039f"
             ],
             [
              0.2222222222222222,
              "#7201a8"
             ],
             [
              0.3333333333333333,
              "#9c179e"
             ],
             [
              0.4444444444444444,
              "#bd3786"
             ],
             [
              0.5555555555555556,
              "#d8576b"
             ],
             [
              0.6666666666666666,
              "#ed7953"
             ],
             [
              0.7777777777777778,
              "#fb9f3a"
             ],
             [
              0.8888888888888888,
              "#fdca26"
             ],
             [
              1,
              "#f0f921"
             ]
            ],
            "type": "heatmapgl"
           }
          ],
          "histogram": [
           {
            "marker": {
             "colorbar": {
              "outlinewidth": 0,
              "ticks": ""
             }
            },
            "type": "histogram"
           }
          ],
          "histogram2d": [
           {
            "colorbar": {
             "outlinewidth": 0,
             "ticks": ""
            },
            "colorscale": [
             [
              0,
              "#0d0887"
             ],
             [
              0.1111111111111111,
              "#46039f"
             ],
             [
              0.2222222222222222,
              "#7201a8"
             ],
             [
              0.3333333333333333,
              "#9c179e"
             ],
             [
              0.4444444444444444,
              "#bd3786"
             ],
             [
              0.5555555555555556,
              "#d8576b"
             ],
             [
              0.6666666666666666,
              "#ed7953"
             ],
             [
              0.7777777777777778,
              "#fb9f3a"
             ],
             [
              0.8888888888888888,
              "#fdca26"
             ],
             [
              1,
              "#f0f921"
             ]
            ],
            "type": "histogram2d"
           }
          ],
          "histogram2dcontour": [
           {
            "colorbar": {
             "outlinewidth": 0,
             "ticks": ""
            },
            "colorscale": [
             [
              0,
              "#0d0887"
             ],
             [
              0.1111111111111111,
              "#46039f"
             ],
             [
              0.2222222222222222,
              "#7201a8"
             ],
             [
              0.3333333333333333,
              "#9c179e"
             ],
             [
              0.4444444444444444,
              "#bd3786"
             ],
             [
              0.5555555555555556,
              "#d8576b"
             ],
             [
              0.6666666666666666,
              "#ed7953"
             ],
             [
              0.7777777777777778,
              "#fb9f3a"
             ],
             [
              0.8888888888888888,
              "#fdca26"
             ],
             [
              1,
              "#f0f921"
             ]
            ],
            "type": "histogram2dcontour"
           }
          ],
          "mesh3d": [
           {
            "colorbar": {
             "outlinewidth": 0,
             "ticks": ""
            },
            "type": "mesh3d"
           }
          ],
          "parcoords": [
           {
            "line": {
             "colorbar": {
              "outlinewidth": 0,
              "ticks": ""
             }
            },
            "type": "parcoords"
           }
          ],
          "pie": [
           {
            "automargin": true,
            "type": "pie"
           }
          ],
          "scatter": [
           {
            "marker": {
             "colorbar": {
              "outlinewidth": 0,
              "ticks": ""
             }
            },
            "type": "scatter"
           }
          ],
          "scatter3d": [
           {
            "line": {
             "colorbar": {
              "outlinewidth": 0,
              "ticks": ""
             }
            },
            "marker": {
             "colorbar": {
              "outlinewidth": 0,
              "ticks": ""
             }
            },
            "type": "scatter3d"
           }
          ],
          "scattercarpet": [
           {
            "marker": {
             "colorbar": {
              "outlinewidth": 0,
              "ticks": ""
             }
            },
            "type": "scattercarpet"
           }
          ],
          "scattergeo": [
           {
            "marker": {
             "colorbar": {
              "outlinewidth": 0,
              "ticks": ""
             }
            },
            "type": "scattergeo"
           }
          ],
          "scattergl": [
           {
            "marker": {
             "colorbar": {
              "outlinewidth": 0,
              "ticks": ""
             }
            },
            "type": "scattergl"
           }
          ],
          "scattermapbox": [
           {
            "marker": {
             "colorbar": {
              "outlinewidth": 0,
              "ticks": ""
             }
            },
            "type": "scattermapbox"
           }
          ],
          "scatterpolar": [
           {
            "marker": {
             "colorbar": {
              "outlinewidth": 0,
              "ticks": ""
             }
            },
            "type": "scatterpolar"
           }
          ],
          "scatterpolargl": [
           {
            "marker": {
             "colorbar": {
              "outlinewidth": 0,
              "ticks": ""
             }
            },
            "type": "scatterpolargl"
           }
          ],
          "scatterternary": [
           {
            "marker": {
             "colorbar": {
              "outlinewidth": 0,
              "ticks": ""
             }
            },
            "type": "scatterternary"
           }
          ],
          "surface": [
           {
            "colorbar": {
             "outlinewidth": 0,
             "ticks": ""
            },
            "colorscale": [
             [
              0,
              "#0d0887"
             ],
             [
              0.1111111111111111,
              "#46039f"
             ],
             [
              0.2222222222222222,
              "#7201a8"
             ],
             [
              0.3333333333333333,
              "#9c179e"
             ],
             [
              0.4444444444444444,
              "#bd3786"
             ],
             [
              0.5555555555555556,
              "#d8576b"
             ],
             [
              0.6666666666666666,
              "#ed7953"
             ],
             [
              0.7777777777777778,
              "#fb9f3a"
             ],
             [
              0.8888888888888888,
              "#fdca26"
             ],
             [
              1,
              "#f0f921"
             ]
            ],
            "type": "surface"
           }
          ],
          "table": [
           {
            "cells": {
             "fill": {
              "color": "#EBF0F8"
             },
             "line": {
              "color": "white"
             }
            },
            "header": {
             "fill": {
              "color": "#C8D4E3"
             },
             "line": {
              "color": "white"
             }
            },
            "type": "table"
           }
          ]
         },
         "layout": {
          "annotationdefaults": {
           "arrowcolor": "#2a3f5f",
           "arrowhead": 0,
           "arrowwidth": 1
          },
          "coloraxis": {
           "colorbar": {
            "outlinewidth": 0,
            "ticks": ""
           }
          },
          "colorscale": {
           "diverging": [
            [
             0,
             "#8e0152"
            ],
            [
             0.1,
             "#c51b7d"
            ],
            [
             0.2,
             "#de77ae"
            ],
            [
             0.3,
             "#f1b6da"
            ],
            [
             0.4,
             "#fde0ef"
            ],
            [
             0.5,
             "#f7f7f7"
            ],
            [
             0.6,
             "#e6f5d0"
            ],
            [
             0.7,
             "#b8e186"
            ],
            [
             0.8,
             "#7fbc41"
            ],
            [
             0.9,
             "#4d9221"
            ],
            [
             1,
             "#276419"
            ]
           ],
           "sequential": [
            [
             0,
             "#0d0887"
            ],
            [
             0.1111111111111111,
             "#46039f"
            ],
            [
             0.2222222222222222,
             "#7201a8"
            ],
            [
             0.3333333333333333,
             "#9c179e"
            ],
            [
             0.4444444444444444,
             "#bd3786"
            ],
            [
             0.5555555555555556,
             "#d8576b"
            ],
            [
             0.6666666666666666,
             "#ed7953"
            ],
            [
             0.7777777777777778,
             "#fb9f3a"
            ],
            [
             0.8888888888888888,
             "#fdca26"
            ],
            [
             1,
             "#f0f921"
            ]
           ],
           "sequentialminus": [
            [
             0,
             "#0d0887"
            ],
            [
             0.1111111111111111,
             "#46039f"
            ],
            [
             0.2222222222222222,
             "#7201a8"
            ],
            [
             0.3333333333333333,
             "#9c179e"
            ],
            [
             0.4444444444444444,
             "#bd3786"
            ],
            [
             0.5555555555555556,
             "#d8576b"
            ],
            [
             0.6666666666666666,
             "#ed7953"
            ],
            [
             0.7777777777777778,
             "#fb9f3a"
            ],
            [
             0.8888888888888888,
             "#fdca26"
            ],
            [
             1,
             "#f0f921"
            ]
           ]
          },
          "colorway": [
           "#636efa",
           "#EF553B",
           "#00cc96",
           "#ab63fa",
           "#FFA15A",
           "#19d3f3",
           "#FF6692",
           "#B6E880",
           "#FF97FF",
           "#FECB52"
          ],
          "font": {
           "color": "#2a3f5f"
          },
          "geo": {
           "bgcolor": "white",
           "lakecolor": "white",
           "landcolor": "#E5ECF6",
           "showlakes": true,
           "showland": true,
           "subunitcolor": "white"
          },
          "hoverlabel": {
           "align": "left"
          },
          "hovermode": "closest",
          "mapbox": {
           "style": "light"
          },
          "paper_bgcolor": "white",
          "plot_bgcolor": "#E5ECF6",
          "polar": {
           "angularaxis": {
            "gridcolor": "white",
            "linecolor": "white",
            "ticks": ""
           },
           "bgcolor": "#E5ECF6",
           "radialaxis": {
            "gridcolor": "white",
            "linecolor": "white",
            "ticks": ""
           }
          },
          "scene": {
           "xaxis": {
            "backgroundcolor": "#E5ECF6",
            "gridcolor": "white",
            "gridwidth": 2,
            "linecolor": "white",
            "showbackground": true,
            "ticks": "",
            "zerolinecolor": "white"
           },
           "yaxis": {
            "backgroundcolor": "#E5ECF6",
            "gridcolor": "white",
            "gridwidth": 2,
            "linecolor": "white",
            "showbackground": true,
            "ticks": "",
            "zerolinecolor": "white"
           },
           "zaxis": {
            "backgroundcolor": "#E5ECF6",
            "gridcolor": "white",
            "gridwidth": 2,
            "linecolor": "white",
            "showbackground": true,
            "ticks": "",
            "zerolinecolor": "white"
           }
          },
          "shapedefaults": {
           "line": {
            "color": "#2a3f5f"
           }
          },
          "ternary": {
           "aaxis": {
            "gridcolor": "white",
            "linecolor": "white",
            "ticks": ""
           },
           "baxis": {
            "gridcolor": "white",
            "linecolor": "white",
            "ticks": ""
           },
           "bgcolor": "#E5ECF6",
           "caxis": {
            "gridcolor": "white",
            "linecolor": "white",
            "ticks": ""
           }
          },
          "title": {
           "x": 0.05
          },
          "xaxis": {
           "automargin": true,
           "gridcolor": "white",
           "linecolor": "white",
           "ticks": "",
           "title": {
            "standoff": 15
           },
           "zerolinecolor": "white",
           "zerolinewidth": 2
          },
          "yaxis": {
           "automargin": true,
           "gridcolor": "white",
           "linecolor": "white",
           "ticks": "",
           "title": {
            "standoff": 15
           },
           "zerolinecolor": "white",
           "zerolinewidth": 2
          }
         }
        },
        "xaxis": {
         "anchor": "y",
         "domain": [
          0,
          0.06333333333333332
         ],
         "title": {
          "text": "t_end"
         }
        },
        "xaxis10": {
         "anchor": "y10",
         "domain": [
          0.75,
          0.8133333333333334
         ],
         "matches": "x",
         "title": {
          "text": "t_end"
         }
        },
        "xaxis100": {
         "anchor": "y100",
         "domain": [
          0.24999999999999997,
          0.3133333333333333
         ],
         "matches": "x",
         "showticklabels": false
        },
        "xaxis101": {
         "anchor": "y101",
         "domain": [
          0.3333333333333333,
          0.3966666666666666
         ],
         "matches": "x",
         "showticklabels": false
        },
        "xaxis102": {
         "anchor": "y102",
         "domain": [
          0.41666666666666663,
          0.48
         ],
         "matches": "x",
         "showticklabels": false
        },
        "xaxis103": {
         "anchor": "y103",
         "domain": [
          0.5,
          0.5633333333333334
         ],
         "matches": "x",
         "showticklabels": false
        },
        "xaxis104": {
         "anchor": "y104",
         "domain": [
          0.5833333333333334,
          0.6466666666666667
         ],
         "matches": "x",
         "showticklabels": false
        },
        "xaxis105": {
         "anchor": "y105",
         "domain": [
          0.6666666666666667,
          0.7300000000000001
         ],
         "matches": "x",
         "showticklabels": false
        },
        "xaxis106": {
         "anchor": "y106",
         "domain": [
          0.75,
          0.8133333333333334
         ],
         "matches": "x",
         "showticklabels": false
        },
        "xaxis107": {
         "anchor": "y107",
         "domain": [
          0.8333333333333335,
          0.8966666666666668
         ],
         "matches": "x",
         "showticklabels": false
        },
        "xaxis108": {
         "anchor": "y108",
         "domain": [
          0.9166666666666667,
          0.9800000000000001
         ],
         "matches": "x",
         "showticklabels": false
        },
        "xaxis11": {
         "anchor": "y11",
         "domain": [
          0.8333333333333335,
          0.8966666666666668
         ],
         "matches": "x",
         "title": {
          "text": "t_end"
         }
        },
        "xaxis12": {
         "anchor": "y12",
         "domain": [
          0.9166666666666667,
          0.9800000000000001
         ],
         "matches": "x",
         "title": {
          "text": "t_end"
         }
        },
        "xaxis13": {
         "anchor": "y13",
         "domain": [
          0,
          0.06333333333333332
         ],
         "matches": "x",
         "showticklabels": false
        },
        "xaxis14": {
         "anchor": "y14",
         "domain": [
          0.08333333333333333,
          0.14666666666666667
         ],
         "matches": "x",
         "showticklabels": false
        },
        "xaxis15": {
         "anchor": "y15",
         "domain": [
          0.16666666666666666,
          0.22999999999999998
         ],
         "matches": "x",
         "showticklabels": false
        },
        "xaxis16": {
         "anchor": "y16",
         "domain": [
          0.24999999999999997,
          0.3133333333333333
         ],
         "matches": "x",
         "showticklabels": false
        },
        "xaxis17": {
         "anchor": "y17",
         "domain": [
          0.3333333333333333,
          0.3966666666666666
         ],
         "matches": "x",
         "showticklabels": false
        },
        "xaxis18": {
         "anchor": "y18",
         "domain": [
          0.41666666666666663,
          0.48
         ],
         "matches": "x",
         "showticklabels": false
        },
        "xaxis19": {
         "anchor": "y19",
         "domain": [
          0.5,
          0.5633333333333334
         ],
         "matches": "x",
         "showticklabels": false
        },
        "xaxis2": {
         "anchor": "y2",
         "domain": [
          0.08333333333333333,
          0.14666666666666667
         ],
         "matches": "x",
         "title": {
          "text": "t_end"
         }
        },
        "xaxis20": {
         "anchor": "y20",
         "domain": [
          0.5833333333333334,
          0.6466666666666667
         ],
         "matches": "x",
         "showticklabels": false
        },
        "xaxis21": {
         "anchor": "y21",
         "domain": [
          0.6666666666666667,
          0.7300000000000001
         ],
         "matches": "x",
         "showticklabels": false
        },
        "xaxis22": {
         "anchor": "y22",
         "domain": [
          0.75,
          0.8133333333333334
         ],
         "matches": "x",
         "showticklabels": false
        },
        "xaxis23": {
         "anchor": "y23",
         "domain": [
          0.8333333333333335,
          0.8966666666666668
         ],
         "matches": "x",
         "showticklabels": false
        },
        "xaxis24": {
         "anchor": "y24",
         "domain": [
          0.9166666666666667,
          0.9800000000000001
         ],
         "matches": "x",
         "showticklabels": false
        },
        "xaxis25": {
         "anchor": "y25",
         "domain": [
          0,
          0.06333333333333332
         ],
         "matches": "x",
         "showticklabels": false
        },
        "xaxis26": {
         "anchor": "y26",
         "domain": [
          0.08333333333333333,
          0.14666666666666667
         ],
         "matches": "x",
         "showticklabels": false
        },
        "xaxis27": {
         "anchor": "y27",
         "domain": [
          0.16666666666666666,
          0.22999999999999998
         ],
         "matches": "x",
         "showticklabels": false
        },
        "xaxis28": {
         "anchor": "y28",
         "domain": [
          0.24999999999999997,
          0.3133333333333333
         ],
         "matches": "x",
         "showticklabels": false
        },
        "xaxis29": {
         "anchor": "y29",
         "domain": [
          0.3333333333333333,
          0.3966666666666666
         ],
         "matches": "x",
         "showticklabels": false
        },
        "xaxis3": {
         "anchor": "y3",
         "domain": [
          0.16666666666666666,
          0.22999999999999998
         ],
         "matches": "x",
         "title": {
          "text": "t_end"
         }
        },
        "xaxis30": {
         "anchor": "y30",
         "domain": [
          0.41666666666666663,
          0.48
         ],
         "matches": "x",
         "showticklabels": false
        },
        "xaxis31": {
         "anchor": "y31",
         "domain": [
          0.5,
          0.5633333333333334
         ],
         "matches": "x",
         "showticklabels": false
        },
        "xaxis32": {
         "anchor": "y32",
         "domain": [
          0.5833333333333334,
          0.6466666666666667
         ],
         "matches": "x",
         "showticklabels": false
        },
        "xaxis33": {
         "anchor": "y33",
         "domain": [
          0.6666666666666667,
          0.7300000000000001
         ],
         "matches": "x",
         "showticklabels": false
        },
        "xaxis34": {
         "anchor": "y34",
         "domain": [
          0.75,
          0.8133333333333334
         ],
         "matches": "x",
         "showticklabels": false
        },
        "xaxis35": {
         "anchor": "y35",
         "domain": [
          0.8333333333333335,
          0.8966666666666668
         ],
         "matches": "x",
         "showticklabels": false
        },
        "xaxis36": {
         "anchor": "y36",
         "domain": [
          0.9166666666666667,
          0.9800000000000001
         ],
         "matches": "x",
         "showticklabels": false
        },
        "xaxis37": {
         "anchor": "y37",
         "domain": [
          0,
          0.06333333333333332
         ],
         "matches": "x",
         "showticklabels": false
        },
        "xaxis38": {
         "anchor": "y38",
         "domain": [
          0.08333333333333333,
          0.14666666666666667
         ],
         "matches": "x",
         "showticklabels": false
        },
        "xaxis39": {
         "anchor": "y39",
         "domain": [
          0.16666666666666666,
          0.22999999999999998
         ],
         "matches": "x",
         "showticklabels": false
        },
        "xaxis4": {
         "anchor": "y4",
         "domain": [
          0.24999999999999997,
          0.3133333333333333
         ],
         "matches": "x",
         "title": {
          "text": "t_end"
         }
        },
        "xaxis40": {
         "anchor": "y40",
         "domain": [
          0.24999999999999997,
          0.3133333333333333
         ],
         "matches": "x",
         "showticklabels": false
        },
        "xaxis41": {
         "anchor": "y41",
         "domain": [
          0.3333333333333333,
          0.3966666666666666
         ],
         "matches": "x",
         "showticklabels": false
        },
        "xaxis42": {
         "anchor": "y42",
         "domain": [
          0.41666666666666663,
          0.48
         ],
         "matches": "x",
         "showticklabels": false
        },
        "xaxis43": {
         "anchor": "y43",
         "domain": [
          0.5,
          0.5633333333333334
         ],
         "matches": "x",
         "showticklabels": false
        },
        "xaxis44": {
         "anchor": "y44",
         "domain": [
          0.5833333333333334,
          0.6466666666666667
         ],
         "matches": "x",
         "showticklabels": false
        },
        "xaxis45": {
         "anchor": "y45",
         "domain": [
          0.6666666666666667,
          0.7300000000000001
         ],
         "matches": "x",
         "showticklabels": false
        },
        "xaxis46": {
         "anchor": "y46",
         "domain": [
          0.75,
          0.8133333333333334
         ],
         "matches": "x",
         "showticklabels": false
        },
        "xaxis47": {
         "anchor": "y47",
         "domain": [
          0.8333333333333335,
          0.8966666666666668
         ],
         "matches": "x",
         "showticklabels": false
        },
        "xaxis48": {
         "anchor": "y48",
         "domain": [
          0.9166666666666667,
          0.9800000000000001
         ],
         "matches": "x",
         "showticklabels": false
        },
        "xaxis49": {
         "anchor": "y49",
         "domain": [
          0,
          0.06333333333333332
         ],
         "matches": "x",
         "showticklabels": false
        },
        "xaxis5": {
         "anchor": "y5",
         "domain": [
          0.3333333333333333,
          0.3966666666666666
         ],
         "matches": "x",
         "title": {
          "text": "t_end"
         }
        },
        "xaxis50": {
         "anchor": "y50",
         "domain": [
          0.08333333333333333,
          0.14666666666666667
         ],
         "matches": "x",
         "showticklabels": false
        },
        "xaxis51": {
         "anchor": "y51",
         "domain": [
          0.16666666666666666,
          0.22999999999999998
         ],
         "matches": "x",
         "showticklabels": false
        },
        "xaxis52": {
         "anchor": "y52",
         "domain": [
          0.24999999999999997,
          0.3133333333333333
         ],
         "matches": "x",
         "showticklabels": false
        },
        "xaxis53": {
         "anchor": "y53",
         "domain": [
          0.3333333333333333,
          0.3966666666666666
         ],
         "matches": "x",
         "showticklabels": false
        },
        "xaxis54": {
         "anchor": "y54",
         "domain": [
          0.41666666666666663,
          0.48
         ],
         "matches": "x",
         "showticklabels": false
        },
        "xaxis55": {
         "anchor": "y55",
         "domain": [
          0.5,
          0.5633333333333334
         ],
         "matches": "x",
         "showticklabels": false
        },
        "xaxis56": {
         "anchor": "y56",
         "domain": [
          0.5833333333333334,
          0.6466666666666667
         ],
         "matches": "x",
         "showticklabels": false
        },
        "xaxis57": {
         "anchor": "y57",
         "domain": [
          0.6666666666666667,
          0.7300000000000001
         ],
         "matches": "x",
         "showticklabels": false
        },
        "xaxis58": {
         "anchor": "y58",
         "domain": [
          0.75,
          0.8133333333333334
         ],
         "matches": "x",
         "showticklabels": false
        },
        "xaxis59": {
         "anchor": "y59",
         "domain": [
          0.8333333333333335,
          0.8966666666666668
         ],
         "matches": "x",
         "showticklabels": false
        },
        "xaxis6": {
         "anchor": "y6",
         "domain": [
          0.41666666666666663,
          0.48
         ],
         "matches": "x",
         "title": {
          "text": "t_end"
         }
        },
        "xaxis60": {
         "anchor": "y60",
         "domain": [
          0.9166666666666667,
          0.9800000000000001
         ],
         "matches": "x",
         "showticklabels": false
        },
        "xaxis61": {
         "anchor": "y61",
         "domain": [
          0,
          0.06333333333333332
         ],
         "matches": "x",
         "showticklabels": false
        },
        "xaxis62": {
         "anchor": "y62",
         "domain": [
          0.08333333333333333,
          0.14666666666666667
         ],
         "matches": "x",
         "showticklabels": false
        },
        "xaxis63": {
         "anchor": "y63",
         "domain": [
          0.16666666666666666,
          0.22999999999999998
         ],
         "matches": "x",
         "showticklabels": false
        },
        "xaxis64": {
         "anchor": "y64",
         "domain": [
          0.24999999999999997,
          0.3133333333333333
         ],
         "matches": "x",
         "showticklabels": false
        },
        "xaxis65": {
         "anchor": "y65",
         "domain": [
          0.3333333333333333,
          0.3966666666666666
         ],
         "matches": "x",
         "showticklabels": false
        },
        "xaxis66": {
         "anchor": "y66",
         "domain": [
          0.41666666666666663,
          0.48
         ],
         "matches": "x",
         "showticklabels": false
        },
        "xaxis67": {
         "anchor": "y67",
         "domain": [
          0.5,
          0.5633333333333334
         ],
         "matches": "x",
         "showticklabels": false
        },
        "xaxis68": {
         "anchor": "y68",
         "domain": [
          0.5833333333333334,
          0.6466666666666667
         ],
         "matches": "x",
         "showticklabels": false
        },
        "xaxis69": {
         "anchor": "y69",
         "domain": [
          0.6666666666666667,
          0.7300000000000001
         ],
         "matches": "x",
         "showticklabels": false
        },
        "xaxis7": {
         "anchor": "y7",
         "domain": [
          0.5,
          0.5633333333333334
         ],
         "matches": "x",
         "title": {
          "text": "t_end"
         }
        },
        "xaxis70": {
         "anchor": "y70",
         "domain": [
          0.75,
          0.8133333333333334
         ],
         "matches": "x",
         "showticklabels": false
        },
        "xaxis71": {
         "anchor": "y71",
         "domain": [
          0.8333333333333335,
          0.8966666666666668
         ],
         "matches": "x",
         "showticklabels": false
        },
        "xaxis72": {
         "anchor": "y72",
         "domain": [
          0.9166666666666667,
          0.9800000000000001
         ],
         "matches": "x",
         "showticklabels": false
        },
        "xaxis73": {
         "anchor": "y73",
         "domain": [
          0,
          0.06333333333333332
         ],
         "matches": "x",
         "showticklabels": false
        },
        "xaxis74": {
         "anchor": "y74",
         "domain": [
          0.08333333333333333,
          0.14666666666666667
         ],
         "matches": "x",
         "showticklabels": false
        },
        "xaxis75": {
         "anchor": "y75",
         "domain": [
          0.16666666666666666,
          0.22999999999999998
         ],
         "matches": "x",
         "showticklabels": false
        },
        "xaxis76": {
         "anchor": "y76",
         "domain": [
          0.24999999999999997,
          0.3133333333333333
         ],
         "matches": "x",
         "showticklabels": false
        },
        "xaxis77": {
         "anchor": "y77",
         "domain": [
          0.3333333333333333,
          0.3966666666666666
         ],
         "matches": "x",
         "showticklabels": false
        },
        "xaxis78": {
         "anchor": "y78",
         "domain": [
          0.41666666666666663,
          0.48
         ],
         "matches": "x",
         "showticklabels": false
        },
        "xaxis79": {
         "anchor": "y79",
         "domain": [
          0.5,
          0.5633333333333334
         ],
         "matches": "x",
         "showticklabels": false
        },
        "xaxis8": {
         "anchor": "y8",
         "domain": [
          0.5833333333333334,
          0.6466666666666667
         ],
         "matches": "x",
         "title": {
          "text": "t_end"
         }
        },
        "xaxis80": {
         "anchor": "y80",
         "domain": [
          0.5833333333333334,
          0.6466666666666667
         ],
         "matches": "x",
         "showticklabels": false
        },
        "xaxis81": {
         "anchor": "y81",
         "domain": [
          0.6666666666666667,
          0.7300000000000001
         ],
         "matches": "x",
         "showticklabels": false
        },
        "xaxis82": {
         "anchor": "y82",
         "domain": [
          0.75,
          0.8133333333333334
         ],
         "matches": "x",
         "showticklabels": false
        },
        "xaxis83": {
         "anchor": "y83",
         "domain": [
          0.8333333333333335,
          0.8966666666666668
         ],
         "matches": "x",
         "showticklabels": false
        },
        "xaxis84": {
         "anchor": "y84",
         "domain": [
          0.9166666666666667,
          0.9800000000000001
         ],
         "matches": "x",
         "showticklabels": false
        },
        "xaxis85": {
         "anchor": "y85",
         "domain": [
          0,
          0.06333333333333332
         ],
         "matches": "x",
         "showticklabels": false
        },
        "xaxis86": {
         "anchor": "y86",
         "domain": [
          0.08333333333333333,
          0.14666666666666667
         ],
         "matches": "x",
         "showticklabels": false
        },
        "xaxis87": {
         "anchor": "y87",
         "domain": [
          0.16666666666666666,
          0.22999999999999998
         ],
         "matches": "x",
         "showticklabels": false
        },
        "xaxis88": {
         "anchor": "y88",
         "domain": [
          0.24999999999999997,
          0.3133333333333333
         ],
         "matches": "x",
         "showticklabels": false
        },
        "xaxis89": {
         "anchor": "y89",
         "domain": [
          0.3333333333333333,
          0.3966666666666666
         ],
         "matches": "x",
         "showticklabels": false
        },
        "xaxis9": {
         "anchor": "y9",
         "domain": [
          0.6666666666666667,
          0.7300000000000001
         ],
         "matches": "x",
         "title": {
          "text": "t_end"
         }
        },
        "xaxis90": {
         "anchor": "y90",
         "domain": [
          0.41666666666666663,
          0.48
         ],
         "matches": "x",
         "showticklabels": false
        },
        "xaxis91": {
         "anchor": "y91",
         "domain": [
          0.5,
          0.5633333333333334
         ],
         "matches": "x",
         "showticklabels": false
        },
        "xaxis92": {
         "anchor": "y92",
         "domain": [
          0.5833333333333334,
          0.6466666666666667
         ],
         "matches": "x",
         "showticklabels": false
        },
        "xaxis93": {
         "anchor": "y93",
         "domain": [
          0.6666666666666667,
          0.7300000000000001
         ],
         "matches": "x",
         "showticklabels": false
        },
        "xaxis94": {
         "anchor": "y94",
         "domain": [
          0.75,
          0.8133333333333334
         ],
         "matches": "x",
         "showticklabels": false
        },
        "xaxis95": {
         "anchor": "y95",
         "domain": [
          0.8333333333333335,
          0.8966666666666668
         ],
         "matches": "x",
         "showticklabels": false
        },
        "xaxis96": {
         "anchor": "y96",
         "domain": [
          0.9166666666666667,
          0.9800000000000001
         ],
         "matches": "x",
         "showticklabels": false
        },
        "xaxis97": {
         "anchor": "y97",
         "domain": [
          0,
          0.06333333333333332
         ],
         "matches": "x",
         "showticklabels": false
        },
        "xaxis98": {
         "anchor": "y98",
         "domain": [
          0.08333333333333333,
          0.14666666666666667
         ],
         "matches": "x",
         "showticklabels": false
        },
        "xaxis99": {
         "anchor": "y99",
         "domain": [
          0.16666666666666666,
          0.22999999999999998
         ],
         "matches": "x",
         "showticklabels": false
        },
        "yaxis": {
         "anchor": "x",
         "domain": [
          0,
          0.08444444444444445
         ],
         "title": {
          "text": "Mean(R)"
         }
        },
        "yaxis10": {
         "anchor": "x10",
         "domain": [
          0,
          0.08444444444444445
         ],
         "matches": "y",
         "showticklabels": false
        },
        "yaxis100": {
         "anchor": "x100",
         "domain": [
          0.9155555555555556,
          1
         ],
         "matches": "y",
         "showticklabels": false
        },
        "yaxis101": {
         "anchor": "x101",
         "domain": [
          0.9155555555555556,
          1
         ],
         "matches": "y",
         "showticklabels": false
        },
        "yaxis102": {
         "anchor": "x102",
         "domain": [
          0.9155555555555556,
          1
         ],
         "matches": "y",
         "showticklabels": false
        },
        "yaxis103": {
         "anchor": "x103",
         "domain": [
          0.9155555555555556,
          1
         ],
         "matches": "y",
         "showticklabels": false
        },
        "yaxis104": {
         "anchor": "x104",
         "domain": [
          0.9155555555555556,
          1
         ],
         "matches": "y",
         "showticklabels": false
        },
        "yaxis105": {
         "anchor": "x105",
         "domain": [
          0.9155555555555556,
          1
         ],
         "matches": "y",
         "showticklabels": false
        },
        "yaxis106": {
         "anchor": "x106",
         "domain": [
          0.9155555555555556,
          1
         ],
         "matches": "y",
         "showticklabels": false
        },
        "yaxis107": {
         "anchor": "x107",
         "domain": [
          0.9155555555555556,
          1
         ],
         "matches": "y",
         "showticklabels": false
        },
        "yaxis108": {
         "anchor": "x108",
         "domain": [
          0.9155555555555556,
          1
         ],
         "matches": "y",
         "showticklabels": false
        },
        "yaxis11": {
         "anchor": "x11",
         "domain": [
          0,
          0.08444444444444445
         ],
         "matches": "y",
         "showticklabels": false
        },
        "yaxis12": {
         "anchor": "x12",
         "domain": [
          0,
          0.08444444444444445
         ],
         "matches": "y",
         "showticklabels": false
        },
        "yaxis13": {
         "anchor": "x13",
         "domain": [
          0.11444444444444445,
          0.1988888888888889
         ],
         "matches": "y",
         "title": {
          "text": "Mean(R)"
         }
        },
        "yaxis14": {
         "anchor": "x14",
         "domain": [
          0.11444444444444445,
          0.1988888888888889
         ],
         "matches": "y",
         "showticklabels": false
        },
        "yaxis15": {
         "anchor": "x15",
         "domain": [
          0.11444444444444445,
          0.1988888888888889
         ],
         "matches": "y",
         "showticklabels": false
        },
        "yaxis16": {
         "anchor": "x16",
         "domain": [
          0.11444444444444445,
          0.1988888888888889
         ],
         "matches": "y",
         "showticklabels": false
        },
        "yaxis17": {
         "anchor": "x17",
         "domain": [
          0.11444444444444445,
          0.1988888888888889
         ],
         "matches": "y",
         "showticklabels": false
        },
        "yaxis18": {
         "anchor": "x18",
         "domain": [
          0.11444444444444445,
          0.1988888888888889
         ],
         "matches": "y",
         "showticklabels": false
        },
        "yaxis19": {
         "anchor": "x19",
         "domain": [
          0.11444444444444445,
          0.1988888888888889
         ],
         "matches": "y",
         "showticklabels": false
        },
        "yaxis2": {
         "anchor": "x2",
         "domain": [
          0,
          0.08444444444444445
         ],
         "matches": "y",
         "showticklabels": false
        },
        "yaxis20": {
         "anchor": "x20",
         "domain": [
          0.11444444444444445,
          0.1988888888888889
         ],
         "matches": "y",
         "showticklabels": false
        },
        "yaxis21": {
         "anchor": "x21",
         "domain": [
          0.11444444444444445,
          0.1988888888888889
         ],
         "matches": "y",
         "showticklabels": false
        },
        "yaxis22": {
         "anchor": "x22",
         "domain": [
          0.11444444444444445,
          0.1988888888888889
         ],
         "matches": "y",
         "showticklabels": false
        },
        "yaxis23": {
         "anchor": "x23",
         "domain": [
          0.11444444444444445,
          0.1988888888888889
         ],
         "matches": "y",
         "showticklabels": false
        },
        "yaxis24": {
         "anchor": "x24",
         "domain": [
          0.11444444444444445,
          0.1988888888888889
         ],
         "matches": "y",
         "showticklabels": false
        },
        "yaxis25": {
         "anchor": "x25",
         "domain": [
          0.2288888888888889,
          0.31333333333333335
         ],
         "matches": "y",
         "title": {
          "text": "Mean(R)"
         }
        },
        "yaxis26": {
         "anchor": "x26",
         "domain": [
          0.2288888888888889,
          0.31333333333333335
         ],
         "matches": "y",
         "showticklabels": false
        },
        "yaxis27": {
         "anchor": "x27",
         "domain": [
          0.2288888888888889,
          0.31333333333333335
         ],
         "matches": "y",
         "showticklabels": false
        },
        "yaxis28": {
         "anchor": "x28",
         "domain": [
          0.2288888888888889,
          0.31333333333333335
         ],
         "matches": "y",
         "showticklabels": false
        },
        "yaxis29": {
         "anchor": "x29",
         "domain": [
          0.2288888888888889,
          0.31333333333333335
         ],
         "matches": "y",
         "showticklabels": false
        },
        "yaxis3": {
         "anchor": "x3",
         "domain": [
          0,
          0.08444444444444445
         ],
         "matches": "y",
         "showticklabels": false
        },
        "yaxis30": {
         "anchor": "x30",
         "domain": [
          0.2288888888888889,
          0.31333333333333335
         ],
         "matches": "y",
         "showticklabels": false
        },
        "yaxis31": {
         "anchor": "x31",
         "domain": [
          0.2288888888888889,
          0.31333333333333335
         ],
         "matches": "y",
         "showticklabels": false
        },
        "yaxis32": {
         "anchor": "x32",
         "domain": [
          0.2288888888888889,
          0.31333333333333335
         ],
         "matches": "y",
         "showticklabels": false
        },
        "yaxis33": {
         "anchor": "x33",
         "domain": [
          0.2288888888888889,
          0.31333333333333335
         ],
         "matches": "y",
         "showticklabels": false
        },
        "yaxis34": {
         "anchor": "x34",
         "domain": [
          0.2288888888888889,
          0.31333333333333335
         ],
         "matches": "y",
         "showticklabels": false
        },
        "yaxis35": {
         "anchor": "x35",
         "domain": [
          0.2288888888888889,
          0.31333333333333335
         ],
         "matches": "y",
         "showticklabels": false
        },
        "yaxis36": {
         "anchor": "x36",
         "domain": [
          0.2288888888888889,
          0.31333333333333335
         ],
         "matches": "y",
         "showticklabels": false
        },
        "yaxis37": {
         "anchor": "x37",
         "domain": [
          0.3433333333333334,
          0.4277777777777778
         ],
         "matches": "y",
         "title": {
          "text": "Mean(R)"
         }
        },
        "yaxis38": {
         "anchor": "x38",
         "domain": [
          0.3433333333333334,
          0.4277777777777778
         ],
         "matches": "y",
         "showticklabels": false
        },
        "yaxis39": {
         "anchor": "x39",
         "domain": [
          0.3433333333333334,
          0.4277777777777778
         ],
         "matches": "y",
         "showticklabels": false
        },
        "yaxis4": {
         "anchor": "x4",
         "domain": [
          0,
          0.08444444444444445
         ],
         "matches": "y",
         "showticklabels": false
        },
        "yaxis40": {
         "anchor": "x40",
         "domain": [
          0.3433333333333334,
          0.4277777777777778
         ],
         "matches": "y",
         "showticklabels": false
        },
        "yaxis41": {
         "anchor": "x41",
         "domain": [
          0.3433333333333334,
          0.4277777777777778
         ],
         "matches": "y",
         "showticklabels": false
        },
        "yaxis42": {
         "anchor": "x42",
         "domain": [
          0.3433333333333334,
          0.4277777777777778
         ],
         "matches": "y",
         "showticklabels": false
        },
        "yaxis43": {
         "anchor": "x43",
         "domain": [
          0.3433333333333334,
          0.4277777777777778
         ],
         "matches": "y",
         "showticklabels": false
        },
        "yaxis44": {
         "anchor": "x44",
         "domain": [
          0.3433333333333334,
          0.4277777777777778
         ],
         "matches": "y",
         "showticklabels": false
        },
        "yaxis45": {
         "anchor": "x45",
         "domain": [
          0.3433333333333334,
          0.4277777777777778
         ],
         "matches": "y",
         "showticklabels": false
        },
        "yaxis46": {
         "anchor": "x46",
         "domain": [
          0.3433333333333334,
          0.4277777777777778
         ],
         "matches": "y",
         "showticklabels": false
        },
        "yaxis47": {
         "anchor": "x47",
         "domain": [
          0.3433333333333334,
          0.4277777777777778
         ],
         "matches": "y",
         "showticklabels": false
        },
        "yaxis48": {
         "anchor": "x48",
         "domain": [
          0.3433333333333334,
          0.4277777777777778
         ],
         "matches": "y",
         "showticklabels": false
        },
        "yaxis49": {
         "anchor": "x49",
         "domain": [
          0.4577777777777778,
          0.5422222222222223
         ],
         "matches": "y",
         "title": {
          "text": "Mean(R)"
         }
        },
        "yaxis5": {
         "anchor": "x5",
         "domain": [
          0,
          0.08444444444444445
         ],
         "matches": "y",
         "showticklabels": false
        },
        "yaxis50": {
         "anchor": "x50",
         "domain": [
          0.4577777777777778,
          0.5422222222222223
         ],
         "matches": "y",
         "showticklabels": false
        },
        "yaxis51": {
         "anchor": "x51",
         "domain": [
          0.4577777777777778,
          0.5422222222222223
         ],
         "matches": "y",
         "showticklabels": false
        },
        "yaxis52": {
         "anchor": "x52",
         "domain": [
          0.4577777777777778,
          0.5422222222222223
         ],
         "matches": "y",
         "showticklabels": false
        },
        "yaxis53": {
         "anchor": "x53",
         "domain": [
          0.4577777777777778,
          0.5422222222222223
         ],
         "matches": "y",
         "showticklabels": false
        },
        "yaxis54": {
         "anchor": "x54",
         "domain": [
          0.4577777777777778,
          0.5422222222222223
         ],
         "matches": "y",
         "showticklabels": false
        },
        "yaxis55": {
         "anchor": "x55",
         "domain": [
          0.4577777777777778,
          0.5422222222222223
         ],
         "matches": "y",
         "showticklabels": false
        },
        "yaxis56": {
         "anchor": "x56",
         "domain": [
          0.4577777777777778,
          0.5422222222222223
         ],
         "matches": "y",
         "showticklabels": false
        },
        "yaxis57": {
         "anchor": "x57",
         "domain": [
          0.4577777777777778,
          0.5422222222222223
         ],
         "matches": "y",
         "showticklabels": false
        },
        "yaxis58": {
         "anchor": "x58",
         "domain": [
          0.4577777777777778,
          0.5422222222222223
         ],
         "matches": "y",
         "showticklabels": false
        },
        "yaxis59": {
         "anchor": "x59",
         "domain": [
          0.4577777777777778,
          0.5422222222222223
         ],
         "matches": "y",
         "showticklabels": false
        },
        "yaxis6": {
         "anchor": "x6",
         "domain": [
          0,
          0.08444444444444445
         ],
         "matches": "y",
         "showticklabels": false
        },
        "yaxis60": {
         "anchor": "x60",
         "domain": [
          0.4577777777777778,
          0.5422222222222223
         ],
         "matches": "y",
         "showticklabels": false
        },
        "yaxis61": {
         "anchor": "x61",
         "domain": [
          0.5722222222222222,
          0.6566666666666666
         ],
         "matches": "y",
         "title": {
          "text": "Mean(R)"
         }
        },
        "yaxis62": {
         "anchor": "x62",
         "domain": [
          0.5722222222222222,
          0.6566666666666666
         ],
         "matches": "y",
         "showticklabels": false
        },
        "yaxis63": {
         "anchor": "x63",
         "domain": [
          0.5722222222222222,
          0.6566666666666666
         ],
         "matches": "y",
         "showticklabels": false
        },
        "yaxis64": {
         "anchor": "x64",
         "domain": [
          0.5722222222222222,
          0.6566666666666666
         ],
         "matches": "y",
         "showticklabels": false
        },
        "yaxis65": {
         "anchor": "x65",
         "domain": [
          0.5722222222222222,
          0.6566666666666666
         ],
         "matches": "y",
         "showticklabels": false
        },
        "yaxis66": {
         "anchor": "x66",
         "domain": [
          0.5722222222222222,
          0.6566666666666666
         ],
         "matches": "y",
         "showticklabels": false
        },
        "yaxis67": {
         "anchor": "x67",
         "domain": [
          0.5722222222222222,
          0.6566666666666666
         ],
         "matches": "y",
         "showticklabels": false
        },
        "yaxis68": {
         "anchor": "x68",
         "domain": [
          0.5722222222222222,
          0.6566666666666666
         ],
         "matches": "y",
         "showticklabels": false
        },
        "yaxis69": {
         "anchor": "x69",
         "domain": [
          0.5722222222222222,
          0.6566666666666666
         ],
         "matches": "y",
         "showticklabels": false
        },
        "yaxis7": {
         "anchor": "x7",
         "domain": [
          0,
          0.08444444444444445
         ],
         "matches": "y",
         "showticklabels": false
        },
        "yaxis70": {
         "anchor": "x70",
         "domain": [
          0.5722222222222222,
          0.6566666666666666
         ],
         "matches": "y",
         "showticklabels": false
        },
        "yaxis71": {
         "anchor": "x71",
         "domain": [
          0.5722222222222222,
          0.6566666666666666
         ],
         "matches": "y",
         "showticklabels": false
        },
        "yaxis72": {
         "anchor": "x72",
         "domain": [
          0.5722222222222222,
          0.6566666666666666
         ],
         "matches": "y",
         "showticklabels": false
        },
        "yaxis73": {
         "anchor": "x73",
         "domain": [
          0.6866666666666668,
          0.7711111111111112
         ],
         "matches": "y",
         "title": {
          "text": "Mean(R)"
         }
        },
        "yaxis74": {
         "anchor": "x74",
         "domain": [
          0.6866666666666668,
          0.7711111111111112
         ],
         "matches": "y",
         "showticklabels": false
        },
        "yaxis75": {
         "anchor": "x75",
         "domain": [
          0.6866666666666668,
          0.7711111111111112
         ],
         "matches": "y",
         "showticklabels": false
        },
        "yaxis76": {
         "anchor": "x76",
         "domain": [
          0.6866666666666668,
          0.7711111111111112
         ],
         "matches": "y",
         "showticklabels": false
        },
        "yaxis77": {
         "anchor": "x77",
         "domain": [
          0.6866666666666668,
          0.7711111111111112
         ],
         "matches": "y",
         "showticklabels": false
        },
        "yaxis78": {
         "anchor": "x78",
         "domain": [
          0.6866666666666668,
          0.7711111111111112
         ],
         "matches": "y",
         "showticklabels": false
        },
        "yaxis79": {
         "anchor": "x79",
         "domain": [
          0.6866666666666668,
          0.7711111111111112
         ],
         "matches": "y",
         "showticklabels": false
        },
        "yaxis8": {
         "anchor": "x8",
         "domain": [
          0,
          0.08444444444444445
         ],
         "matches": "y",
         "showticklabels": false
        },
        "yaxis80": {
         "anchor": "x80",
         "domain": [
          0.6866666666666668,
          0.7711111111111112
         ],
         "matches": "y",
         "showticklabels": false
        },
        "yaxis81": {
         "anchor": "x81",
         "domain": [
          0.6866666666666668,
          0.7711111111111112
         ],
         "matches": "y",
         "showticklabels": false
        },
        "yaxis82": {
         "anchor": "x82",
         "domain": [
          0.6866666666666668,
          0.7711111111111112
         ],
         "matches": "y",
         "showticklabels": false
        },
        "yaxis83": {
         "anchor": "x83",
         "domain": [
          0.6866666666666668,
          0.7711111111111112
         ],
         "matches": "y",
         "showticklabels": false
        },
        "yaxis84": {
         "anchor": "x84",
         "domain": [
          0.6866666666666668,
          0.7711111111111112
         ],
         "matches": "y",
         "showticklabels": false
        },
        "yaxis85": {
         "anchor": "x85",
         "domain": [
          0.8011111111111111,
          0.8855555555555555
         ],
         "matches": "y",
         "title": {
          "text": "Mean(R)"
         }
        },
        "yaxis86": {
         "anchor": "x86",
         "domain": [
          0.8011111111111111,
          0.8855555555555555
         ],
         "matches": "y",
         "showticklabels": false
        },
        "yaxis87": {
         "anchor": "x87",
         "domain": [
          0.8011111111111111,
          0.8855555555555555
         ],
         "matches": "y",
         "showticklabels": false
        },
        "yaxis88": {
         "anchor": "x88",
         "domain": [
          0.8011111111111111,
          0.8855555555555555
         ],
         "matches": "y",
         "showticklabels": false
        },
        "yaxis89": {
         "anchor": "x89",
         "domain": [
          0.8011111111111111,
          0.8855555555555555
         ],
         "matches": "y",
         "showticklabels": false
        },
        "yaxis9": {
         "anchor": "x9",
         "domain": [
          0,
          0.08444444444444445
         ],
         "matches": "y",
         "showticklabels": false
        },
        "yaxis90": {
         "anchor": "x90",
         "domain": [
          0.8011111111111111,
          0.8855555555555555
         ],
         "matches": "y",
         "showticklabels": false
        },
        "yaxis91": {
         "anchor": "x91",
         "domain": [
          0.8011111111111111,
          0.8855555555555555
         ],
         "matches": "y",
         "showticklabels": false
        },
        "yaxis92": {
         "anchor": "x92",
         "domain": [
          0.8011111111111111,
          0.8855555555555555
         ],
         "matches": "y",
         "showticklabels": false
        },
        "yaxis93": {
         "anchor": "x93",
         "domain": [
          0.8011111111111111,
          0.8855555555555555
         ],
         "matches": "y",
         "showticklabels": false
        },
        "yaxis94": {
         "anchor": "x94",
         "domain": [
          0.8011111111111111,
          0.8855555555555555
         ],
         "matches": "y",
         "showticklabels": false
        },
        "yaxis95": {
         "anchor": "x95",
         "domain": [
          0.8011111111111111,
          0.8855555555555555
         ],
         "matches": "y",
         "showticklabels": false
        },
        "yaxis96": {
         "anchor": "x96",
         "domain": [
          0.8011111111111111,
          0.8855555555555555
         ],
         "matches": "y",
         "showticklabels": false
        },
        "yaxis97": {
         "anchor": "x97",
         "domain": [
          0.9155555555555556,
          1
         ],
         "matches": "y",
         "title": {
          "text": "Mean(R)"
         }
        },
        "yaxis98": {
         "anchor": "x98",
         "domain": [
          0.9155555555555556,
          1
         ],
         "matches": "y",
         "showticklabels": false
        },
        "yaxis99": {
         "anchor": "x99",
         "domain": [
          0.9155555555555556,
          1
         ],
         "matches": "y",
         "showticklabels": false
        }
       }
      }
     },
     "metadata": {}
    }
   ],
   "source": [
    "fig = px.line(r0_county_grid, x=\"t_end\", y=\"Mean(R)\", facet_col=\"col\", facet_row=\"row\",\n",
    "category_orders={\"col\": cols, \"row\": rows})\n",
    "fig.for_each_annotation(lambda a: a.update(text=\"\"))\n",
    "fig.for\n",
    "fig.show()"
   ]
  },
  {
   "cell_type": "markdown",
   "metadata": {},
   "source": [
    "## Attempt 2\n",
    "Most customized approch, but need to fix a lot of things.  I think this is a good starting point"
   ]
  },
  {
   "cell_type": "code",
   "execution_count": 140,
   "metadata": {
    "tags": [
     "outputPrepend",
     "outputPrepend",
     "outputPrepend",
     "outputPrepend",
     "outputPrepend"
    ]
   },
   "outputs": [
    {
     "output_type": "display_data",
     "data": {
      "application/vnd.plotly.v1+json": {
       "config": {
        "plotlyServerURL": "https://plot.ly"
       },
       "data": [
        {
         "mode": "lines",
         "type": "scatter",
         "x": [
          8,
          9,
          10,
          11,
          12,
          13,
          14,
          15,
          16,
          17,
          18,
          19,
          20,
          21,
          22,
          23,
          24,
          25,
          26,
          27,
          28,
          29,
          30,
          31,
          32,
          33,
          34,
          35,
          36,
          37,
          38,
          39,
          40,
          41,
          42,
          43,
          44,
          45,
          46,
          47,
          48,
          49,
          50,
          51,
          52,
          53,
          54,
          55,
          56,
          57,
          58,
          59,
          60,
          61,
          62
         ],
         "xaxis": "x2",
         "y": [
          4.4464970927877525,
          3.8352116611927634,
          2.9446294112374036,
          1.9919062122186837,
          1.009485131696484,
          1.1812142157027985,
          1.0877725951396142,
          0.7888234011001843,
          0.5258449972108548,
          0.5383654138498061,
          0.5652901522259359,
          0.6106134405320173,
          0.33796447352166537,
          0.3804411926706597,
          0.4347840979472243,
          0.5078788221242809,
          0.6080707753819297,
          0.7443163135106359,
          0.926264879074514,
          1.1634289230007648,
          1.4629459732915169,
          1.825951392730477,
          4.48711508887445,
          5.371206545783156,
          5.902300334583478,
          5.49745307487239,
          4.531275472325995,
          5.447655065481378,
          4.467567520168926,
          2.4825385463081453,
          2.0685552817245334,
          1.765619769874964,
          1.584870935174939,
          1.4937518873786606,
          0.7298788944292081,
          0.7307442572674088,
          0.7516595107464633,
          0.8049774298904866,
          0.8991394268240979,
          1.0404366302872563,
          2.4702671739039177,
          2.971704658980474,
          3.472614206086948,
          5.513174471790992,
          5.208762947614472,
          4.489399341679599,
          3.64803685752288,
          1.961700007829282,
          2.438115290923053,
          2.1200526162165567,
          1.28867914857511,
          1.2055976985168024,
          1.7301482853297947,
          2.84268699688818,
          2.8495330580578453
         ],
         "yaxis": "y2"
        },
        {
         "mode": "lines",
         "type": "scatter",
         "x": [
          null
         ],
         "xaxis": "x3",
         "y": [
          null
         ],
         "yaxis": "y3"
        },
        {
         "mode": "lines",
         "type": "scatter",
         "x": [
          null
         ],
         "xaxis": "x13",
         "y": [
          null
         ],
         "yaxis": "y13"
        },
        {
         "mode": "lines",
         "type": "scatter",
         "x": [
          null
         ],
         "xaxis": "x14",
         "y": [
          null
         ],
         "yaxis": "y14"
        },
        {
         "mode": "lines",
         "type": "scatter",
         "x": [
          null
         ],
         "xaxis": "x15",
         "y": [
          null
         ],
         "yaxis": "y15"
        },
        {
         "mode": "lines",
         "type": "scatter",
         "x": [
          null
         ],
         "xaxis": "x16",
         "y": [
          null
         ],
         "yaxis": "y16"
        },
        {
         "mode": "lines",
         "type": "scatter",
         "x": [
          null
         ],
         "xaxis": "x17",
         "y": [
          null
         ],
         "yaxis": "y17"
        },
        {
         "mode": "lines",
         "type": "scatter",
         "x": [
          null
         ],
         "xaxis": "x18",
         "y": [
          null
         ],
         "yaxis": "y18"
        },
        {
         "mode": "lines",
         "type": "scatter",
         "x": [
          null
         ],
         "xaxis": "x19",
         "y": [
          null
         ],
         "yaxis": "y19"
        },
        {
         "mode": "lines",
         "type": "scatter",
         "x": [
          null
         ],
         "xaxis": "x25",
         "y": [
          null
         ],
         "yaxis": "y25"
        },
        {
         "mode": "lines",
         "type": "scatter",
         "x": [
          8,
          9,
          10,
          11,
          12,
          13,
          14,
          15,
          16,
          17,
          18,
          19,
          20,
          21,
          22,
          23,
          24,
          25,
          26,
          27,
          28,
          29,
          30,
          31,
          32,
          33,
          34,
          35,
          36,
          37,
          38,
          39,
          40,
          41,
          42,
          43,
          44,
          45,
          46,
          47,
          48
         ],
         "xaxis": "x26",
         "y": [
          3.4985764454244284,
          2.6842339358709424,
          1.0907652446164977,
          0.9279513541181966,
          0.8315273946055122,
          0.7916698079381266,
          0.5292636833303025,
          0.27537468480700683,
          0.29463144299624866,
          0.3249745529885476,
          0.371610469221704,
          0.4403332555398685,
          0.5379444410401193,
          0.6728583125952918,
          0.8549936295402044,
          1.0946322746955082,
          1.3998344001374423,
          1.7723251341855026,
          2.2028992812229387,
          2.669002608042016,
          3.1375601607319035,
          3.57345236040008,
          7.899137730031912,
          8.460009594760846,
          8.185838384957401,
          6.689919644703234,
          5.0325721021507315,
          3.8373252893673087,
          7.684860488269228,
          5.159885566862972,
          6.394554870341968,
          5.02536747331634,
          3.873189790751419,
          2.9958683334182727,
          2.3856207117801134,
          0.989703284106594,
          0.8564029972537763,
          0.2595773845870299,
          0.2502274210104904,
          0.2559309998930593,
          0.2778473392207165
         ],
         "yaxis": "y26"
        },
        {
         "mode": "lines",
         "type": "scatter",
         "x": [
          8,
          9,
          10,
          11,
          12,
          13,
          14,
          15,
          16,
          17,
          18,
          19,
          20,
          21,
          22,
          23,
          24,
          25,
          26,
          27,
          28,
          29,
          30,
          31,
          32,
          33,
          34,
          35,
          36,
          37,
          38,
          39,
          40,
          41,
          42,
          43,
          44,
          45,
          46,
          47,
          48,
          49,
          50,
          51,
          52,
          53,
          54,
          55,
          56,
          57,
          58,
          59,
          60,
          61,
          62
         ],
         "xaxis": "x27",
         "y": [
          3.9018500282164377,
          4.569551957246466,
          4.071825300923326,
          6.183834111329781,
          5.913859367420976,
          5.944453741357478,
          5.04945170679694,
          4.1863660265980105,
          2.9418671064326376,
          2.736697930374972,
          1.7209382480110702,
          1.3161385470235527,
          0.90268441371163,
          0.829296216772308,
          0.5672802877361013,
          0.564249278028333,
          0.5797503672046549,
          0.6126394707584247,
          0.6607815175749903,
          0.7207412127247536,
          0.6304724342950946,
          0.5148023600443177,
          0.7431146044122938,
          0.4025315978169219,
          0.4379273691374215,
          0.4793820196777082,
          0.5323576415890227,
          0.6010729783507258,
          0.6871165224038103,
          0.394782294371182,
          0.452704509451201,
          0.5192288538574092,
          1.2068290482197503,
          1.430159912064815,
          2.5515923963931364,
          3.9041492249796814,
          4.131426736662377,
          5.816078589281987,
          4.9255253177243405,
          3.278300328389287,
          3.5899597432330483,
          2.46536536739142,
          1.7086544419819123,
          2.0534785204822366,
          1.3062689395561589,
          1.4403290405740254,
          1.5789442581320334,
          1.081493598244684,
          1.4663477617463458,
          2.2453969727730696,
          2.1993810547281973,
          2.119401054427272,
          2.1519206435311027,
          1.95245893509466,
          1.903348124252093
         ],
         "yaxis": "y27"
        },
        {
         "mode": "lines",
         "type": "scatter",
         "x": [
          null
         ],
         "xaxis": "x28",
         "y": [
          null
         ],
         "yaxis": "y28"
        },
        {
         "mode": "lines",
         "type": "scatter",
         "x": [
          null
         ],
         "xaxis": "x29",
         "y": [
          null
         ],
         "yaxis": "y29"
        },
        {
         "mode": "lines",
         "type": "scatter",
         "x": [
          null
         ],
         "xaxis": "x30",
         "y": [
          null
         ],
         "yaxis": "y30"
        },
        {
         "mode": "lines",
         "type": "scatter",
         "x": [
          null
         ],
         "xaxis": "x31",
         "y": [
          null
         ],
         "yaxis": "y31"
        },
        {
         "mode": "lines",
         "type": "scatter",
         "x": [
          8,
          9,
          10,
          11,
          12,
          13,
          14,
          15
         ],
         "xaxis": "x32",
         "y": [
          5.218866720468449,
          3.7496551630379455,
          2.8130766606406747,
          3.1320508254081267,
          2.6274368419375733,
          1.9517986642866505,
          1.7135297253342932,
          1.7823208004242947
         ],
         "yaxis": "y32"
        },
        {
         "mode": "lines",
         "type": "scatter",
         "x": [
          null
         ],
         "xaxis": "x33",
         "y": [
          null
         ],
         "yaxis": "y33"
        },
        {
         "mode": "lines",
         "type": "scatter",
         "x": [
          8,
          9,
          10,
          11,
          12,
          13,
          14,
          15,
          16,
          17,
          18,
          19,
          20,
          21,
          22,
          23,
          24,
          25,
          26,
          27,
          28,
          29,
          30,
          31,
          32,
          33,
          34,
          35,
          36,
          37,
          38,
          39,
          40,
          41,
          42,
          43,
          44,
          45,
          46,
          47,
          48,
          49,
          50,
          51,
          52,
          53,
          54,
          55
         ],
         "xaxis": "x34",
         "y": [
          2.5311605688315577,
          2.090338798345365,
          1.7758405049788286,
          2.3852348057969377,
          2.243004599924173,
          1.4391954333900747,
          1.3780381647927946,
          1.318037047906584,
          1.284694722864648,
          1.2832553887251272,
          0.6536665412500461,
          1.3492081881708562,
          1.4169597920828685,
          1.5166660188485297,
          1.6211138410951704,
          2.5549638223216764,
          2.625204757987775,
          2.606735268372336,
          2.4694925020836767,
          2.261102554278568,
          3.4133245793118028,
          3.1057597972547035,
          2.2449367286442894,
          1.981205008191661,
          1.7404032286515196,
          1.1710973883527076,
          1.0814781873559187,
          0.6871054173938723,
          1.3540911816758985,
          1.3783612558676586,
          1.7891326162778456,
          1.8445236996498693,
          1.8500757333969369,
          2.5089208495999187,
          2.030358388015764,
          1.8780393280978107,
          1.9963927231128435,
          1.5617565070295854,
          2.636105110116804,
          2.4507753380991613,
          1.858168689215894,
          1.6847810116609354,
          1.1771023225446142,
          1.224437235825974,
          1.2873962116194135,
          0.6880343694458859,
          0.6747015830681848,
          1.076691195634201
         ],
         "yaxis": "y34"
        },
        {
         "mode": "lines",
         "type": "scatter",
         "x": [
          8,
          9,
          10,
          11,
          12,
          13,
          14,
          15,
          16,
          17,
          18,
          19,
          20,
          21,
          22,
          23,
          24,
          25,
          26,
          27,
          28,
          29,
          30,
          31,
          32,
          33,
          34,
          35,
          36,
          37,
          38,
          39,
          40,
          41,
          42,
          43,
          44,
          45,
          46,
          47,
          48,
          49,
          50,
          51,
          52,
          53,
          54,
          55,
          56,
          57,
          58,
          59,
          60,
          61,
          62,
          63
         ],
         "xaxis": "x37",
         "y": [
          3.028607699563163,
          1.7509533464840676,
          1.4191074500214431,
          1.2280518978481,
          0.7553214992018299,
          0.7323859039357641,
          1.1083661327088583,
          1.1584804325978548,
          1.6475449135816718,
          1.7517770326579831,
          1.816718712622796,
          1.8118449669418963,
          1.3106705979712934,
          0.8284779452612191,
          0.7889041351497398,
          0.3861045173300864,
          0.7864042184937635,
          1.2535262071763031,
          1.8420583003919897,
          2.043500746497121,
          2.18200745300552,
          2.723384664810058,
          2.567460134450946,
          1.8678274080421131,
          1.250343116537456,
          0.7486681584889245,
          0.6941299270682848,
          1.0121943506948998,
          1.033884388011306,
          1.0924285099686977,
          1.1655887507175984,
          1.2351455057512168,
          1.290745664720441,
          1.3294418055829786,
          0.9021226907429529,
          1.822255564228329,
          1.8444962255171,
          1.8660592574390804,
          2.7700816608619263,
          3.55399687969913,
          3.720732528494336,
          4.0308317490020205,
          2.4802219069560247,
          2.8113862021355587,
          2.548327535049707,
          1.8152145876019572,
          1.5850715504059285,
          1.5544414688689376,
          1.810487144843648,
          1.8158511947975533,
          1.3723778343978648,
          1.3988284090145373,
          1.8199206698917136,
          1.9155441191523388,
          1.6370719654848251,
          1.4526117699240142
         ],
         "yaxis": "y37"
        },
        {
         "mode": "lines",
         "type": "scatter",
         "x": [
          8,
          9,
          10,
          11,
          12,
          13,
          14,
          15,
          16,
          17,
          18,
          19,
          20,
          21,
          22,
          23,
          24,
          25,
          26,
          27,
          28,
          29,
          30,
          31,
          32,
          33,
          34,
          35,
          36,
          37,
          38,
          39,
          40,
          41,
          42,
          43,
          44,
          45,
          46,
          47,
          48,
          49,
          50,
          51,
          52,
          53,
          54,
          55,
          56,
          57,
          58,
          59,
          60,
          61,
          62,
          63
         ],
         "xaxis": "x38",
         "y": [
          1.3006166760721458,
          2.29140434106998,
          2.128135551932728,
          3.1117983156058404,
          3.077506416110498,
          2.974706446220292,
          2.7435800579514638,
          2.4479477385556243,
          2.8925378297546023,
          2.590167005553906,
          1.7529381088015292,
          1.580200323416295,
          1.4395209856937632,
          1.3466447720489487,
          2.1595721179965417,
          1.6974511174041025,
          2.0832230073422,
          2.0062065657715547,
          1.8981664178507505,
          1.7712630349620042,
          1.644725596341749,
          0.9199744211458668,
          0.5775067835368753,
          0.27787523304868994,
          0.27801293047651937,
          0.2923539744124042,
          0.32404689041646145,
          0.3765858510970832,
          0.4549299158533559,
          0.5661104225891337,
          0.7192568442266732,
          0.9249227976219336,
          1.1932510567756185,
          1.5305310962528516,
          1.934410547968032,
          2.3895911123520563,
          2.867336036182308,
          6.662539385387645,
          14.92026165654902,
          14.924896143918064,
          14.063760516907509,
          8.683935368304551,
          6.494368803657307,
          4.3807438336143765,
          2.6650142595782382,
          1.2434309027920112,
          1.0272027968316175,
          0.6051547830058902,
          2.0026099322621618,
          2.0040482605307917,
          2.0484552791423773,
          2.3190618045477303,
          2.1932362755007384,
          2.005826052219252,
          1.8063253235991519,
          0.6109761967244617
         ],
         "yaxis": "y38"
        },
        {
         "mode": "lines",
         "type": "scatter",
         "x": [
          8,
          9,
          10,
          11,
          12,
          13,
          14,
          15,
          16,
          17,
          18,
          19,
          20,
          21,
          22,
          23,
          24,
          25,
          26,
          27,
          28,
          29,
          30,
          31,
          32,
          33,
          34,
          35,
          36,
          37,
          38,
          39,
          40,
          41,
          42,
          43,
          44,
          45,
          46,
          47,
          48,
          49,
          50,
          51,
          52,
          53,
          54,
          55,
          56,
          57,
          58,
          59,
          60,
          61,
          62,
          63
         ],
         "xaxis": "x39",
         "y": [
          3.241316443537733,
          2.129416517497257,
          1.7622281995419808,
          2.1330763744191783,
          1.9239208246477943,
          2.035433443159115,
          1.895756015547628,
          1.9806889028506112,
          2.0350977886805186,
          1.877663706881069,
          2.0732935206218013,
          1.9052059576333091,
          1.60368193212459,
          1.3375668859456942,
          0.9878523686641308,
          0.6950661161876086,
          0.6682749188466779,
          0.11047876855458844,
          0.11321841966596337,
          0.1203201008606664,
          0.13378627727067355,
          0.31151268063855936,
          0.3777078124997438,
          0.4716755074354619,
          0.5958960183613194,
          0.7477912487590844,
          0.9178684195569784,
          1.6355975641832274,
          1.2471816709514212,
          1.35993467215649,
          2.1182552606510656,
          2.861814445070558,
          2.8470833065768613,
          4.0836606784728815,
          3.095727363583648,
          3.226083708714265,
          2.7258339546850436,
          4.2332850349633535,
          3.963318104829424,
          4.794530440102166,
          3.7495412903356917,
          3.600727628381289,
          3.0376222714989067,
          2.8394257654472077,
          2.1538593628662097,
          1.6548265294768842,
          1.2865801847199536,
          1.286781377040587,
          1.0650325766556856,
          1.0142891093320496,
          0.9287938045095452,
          0.688961734181393,
          0.7476893275583076,
          0.8176411217584634,
          0.9630652574259528,
          1.1269872640853635
         ],
         "yaxis": "y39"
        },
        {
         "mode": "lines",
         "type": "scatter",
         "x": [
          8,
          9,
          10,
          11,
          12,
          13,
          14,
          15,
          16,
          17,
          18,
          19,
          20,
          21,
          22,
          23,
          24,
          25,
          26,
          27,
          28,
          29,
          30,
          31,
          32,
          33,
          34,
          35,
          36,
          37,
          38,
          39,
          40,
          41,
          42,
          43,
          44,
          45,
          46,
          47,
          48,
          49,
          50,
          51,
          52,
          53,
          54,
          55,
          56,
          57
         ],
         "xaxis": "x40",
         "y": [
          3.93230147584986,
          3.665371769548055,
          2.5026797789366166,
          1.6851492260689456,
          1.4491140960997622,
          1.6137208039097568,
          1.498613444885803,
          0.8606005672340189,
          0.5568551824578954,
          0.5486027138218776,
          0.5569891891903899,
          0.8810734826574216,
          0.6404060911461534,
          0.7105515177742585,
          1.1844942519329469,
          1.7523747655710715,
          2.8829334956859745,
          4.053149936561196,
          4.452120702860562,
          3.9322615811162,
          3.5734166482598386,
          2.8566695680047234,
          2.087208522008458,
          1.5511416980736272,
          1.0085189249671436,
          0.6067979939924107,
          0.5715581295636738,
          0.5634639145428187,
          0.4351817027764489,
          0.4638196944538203,
          0.3380055844474817,
          0.37674433184986905,
          0.6401582579852505,
          0.7363443797322069,
          0.5685341459180236,
          0.9784131588331512,
          1.4722385028131784,
          1.6320647966253439,
          2.1867498108063117,
          1.7851276468078443,
          1.731557917494095,
          1.6234902829888984,
          1.1356898943636555,
          1.0710591329128527,
          1.03142580186924,
          1.0205908845684364,
          1.723827794615714,
          1.7737981829502294,
          2.17806651417506,
          2.52136951602839
         ],
         "yaxis": "y40"
        },
        {
         "mode": "lines",
         "type": "scatter",
         "x": [
          null
         ],
         "xaxis": "x41",
         "y": [
          null
         ],
         "yaxis": "y41"
        },
        {
         "mode": "lines",
         "type": "scatter",
         "x": [
          8,
          9,
          10,
          11,
          12,
          13,
          14,
          15,
          16,
          17,
          18,
          19,
          20,
          21,
          22,
          23,
          24,
          25,
          26,
          27,
          28,
          29,
          30,
          31,
          32,
          33,
          34,
          35,
          36,
          37,
          38,
          39,
          40,
          41,
          42,
          43,
          44,
          45,
          46,
          47,
          48,
          49,
          50,
          51,
          52,
          53,
          54,
          55,
          56,
          57,
          58,
          59,
          60,
          61,
          62
         ],
         "xaxis": "x42",
         "y": [
          1.3006166760721458,
          1.1457021705349897,
          1.0655032156504642,
          2.1213689602576755,
          3.367533729633609,
          6.082241394887508,
          9.970973050892358,
          9.898716782484902,
          7.288987886233481,
          6.548602469219544,
          4.138893238788594,
          2.7424791987431143,
          1.6890828933049653,
          0.8622379581688572,
          0.5988483808751709,
          0.6917072004614637,
          0.2715533571554517,
          0.4197351455514074,
          0.4493933107014578,
          0.4975886618671499,
          0.5638278731661357,
          1.076596536762422,
          1.232844605116425,
          1.3849189597548812,
          1.1922362607389425,
          1.2220452926338403,
          1.2136952405021375,
          1.1961690916584653,
          0.5922028389010688,
          0.5911428373276867,
          0.6002564866679048,
          0.6282088064078113,
          0.6782148331936595,
          0.7497062951288433,
          1.260091882961894,
          1.4163245126414084,
          1.5686389928537567,
          1.673921776339447,
          1.7107594329647946,
          2.8190259831500626,
          2.7333507647918767,
          2.0670639174972982,
          2.3533118172402685,
          2.5299854519679617,
          2.2790006759628407,
          2.40315797994946,
          1.549730367615213,
          2.2379606772447014,
          2.293360231749954,
          2.348891838932878,
          1.941067684160831,
          1.956992958991517,
          1.5909163811008216,
          1.6076336023891282,
          1.1851688914130996
         ],
         "yaxis": "y42"
        },
        {
         "mode": "lines",
         "type": "scatter",
         "x": [
          8,
          9,
          10,
          11,
          12,
          13,
          14,
          15,
          16,
          17,
          18,
          19,
          20,
          21,
          22,
          23,
          24,
          25,
          26,
          27,
          28,
          29,
          30,
          31,
          32,
          33,
          34,
          35,
          36,
          37,
          38,
          39,
          40,
          41,
          42,
          43,
          44,
          45,
          46
         ],
         "xaxis": "x43",
         "y": [
          3.056815300002839,
          1.8518652755698233,
          1.4909401868178132,
          1.2832906591515498,
          0.8803622623978364,
          0.5621856398410594,
          0.5582354081475944,
          0.5744630288037494,
          0.6127822732618208,
          0.3366417085283302,
          0.3773995134454495,
          0.4304795352674442,
          1.5075813019519653,
          1.802326327086519,
          2.143215144215304,
          2.385080993078203,
          2.4145627093973383,
          3.79126851651124,
          3.4549240361541496,
          4.912172050999969,
          4.7550104315549335,
          3.94928975071518,
          3.1721744284100932,
          2.8176050397983965,
          1.844778592297528,
          1.5600657864964342,
          1.0256509772575881,
          0.7790164992984072,
          1.0332656185023568,
          1.4535613193777317,
          1.3253114552831842,
          1.6462877728899858,
          1.793499134023132,
          1.4582094315006402,
          1.6672538378276176,
          1.3070592679680066,
          1.1066604594632323,
          1.0484439060649966,
          0.8969681240408618
         ],
         "yaxis": "y43"
        },
        {
         "mode": "lines",
         "type": "scatter",
         "x": [
          null
         ],
         "xaxis": "x44",
         "y": [
          null
         ],
         "yaxis": "y44"
        },
        {
         "mode": "lines",
         "type": "scatter",
         "x": [
          8,
          9,
          10,
          11,
          12,
          13,
          14,
          15,
          16,
          17,
          18,
          19,
          20,
          21,
          22,
          23,
          24,
          25,
          26,
          27,
          28,
          29,
          30,
          31,
          32,
          33,
          34,
          35,
          36,
          37,
          38,
          39,
          40,
          41,
          42,
          43,
          44,
          45,
          46,
          47,
          48,
          49,
          50,
          51
         ],
         "xaxis": "x45",
         "y": [
          1.3006166760721458,
          1.1457021705349897,
          3.1965096469513927,
          3.1735299063872877,
          3.2183169392908586,
          3.1010156150575323,
          2.8038350438284643,
          3.275784590419097,
          2.87030037540069,
          1.2647597210393644,
          1.1166559947580856,
          1.010244499932861,
          0.961063761977314,
          1.4413541476013845,
          0.9965022927298341,
          1.0478118046296614,
          1.0977740506906295,
          1.14951765801681,
          1.8109828672425732,
          2.539464835404611,
          2.633259805594868,
          2.60836383682658,
          2.4346881887468528,
          3.2818314605083283,
          4.8675662484751765,
          4.2974717653532215,
          4.378862287112357,
          3.256186635527392,
          3.073797531471764,
          3.065022217570508,
          2.7143043503479416,
          1.9020044223770416,
          1.638516806195388,
          1.1302062139475195,
          1.1144135648970817,
          0.8679108024036977,
          0.5863374491352791,
          0.33206829661878884,
          0.42237588089301065,
          0.3547009650766027,
          0.3844762142347532,
          0.32077670320291474,
          0.3636523841656111,
          0.5569588842134982
         ],
         "yaxis": "y45"
        },
        {
         "mode": "lines",
         "type": "scatter",
         "x": [
          8,
          9,
          10,
          11,
          12,
          13,
          14,
          15,
          16,
          17,
          18,
          19,
          20,
          21,
          22,
          23,
          24,
          25,
          26,
          27,
          28,
          29,
          30,
          31,
          32,
          33,
          34,
          35,
          36,
          37,
          38,
          39,
          40,
          41,
          42,
          43,
          44,
          45,
          46,
          47,
          48,
          49,
          50,
          51,
          52,
          53,
          54,
          55,
          56,
          57,
          58,
          59,
          60,
          61,
          62,
          63
         ],
         "xaxis": "x46",
         "y": [
          1.3006166760721458,
          1.1457021705349897,
          1.0655032156504642,
          1.0606844801288378,
          1.124108813389494,
          1.2507599012499429,
          2.879537789239959,
          5.063745456033528,
          5.7514931896553225,
          5.6866490678762505,
          6.318006322288772,
          4.884673687681206,
          3.761626317033759,
          2.2140051145246047,
          1.1995752951878649,
          1.0246864329099477,
          0.9324135648923076,
          0.4519750124214209,
          0.9219442533032934,
          0.981027617484726,
          1.0793714830710708,
          1.2006305244626396,
          1.3246198043754265,
          1.4346286543067004,
          2.2817975888623234,
          1.5810488021917748,
          1.5965654420954956,
          1.5655849973313791,
          1.5279827984848586,
          2.25964898000912,
          2.253448781325342,
          1.491151745275451,
          2.886620109044114,
          3.4416616287804866,
          4.544615439253055,
          4.705608910712048,
          4.013093171788438,
          4.064356364961878,
          3.8967177569582567,
          2.8852086542839377,
          2.3601287231699706,
          1.6089288411548992,
          1.5344369242765985,
          2.8698573441258053,
          2.5199803955086493,
          2.6799973923706277,
          2.40937050686954,
          2.2060571378920644,
          2.0011528809149293,
          1.7567719245357396,
          1.3782178461072634,
          1.2506432794570923,
          0.9479162882712888,
          0.8983948931216255,
          0.7746688476455511,
          0.8168544977350085
         ],
         "yaxis": "y46"
        },
        {
         "mode": "lines",
         "type": "scatter",
         "x": [
          8,
          9,
          10,
          11,
          12,
          13,
          14,
          15,
          16,
          17,
          18,
          19,
          20,
          21,
          22,
          23,
          24,
          25,
          26,
          27,
          28,
          29,
          30,
          31,
          32,
          33,
          34,
          35,
          36,
          37,
          38,
          39,
          40,
          41,
          42,
          43,
          44,
          45,
          46,
          47,
          48,
          49,
          50,
          51
         ],
         "xaxis": "x48",
         "y": [
          6.21455993627147,
          4.694305284042222,
          3.595915868936397,
          2.8015150646507454,
          2.575844630105767,
          1.6172043793935251,
          1.4022987524898725,
          0.6285031049760265,
          0.5845673968326845,
          0.3779242341001631,
          0.3840722403866565,
          0.2039750339539104,
          0.22530275370506395,
          0.2577044462994961,
          0.3049871221756528,
          0.3724002893971449,
          0.4667553624193557,
          0.5967482722953312,
          1.5456784590188517,
          2.009888276118512,
          2.54200789793254,
          5.87912567708004,
          6.021890024159533,
          5.372130830068481,
          4.251456181083024,
          4.069233187715255,
          3.843092485085734,
          3.1373527239326666,
          3.051763926680572,
          2.579214397875836,
          2.209540106124498,
          1.9195626574523008,
          1.698220681569796,
          1.5342126742085007,
          1.6172444934539596,
          0.9494843446065624,
          1.0840437576772843,
          1.0466542616529215,
          2.0643711627243806,
          2.4119137041223064,
          2.2199158386109894,
          1.9423418349114097,
          1.7617574187111882,
          1.5754496225257903
         ],
         "yaxis": "y48"
        },
        {
         "mode": "lines",
         "type": "scatter",
         "x": [
          8,
          9,
          10,
          11,
          12,
          13,
          14,
          15,
          16,
          17,
          18,
          19,
          20,
          21,
          22,
          23,
          24,
          25,
          26,
          27,
          28,
          29,
          30,
          31,
          32,
          33,
          34,
          35,
          36,
          37,
          38,
          39,
          40,
          41,
          42,
          43,
          44,
          45,
          46,
          47,
          48,
          49,
          50,
          51,
          52,
          53,
          54,
          55,
          56,
          57,
          58,
          59,
          60,
          61,
          62,
          63,
          64,
          65,
          66,
          67,
          68,
          69,
          70,
          71,
          72
         ],
         "xaxis": "x49",
         "y": [
          1.645416042354483,
          0.6936288381580386,
          0.6205973021356984,
          0.5947739182398385,
          0.6126020715085709,
          0.6715431654453771,
          2.318267401347708,
          2.7566717947941046,
          3.2161107811751872,
          3.3735387401100905,
          4.17027310662044,
          3.6114555595094973,
          3.0533901188794377,
          2.567811755347689,
          2.7332756613281517,
          2.3818486718059715,
          2.115107158638564,
          1.517618590602314,
          1.3754600620457644,
          1.2706227294167658,
          0.6028721865129595,
          0.2934833303119875,
          0.29435089745919,
          0.3082932112217853,
          0.33962414597453056,
          0.3922296041195921,
          0.4711234870560743,
          0.5832856073693088,
          0.7377380091221539,
          0.94485547199871,
          1.2145021141514276,
          1.5525874602712404,
          1.956346599868267,
          2.4101927113384662,
          2.885404865098569,
          6.691975617842826,
          7.482210229621613,
          7.5469850736990045,
          6.396393314339483,
          4.9208123600004186,
          5.6916161466052975,
          4.575121690639513,
          2.5152036134964884,
          3.125066756761215,
          2.655988886359454,
          2.3431895599681565,
          2.1112054914503657,
          1.284859358949472,
          1.1886009185805968,
          1.6886813085869958,
          1.1036950649478503,
          1.661044119485051,
          1.680899824522827,
          1.703259159742595,
          1.7043515219543923,
          2.2365489856741356,
          2.174130830147469,
          2.083156633909679,
          1.957252633720113,
          2.2700252223510544,
          2.523419162341844,
          3.5046210717944137,
          3.207951358327592,
          2.8492611510591157,
          3.533497425574952
         ],
         "yaxis": "y49"
        },
        {
         "mode": "lines",
         "type": "scatter",
         "x": [
          null
         ],
         "xaxis": "x50",
         "y": [
          null
         ],
         "yaxis": "y50"
        },
        {
         "mode": "lines",
         "type": "scatter",
         "x": [
          8,
          9,
          10,
          11,
          12,
          13,
          14,
          15,
          16,
          17,
          18,
          19,
          20,
          21,
          22,
          23,
          24,
          25,
          26,
          27,
          28,
          29,
          30,
          31,
          32,
          33,
          34,
          35,
          36,
          37,
          38,
          39,
          40,
          41,
          42,
          43,
          44,
          45,
          46,
          47,
          48,
          49
         ],
         "xaxis": "x51",
         "y": [
          1.3006166760721458,
          1.1457021705349897,
          1.0655032156504642,
          1.0606844801288378,
          1.124108813389494,
          1.2507599012499429,
          1.4397688946199796,
          1.6915300097572497,
          2.003798118735552,
          2.3679253363953694,
          2.766619018054121,
          3.1749274966674506,
          3.565035278455708,
          3.9130236758569272,
          4.204155001700558,
          8.868575136011945,
          9.161960406436046,
          8.600302966693297,
          6.864611437749912,
          5.0952487400890565,
          3.8604738305059123,
          4.625052638416981,
          2.5926250977889187,
          2.2348052053712117,
          1.9550351784738864,
          2.652942671121585,
          2.4875272035696794,
          3.15566650242667,
          2.224323512355148,
          2.036594325388817,
          1.8331657244883452,
          1.6671732015118816,
          1.0336590107712331,
          1.4749636757418614,
          0.959822586772102,
          1.4397878142903329,
          1.4632342040886128,
          1.5006622867539352,
          3.0588275848957203,
          3.5804502333184542,
          2.9550203624574003,
          2.64727870851606
         ],
         "yaxis": "y51"
        },
        {
         "mode": "lines",
         "type": "scatter",
         "x": [
          8,
          9,
          10,
          11,
          12,
          13,
          14,
          15,
          16,
          17,
          18,
          19,
          20,
          21,
          22,
          23,
          24,
          25,
          26,
          27,
          28,
          29,
          30,
          31,
          32,
          33,
          34,
          35,
          36,
          37,
          38,
          39,
          40,
          41,
          42,
          43,
          44,
          45,
          46,
          47,
          48,
          49,
          50,
          51,
          52
         ],
         "xaxis": "x52",
         "y": [
          2.240481031394397,
          1.9130142511018915,
          1.6832294520199993,
          3.0655507141545666,
          4.315223450715607,
          4.039017763537056,
          3.1741844662161003,
          2.3033649725070124,
          1.8830277721029312,
          1.5870570519781049,
          0.999644284141207,
          0.3672832211165041,
          0.3502374220505439,
          0.5240413364775919,
          0.5502501617967797,
          0.6028997082120047,
          0.6771068431088001,
          0.5111522263914177,
          0.5765791934588756,
          0.6462158234149596,
          0.36197789832735583,
          0.4066571269451637,
          0.4609220514833938,
          0.5332045479715475,
          0.6326216193467353,
          1.5366147891473765,
          1.8973249647616277,
          2.3143194455766483,
          2.640580545034706,
          2.742120232850743,
          2.6413745229500707,
          2.4517684195778933,
          1.1295205955757568,
          1.0503275933377412,
          3.0245308990799726,
          3.0583746651476313,
          3.1390492895016897,
          3.0522751727973145,
          3.7035953142247258,
          3.2550267242321964,
          2.8212708567222786,
          1.2145591283161774,
          1.05456050526934,
          0.9487424065759956,
          0.9035885552309958
         ],
         "yaxis": "y52"
        },
        {
         "mode": "lines",
         "type": "scatter",
         "x": [
          null
         ],
         "xaxis": "x53",
         "y": [
          null
         ],
         "yaxis": "y53"
        },
        {
         "mode": "lines",
         "type": "scatter",
         "x": [
          null
         ],
         "xaxis": "x54",
         "y": [
          null
         ],
         "yaxis": "y54"
        },
        {
         "mode": "lines",
         "type": "scatter",
         "x": [
          null
         ],
         "xaxis": "x55",
         "y": [
          null
         ],
         "yaxis": "y55"
        },
        {
         "mode": "lines",
         "type": "scatter",
         "x": [
          8,
          9,
          10,
          11,
          12,
          13,
          14,
          15,
          16,
          17,
          18,
          19,
          20,
          21,
          22,
          23,
          24,
          25,
          26,
          27,
          28,
          29,
          30,
          31,
          32,
          33,
          34,
          35,
          36,
          37,
          38,
          39,
          40,
          41,
          42,
          43,
          44,
          45,
          46,
          47,
          48,
          49,
          50,
          51,
          52,
          53,
          54,
          55,
          56
         ],
         "xaxis": "x56",
         "y": [
          2.5969569851706797,
          2.2368549493100605,
          1.9560300168236435,
          1.7691427546940648,
          1.6603794055028729,
          1.6049484167183494,
          0.7915012027877991,
          1.5822685334739053,
          1.614410837768708,
          1.6857957054378143,
          2.643169201706599,
          2.7187421861658465,
          2.6995562605969665,
          2.54814911057963,
          1.5462142224082924,
          1.3931422856836184,
          1.2790704634890528,
          0.6105431319538227,
          0.6059442886261629,
          0.6256203628076091,
          1.352883382431045,
          2.2908369263866657,
          3.5105203389406423,
          3.8630243395715818,
          3.7968988606046215,
          3.3173622576771384,
          2.748335516488136,
          2.2862416715275025,
          1.4678633612548828,
          1.7328091739953289,
          1.591240320994031,
          1.509062844774797,
          1.4556652423664131,
          1.4145839167291097,
          1.0350222282056176,
          1.013398280043507,
          0.6677933954665254,
          1.3438674150229015,
          1.3832544744787327,
          1.4439597654475038,
          1.491748962188257,
          1.8831411836684828,
          2.234381606991489,
          2.1660530294385136,
          1.706139686547283,
          1.575416021000511,
          1.4473137360203214,
          1.8871612633445929,
          1.535224735980553
         ],
         "yaxis": "y56"
        },
        {
         "mode": "lines",
         "type": "scatter",
         "x": [
          8,
          9,
          10,
          11,
          12,
          13,
          14,
          15,
          16,
          17,
          18,
          19,
          20,
          21,
          22,
          23,
          24,
          25,
          26,
          27,
          28,
          29,
          30,
          31,
          32,
          33,
          34,
          35,
          36,
          37,
          38,
          39,
          40,
          41,
          42,
          43,
          44,
          45,
          46,
          47,
          48,
          49,
          50,
          51,
          52,
          53,
          54,
          55,
          56,
          57,
          58,
          59,
          60,
          61,
          62,
          63,
          64,
          65,
          66
         ],
         "xaxis": "x57",
         "y": [
          2.345156468861374,
          1.8858481560493128,
          3.191131065914904,
          2.873663128715944,
          1.9986272143711816,
          1.8289870585278791,
          2.7647423733481125,
          4.068345964515894,
          5.1684958306174735,
          3.7576375300848848,
          3.802554767951852,
          4.406977591573511,
          3.5435419784380264,
          2.880873242851372,
          2.0624007944269303,
          1.7190617257480223,
          1.4798326145526255,
          1.228482960275312,
          0.9609699824416822,
          0.9130703232347772,
          0.7275740256014425,
          0.6442933830020154,
          0.4092776925393036,
          0.5937690012500463,
          0.5386056224676484,
          0.29070765979037005,
          0.5294505882834264,
          0.8191111752067544,
          0.9156756168939956,
          1.0210181090601564,
          1.1138409925209627,
          1.346222455555429,
          2.2473275824853225,
          1.9051923208051524,
          2.0114891887813537,
          2.028934084759477,
          2.279022625248392,
          2.327318104032612,
          1.9892207634439376,
          2.104798807887288,
          1.9842550413778937,
          1.959828333909741,
          2.0846628336503152,
          1.9671792457914756,
          1.9197128743479681,
          2.328624293841484,
          2.3312981753512942,
          2.3533414907042536,
          1.9379235279010856,
          1.7221830992824327,
          1.396766304391888,
          1.2306256501483046,
          0.908458714333622,
          0.6440259647005449,
          0.6502496782653652,
          0.7261311418061513,
          0.6911348013857637,
          0.8332487989990336,
          0.936719152338126
         ],
         "yaxis": "y57"
        },
        {
         "mode": "lines",
         "type": "scatter",
         "x": [
          8,
          9,
          10,
          11,
          12,
          13,
          14,
          15,
          16,
          17,
          18,
          19,
          20,
          21,
          22,
          23,
          24,
          25,
          26,
          27,
          28,
          29,
          30,
          31,
          32,
          33,
          34,
          35,
          36,
          37,
          38,
          39,
          40,
          41,
          42,
          43,
          44,
          45,
          46,
          47,
          48,
          49,
          50,
          51,
          52,
          53,
          54,
          55,
          56,
          57,
          58,
          59,
          60,
          61,
          62,
          63,
          64
         ],
         "xaxis": "x58",
         "y": [
          2.137967851056282,
          1.7078023065311627,
          1.9424557627327763,
          1.7599989966779306,
          1.6585706738101351,
          1.983673836662637,
          2.6669380709291373,
          3.274592326734893,
          4.746963529583879,
          6.0422489994344195,
          4.810122443795335,
          4.767314597982047,
          4.999275392143455,
          3.856967711168528,
          2.835305539822551,
          2.471849753491679,
          1.906438695286839,
          1.8743787581929925,
          1.7829238622637866,
          1.571560988196076,
          2.110795321374193,
          2.543254187993464,
          2.868046724479174,
          3.6487054789228393,
          3.697133181494752,
          3.2081701861908307,
          3.743854528799356,
          3.2055315792694974,
          3.5016869277581337,
          3.1788782353960863,
          3.551803935459581,
          3.5934223907696685,
          3.255425064026612,
          2.7319223863543955,
          2.414289771307312,
          1.9012796538450167,
          1.7237011934768427,
          1.4354926044274468,
          1.2552765404235695,
          1.2233489773998534,
          1.1809932748974252,
          1.1917258724234487,
          1.2633608288617717,
          1.1749153032981956,
          1.0656144013139142,
          0.9711788114866032,
          0.9110605876897088,
          0.7927373054471938,
          0.6847460324444956,
          0.5496737017577636,
          0.4999704435690348,
          0.4551562193147826,
          0.4413554874006866,
          0.3996403064816091,
          0.389056408914752,
          0.3847149100336121,
          0.40800021884682747
         ],
         "yaxis": "y58"
        },
        {
         "mode": "lines",
         "type": "scatter",
         "x": [
          8,
          9,
          10,
          11,
          12,
          13,
          14,
          15,
          16,
          17,
          18,
          19,
          20,
          21,
          22,
          23,
          24,
          25,
          26,
          27,
          28,
          29,
          30,
          31,
          32,
          33,
          34,
          35,
          36,
          37,
          38,
          39,
          40,
          41,
          42,
          43,
          44,
          45
         ],
         "xaxis": "x59",
         "y": [
          5.1853893112301,
          4.363649435788451,
          4.433724524315996,
          4.2752819769389125,
          4.624947568996902,
          3.781609486752652,
          2.313788451956956,
          1.5741753786363797,
          1.3206842158635783,
          0.9320081488672328,
          1.0826297958604527,
          0.6308877004755564,
          0.8441197664253722,
          0.8674757722741002,
          0.9093967653907706,
          1.2029924121435884,
          2.036016769018818,
          1.5958452010777495,
          1.6097926052118663,
          1.811694779035714,
          2.44234010451236,
          3.2074509684649906,
          2.7575901207285316,
          2.4689745147025715,
          2.1407725651397658,
          1.988797975038628,
          1.7423964726354904,
          1.3369068977645089,
          0.8139688066018782,
          0.7595710541467948,
          0.4562921622192395,
          0.4542109688793402,
          0.4681415203591107,
          0.2992061474461446,
          0.218121141249718,
          0.2435371204688821,
          0.4168026679448186,
          0.4863649210534234
         ],
         "yaxis": "y59"
        },
        {
         "mode": "lines",
         "type": "scatter",
         "x": [
          null
         ],
         "xaxis": "x62",
         "y": [
          null
         ],
         "yaxis": "y62"
        },
        {
         "mode": "lines",
         "type": "scatter",
         "x": [
          8,
          9,
          10,
          11,
          12,
          13,
          14,
          15,
          16,
          17,
          18,
          19,
          20,
          21,
          22,
          23,
          24,
          25,
          26,
          27,
          28,
          29,
          30,
          31,
          32,
          33,
          34,
          35,
          36,
          37,
          38,
          39,
          40,
          41,
          42,
          43,
          44,
          45,
          46,
          47,
          48,
          49,
          50,
          51,
          52,
          53,
          54,
          55,
          56,
          57,
          58,
          59,
          60,
          61,
          62,
          63,
          64
         ],
         "xaxis": "x63",
         "y": [
          3.7210076173359306,
          2.995340018835281,
          3.0740918668667687,
          2.621314013683321,
          2.2504759499758014,
          2.121605402141361,
          2.3239179926711624,
          1.3809581431243707,
          0.995288065836554,
          0.6818578002394216,
          0.5352017102698448,
          0.7347698643430981,
          0.7506380188857531,
          0.4519460387662562,
          0.4829961147411183,
          0.6500917072396472,
          0.9909337249414312,
          1.0876425498531377,
          0.8462761482290547,
          0.7188946184848242,
          0.7448585896679158,
          0.7671450233571462,
          0.5977510110430418,
          0.209499302528872,
          0.22310627738663724,
          0.24296201709344584,
          0.27402402151195465,
          0.6422695524338591,
          0.7789046189666546,
          0.962789757783297,
          1.1788032771329728,
          2.089511461037869,
          2.3494975227083157,
          2.480006282461067,
          2.4342177788851624,
          2.2658099012162984,
          2.751668111709209,
          2.5072744054352443,
          2.288186535797604,
          2.0769085981792195,
          2.8251106627380294,
          2.578225174122968,
          2.3487975030779022,
          1.7587461121820118,
          1.5704727605387705,
          1.1348639539537793,
          1.3139279111791369,
          0.7523052044838516,
          0.9828999060623916,
          0.985059372989915,
          1.765315423055967,
          3.1325389049329324,
          3.728649306700776,
          3.571745480588175,
          3.1230652303040176,
          2.5776849220873306,
          2.116913932048828
         ],
         "yaxis": "y63"
        },
        {
         "mode": "lines",
         "type": "scatter",
         "x": [
          8,
          9,
          10,
          11,
          12,
          13,
          14,
          15,
          16,
          17,
          18,
          19,
          20,
          21,
          22,
          23,
          24,
          25,
          26,
          27,
          28,
          29,
          30,
          31,
          32,
          33,
          34,
          35,
          36,
          37,
          38,
          39,
          40,
          41,
          42,
          43,
          44,
          45,
          46,
          47,
          48,
          49,
          50,
          51,
          52,
          53,
          54,
          55,
          56,
          57
         ],
         "xaxis": "x64",
         "y": [
          2.5969569851706797,
          3.3552824239650905,
          2.9304164531435335,
          2.6046723396680878,
          4.65657927638092,
          4.8690646142857,
          3.650757804469572,
          3.024510890135973,
          2.4454777949479727,
          2.692020091126366,
          2.3066499836438723,
          1.2699943033096186,
          0.907520515264538,
          0.8290142819419352,
          1.1822923684657358,
          1.3684604924116657,
          1.1949026284704016,
          1.2176188050529828,
          1.224019049888137,
          1.2175045241720794,
          1.2055366880300076,
          0.7953427229456053,
          0.5913845852066222,
          0.39460792484920654,
          0.40410044674871537,
          0.4274542371460738,
          0.4681970721297512,
          0.5281673935747094,
          0.6079968469856192,
          0.3534583552262399,
          0.4112420221698752,
          0.4788104324554626,
          0.5639694444385878,
          0.6764782695676126,
          0.8262783382711352,
          1.0233169455361382,
          1.2765527548339834,
          1.591534584181007,
          1.9667819463553744,
          2.3902999038390296,
          5.6773514735495985,
          6.5346455467285045,
          6.836183487487137,
          6.025396428732133,
          4.765406555180814,
          3.7306418161047175,
          3.027959017035716,
          1.2854942242790786,
          1.1380643669854291,
          1.061238009880734
         ],
         "yaxis": "y64"
        },
        {
         "mode": "lines",
         "type": "scatter",
         "x": [
          8,
          9,
          10,
          11,
          12,
          13,
          14,
          15,
          16,
          17,
          18,
          19,
          20,
          21,
          22,
          23,
          24,
          25,
          26,
          27,
          28,
          29,
          30,
          31,
          32,
          33,
          34,
          35,
          36,
          37,
          38,
          39,
          40,
          41,
          42,
          43,
          44,
          45,
          46,
          47,
          48,
          49,
          50,
          51,
          52,
          53,
          54,
          55,
          56
         ],
         "xaxis": "x65",
         "y": [
          2.848054062281949,
          1.687356532715043,
          1.40060050830115,
          1.2305770095253132,
          1.144415872977282,
          1.1129459992599369,
          0.7435831927790106,
          0.7587653401909087,
          0.7864043130202587,
          0.8314838908785844,
          0.8954944448686305,
          1.4640721644105168,
          1.6013566091318483,
          1.7273941378781397,
          1.7978179182737115,
          1.7981774077258643,
          3.497134572733516,
          2.7908058233754813,
          2.0733150865861307,
          1.843041543644869,
          2.0300956547815745,
          1.8304925470230902,
          1.6915128205717191,
          0.950367806909788,
          0.8977221365060515,
          1.1512414967609874,
          1.1418513102659775,
          1.1612617409680723,
          2.0850826382381595,
          2.132158395111857,
          2.1290383397851924,
          2.033150473854958,
          1.6050793202249003,
          1.45860866378981,
          1.336424196630048,
          0.8337573397573788,
          0.9976490679342918,
          0.7831537027884803,
          0.7883206711934153,
          0.8094115795988119,
          0.8443858732317914,
          0.6676200256386238,
          0.4713397675482278,
          0.2505198621837257,
          0.2695636149531141,
          0.29745779950025275,
          0.6798300292969927,
          0.8048323308584899,
          0.9739454952662427
         ],
         "yaxis": "y65"
        },
        {
         "mode": "lines",
         "type": "scatter",
         "x": [
          null
         ],
         "xaxis": "x66",
         "y": [
          null
         ],
         "yaxis": "y66"
        },
        {
         "mode": "lines",
         "type": "scatter",
         "x": [
          8,
          9,
          10,
          11,
          12,
          13,
          14,
          15,
          16,
          17,
          18,
          19,
          20,
          21,
          22,
          23,
          24,
          25,
          26,
          27,
          28,
          29,
          30,
          31,
          32,
          33,
          34,
          35,
          36,
          37,
          38
         ],
         "xaxis": "x67",
         "y": [
          1.3006166760721458,
          1.1457021705349897,
          1.0655032156504642,
          1.0606844801288378,
          1.124108813389494,
          1.2507599012499429,
          1.4397688946199796,
          3.3830600195144997,
          3.997454825585233,
          4.50860752838504,
          4.490269905941108,
          5.968113452294438,
          5.027495479727609,
          4.146657961997897,
          4.49094323492142,
          3.674517488566709,
          3.0462902249982213,
          2.55005259980025,
          2.17242465372935,
          2.3715487046895865,
          2.5510033064193127,
          1.550257527876916,
          1.414161406636102,
          1.944074495947648,
          1.8215371889688752,
          1.4456367151880658,
          1.1004049338163608,
          1.0463717580880318,
          1.0083034528996395,
          0.994012974981052,
          0.5005299140776764
         ],
         "yaxis": "y67"
        },
        {
         "mode": "lines",
         "type": "scatter",
         "x": [
          8,
          9,
          10,
          11,
          12,
          13,
          14,
          15,
          16,
          17,
          18,
          19,
          20,
          21,
          22,
          23,
          24,
          25,
          26,
          27,
          28,
          29,
          30,
          31,
          32,
          33,
          34,
          35,
          36,
          37,
          38,
          39,
          40,
          41,
          42,
          43,
          44,
          45,
          46,
          47,
          48,
          49,
          50,
          51,
          52,
          53,
          54,
          55,
          56,
          57,
          58,
          59,
          60,
          61,
          62,
          63,
          64,
          65,
          66,
          67,
          68
         ],
         "xaxis": "x68",
         "y": [
          3.1914666284900584,
          2.33481381477352,
          1.108583327159983,
          0.9428904384128468,
          0.2853577477782453,
          0.5508514073514903,
          0.5630540998669251,
          0.909899098860631,
          1.354750639775384,
          2.29537229546302,
          2.9518530588804275,
          6.510195080519915,
          7.684978369088988,
          6.332280060498182,
          4.421013022207701,
          2.9926068288847585,
          2.5009275060721747,
          1.8904332570508764,
          0.8878463191200702,
          0.4707530702931783,
          0.435051628842624,
          0.4241226869867931,
          0.5812349928944744,
          0.31158704483729044,
          0.5143269074402446,
          0.7651816955538854,
          0.8610285577628956,
          1.2045310990868412,
          1.8449939954858228,
          2.086269314230113,
          2.0925267017351854,
          1.7188605905889256,
          1.5673557368775024,
          1.6350910023355238,
          1.2989542659294913,
          1.0253740266663425,
          0.7065771505639075,
          0.6825300394898571,
          0.6765150153077556,
          0.7761306647937957,
          0.7199758773723847,
          1.6172696907787218,
          2.015514966754834,
          2.3026507688008264,
          2.5783272253712983,
          3.4433777426694303,
          2.9706935370922984,
          2.6265819782858446,
          1.8470272699030936,
          1.671234290455516,
          1.3629960233785459,
          1.185664284441459,
          0.7210313984721336,
          0.6511093516348649,
          0.743967257102807,
          0.7865322356009717,
          0.7391606815178847,
          1.0053046600428637,
          1.0136136446110176,
          1.098440657746462,
          1.4315776157924989
         ],
         "yaxis": "y68"
        },
        {
         "mode": "lines",
         "type": "scatter",
         "x": [
          8,
          9,
          10,
          11,
          12,
          13,
          14,
          15,
          16,
          17,
          18,
          19,
          20,
          21,
          22,
          23,
          24,
          25,
          26,
          27,
          28,
          29,
          30,
          31,
          32,
          33,
          34,
          35,
          36,
          37,
          38,
          39,
          40,
          41,
          42,
          43,
          44,
          45,
          46,
          47,
          48,
          49,
          50,
          51,
          52,
          53,
          54,
          55,
          56,
          57,
          58,
          59,
          60,
          61,
          62,
          63,
          64
         ],
         "xaxis": "x69",
         "y": [
          7.6922762613725855,
          5.729815800586791,
          4.0609547490191735,
          3.45847146436392,
          1.668823542183241,
          1.5073052330486711,
          1.5409921041115036,
          1.3832155363856853,
          1.1826363568346927,
          1.3312985004256654,
          1.0867311572575242,
          1.2966596792267266,
          1.1256990238233202,
          0.919105682985917,
          0.9014599455201546,
          0.8007154179532062,
          0.7108709144463113,
          0.8993532415233878,
          0.6918040853013255,
          0.8111622904166578,
          0.7430429736443828,
          0.8249227390555813,
          0.912997227068794,
          0.8386879103610534,
          0.6955979864739363,
          0.8367353097613612,
          0.8626002480365795,
          0.9564401318858408,
          0.7264158847294051,
          0.8176391018868807,
          0.7711467415461453,
          0.7954581151919351,
          0.6739703499670178,
          0.7004551811791615,
          0.8123150420791215,
          0.8528044811967301,
          0.8079954112996197,
          0.8478110367659576,
          0.8845524952730781,
          1.0209559085122737,
          1.1622220789861508,
          1.1954915117120832,
          1.2159466096230362,
          1.7736069790429745,
          1.7565993150460846,
          1.8175113750676508,
          1.7281137384639875,
          1.4228752882261313,
          1.2296344497600065,
          1.3084471840374567,
          1.0061891964028364,
          1.1925067649504346,
          1.8204538384416895,
          2.300159420134035,
          2.2499852953715336,
          2.4570614738832357,
          2.531760295336465
         ],
         "yaxis": "y69"
        },
        {
         "mode": "lines",
         "type": "scatter",
         "x": [
          8,
          9,
          10,
          11,
          12,
          13,
          14,
          15,
          16,
          17,
          18,
          19,
          20,
          21,
          22,
          23,
          24,
          25,
          26,
          27,
          28,
          29,
          30,
          31,
          32,
          33,
          34,
          35,
          36,
          37,
          38,
          39,
          40,
          41,
          42,
          43,
          44,
          45,
          46,
          47,
          48,
          49,
          50,
          51,
          52,
          53,
          54,
          55,
          56,
          57,
          58,
          59,
          60,
          61,
          62,
          63,
          64,
          65,
          66,
          67,
          68,
          69
         ],
         "xaxis": "x70",
         "y": [
          2.072092638365331,
          1.7057513095040355,
          1.4434254826220547,
          1.2825775282707903,
          1.1957025694114432,
          1.155844895775615,
          0.5721653413638293,
          0.574876902454954,
          0.8821072166009459,
          0.9284850000688748,
          1.0002357636711805,
          2.1667886860721657,
          2.323629854183569,
          3.9984262764318186,
          5.390074252311662,
          4.4345221378614434,
          3.8836091812739437,
          3.0270151355895467,
          3.4122604806676144,
          2.9275505585293726,
          1.9903158638967118,
          1.49436141229785,
          1.3834616237231572,
          1.1643750933995964,
          1.2275876393306624,
          0.5529154187294762,
          0.4722564363082017,
          0.4704302495101474,
          0.4141779964570724,
          0.4392592480572911,
          0.5579785728417637,
          0.7074641862520994,
          0.7913713246349675,
          0.880214637780544,
          0.9615485810580928,
          1.0261582033161711,
          0.9372189573154518,
          0.9614743293756648,
          0.6978946478563225,
          0.7084287794260551,
          0.5794606357824814,
          0.7515493252676491,
          0.951648135833053,
          1.3564094685607475,
          1.448991760816723,
          1.515545939792908,
          1.9111203830674997,
          2.6108519328262902,
          3.366954060323261,
          2.771142398017685,
          2.1528686825555288,
          1.8393787822994183,
          1.4757789184857273,
          1.1190919808995887,
          0.6825519967946754,
          0.2421150943579644,
          0.3165306556343101,
          0.3240833807412292,
          0.34751579468303423,
          0.387153344995096,
          0.5534808328840941,
          1.0271099290869556
         ],
         "yaxis": "y70"
        },
        {
         "mode": "lines",
         "type": "scatter",
         "x": [
          8,
          9,
          10,
          11,
          12,
          13,
          14,
          15,
          16,
          17,
          18,
          19,
          20,
          21,
          22,
          23,
          24,
          25,
          26,
          27,
          28,
          29,
          30,
          31,
          32,
          33,
          34,
          35,
          36,
          37,
          38,
          39,
          40,
          41,
          42,
          43,
          44,
          45,
          46,
          47
         ],
         "xaxis": "x71",
         "y": [
          2.376121790112766,
          0.9548750903876132,
          0.8091002295199694,
          1.0969783042956671,
          1.0626742030852954,
          1.0834813255286413,
          1.1313784526972597,
          1.5824004251717891,
          1.6499109966263383,
          2.113602165454477,
          1.684476349077528,
          1.6254375365324905,
          1.150344612592871,
          1.8079497419854496,
          1.386121415087595,
          1.685193415674358,
          1.642714401463567,
          1.5973980049813743,
          1.5420928291881393,
          1.4800858500674026,
          0.8514711184541106,
          1.3659379183831346,
          1.0674609126183885,
          1.0625179598433458,
          1.60189625921469,
          1.8906632524510572,
          1.9027419494260465,
          1.8662844143949249,
          1.7729759988921672,
          1.6506826909642809,
          1.3112750454842668,
          1.01918657211179,
          0.7718012668791426,
          0.7477425175780449,
          0.9322088568366887,
          0.5740899486196016,
          0.8006716104947892,
          0.8470022510197779,
          1.356931995460867,
          1.6926546473678554
         ],
         "yaxis": "y71"
        },
        {
         "mode": "lines",
         "type": "scatter",
         "x": [
          8,
          9,
          10,
          11,
          12,
          13,
          14,
          15,
          16,
          17,
          18,
          19,
          20,
          21,
          22,
          23,
          24,
          25,
          26,
          27
         ],
         "xaxis": "x76",
         "y": [
          1.3006166760721458,
          1.1457021705349897,
          1.0655032156504642,
          2.1213689602576755,
          2.245022486422406,
          2.436649290088284,
          2.5690053157101747,
          3.8516629645558313,
          3.6797682906070412,
          3.3699233941027487,
          1.971854597425185,
          2.5521085395676852,
          3.744638796410346,
          4.08498461723177,
          3.694326914015181,
          4.264341091357668,
          4.003134972540535,
          3.2879577938712727,
          2.686551065236852,
          1.7243868382049403
         ],
         "yaxis": "y76"
        },
        {
         "mode": "lines",
         "type": "scatter",
         "x": [
          8,
          9,
          10,
          11,
          12,
          13,
          14,
          15,
          16,
          17,
          18,
          19,
          20,
          21,
          22,
          23,
          24,
          25,
          26,
          27,
          28,
          29,
          30,
          31,
          32,
          33,
          34,
          35,
          36,
          37,
          38,
          39,
          40,
          41,
          42,
          43,
          44,
          45,
          46,
          47,
          48,
          49,
          50,
          51,
          52,
          53,
          54
         ],
         "xaxis": "x77",
         "y": [
          0.7475338352402348,
          1.2939503420840033,
          1.191672515392154,
          1.1717421278884108,
          1.202542628651382,
          1.2604526945275218,
          1.9945983588155975,
          2.7966950631249574,
          2.159015845141366,
          2.108682546714015,
          2.6091151528265497,
          2.9821492353430985,
          2.725194166844555,
          2.4613972233370065,
          1.7506281200726312,
          1.551890369943396,
          1.3986224693501126,
          0.9738923730592052,
          0.9311013517442626,
          1.2202843355901103,
          0.9244397274296979,
          0.949289748356026,
          1.3067254855880572,
          1.3551533424726,
          1.4021871616923898,
          1.0727340055600931,
          1.0755840737533795,
          1.0710437699964943,
          1.074745376490484,
          1.0918474058499348,
          1.120214965017812,
          1.155298588261126,
          1.1924891286693182,
          0.8187394494784125,
          0.8402821865501211,
          0.8653964740141091,
          0.4523482623167301,
          0.4813384259855077,
          0.5236115322140239,
          0.5879299100053323,
          0.6827363431691376,
          0.8162067538289534,
          1.9940417461535638,
          2.4634855687548103,
          2.967609112744627,
          3.266330076644681,
          3.21819822837264
         ],
         "yaxis": "y77"
        },
        {
         "mode": "lines",
         "type": "scatter",
         "x": [
          8,
          9,
          10,
          11,
          12,
          13,
          14,
          15,
          16,
          17,
          18,
          19,
          20,
          21,
          22,
          23,
          24,
          25,
          26,
          27,
          28,
          29,
          30,
          31,
          32,
          33,
          34,
          35,
          36,
          37,
          38,
          39,
          40,
          41,
          42,
          43,
          44,
          45,
          46,
          47,
          48,
          49,
          50,
          51,
          52,
          53,
          54,
          55,
          56,
          57,
          58,
          59,
          60,
          61,
          62,
          63
         ],
         "xaxis": "x78",
         "y": [
          0.6844401653041028,
          0.5780054837973019,
          0.783660575095428,
          1.2715447920168508,
          1.3127029582569805,
          2.7763285432000666,
          2.8946634832034484,
          3.1404388595031856,
          3.3732656148711095,
          2.6744800277759446,
          2.0600157586795573,
          2.0562185826933828,
          1.3712504949252549,
          1.2251764937933778,
          1.238763936393125,
          0.8529831116702172,
          0.8270909265595099,
          0.71562343260575,
          0.6190242872855976,
          0.4244038030330908,
          0.6663650577201046,
          0.4739342359545965,
          0.5140306843782713,
          0.5629012304276452,
          0.6212151136032142,
          0.5166404615970918,
          0.5729048662182361,
          0.2114319800314382,
          0.23440352085388416,
          0.2625666520846785,
          0.3015260027093695,
          0.35723184868647584,
          0.4360592851843677,
          0.5456953377097695,
          0.6955310979108462,
          0.8962686659552153,
          2.316675543259201,
          4.45768287531229,
          5.427656959993776,
          7.502830633310232,
          9.549598292584204,
          7.2179839195431,
          5.18091798627998,
          3.0912772759379274,
          1.8497133483213144,
          1.4772432377331468,
          0.9504749961888134,
          0.8692533367458353,
          0.8377228605881213,
          0.8427278509785694,
          0.8743881387719782,
          1.540497968030493,
          1.6402919708116244,
          1.7238831924148372,
          1.04755417531715,
          1.3618612491137287
         ],
         "yaxis": "y78"
        },
        {
         "mode": "lines",
         "type": "scatter",
         "x": [
          null
         ],
         "xaxis": "x79",
         "y": [
          null
         ],
         "yaxis": "y79"
        },
        {
         "mode": "lines",
         "type": "scatter",
         "x": [
          8,
          9,
          10,
          11,
          12,
          13,
          14,
          15,
          16,
          17,
          18,
          19,
          20,
          21,
          22,
          23,
          24,
          25,
          26,
          27,
          28,
          29,
          30,
          31,
          32,
          33,
          34,
          35,
          36,
          37,
          38,
          39,
          40,
          41,
          42,
          43,
          44,
          45,
          46,
          47,
          48,
          49,
          50,
          51,
          52,
          53,
          54,
          55,
          56,
          57,
          58,
          59
         ],
         "xaxis": "x80",
         "y": [
          3.6705307084224033,
          3.4642461735694323,
          3.2726332054731677,
          2.669854859592301,
          1.8420063010183745,
          1.5839212349502805,
          1.0858933253069991,
          1.1302687237606128,
          0.7994578197546229,
          0.3891854728122032,
          0.5187443297611245,
          0.6681099548247971,
          0.7114531700591373,
          0.9295313820429536,
          0.8481950635159109,
          0.91975924640312,
          0.9791444752851745,
          0.8207475398973221,
          0.6379559054652231,
          0.658834388025889,
          0.4573311171059738,
          0.4841599687489362,
          0.5231123735352771,
          0.8672073143715845,
          0.9766031544965031,
          1.105109633774227,
          2.050310696295789,
          4.869907494321118,
          5.4468429522342126,
          5.826744650838518,
          4.672032311596876,
          3.515032758051228,
          3.045420193516128,
          2.408663718604134,
          1.2455313945902924,
          1.0697129476526217,
          0.8617204945930682,
          0.8985998978242132,
          1.2310358770938332,
          1.4183029669466043,
          1.624207878725192,
          2.7192159336884045,
          3.1868309776214248,
          2.9751656348349536,
          2.7674247806505474,
          2.347794952212121,
          1.9297582634961716,
          1.745344740983637,
          1.5369068430596242,
          1.2470851568600232,
          1.152917633318708,
          1.056515845193319
         ],
         "yaxis": "y80"
        },
        {
         "mode": "lines",
         "type": "scatter",
         "x": [
          8,
          9,
          10,
          11,
          12,
          13,
          14,
          15,
          16,
          17,
          18,
          19,
          20,
          21,
          22,
          23,
          24,
          25,
          26,
          27,
          28,
          29,
          30,
          31,
          32,
          33,
          34,
          35,
          36,
          37,
          38,
          39,
          40,
          41,
          42,
          43,
          44,
          45,
          46,
          47,
          48,
          49,
          50,
          51,
          52,
          53,
          54,
          55,
          56,
          57,
          58,
          59,
          60,
          61,
          62,
          63,
          64,
          65,
          66,
          67,
          68,
          69,
          70
         ],
         "xaxis": "x81",
         "y": [
          3.5419089124251784,
          1.8023826793689168,
          1.5704173470139395,
          1.3187498525783994,
          0.7083435824805955,
          0.775801725467242,
          0.648889521944269,
          0.5466410522724758,
          0.6814814957526245,
          0.8437274454494319,
          0.7783254685357777,
          0.9784293342993712,
          0.8954462368276994,
          1.2579506431356418,
          1.9602310204606288,
          2.1714700876468043,
          1.8193442335578418,
          3.752068882628703,
          3.2863148729809124,
          2.9038976997000074,
          2.2495379486304232,
          1.9748374197083576,
          1.7609437385150857,
          1.5490080133148023,
          0.7316010599602387,
          0.8473550825939435,
          0.8616037016990518,
          0.8504403991469136,
          0.5925750362016754,
          0.5539627796898765,
          0.6330665522648736,
          0.5452901392287595,
          0.5811968903459344,
          0.4858944587791509,
          0.5254277117372402,
          0.6526227947150721,
          0.6239302429734558,
          0.5850893293694939,
          0.8499076229137593,
          0.5759364717860948,
          0.6202193363441013,
          0.6629426240376992,
          0.5669937509825548,
          0.7606617772028329,
          1.148509422053678,
          0.8868240145356028,
          1.3265902785024066,
          1.782971499493211,
          3.0383269210347934,
          3.2063894406110585,
          2.809395743065799,
          2.294477633535408,
          2.916470479035115,
          3.2021877320964887,
          3.2893167729312487,
          2.5743450409168185,
          2.7211681565296773,
          2.2464083739356537,
          2.1484823627600544,
          2.255177686342844,
          1.7838668523992247,
          1.4437135087767734,
          1.3031091096393632
         ],
         "yaxis": "y81"
        },
        {
         "mode": "lines",
         "type": "scatter",
         "x": [
          8,
          9,
          10,
          11,
          12,
          13,
          14,
          15,
          16,
          17,
          18,
          19,
          20,
          21,
          22,
          23,
          24,
          25,
          26,
          27,
          28,
          29,
          30,
          31,
          32,
          33,
          34,
          35,
          36,
          37,
          38,
          39,
          40,
          41,
          42,
          43,
          44,
          45,
          46,
          47,
          48,
          49,
          50,
          51,
          52,
          53,
          54,
          55,
          56,
          57,
          58,
          59,
          60,
          61,
          62,
          63
         ],
         "xaxis": "x82",
         "y": [
          3.6630537517752986,
          3.2636797815518532,
          2.4587131590911304,
          1.9330740147031555,
          1.719782453835601,
          1.8409650578355037,
          1.6074603724745349,
          1.428241681186886,
          1.074276412348935,
          0.8653639116955294,
          1.0553325486711655,
          1.2095438001885463,
          1.070707308933891,
          1.1173277935131838,
          1.115094601655621,
          0.9751378446160396,
          1.0102763381980433,
          0.7408207974356897,
          0.4780295772368446,
          0.3500886025983264,
          0.3594440117598371,
          0.3321070023781328,
          0.4127709837692979,
          0.4600452590997289,
          0.5210981066455292,
          0.667612768576145,
          0.6726687495380798,
          0.3760657940987677,
          0.4126593001400716,
          0.3361620166957562,
          0.48980094424974396,
          0.9508712503043634,
          1.0699260771148502,
          1.1990623942670626,
          1.3030509830698809,
          1.7450798459281096,
          1.7518108732009925,
          1.5172296455986822,
          1.4422083553283738,
          1.5261196350355624,
          1.6021773309004663,
          1.5265369127343806,
          1.7509288303780577,
          1.9498178088033236,
          2.115960001853669,
          1.7370699454098422,
          1.603786783226966,
          1.3637549947021332,
          1.5474607591739733,
          1.3585583016747995,
          1.6344706545484289,
          1.399403802258502,
          1.4191101527681194,
          1.2043835667596652,
          1.3661308829451606,
          1.4499784337292227
         ],
         "yaxis": "y82"
        },
        {
         "mode": "lines",
         "type": "scatter",
         "x": [
          8,
          9,
          10,
          11,
          12,
          13,
          14,
          15,
          16,
          17,
          18,
          19,
          20,
          21,
          22,
          23,
          24,
          25,
          26,
          27,
          28,
          29,
          30,
          31,
          32,
          33,
          34,
          35,
          36,
          37,
          38,
          39,
          40,
          41,
          42,
          43,
          44,
          45,
          46,
          47,
          48,
          49,
          50
         ],
         "xaxis": "x88",
         "y": [
          2.345156468861374,
          1.8858481560493128,
          2.3933482994361777,
          2.1572094824082493,
          1.3515842548217896,
          1.2851020327522316,
          1.233971343552151,
          1.2129161709627438,
          1.223033730546412,
          0.6286577600385216,
          0.6540927767452456,
          0.6921985172837525,
          0.7562341078549941,
          0.856559621100903,
          1.0011754867002924,
          1.1975487054271752,
          1.4519884591059584,
          1.7671786714190605,
          2.1387429860627902,
          2.552411632693353,
          2.9840379591462,
          3.403953943310229,
          3.7844749579776846,
          4.106793782330452,
          8.727663241300226,
          13.597309142478624,
          16.99887320945334,
          15.880548390605858,
          10.007387764173608,
          17.254238371030958,
          11.227991116115382,
          7.325409404906028,
          4.390327754424832,
          2.7662231624949807,
          1.8829561478510881,
          1.5169583350922116,
          0.3569173632423792,
          0.5417186621029871,
          0.6240706129962466,
          0.6334920979301432,
          0.7821078498199668,
          0.8462326797616685,
          0.9196473934889476
         ],
         "yaxis": "y88"
        },
        {
         "mode": "lines",
         "type": "scatter",
         "x": [
          8,
          9,
          10,
          11,
          12,
          13,
          14,
          15,
          16,
          17,
          18,
          19,
          20,
          21,
          22,
          23,
          24,
          25,
          26,
          27,
          28,
          29,
          30,
          31,
          32,
          33,
          34,
          35,
          36,
          37,
          38,
          39,
          40,
          41,
          42,
          43,
          44,
          45,
          46,
          47,
          48,
          49,
          50,
          51,
          52,
          53,
          54,
          55,
          56,
          57,
          58
         ],
         "xaxis": "x89",
         "y": [
          1.804912901577212,
          0.4973740453367849,
          0.4377942428188625,
          0.41325135147074826,
          0.42102276752289375,
          0.4589890637344322,
          0.5280991438808492,
          1.2655884193287654,
          1.5592355050857982,
          1.9199376746872143,
          2.2471184229899706,
          2.422552728328354,
          3.634653574401296,
          3.470377762472719,
          2.1296419590997493,
          1.8903271451089307,
          1.674640999612501,
          2.3022765477384857,
          2.193921055951518,
          1.419172517512221,
          1.3660294543215772,
          1.9663636775794568,
          1.9189420384579243,
          1.8948782573977327,
          1.2376636108345775,
          1.196584580446886,
          1.1587342220218395,
          1.1464128834943002,
          0.5817434351399865,
          0.6025834046255273,
          0.6388928283785792,
          0.7013521633401898,
          0.798946991447596,
          0.9393773442427459,
          1.1303733813108932,
          1.37893454625455,
          6.755465946869887,
          8.165197005942192,
          8.5377061744353,
          6.7136522070249605,
          4.635757553757553,
          3.29736524240345,
          2.5219864459663675,
          0.5161280895188061,
          0.8932597476573371,
          0.8229309861216103,
          0.8135140693420029,
          0.8480095892834321,
          0.9132663469919028,
          0.9995050777115236,
          1.097882136874877
         ],
         "yaxis": "y89"
        },
        {
         "mode": "lines",
         "type": "scatter",
         "x": [
          8,
          9,
          10,
          11,
          12,
          13,
          14,
          15,
          16,
          17,
          18,
          19,
          20,
          21,
          22,
          23,
          24,
          25,
          26,
          27,
          28,
          29,
          30,
          31,
          32,
          33,
          34,
          35,
          36,
          37,
          38,
          39,
          40,
          41,
          42,
          43,
          44,
          45,
          46,
          47,
          48,
          49,
          50,
          51,
          52,
          53,
          54,
          55,
          56,
          57,
          58,
          59,
          60,
          61,
          62,
          63
         ],
         "xaxis": "x90",
         "y": [
          5.2899214850041725,
          3.983635071748537,
          4.339397719613073,
          3.7576779313565867,
          3.0432464677867617,
          2.2721402756022786,
          1.7067801669970115,
          1.6270807353838548,
          1.5924207414016485,
          1.0660078705758584,
          0.8782389802219619,
          0.7221000136877924,
          0.9461212932081332,
          0.8354709320043906,
          0.7372513148054196,
          1.020601878477126,
          1.0642347935545833,
          1.2478930417452028,
          1.2877386199156176,
          1.3071052881286689,
          1.7369092378227262,
          1.5640917014378033,
          0.963538836995146,
          1.0504016972754884,
          1.0045367630372328,
          1.1022084206743574,
          0.8528235661943838,
          0.7358754056766177,
          0.8703210633142399,
          1.0188834488495653,
          0.9228065558544,
          1.0936408266095412,
          1.2689815344366293,
          1.586900257324375,
          1.3108572580776865,
          1.2962300701251777,
          2.934896042740144,
          3.635053909749266,
          3.2866928672814457,
          2.787776205184456,
          2.2425598055815708,
          2.099719372355928,
          1.7242789797742242,
          0.7585860544705826,
          0.4750926340169934,
          0.39568791823698496,
          0.3890131236639385,
          0.4017746739203469,
          0.27015637743347404,
          0.3589823024316055,
          0.5406817633345488,
          0.5420897127174445,
          0.6231170712607662,
          0.6077923247140794,
          0.566628629033196,
          0.6230786927566458
         ],
         "yaxis": "y90"
        },
        {
         "mode": "lines",
         "type": "scatter",
         "x": [
          8,
          9,
          10,
          11,
          12,
          13,
          14,
          15,
          16,
          17,
          18,
          19,
          20,
          21,
          22,
          23,
          24,
          25,
          26,
          27,
          28,
          29,
          30,
          31,
          32,
          33,
          34,
          35,
          36,
          37,
          38,
          39,
          40,
          41,
          42,
          43,
          44,
          45,
          46,
          47,
          48,
          49,
          50,
          51,
          52,
          53,
          54,
          55,
          56,
          57,
          58,
          59,
          60,
          61,
          62,
          63,
          64,
          65,
          66,
          67,
          68,
          69,
          70,
          71,
          72
         ],
         "xaxis": "x91",
         "y": [
          8.02011709251968,
          7.241347989883697,
          5.841098505209937,
          4.961594676732198,
          5.733380600954807,
          5.5272495308002405,
          4.638007553897535,
          3.157196182309405,
          2.9843815537041527,
          3.8899468565503215,
          3.7833496576991648,
          3.096003433436262,
          2.546104646010605,
          2.1042468641822865,
          2.0576516374395157,
          1.5943346836435928,
          1.1627060590960034,
          0.9563301189643548,
          0.9202249567831612,
          0.8840220141078919,
          0.8542642688811191,
          0.6797665724667193,
          0.8092886443314664,
          0.6528308023193194,
          0.5975623609807307,
          0.5909024034191332,
          0.5766764428737471,
          0.5979637553445092,
          0.6599399919462375,
          0.6175848757871037,
          0.6205041763904207,
          0.6768914521008644,
          0.5062692467267044,
          0.4729533945053127,
          0.4509821226452282,
          0.7429304881803634,
          0.7431954642528404,
          0.806656982029668,
          0.8910210059386531,
          1.092461115962335,
          1.1634116991763137,
          1.2958426615566845,
          0.955620985136106,
          1.0217818133537402,
          1.0782973792280703,
          0.9103957009745824,
          0.8278715774778851,
          0.8014669769742165,
          0.7568060815170831,
          0.6931006328808369,
          0.5801290002817797,
          0.5465042994110613,
          0.7435364492144821,
          0.9990113086088176,
          1.193334872641231,
          1.158601146499326,
          1.2300945939097088,
          1.6215456632743392,
          1.6636648821102231,
          1.7762960477959857,
          1.7500482488838374,
          1.9634593178656057,
          1.7905928642087965,
          1.6476648864345154,
          1.7198639259416495
         ],
         "yaxis": "y91"
        },
        {
         "mode": "lines",
         "type": "scatter",
         "x": [
          8,
          9,
          10,
          11,
          12,
          13,
          14,
          15,
          16,
          17,
          18,
          19,
          20,
          21,
          22,
          23,
          24,
          25,
          26,
          27,
          28,
          29,
          30,
          31,
          32,
          33,
          34,
          35,
          36,
          37,
          38,
          39,
          40,
          41,
          42,
          43,
          44,
          45,
          46,
          47,
          48,
          49,
          50,
          51,
          52,
          53,
          54,
          55,
          56,
          57,
          58,
          59,
          60,
          61,
          62
         ],
         "xaxis": "x92",
         "y": [
          4.713228410593884,
          4.494159931022669,
          2.980230577004435,
          3.0504801722987165,
          2.240502135113203,
          1.9088449730204704,
          1.6663128342420732,
          1.493213896887229,
          1.029341726602925,
          1.128396307029338,
          0.7747732669904378,
          0.7622525608460173,
          0.6126650280564271,
          1.257796637480572,
          1.4809442374525568,
          1.730068227322796,
          1.7757279527971146,
          1.924953461535145,
          1.6622035642532036,
          1.5444568638701062,
          0.8560514593090799,
          0.9307438660344692,
          0.7608114499342915,
          1.2487688807828932,
          1.1381758229085106,
          1.1670069145449071,
          1.5839202654866618,
          1.8562730570537098,
          1.5700095076092713,
          1.6350263292618834,
          0.9471058510657084,
          0.886887648412838,
          1.1567618361950207,
          1.1283944524342338,
          0.9213830224655468,
          0.9266048532745156,
          0.8299038971658218,
          0.8399441898146088,
          0.8560365103793104,
          0.5496235979890597,
          0.3408853689067471,
          0.7112183578018084,
          0.6305056188253806,
          0.6842107858211293,
          0.7478915241187033,
          0.9793798227736868,
          1.237794969484099,
          1.5108144354610336,
          1.3773584456448296,
          1.784669064732629,
          1.746321056018346,
          2.0467696251501866,
          1.9315316650443477,
          1.7987603147077238,
          1.3562407848154552
         ],
         "yaxis": "y92"
        },
        {
         "mode": "lines",
         "type": "scatter",
         "x": [
          8,
          9,
          10,
          11,
          12,
          13,
          14,
          15,
          16,
          17,
          18,
          19,
          20,
          21,
          22,
          23,
          24,
          25,
          26,
          27,
          28,
          29,
          30,
          31,
          32,
          33,
          34,
          35,
          36,
          37,
          38,
          39,
          40,
          41,
          42,
          43,
          44,
          45,
          46,
          47,
          48,
          49,
          50,
          51,
          52,
          53,
          54,
          55,
          56,
          57,
          58,
          59,
          60,
          61,
          62,
          63,
          64,
          65,
          66,
          67,
          68,
          69,
          70
         ],
         "xaxis": "x93",
         "y": [
          8.442866613475019,
          7.977897589496296,
          7.197954600859378,
          8.118363992682422,
          6.025219786227138,
          4.177703257668308,
          4.1366983064898335,
          3.727267389056935,
          3.090459440913686,
          2.837466160413192,
          2.3974804334646738,
          2.363172314967129,
          2.2934588589984553,
          1.8672084701335692,
          1.6281151999023058,
          1.816031883126395,
          1.427806653922468,
          1.3548390989526051,
          1.1925902283610683,
          1.092466881197214,
          0.9503919956123712,
          0.9994197372671868,
          0.8023249966021924,
          0.920244162132124,
          0.8503119752423994,
          0.9091757277696207,
          0.9265952735940116,
          1.169932730998717,
          1.0119729509454054,
          1.0394803070386345,
          0.974042154084428,
          0.9366134537522928,
          0.8504931262162907,
          0.8337654593406375,
          0.6746493359533391,
          0.6012148143522976,
          0.5991342720229155,
          0.728733090421547,
          0.8039777835983516,
          0.8915223908884664,
          1.0050605936733892,
          1.1384746403936072,
          1.2846057597355451,
          1.4125995383849133,
          1.3110123651695402,
          1.1895100478664502,
          1.166700850472252,
          0.9793360571083659,
          0.9087361876309958,
          0.8702274073943518,
          0.7293379017371381,
          0.7914524627175834,
          0.8058543636543551,
          0.8696189108520755,
          0.9832692828109604,
          1.0383047156143683,
          1.4442896667790226,
          1.5342902452182894,
          1.6193157088588188,
          1.6826398619709189,
          1.536041207328953,
          1.5354010644904668,
          1.7030062963229298
         ],
         "yaxis": "y93"
        },
        {
         "mode": "lines",
         "type": "scatter",
         "x": [
          8,
          9,
          10,
          11,
          12,
          13,
          14,
          15,
          16,
          17,
          18,
          19,
          20,
          21,
          22,
          23,
          24,
          25,
          26,
          27,
          28,
          29,
          30,
          31,
          32,
          33,
          34,
          35,
          36,
          37,
          38,
          39,
          40,
          41,
          42,
          43,
          44,
          45,
          46,
          47,
          48,
          49,
          50,
          51,
          52,
          53,
          54,
          55,
          56,
          57,
          58,
          59,
          60,
          61,
          62,
          63,
          64,
          65,
          66,
          67,
          68,
          69
         ],
         "xaxis": "x94",
         "y": [
          16.01294758679699,
          11.654171948582349,
          10.244588792457655,
          7.086080429232307,
          5.427928366010529,
          4.815084943160202,
          3.6334465956089264,
          3.0936112502067603,
          3.228824339865637,
          2.7094259074451625,
          2.214857843650549,
          2.128769200783533,
          1.7940920311761732,
          1.8157946312151343,
          1.913184909749428,
          1.3755179925607497,
          1.5308495359397196,
          1.5500066282830272,
          1.3922520070621782,
          1.3620033675899894,
          1.2470419042781884,
          1.0653026868723234,
          1.1644697054572295,
          0.9302664084145408,
          0.8518233587241952,
          0.8146454659050745,
          0.7823230711432092,
          0.8063449403678432,
          0.7791145475711707,
          0.7536810511434836,
          0.8302814463254553,
          0.8737506894984562,
          0.885095919444793,
          0.901563344454778,
          0.9260386315373136,
          0.9072574750735016,
          1.0133968670008642,
          1.068241054108785,
          1.0873107126455814,
          1.1028461235270122,
          1.1514206113482317,
          1.2462955320304423,
          1.3509101657748437,
          1.3454776255314156,
          1.2958415023244003,
          1.2662255001992562,
          1.235548470456438,
          1.2320918479443337,
          1.1511835323441433,
          1.1946578080070611,
          1.2118561502558,
          1.1847621279208354,
          1.1873647515347343,
          1.1442048422919406,
          1.1645895875337882,
          1.2422482876220582,
          1.2146544898159362,
          1.3228747710709552,
          1.4166135616229936,
          1.3634341438112159,
          1.3490345054577193,
          1.4885595255510546
         ],
         "yaxis": "y94"
        },
        {
         "mode": "lines",
         "type": "scatter",
         "x": [
          8,
          9,
          10,
          11,
          12,
          13,
          14,
          15,
          16,
          17,
          18,
          19,
          20,
          21,
          22,
          23,
          24,
          25,
          26,
          27,
          28,
          29,
          30,
          31,
          32,
          33,
          34,
          35,
          36,
          37,
          38,
          39,
          40,
          41,
          42,
          43,
          44,
          45,
          46,
          47,
          48,
          49,
          50,
          51,
          52,
          53,
          54,
          55,
          56,
          57
         ],
         "xaxis": "x100",
         "y": [
          2.5969569851706797,
          2.2368549493100605,
          1.9560300168236435,
          1.7691427546940648,
          1.6603794055028729,
          2.4074226250775244,
          1.5814176617932716,
          1.5560650934442442,
          2.270093505690876,
          2.2155465120189857,
          2.88333734662318,
          3.4570128389987653,
          2.5737059745997706,
          3.4487594528244068,
          3.0056217916930894,
          3.037266284346116,
          3.741218179118166,
          3.546620417000371,
          3.5801503108963275,
          4.167238056513924,
          3.0830304243981006,
          2.8597565573370467,
          2.2280321021963196,
          1.6522604524942748,
          1.331555126123546,
          1.1035756634871197,
          0.7064688001233046,
          0.7501266901601831,
          0.8139840067243937,
          0.902363478783522,
          1.1688603449104789,
          1.2995308284036236,
          1.5933473425215874,
          1.523972451293304,
          1.9940337103313936,
          2.0669682006806798,
          2.2363475224092126,
          1.7818701664520344,
          1.550950041370483,
          1.1754573966763442,
          1.074672725583316,
          0.7187024181681408,
          0.5071533955896729,
          0.2737302473664572,
          0.32600983131584743,
          0.2953385241019113,
          0.2692429770290853,
          0.4240717403541063,
          0.4870976864483678,
          0.7274633083049854
         ],
         "yaxis": "y100"
        },
        {
         "mode": "lines",
         "type": "scatter",
         "x": [
          8,
          9,
          10,
          11,
          12,
          13,
          14,
          15,
          16,
          17,
          18,
          19,
          20,
          21,
          22,
          23,
          24,
          25,
          26,
          27,
          28,
          29,
          30,
          31,
          32,
          33,
          34,
          35,
          36,
          37,
          38,
          39,
          40,
          41,
          42,
          43,
          44
         ],
         "xaxis": "x101",
         "y": [
          2.568994773982689,
          1.9904950121976688,
          1.0974899794346642,
          0.9698161079248258,
          0.4551695912256935,
          0.4514410630258103,
          0.4711040800444852,
          0.5172015667576108,
          1.1882116724070837,
          1.4141557143995709,
          1.7001807424321742,
          1.975475044647801,
          2.1535247857636777,
          2.2031632468194515,
          2.1587872700933644,
          1.0363702897559517,
          0.991849912191323,
          2.9101900277493544,
          2.977368558118476,
          3.080831159537275,
          3.015174254643941,
          2.7572112295706037,
          4.055535351104287,
          4.278084825472395,
          2.4863139954487155,
          4.2117215452785315,
          3.5422427414545448,
          2.996141080608244,
          2.516048595720409,
          1.8554964038548607,
          1.5943388647276415,
          1.6133771174385685,
          0.7386119827851985,
          0.6946470168025871,
          0.6714680334047728,
          0.6731572975560919,
          0.6982299076864666
         ],
         "yaxis": "y101"
        },
        {
         "mode": "lines",
         "type": "scatter",
         "x": [
          8,
          9,
          10,
          11,
          12,
          13,
          14,
          15,
          16,
          17,
          18,
          19,
          20,
          21,
          22,
          23,
          24,
          25,
          26,
          27,
          28,
          29,
          30,
          31,
          32,
          33,
          34,
          35,
          36,
          37,
          38,
          39,
          40,
          41,
          42,
          43,
          44,
          45,
          46,
          47,
          48,
          49,
          50,
          51,
          52,
          53,
          54,
          55,
          56,
          57,
          58,
          59,
          60,
          61,
          62
         ],
         "xaxis": "x102",
         "y": [
          3.9018500282164377,
          4.569551957246466,
          4.071825300923326,
          4.417024365235559,
          4.44371250510085,
          4.269152492805232,
          3.4838398041449112,
          2.4306364285128144,
          1.6658624763769716,
          1.6935965166895892,
          1.2496186839343812,
          0.9228802924269442,
          0.6595948648396363,
          0.6475766073116161,
          0.4376847924314049,
          0.4580689569043403,
          0.2468066610407315,
          0.27342242426578073,
          0.3113627769468221,
          0.3655456973007922,
          0.4421450983665919,
          0.5486332902334848,
          0.6941033753273305,
          0.8889606003895736,
          1.1435098767731853,
          1.4650048756018512,
          1.8532386874749267,
          4.5921832453118405,
          5.516712250691106,
          9.078026487751414,
          8.370507942775543,
          6.55597278710595,
          4.754854654762059,
          3.5076016573218203,
          2.7336616675167984,
          3.0086104755168703,
          1.9536483381094616,
          2.899450589857018,
          3.150260512433812,
          4.784125297995059,
          4.271843067059971,
          3.6346805770583748,
          3.244497916255765,
          4.99059630157479,
          3.7070940342127567,
          2.8849561376956947,
          1.9515071086194091,
          1.8211287622577224,
          1.7406217267789583,
          1.3890826214038303,
          0.6759005883978368,
          0.8457623084785424,
          0.8834660078356307,
          0.8803686287062797,
          0.9669978453458288
         ],
         "yaxis": "y102"
        },
        {
         "mode": "lines",
         "type": "scatter",
         "x": [
          8,
          9,
          10,
          11,
          12,
          13,
          14,
          15,
          16,
          17,
          18,
          19,
          20,
          21,
          22,
          23,
          24,
          25,
          26,
          27,
          28,
          29,
          30,
          31,
          32,
          33,
          34,
          35,
          36,
          37,
          38,
          39,
          40,
          41,
          42,
          43,
          44,
          45,
          46,
          47,
          48,
          49,
          50,
          51,
          52,
          53,
          54,
          55,
          56,
          57,
          58,
          59,
          60,
          61,
          62
         ],
         "xaxis": "x103",
         "y": [
          6.0749525009784255,
          4.3693278141426495,
          4.056052606577894,
          3.3958363185159204,
          2.9027219797784523,
          2.3751842633195364,
          1.7129742392763352,
          1.1100707449968021,
          0.9888820612449306,
          1.5252077219496427,
          1.9569764925470867,
          2.1147278661638778,
          1.9588468938086263,
          2.5392884472759114,
          2.5580917975307624,
          2.437195224333149,
          1.8351511537196337,
          1.4978360504779855,
          1.1781789049463574,
          1.2024765248135867,
          0.75010077594732,
          0.5612007137967637,
          0.6717464342019971,
          0.801124089274513,
          0.9164574937872312,
          1.097244314975608,
          1.1529266895842565,
          1.7647426469029637,
          2.796848250232429,
          3.971034908602284,
          3.4285128027246703,
          3.2293720426009984,
          2.9954913108744483,
          2.4980853272897408,
          2.1191072204290817,
          1.8578695880392384,
          1.4646083750555308,
          1.577980361036531,
          1.626056197712895,
          1.4941356304660292,
          1.4635085047122574,
          1.3591512368663368,
          1.2340870703957891,
          1.0081789974928674,
          0.8542401437926784,
          0.6496952671537272,
          0.6057486511774696,
          0.6193849901610249,
          0.6384680459067147,
          0.6127507106532376,
          0.7720850004138965,
          0.8227840224003434,
          0.8288613441253806,
          0.8487453131785535,
          0.9210206375032352
         ],
         "yaxis": "y103"
        },
        {
         "mode": "lines",
         "type": "scatter",
         "x": [
          8,
          9,
          10,
          11,
          12,
          13,
          14,
          15,
          16,
          17,
          18,
          19,
          20,
          21,
          22,
          23,
          24,
          25,
          26,
          27,
          28,
          29,
          30,
          31,
          32,
          33,
          34,
          35,
          36,
          37,
          38,
          39,
          40,
          41,
          42,
          43,
          44,
          45,
          46,
          47,
          48,
          49,
          50,
          51,
          52,
          53,
          54,
          55,
          56,
          57,
          58,
          59,
          60,
          61,
          62,
          63,
          64
         ],
         "xaxis": "x104",
         "y": [
          3.2643158815283,
          2.0932800683975907,
          1.3126473214414858,
          1.5233467729815664,
          1.3913891614705451,
          1.3268042615628002,
          0.9730412316613865,
          2.568508996916815,
          3.5271257401195983,
          3.467846934953048,
          2.8971642474987656,
          3.7140174388721947,
          3.093638929217476,
          2.7535784397679923,
          1.4434427044026736,
          1.7192314534337865,
          2.263927545898337,
          2.0644039905038043,
          1.6375398574228883,
          1.588280119224352,
          1.9142450990737303,
          2.0516529293724037,
          2.8936478509627364,
          2.489452657913229,
          3.010742043476168,
          2.54466674709655,
          2.154595031000501,
          1.7442713796833704,
          1.5171353096986333,
          0.9102140897474232,
          1.0611358354026992,
          1.1221303899889583,
          1.1628397978623664,
          1.2219491058292056,
          1.1471377791112831,
          1.4312872801859375,
          1.3854814683859376,
          1.2866768163674047,
          1.0954996302483295,
          1.2753809016513165,
          1.445064135963258,
          1.4036569207589693,
          1.1048660054931578,
          1.1720198810643931,
          0.9578035205914388,
          0.7797915200414071,
          0.6346457565170228,
          0.4865269075249932,
          0.544254739385399,
          0.5147283651861654,
          0.4921451546529221,
          0.8842145623103589,
          1.068092641994115,
          1.08741451712762,
          1.1260010931316242,
          1.1283804505939858,
          1.3520277583523777
         ],
         "yaxis": "y104"
        },
        {
         "mode": "lines",
         "type": "scatter",
         "x": [
          8,
          9,
          10,
          11,
          12,
          13,
          14,
          15,
          16,
          17,
          18,
          19,
          20,
          21,
          22,
          23,
          24,
          25,
          26,
          27,
          28,
          29,
          30,
          31,
          32,
          33,
          34,
          35,
          36,
          37,
          38,
          39,
          40,
          41,
          42,
          43,
          44,
          45,
          46,
          47,
          48,
          49,
          50,
          51,
          52,
          53,
          54,
          55,
          56,
          57,
          58,
          59,
          60,
          61,
          62,
          63,
          64,
          65,
          66
         ],
         "xaxis": "x105",
         "y": [
          5.6169840349738935,
          3.6070616566253872,
          3.0485074606626386,
          3.4765307471389093,
          3.5547225197347454,
          2.9925015465481373,
          2.5276914432596658,
          2.025850210310705,
          2.2755474457963087,
          3.2611299587621536,
          3.472322058592092,
          3.6952059696010084,
          3.1087058016919555,
          3.1184443162668734,
          2.756663285312792,
          2.3293893001265293,
          1.9208473470188705,
          1.546178449330341,
          1.326696408755328,
          1.4913273417697783,
          1.2723233159018024,
          1.255454564502512,
          1.1422797945103704,
          1.146349727636749,
          1.0562668417415952,
          1.0046699591907953,
          1.0155846386635106,
          1.0326078729704435,
          1.028199384055804,
          1.0675479456306605,
          1.0128833796150132,
          1.1728376934421674,
          1.3032982170262564,
          1.2551479585317236,
          1.2111168695674122,
          1.0796570807786925,
          1.0612724521618602,
          1.045250400596082,
          1.1679780981676957,
          1.93109462986258,
          2.25004530615556,
          2.224641613945169,
          2.199497897666612,
          2.146944031054171,
          1.8525757018246345,
          1.6569606778301442,
          1.0180730174124526,
          0.8041114770201433,
          0.8540992610478042,
          0.819630322344191,
          0.8058643148577999,
          0.8814922244231429,
          0.8830217864454084,
          0.9158625275368092,
          1.0383583544983792,
          0.9794128475646204,
          0.9866309487396442,
          0.9608912899490448,
          0.9818966442594174
         ],
         "yaxis": "y105"
        },
        {
         "mode": "lines",
         "type": "scatter",
         "x": [
          8,
          9,
          10,
          11,
          12,
          13,
          14,
          15,
          16,
          17,
          18,
          19,
          20,
          21,
          22,
          23,
          24,
          25,
          26,
          27,
          28,
          29,
          30,
          31,
          32,
          33,
          34,
          35,
          36,
          37,
          38,
          39,
          40,
          41,
          42,
          43,
          44,
          45,
          46,
          47,
          48,
          49,
          50,
          51,
          52,
          53,
          54,
          55,
          56,
          57,
          58,
          59,
          60,
          61,
          62,
          63,
          64,
          65,
          66,
          67,
          68,
          69
         ],
         "xaxis": "x106",
         "y": [
          3.889041983422575,
          4.369684763569538,
          3.6110834542091514,
          3.7327920059117585,
          3.1158162498103525,
          3.680787598017629,
          2.6860948288627693,
          2.676856603696299,
          4.261766216531154,
          3.9808291800571527,
          4.146490986479951,
          4.453832046089525,
          3.6146173546470695,
          3.6946580153401496,
          3.5097966370155365,
          2.2590474731994,
          2.728947506151018,
          2.242256310933829,
          2.1482342283330405,
          1.794064692129969,
          2.045350720269691,
          2.2117349567656626,
          2.1802706193499284,
          1.950261973102192,
          1.6758302217352998,
          1.729768693149032,
          1.6364291839809535,
          1.2359958888745872,
          1.1092740370409269,
          1.0788305673768244,
          0.8952504428150645,
          0.9736695399277172,
          0.8479695496202585,
          1.0169382200354269,
          1.2298927005135276,
          1.2465983423015738,
          1.5809059538450432,
          1.754008658900582,
          1.6548909853850509,
          1.948886573522304,
          1.7596996870797428,
          1.9086017969462292,
          2.049257947627686,
          1.751811249653049,
          1.7236108277527782,
          1.7512554253429993,
          1.9781958720211337,
          1.9438164364232524,
          1.7398313774506375,
          1.634509975448854,
          1.6859144281354628,
          1.5331071270037713,
          1.4099701671928138,
          1.1238367449063822,
          1.047928714333915,
          1.0734375426514309,
          1.2238216570664489,
          1.3625680899780843,
          1.3009247714257666,
          1.2656141084544057,
          1.182659385823106,
          1.2645267029247835
         ],
         "yaxis": "y106"
        }
       ],
       "layout": {
        "annotations": [
         {
          "font": {
           "size": 7
          },
          "showarrow": false,
          "text": "Douglas",
          "x": 0.11875,
          "xanchor": "center",
          "xref": "paper",
          "y": 1,
          "yanchor": "bottom",
          "yref": "paper"
         },
         {
          "font": {
           "size": 7
          },
          "showarrow": false,
          "text": "Bayfield",
          "x": 0.20347222222222222,
          "xanchor": "center",
          "xref": "paper",
          "y": 1,
          "yanchor": "bottom",
          "yref": "paper"
         },
         {
          "font": {
           "size": 7
          },
          "showarrow": false,
          "text": "Burnett",
          "x": 0.034027777777777775,
          "xanchor": "center",
          "xref": "paper",
          "y": 0.8827160493827161,
          "yanchor": "bottom",
          "yref": "paper"
         },
         {
          "font": {
           "size": 7
          },
          "showarrow": false,
          "text": "Washburn",
          "x": 0.11875,
          "xanchor": "center",
          "xref": "paper",
          "y": 0.8827160493827161,
          "yanchor": "bottom",
          "yref": "paper"
         },
         {
          "font": {
           "size": 7
          },
          "showarrow": false,
          "text": "Sawyer",
          "x": 0.20347222222222222,
          "xanchor": "center",
          "xref": "paper",
          "y": 0.8827160493827161,
          "yanchor": "bottom",
          "yref": "paper"
         },
         {
          "font": {
           "size": 7
          },
          "showarrow": false,
          "text": "Ashland",
          "x": 0.2881944444444444,
          "xanchor": "center",
          "xref": "paper",
          "y": 0.8827160493827161,
          "yanchor": "bottom",
          "yref": "paper"
         },
         {
          "font": {
           "size": 7
          },
          "showarrow": false,
          "text": "Iron",
          "x": 0.3729166666666666,
          "xanchor": "center",
          "xref": "paper",
          "y": 0.8827160493827161,
          "yanchor": "bottom",
          "yref": "paper"
         },
         {
          "font": {
           "size": 7
          },
          "showarrow": false,
          "text": "Oneida",
          "x": 0.4576388888888888,
          "xanchor": "center",
          "xref": "paper",
          "y": 0.8827160493827161,
          "yanchor": "bottom",
          "yref": "paper"
         },
         {
          "font": {
           "size": 7
          },
          "showarrow": false,
          "text": "Vilas",
          "x": 0.5423611111111111,
          "xanchor": "center",
          "xref": "paper",
          "y": 0.8827160493827161,
          "yanchor": "bottom",
          "yref": "paper"
         },
         {
          "font": {
           "size": 7
          },
          "showarrow": false,
          "text": "Polk",
          "x": 0.034027777777777775,
          "xanchor": "center",
          "xref": "paper",
          "y": 0.7654320987654322,
          "yanchor": "bottom",
          "yref": "paper"
         },
         {
          "font": {
           "size": 7
          },
          "showarrow": false,
          "text": "Barron",
          "x": 0.11875,
          "xanchor": "center",
          "xref": "paper",
          "y": 0.7654320987654322,
          "yanchor": "bottom",
          "yref": "paper"
         },
         {
          "font": {
           "size": 7
          },
          "showarrow": false,
          "text": "Chippewa",
          "x": 0.20347222222222222,
          "xanchor": "center",
          "xref": "paper",
          "y": 0.7654320987654322,
          "yanchor": "bottom",
          "yref": "paper"
         },
         {
          "font": {
           "size": 7
          },
          "showarrow": false,
          "text": "Rusk",
          "x": 0.2881944444444444,
          "xanchor": "center",
          "xref": "paper",
          "y": 0.7654320987654322,
          "yanchor": "bottom",
          "yref": "paper"
         },
         {
          "font": {
           "size": 7
          },
          "showarrow": false,
          "text": "Price",
          "x": 0.3729166666666666,
          "xanchor": "center",
          "xref": "paper",
          "y": 0.7654320987654322,
          "yanchor": "bottom",
          "yref": "paper"
         },
         {
          "font": {
           "size": 7
          },
          "showarrow": false,
          "text": "Lincoln",
          "x": 0.4576388888888888,
          "xanchor": "center",
          "xref": "paper",
          "y": 0.7654320987654322,
          "yanchor": "bottom",
          "yref": "paper"
         },
         {
          "font": {
           "size": 7
          },
          "showarrow": false,
          "text": "Langlade",
          "x": 0.5423611111111111,
          "xanchor": "center",
          "xref": "paper",
          "y": 0.7654320987654322,
          "yanchor": "bottom",
          "yref": "paper"
         },
         {
          "font": {
           "size": 7
          },
          "showarrow": false,
          "text": "Forest",
          "x": 0.6270833333333332,
          "xanchor": "center",
          "xref": "paper",
          "y": 0.7654320987654322,
          "yanchor": "bottom",
          "yref": "paper"
         },
         {
          "font": {
           "size": 7
          },
          "showarrow": false,
          "text": "Florence",
          "x": 0.7118055555555555,
          "xanchor": "center",
          "xref": "paper",
          "y": 0.7654320987654322,
          "yanchor": "bottom",
          "yref": "paper"
         },
         {
          "font": {
           "size": 7
          },
          "showarrow": false,
          "text": "Marinette",
          "x": 0.7965277777777777,
          "xanchor": "center",
          "xref": "paper",
          "y": 0.7654320987654322,
          "yanchor": "bottom",
          "yref": "paper"
         },
         {
          "font": {
           "size": 7
          },
          "showarrow": false,
          "text": "St. Croix",
          "x": 0.034027777777777775,
          "xanchor": "center",
          "xref": "paper",
          "y": 0.6481481481481483,
          "yanchor": "bottom",
          "yref": "paper"
         },
         {
          "font": {
           "size": 7
          },
          "showarrow": false,
          "text": "Dunn",
          "x": 0.11875,
          "xanchor": "center",
          "xref": "paper",
          "y": 0.6481481481481483,
          "yanchor": "bottom",
          "yref": "paper"
         },
         {
          "font": {
           "size": 7
          },
          "showarrow": false,
          "text": "Eau Claire",
          "x": 0.20347222222222222,
          "xanchor": "center",
          "xref": "paper",
          "y": 0.6481481481481483,
          "yanchor": "bottom",
          "yref": "paper"
         },
         {
          "font": {
           "size": 7
          },
          "showarrow": false,
          "text": "Clark",
          "x": 0.2881944444444444,
          "xanchor": "center",
          "xref": "paper",
          "y": 0.6481481481481483,
          "yanchor": "bottom",
          "yref": "paper"
         },
         {
          "font": {
           "size": 7
          },
          "showarrow": false,
          "text": "Taylor",
          "x": 0.3729166666666666,
          "xanchor": "center",
          "xref": "paper",
          "y": 0.6481481481481483,
          "yanchor": "bottom",
          "yref": "paper"
         },
         {
          "font": {
           "size": 7
          },
          "showarrow": false,
          "text": "Marathon",
          "x": 0.4576388888888888,
          "xanchor": "center",
          "xref": "paper",
          "y": 0.6481481481481483,
          "yanchor": "bottom",
          "yref": "paper"
         },
         {
          "font": {
           "size": 7
          },
          "showarrow": false,
          "text": "Shawano",
          "x": 0.5423611111111111,
          "xanchor": "center",
          "xref": "paper",
          "y": 0.6481481481481483,
          "yanchor": "bottom",
          "yref": "paper"
         },
         {
          "font": {
           "size": 7
          },
          "showarrow": false,
          "text": "Menominee",
          "x": 0.6270833333333332,
          "xanchor": "center",
          "xref": "paper",
          "y": 0.6481481481481483,
          "yanchor": "bottom",
          "yref": "paper"
         },
         {
          "font": {
           "size": 7
          },
          "showarrow": false,
          "text": "Oconto",
          "x": 0.7118055555555555,
          "xanchor": "center",
          "xref": "paper",
          "y": 0.6481481481481483,
          "yanchor": "bottom",
          "yref": "paper"
         },
         {
          "font": {
           "size": 7
          },
          "showarrow": false,
          "text": "Calumet",
          "x": 0.7965277777777777,
          "xanchor": "center",
          "xref": "paper",
          "y": 0.6481481481481483,
          "yanchor": "bottom",
          "yref": "paper"
         },
         {
          "font": {
           "size": 7
          },
          "showarrow": false,
          "text": "Door",
          "x": 0.9659722222222221,
          "xanchor": "center",
          "xref": "paper",
          "y": 0.6481481481481483,
          "yanchor": "bottom",
          "yref": "paper"
         },
         {
          "font": {
           "size": 7
          },
          "showarrow": false,
          "text": "Pierce",
          "x": 0.034027777777777775,
          "xanchor": "center",
          "xref": "paper",
          "y": 0.5308641975308642,
          "yanchor": "bottom",
          "yref": "paper"
         },
         {
          "font": {
           "size": 7
          },
          "showarrow": false,
          "text": "Pepin",
          "x": 0.11875,
          "xanchor": "center",
          "xref": "paper",
          "y": 0.5308641975308642,
          "yanchor": "bottom",
          "yref": "paper"
         },
         {
          "font": {
           "size": 7
          },
          "showarrow": false,
          "text": "Trempealeau",
          "x": 0.20347222222222222,
          "xanchor": "center",
          "xref": "paper",
          "y": 0.5308641975308642,
          "yanchor": "bottom",
          "yref": "paper"
         },
         {
          "font": {
           "size": 7
          },
          "showarrow": false,
          "text": "Jackson",
          "x": 0.2881944444444444,
          "xanchor": "center",
          "xref": "paper",
          "y": 0.5308641975308642,
          "yanchor": "bottom",
          "yref": "paper"
         },
         {
          "font": {
           "size": 7
          },
          "showarrow": false,
          "text": "Wood",
          "x": 0.3729166666666666,
          "xanchor": "center",
          "xref": "paper",
          "y": 0.5308641975308642,
          "yanchor": "bottom",
          "yref": "paper"
         },
         {
          "font": {
           "size": 7
          },
          "showarrow": false,
          "text": "Portage",
          "x": 0.4576388888888888,
          "xanchor": "center",
          "xref": "paper",
          "y": 0.5308641975308642,
          "yanchor": "bottom",
          "yref": "paper"
         },
         {
          "font": {
           "size": 7
          },
          "showarrow": false,
          "text": "Waushara",
          "x": 0.5423611111111111,
          "xanchor": "center",
          "xref": "paper",
          "y": 0.5308641975308642,
          "yanchor": "bottom",
          "yref": "paper"
         },
         {
          "font": {
           "size": 7
          },
          "showarrow": false,
          "text": "Waupaca",
          "x": 0.6270833333333332,
          "xanchor": "center",
          "xref": "paper",
          "y": 0.5308641975308642,
          "yanchor": "bottom",
          "yref": "paper"
         },
         {
          "font": {
           "size": 7
          },
          "showarrow": false,
          "text": "Outagamie",
          "x": 0.7118055555555555,
          "xanchor": "center",
          "xref": "paper",
          "y": 0.5308641975308642,
          "yanchor": "bottom",
          "yref": "paper"
         },
         {
          "font": {
           "size": 7
          },
          "showarrow": false,
          "text": "Brown",
          "x": 0.7965277777777777,
          "xanchor": "center",
          "xref": "paper",
          "y": 0.5308641975308642,
          "yanchor": "bottom",
          "yref": "paper"
         },
         {
          "font": {
           "size": 7
          },
          "showarrow": false,
          "text": "Kewaunee",
          "x": 0.8812499999999999,
          "xanchor": "center",
          "xref": "paper",
          "y": 0.5308641975308642,
          "yanchor": "bottom",
          "yref": "paper"
         },
         {
          "font": {
           "size": 7
          },
          "showarrow": false,
          "text": "Buffalo",
          "x": 0.11875,
          "xanchor": "center",
          "xref": "paper",
          "y": 0.41358024691358025,
          "yanchor": "bottom",
          "yref": "paper"
         },
         {
          "font": {
           "size": 7
          },
          "showarrow": false,
          "text": "La Crosse",
          "x": 0.20347222222222222,
          "xanchor": "center",
          "xref": "paper",
          "y": 0.41358024691358025,
          "yanchor": "bottom",
          "yref": "paper"
         },
         {
          "font": {
           "size": 7
          },
          "showarrow": false,
          "text": "Monroe",
          "x": 0.2881944444444444,
          "xanchor": "center",
          "xref": "paper",
          "y": 0.41358024691358025,
          "yanchor": "bottom",
          "yref": "paper"
         },
         {
          "font": {
           "size": 7
          },
          "showarrow": false,
          "text": "Juneau",
          "x": 0.3729166666666666,
          "xanchor": "center",
          "xref": "paper",
          "y": 0.41358024691358025,
          "yanchor": "bottom",
          "yref": "paper"
         },
         {
          "font": {
           "size": 7
          },
          "showarrow": false,
          "text": "Adams",
          "x": 0.4576388888888888,
          "xanchor": "center",
          "xref": "paper",
          "y": 0.41358024691358025,
          "yanchor": "bottom",
          "yref": "paper"
         },
         {
          "font": {
           "size": 7
          },
          "showarrow": false,
          "text": "Green Lake",
          "x": 0.5423611111111111,
          "xanchor": "center",
          "xref": "paper",
          "y": 0.41358024691358025,
          "yanchor": "bottom",
          "yref": "paper"
         },
         {
          "font": {
           "size": 7
          },
          "showarrow": false,
          "text": "Winnebago",
          "x": 0.6270833333333332,
          "xanchor": "center",
          "xref": "paper",
          "y": 0.41358024691358025,
          "yanchor": "bottom",
          "yref": "paper"
         },
         {
          "font": {
           "size": 7
          },
          "showarrow": false,
          "text": "Washington",
          "x": 0.7118055555555555,
          "xanchor": "center",
          "xref": "paper",
          "y": 0.41358024691358025,
          "yanchor": "bottom",
          "yref": "paper"
         },
         {
          "font": {
           "size": 7
          },
          "showarrow": false,
          "text": "Sheboygan",
          "x": 0.7965277777777777,
          "xanchor": "center",
          "xref": "paper",
          "y": 0.41358024691358025,
          "yanchor": "bottom",
          "yref": "paper"
         },
         {
          "font": {
           "size": 7
          },
          "showarrow": false,
          "text": "Manitowoc",
          "x": 0.8812499999999999,
          "xanchor": "center",
          "xref": "paper",
          "y": 0.41358024691358025,
          "yanchor": "bottom",
          "yref": "paper"
         },
         {
          "font": {
           "size": 7
          },
          "showarrow": false,
          "text": "Vernon",
          "x": 0.2881944444444444,
          "xanchor": "center",
          "xref": "paper",
          "y": 0.2962962962962963,
          "yanchor": "bottom",
          "yref": "paper"
         },
         {
          "font": {
           "size": 7
          },
          "showarrow": false,
          "text": "Richland",
          "x": 0.3729166666666666,
          "xanchor": "center",
          "xref": "paper",
          "y": 0.2962962962962963,
          "yanchor": "bottom",
          "yref": "paper"
         },
         {
          "font": {
           "size": 7
          },
          "showarrow": false,
          "text": "Columbia",
          "x": 0.4576388888888888,
          "xanchor": "center",
          "xref": "paper",
          "y": 0.2962962962962963,
          "yanchor": "bottom",
          "yref": "paper"
         },
         {
          "font": {
           "size": 7
          },
          "showarrow": false,
          "text": "Marquette",
          "x": 0.5423611111111111,
          "xanchor": "center",
          "xref": "paper",
          "y": 0.2962962962962963,
          "yanchor": "bottom",
          "yref": "paper"
         },
         {
          "font": {
           "size": 7
          },
          "showarrow": false,
          "text": "Dodge",
          "x": 0.6270833333333332,
          "xanchor": "center",
          "xref": "paper",
          "y": 0.2962962962962963,
          "yanchor": "bottom",
          "yref": "paper"
         },
         {
          "font": {
           "size": 7
          },
          "showarrow": false,
          "text": "Fond du Lac",
          "x": 0.7118055555555555,
          "xanchor": "center",
          "xref": "paper",
          "y": 0.2962962962962963,
          "yanchor": "bottom",
          "yref": "paper"
         },
         {
          "font": {
           "size": 7
          },
          "showarrow": false,
          "text": "Ozaukee",
          "x": 0.7965277777777777,
          "xanchor": "center",
          "xref": "paper",
          "y": 0.2962962962962963,
          "yanchor": "bottom",
          "yref": "paper"
         },
         {
          "font": {
           "size": 7
          },
          "showarrow": false,
          "text": "Crawford",
          "x": 0.2881944444444444,
          "xanchor": "center",
          "xref": "paper",
          "y": 0.17901234567901234,
          "yanchor": "bottom",
          "yref": "paper"
         },
         {
          "font": {
           "size": 7
          },
          "showarrow": false,
          "text": "Iowa",
          "x": 0.3729166666666666,
          "xanchor": "center",
          "xref": "paper",
          "y": 0.17901234567901234,
          "yanchor": "bottom",
          "yref": "paper"
         },
         {
          "font": {
           "size": 7
          },
          "showarrow": false,
          "text": "Sauk",
          "x": 0.4576388888888888,
          "xanchor": "center",
          "xref": "paper",
          "y": 0.17901234567901234,
          "yanchor": "bottom",
          "yref": "paper"
         },
         {
          "font": {
           "size": 7
          },
          "showarrow": false,
          "text": "Dane",
          "x": 0.5423611111111111,
          "xanchor": "center",
          "xref": "paper",
          "y": 0.17901234567901234,
          "yanchor": "bottom",
          "yref": "paper"
         },
         {
          "font": {
           "size": 7
          },
          "showarrow": false,
          "text": "Jefferson",
          "x": 0.6270833333333332,
          "xanchor": "center",
          "xref": "paper",
          "y": 0.17901234567901234,
          "yanchor": "bottom",
          "yref": "paper"
         },
         {
          "font": {
           "size": 7
          },
          "showarrow": false,
          "text": "Waukesha",
          "x": 0.7118055555555555,
          "xanchor": "center",
          "xref": "paper",
          "y": 0.17901234567901234,
          "yanchor": "bottom",
          "yref": "paper"
         },
         {
          "font": {
           "size": 7
          },
          "showarrow": false,
          "text": "Milwaukee",
          "x": 0.7965277777777777,
          "xanchor": "center",
          "xref": "paper",
          "y": 0.17901234567901234,
          "yanchor": "bottom",
          "yref": "paper"
         },
         {
          "font": {
           "size": 7
          },
          "showarrow": false,
          "text": "Grant",
          "x": 0.2881944444444444,
          "xanchor": "center",
          "xref": "paper",
          "y": 0.0617283950617284,
          "yanchor": "bottom",
          "yref": "paper"
         },
         {
          "font": {
           "size": 7
          },
          "showarrow": false,
          "text": "Lafayette",
          "x": 0.3729166666666666,
          "xanchor": "center",
          "xref": "paper",
          "y": 0.0617283950617284,
          "yanchor": "bottom",
          "yref": "paper"
         },
         {
          "font": {
           "size": 7
          },
          "showarrow": false,
          "text": "Green",
          "x": 0.4576388888888888,
          "xanchor": "center",
          "xref": "paper",
          "y": 0.0617283950617284,
          "yanchor": "bottom",
          "yref": "paper"
         },
         {
          "font": {
           "size": 7
          },
          "showarrow": false,
          "text": "Rock",
          "x": 0.5423611111111111,
          "xanchor": "center",
          "xref": "paper",
          "y": 0.0617283950617284,
          "yanchor": "bottom",
          "yref": "paper"
         },
         {
          "font": {
           "size": 7
          },
          "showarrow": false,
          "text": "Walworth",
          "x": 0.6270833333333332,
          "xanchor": "center",
          "xref": "paper",
          "y": 0.0617283950617284,
          "yanchor": "bottom",
          "yref": "paper"
         },
         {
          "font": {
           "size": 7
          },
          "showarrow": false,
          "text": "Kenosha",
          "x": 0.7118055555555555,
          "xanchor": "center",
          "xref": "paper",
          "y": 0.0617283950617284,
          "yanchor": "bottom",
          "yref": "paper"
         },
         {
          "font": {
           "size": 7
          },
          "showarrow": false,
          "text": "Racine",
          "x": 0.7965277777777777,
          "xanchor": "center",
          "xref": "paper",
          "y": 0.0617283950617284,
          "yanchor": "bottom",
          "yref": "paper"
         }
        ],
        "template": {
         "data": {
          "bar": [
           {
            "error_x": {
             "color": "#2a3f5f"
            },
            "error_y": {
             "color": "#2a3f5f"
            },
            "marker": {
             "line": {
              "color": "#E5ECF6",
              "width": 0.5
             }
            },
            "type": "bar"
           }
          ],
          "barpolar": [
           {
            "marker": {
             "line": {
              "color": "#E5ECF6",
              "width": 0.5
             }
            },
            "type": "barpolar"
           }
          ],
          "carpet": [
           {
            "aaxis": {
             "endlinecolor": "#2a3f5f",
             "gridcolor": "white",
             "linecolor": "white",
             "minorgridcolor": "white",
             "startlinecolor": "#2a3f5f"
            },
            "baxis": {
             "endlinecolor": "#2a3f5f",
             "gridcolor": "white",
             "linecolor": "white",
             "minorgridcolor": "white",
             "startlinecolor": "#2a3f5f"
            },
            "type": "carpet"
           }
          ],
          "choropleth": [
           {
            "colorbar": {
             "outlinewidth": 0,
             "ticks": ""
            },
            "type": "choropleth"
           }
          ],
          "contour": [
           {
            "colorbar": {
             "outlinewidth": 0,
             "ticks": ""
            },
            "colorscale": [
             [
              0,
              "#0d0887"
             ],
             [
              0.1111111111111111,
              "#46039f"
             ],
             [
              0.2222222222222222,
              "#7201a8"
             ],
             [
              0.3333333333333333,
              "#9c179e"
             ],
             [
              0.4444444444444444,
              "#bd3786"
             ],
             [
              0.5555555555555556,
              "#d8576b"
             ],
             [
              0.6666666666666666,
              "#ed7953"
             ],
             [
              0.7777777777777778,
              "#fb9f3a"
             ],
             [
              0.8888888888888888,
              "#fdca26"
             ],
             [
              1,
              "#f0f921"
             ]
            ],
            "type": "contour"
           }
          ],
          "contourcarpet": [
           {
            "colorbar": {
             "outlinewidth": 0,
             "ticks": ""
            },
            "type": "contourcarpet"
           }
          ],
          "heatmap": [
           {
            "colorbar": {
             "outlinewidth": 0,
             "ticks": ""
            },
            "colorscale": [
             [
              0,
              "#0d0887"
             ],
             [
              0.1111111111111111,
              "#46039f"
             ],
             [
              0.2222222222222222,
              "#7201a8"
             ],
             [
              0.3333333333333333,
              "#9c179e"
             ],
             [
              0.4444444444444444,
              "#bd3786"
             ],
             [
              0.5555555555555556,
              "#d8576b"
             ],
             [
              0.6666666666666666,
              "#ed7953"
             ],
             [
              0.7777777777777778,
              "#fb9f3a"
             ],
             [
              0.8888888888888888,
              "#fdca26"
             ],
             [
              1,
              "#f0f921"
             ]
            ],
            "type": "heatmap"
           }
          ],
          "heatmapgl": [
           {
            "colorbar": {
             "outlinewidth": 0,
             "ticks": ""
            },
            "colorscale": [
             [
              0,
              "#0d0887"
             ],
             [
              0.1111111111111111,
              "#46039f"
             ],
             [
              0.2222222222222222,
              "#7201a8"
             ],
             [
              0.3333333333333333,
              "#9c179e"
             ],
             [
              0.4444444444444444,
              "#bd3786"
             ],
             [
              0.5555555555555556,
              "#d8576b"
             ],
             [
              0.6666666666666666,
              "#ed7953"
             ],
             [
              0.7777777777777778,
              "#fb9f3a"
             ],
             [
              0.8888888888888888,
              "#fdca26"
             ],
             [
              1,
              "#f0f921"
             ]
            ],
            "type": "heatmapgl"
           }
          ],
          "histogram": [
           {
            "marker": {
             "colorbar": {
              "outlinewidth": 0,
              "ticks": ""
             }
            },
            "type": "histogram"
           }
          ],
          "histogram2d": [
           {
            "colorbar": {
             "outlinewidth": 0,
             "ticks": ""
            },
            "colorscale": [
             [
              0,
              "#0d0887"
             ],
             [
              0.1111111111111111,
              "#46039f"
             ],
             [
              0.2222222222222222,
              "#7201a8"
             ],
             [
              0.3333333333333333,
              "#9c179e"
             ],
             [
              0.4444444444444444,
              "#bd3786"
             ],
             [
              0.5555555555555556,
              "#d8576b"
             ],
             [
              0.6666666666666666,
              "#ed7953"
             ],
             [
              0.7777777777777778,
              "#fb9f3a"
             ],
             [
              0.8888888888888888,
              "#fdca26"
             ],
             [
              1,
              "#f0f921"
             ]
            ],
            "type": "histogram2d"
           }
          ],
          "histogram2dcontour": [
           {
            "colorbar": {
             "outlinewidth": 0,
             "ticks": ""
            },
            "colorscale": [
             [
              0,
              "#0d0887"
             ],
             [
              0.1111111111111111,
              "#46039f"
             ],
             [
              0.2222222222222222,
              "#7201a8"
             ],
             [
              0.3333333333333333,
              "#9c179e"
             ],
             [
              0.4444444444444444,
              "#bd3786"
             ],
             [
              0.5555555555555556,
              "#d8576b"
             ],
             [
              0.6666666666666666,
              "#ed7953"
             ],
             [
              0.7777777777777778,
              "#fb9f3a"
             ],
             [
              0.8888888888888888,
              "#fdca26"
             ],
             [
              1,
              "#f0f921"
             ]
            ],
            "type": "histogram2dcontour"
           }
          ],
          "mesh3d": [
           {
            "colorbar": {
             "outlinewidth": 0,
             "ticks": ""
            },
            "type": "mesh3d"
           }
          ],
          "parcoords": [
           {
            "line": {
             "colorbar": {
              "outlinewidth": 0,
              "ticks": ""
             }
            },
            "type": "parcoords"
           }
          ],
          "pie": [
           {
            "automargin": true,
            "type": "pie"
           }
          ],
          "scatter": [
           {
            "marker": {
             "colorbar": {
              "outlinewidth": 0,
              "ticks": ""
             }
            },
            "type": "scatter"
           }
          ],
          "scatter3d": [
           {
            "line": {
             "colorbar": {
              "outlinewidth": 0,
              "ticks": ""
             }
            },
            "marker": {
             "colorbar": {
              "outlinewidth": 0,
              "ticks": ""
             }
            },
            "type": "scatter3d"
           }
          ],
          "scattercarpet": [
           {
            "marker": {
             "colorbar": {
              "outlinewidth": 0,
              "ticks": ""
             }
            },
            "type": "scattercarpet"
           }
          ],
          "scattergeo": [
           {
            "marker": {
             "colorbar": {
              "outlinewidth": 0,
              "ticks": ""
             }
            },
            "type": "scattergeo"
           }
          ],
          "scattergl": [
           {
            "marker": {
             "colorbar": {
              "outlinewidth": 0,
              "ticks": ""
             }
            },
            "type": "scattergl"
           }
          ],
          "scattermapbox": [
           {
            "marker": {
             "colorbar": {
              "outlinewidth": 0,
              "ticks": ""
             }
            },
            "type": "scattermapbox"
           }
          ],
          "scatterpolar": [
           {
            "marker": {
             "colorbar": {
              "outlinewidth": 0,
              "ticks": ""
             }
            },
            "type": "scatterpolar"
           }
          ],
          "scatterpolargl": [
           {
            "marker": {
             "colorbar": {
              "outlinewidth": 0,
              "ticks": ""
             }
            },
            "type": "scatterpolargl"
           }
          ],
          "scatterternary": [
           {
            "marker": {
             "colorbar": {
              "outlinewidth": 0,
              "ticks": ""
             }
            },
            "type": "scatterternary"
           }
          ],
          "surface": [
           {
            "colorbar": {
             "outlinewidth": 0,
             "ticks": ""
            },
            "colorscale": [
             [
              0,
              "#0d0887"
             ],
             [
              0.1111111111111111,
              "#46039f"
             ],
             [
              0.2222222222222222,
              "#7201a8"
             ],
             [
              0.3333333333333333,
              "#9c179e"
             ],
             [
              0.4444444444444444,
              "#bd3786"
             ],
             [
              0.5555555555555556,
              "#d8576b"
             ],
             [
              0.6666666666666666,
              "#ed7953"
             ],
             [
              0.7777777777777778,
              "#fb9f3a"
             ],
             [
              0.8888888888888888,
              "#fdca26"
             ],
             [
              1,
              "#f0f921"
             ]
            ],
            "type": "surface"
           }
          ],
          "table": [
           {
            "cells": {
             "fill": {
              "color": "#EBF0F8"
             },
             "line": {
              "color": "white"
             }
            },
            "header": {
             "fill": {
              "color": "#C8D4E3"
             },
             "line": {
              "color": "white"
             }
            },
            "type": "table"
           }
          ]
         },
         "layout": {
          "annotationdefaults": {
           "arrowcolor": "#2a3f5f",
           "arrowhead": 0,
           "arrowwidth": 1
          },
          "coloraxis": {
           "colorbar": {
            "outlinewidth": 0,
            "ticks": ""
           }
          },
          "colorscale": {
           "diverging": [
            [
             0,
             "#8e0152"
            ],
            [
             0.1,
             "#c51b7d"
            ],
            [
             0.2,
             "#de77ae"
            ],
            [
             0.3,
             "#f1b6da"
            ],
            [
             0.4,
             "#fde0ef"
            ],
            [
             0.5,
             "#f7f7f7"
            ],
            [
             0.6,
             "#e6f5d0"
            ],
            [
             0.7,
             "#b8e186"
            ],
            [
             0.8,
             "#7fbc41"
            ],
            [
             0.9,
             "#4d9221"
            ],
            [
             1,
             "#276419"
            ]
           ],
           "sequential": [
            [
             0,
             "#0d0887"
            ],
            [
             0.1111111111111111,
             "#46039f"
            ],
            [
             0.2222222222222222,
             "#7201a8"
            ],
            [
             0.3333333333333333,
             "#9c179e"
            ],
            [
             0.4444444444444444,
             "#bd3786"
            ],
            [
             0.5555555555555556,
             "#d8576b"
            ],
            [
             0.6666666666666666,
             "#ed7953"
            ],
            [
             0.7777777777777778,
             "#fb9f3a"
            ],
            [
             0.8888888888888888,
             "#fdca26"
            ],
            [
             1,
             "#f0f921"
            ]
           ],
           "sequentialminus": [
            [
             0,
             "#0d0887"
            ],
            [
             0.1111111111111111,
             "#46039f"
            ],
            [
             0.2222222222222222,
             "#7201a8"
            ],
            [
             0.3333333333333333,
             "#9c179e"
            ],
            [
             0.4444444444444444,
             "#bd3786"
            ],
            [
             0.5555555555555556,
             "#d8576b"
            ],
            [
             0.6666666666666666,
             "#ed7953"
            ],
            [
             0.7777777777777778,
             "#fb9f3a"
            ],
            [
             0.8888888888888888,
             "#fdca26"
            ],
            [
             1,
             "#f0f921"
            ]
           ]
          },
          "colorway": [
           "#636efa",
           "#EF553B",
           "#00cc96",
           "#ab63fa",
           "#FFA15A",
           "#19d3f3",
           "#FF6692",
           "#B6E880",
           "#FF97FF",
           "#FECB52"
          ],
          "font": {
           "color": "#2a3f5f"
          },
          "geo": {
           "bgcolor": "white",
           "lakecolor": "white",
           "landcolor": "#E5ECF6",
           "showlakes": true,
           "showland": true,
           "subunitcolor": "white"
          },
          "hoverlabel": {
           "align": "left"
          },
          "hovermode": "closest",
          "mapbox": {
           "style": "light"
          },
          "paper_bgcolor": "white",
          "plot_bgcolor": "#E5ECF6",
          "polar": {
           "angularaxis": {
            "gridcolor": "white",
            "linecolor": "white",
            "ticks": ""
           },
           "bgcolor": "#E5ECF6",
           "radialaxis": {
            "gridcolor": "white",
            "linecolor": "white",
            "ticks": ""
           }
          },
          "scene": {
           "xaxis": {
            "backgroundcolor": "#E5ECF6",
            "gridcolor": "white",
            "gridwidth": 2,
            "linecolor": "white",
            "showbackground": true,
            "ticks": "",
            "zerolinecolor": "white"
           },
           "yaxis": {
            "backgroundcolor": "#E5ECF6",
            "gridcolor": "white",
            "gridwidth": 2,
            "linecolor": "white",
            "showbackground": true,
            "ticks": "",
            "zerolinecolor": "white"
           },
           "zaxis": {
            "backgroundcolor": "#E5ECF6",
            "gridcolor": "white",
            "gridwidth": 2,
            "linecolor": "white",
            "showbackground": true,
            "ticks": "",
            "zerolinecolor": "white"
           }
          },
          "shapedefaults": {
           "line": {
            "color": "#2a3f5f"
           }
          },
          "ternary": {
           "aaxis": {
            "gridcolor": "white",
            "linecolor": "white",
            "ticks": ""
           },
           "baxis": {
            "gridcolor": "white",
            "linecolor": "white",
            "ticks": ""
           },
           "bgcolor": "#E5ECF6",
           "caxis": {
            "gridcolor": "white",
            "linecolor": "white",
            "ticks": ""
           }
          },
          "title": {
           "x": 0.05
          },
          "xaxis": {
           "automargin": true,
           "gridcolor": "white",
           "linecolor": "white",
           "ticks": "",
           "title": {
            "standoff": 15
           },
           "zerolinecolor": "white",
           "zerolinewidth": 2
          },
          "yaxis": {
           "automargin": true,
           "gridcolor": "white",
           "linecolor": "white",
           "ticks": "",
           "title": {
            "standoff": 15
           },
           "zerolinecolor": "white",
           "zerolinewidth": 2
          }
         }
        },
        "xaxis": {
         "anchor": "y",
         "domain": [
          0,
          0.06805555555555555
         ]
        },
        "xaxis10": {
         "anchor": "y10",
         "domain": [
          0.7625,
          0.8305555555555555
         ]
        },
        "xaxis100": {
         "anchor": "y100",
         "domain": [
          0.25416666666666665,
          0.3222222222222222
         ]
        },
        "xaxis101": {
         "anchor": "y101",
         "domain": [
          0.33888888888888885,
          0.4069444444444444
         ]
        },
        "xaxis102": {
         "anchor": "y102",
         "domain": [
          0.42361111111111105,
          0.4916666666666666
         ]
        },
        "xaxis103": {
         "anchor": "y103",
         "domain": [
          0.5083333333333333,
          0.5763888888888888
         ]
        },
        "xaxis104": {
         "anchor": "y104",
         "domain": [
          0.5930555555555554,
          0.661111111111111
         ]
        },
        "xaxis105": {
         "anchor": "y105",
         "domain": [
          0.6777777777777777,
          0.7458333333333332
         ]
        },
        "xaxis106": {
         "anchor": "y106",
         "domain": [
          0.7625,
          0.8305555555555555
         ]
        },
        "xaxis107": {
         "anchor": "y107",
         "domain": [
          0.8472222222222221,
          0.9152777777777776
         ]
        },
        "xaxis108": {
         "anchor": "y108",
         "domain": [
          0.9319444444444444,
          0.9999999999999999
         ]
        },
        "xaxis11": {
         "anchor": "y11",
         "domain": [
          0.8472222222222221,
          0.9152777777777776
         ]
        },
        "xaxis12": {
         "anchor": "y12",
         "domain": [
          0.9319444444444444,
          0.9999999999999999
         ]
        },
        "xaxis13": {
         "anchor": "y13",
         "domain": [
          0,
          0.06805555555555555
         ]
        },
        "xaxis14": {
         "anchor": "y14",
         "domain": [
          0.08472222222222221,
          0.15277777777777776
         ]
        },
        "xaxis15": {
         "anchor": "y15",
         "domain": [
          0.16944444444444443,
          0.2375
         ]
        },
        "xaxis16": {
         "anchor": "y16",
         "domain": [
          0.25416666666666665,
          0.3222222222222222
         ]
        },
        "xaxis17": {
         "anchor": "y17",
         "domain": [
          0.33888888888888885,
          0.4069444444444444
         ]
        },
        "xaxis18": {
         "anchor": "y18",
         "domain": [
          0.42361111111111105,
          0.4916666666666666
         ]
        },
        "xaxis19": {
         "anchor": "y19",
         "domain": [
          0.5083333333333333,
          0.5763888888888888
         ]
        },
        "xaxis2": {
         "anchor": "y2",
         "domain": [
          0.08472222222222221,
          0.15277777777777776
         ]
        },
        "xaxis20": {
         "anchor": "y20",
         "domain": [
          0.5930555555555554,
          0.661111111111111
         ]
        },
        "xaxis21": {
         "anchor": "y21",
         "domain": [
          0.6777777777777777,
          0.7458333333333332
         ]
        },
        "xaxis22": {
         "anchor": "y22",
         "domain": [
          0.7625,
          0.8305555555555555
         ]
        },
        "xaxis23": {
         "anchor": "y23",
         "domain": [
          0.8472222222222221,
          0.9152777777777776
         ]
        },
        "xaxis24": {
         "anchor": "y24",
         "domain": [
          0.9319444444444444,
          0.9999999999999999
         ]
        },
        "xaxis25": {
         "anchor": "y25",
         "domain": [
          0,
          0.06805555555555555
         ]
        },
        "xaxis26": {
         "anchor": "y26",
         "domain": [
          0.08472222222222221,
          0.15277777777777776
         ]
        },
        "xaxis27": {
         "anchor": "y27",
         "domain": [
          0.16944444444444443,
          0.2375
         ]
        },
        "xaxis28": {
         "anchor": "y28",
         "domain": [
          0.25416666666666665,
          0.3222222222222222
         ]
        },
        "xaxis29": {
         "anchor": "y29",
         "domain": [
          0.33888888888888885,
          0.4069444444444444
         ]
        },
        "xaxis3": {
         "anchor": "y3",
         "domain": [
          0.16944444444444443,
          0.2375
         ]
        },
        "xaxis30": {
         "anchor": "y30",
         "domain": [
          0.42361111111111105,
          0.4916666666666666
         ]
        },
        "xaxis31": {
         "anchor": "y31",
         "domain": [
          0.5083333333333333,
          0.5763888888888888
         ]
        },
        "xaxis32": {
         "anchor": "y32",
         "domain": [
          0.5930555555555554,
          0.661111111111111
         ]
        },
        "xaxis33": {
         "anchor": "y33",
         "domain": [
          0.6777777777777777,
          0.7458333333333332
         ]
        },
        "xaxis34": {
         "anchor": "y34",
         "domain": [
          0.7625,
          0.8305555555555555
         ]
        },
        "xaxis35": {
         "anchor": "y35",
         "domain": [
          0.8472222222222221,
          0.9152777777777776
         ]
        },
        "xaxis36": {
         "anchor": "y36",
         "domain": [
          0.9319444444444444,
          0.9999999999999999
         ]
        },
        "xaxis37": {
         "anchor": "y37",
         "domain": [
          0,
          0.06805555555555555
         ]
        },
        "xaxis38": {
         "anchor": "y38",
         "domain": [
          0.08472222222222221,
          0.15277777777777776
         ]
        },
        "xaxis39": {
         "anchor": "y39",
         "domain": [
          0.16944444444444443,
          0.2375
         ]
        },
        "xaxis4": {
         "anchor": "y4",
         "domain": [
          0.25416666666666665,
          0.3222222222222222
         ]
        },
        "xaxis40": {
         "anchor": "y40",
         "domain": [
          0.25416666666666665,
          0.3222222222222222
         ]
        },
        "xaxis41": {
         "anchor": "y41",
         "domain": [
          0.33888888888888885,
          0.4069444444444444
         ]
        },
        "xaxis42": {
         "anchor": "y42",
         "domain": [
          0.42361111111111105,
          0.4916666666666666
         ]
        },
        "xaxis43": {
         "anchor": "y43",
         "domain": [
          0.5083333333333333,
          0.5763888888888888
         ]
        },
        "xaxis44": {
         "anchor": "y44",
         "domain": [
          0.5930555555555554,
          0.661111111111111
         ]
        },
        "xaxis45": {
         "anchor": "y45",
         "domain": [
          0.6777777777777777,
          0.7458333333333332
         ]
        },
        "xaxis46": {
         "anchor": "y46",
         "domain": [
          0.7625,
          0.8305555555555555
         ]
        },
        "xaxis47": {
         "anchor": "y47",
         "domain": [
          0.8472222222222221,
          0.9152777777777776
         ]
        },
        "xaxis48": {
         "anchor": "y48",
         "domain": [
          0.9319444444444444,
          0.9999999999999999
         ]
        },
        "xaxis49": {
         "anchor": "y49",
         "domain": [
          0,
          0.06805555555555555
         ]
        },
        "xaxis5": {
         "anchor": "y5",
         "domain": [
          0.33888888888888885,
          0.4069444444444444
         ]
        },
        "xaxis50": {
         "anchor": "y50",
         "domain": [
          0.08472222222222221,
          0.15277777777777776
         ]
        },
        "xaxis51": {
         "anchor": "y51",
         "domain": [
          0.16944444444444443,
          0.2375
         ]
        },
        "xaxis52": {
         "anchor": "y52",
         "domain": [
          0.25416666666666665,
          0.3222222222222222
         ]
        },
        "xaxis53": {
         "anchor": "y53",
         "domain": [
          0.33888888888888885,
          0.4069444444444444
         ]
        },
        "xaxis54": {
         "anchor": "y54",
         "domain": [
          0.42361111111111105,
          0.4916666666666666
         ]
        },
        "xaxis55": {
         "anchor": "y55",
         "domain": [
          0.5083333333333333,
          0.5763888888888888
         ]
        },
        "xaxis56": {
         "anchor": "y56",
         "domain": [
          0.5930555555555554,
          0.661111111111111
         ]
        },
        "xaxis57": {
         "anchor": "y57",
         "domain": [
          0.6777777777777777,
          0.7458333333333332
         ]
        },
        "xaxis58": {
         "anchor": "y58",
         "domain": [
          0.7625,
          0.8305555555555555
         ]
        },
        "xaxis59": {
         "anchor": "y59",
         "domain": [
          0.8472222222222221,
          0.9152777777777776
         ]
        },
        "xaxis6": {
         "anchor": "y6",
         "domain": [
          0.42361111111111105,
          0.4916666666666666
         ]
        },
        "xaxis60": {
         "anchor": "y60",
         "domain": [
          0.9319444444444444,
          0.9999999999999999
         ]
        },
        "xaxis61": {
         "anchor": "y61",
         "domain": [
          0,
          0.06805555555555555
         ]
        },
        "xaxis62": {
         "anchor": "y62",
         "domain": [
          0.08472222222222221,
          0.15277777777777776
         ]
        },
        "xaxis63": {
         "anchor": "y63",
         "domain": [
          0.16944444444444443,
          0.2375
         ]
        },
        "xaxis64": {
         "anchor": "y64",
         "domain": [
          0.25416666666666665,
          0.3222222222222222
         ]
        },
        "xaxis65": {
         "anchor": "y65",
         "domain": [
          0.33888888888888885,
          0.4069444444444444
         ]
        },
        "xaxis66": {
         "anchor": "y66",
         "domain": [
          0.42361111111111105,
          0.4916666666666666
         ]
        },
        "xaxis67": {
         "anchor": "y67",
         "domain": [
          0.5083333333333333,
          0.5763888888888888
         ]
        },
        "xaxis68": {
         "anchor": "y68",
         "domain": [
          0.5930555555555554,
          0.661111111111111
         ]
        },
        "xaxis69": {
         "anchor": "y69",
         "domain": [
          0.6777777777777777,
          0.7458333333333332
         ]
        },
        "xaxis7": {
         "anchor": "y7",
         "domain": [
          0.5083333333333333,
          0.5763888888888888
         ]
        },
        "xaxis70": {
         "anchor": "y70",
         "domain": [
          0.7625,
          0.8305555555555555
         ]
        },
        "xaxis71": {
         "anchor": "y71",
         "domain": [
          0.8472222222222221,
          0.9152777777777776
         ]
        },
        "xaxis72": {
         "anchor": "y72",
         "domain": [
          0.9319444444444444,
          0.9999999999999999
         ]
        },
        "xaxis73": {
         "anchor": "y73",
         "domain": [
          0,
          0.06805555555555555
         ]
        },
        "xaxis74": {
         "anchor": "y74",
         "domain": [
          0.08472222222222221,
          0.15277777777777776
         ]
        },
        "xaxis75": {
         "anchor": "y75",
         "domain": [
          0.16944444444444443,
          0.2375
         ]
        },
        "xaxis76": {
         "anchor": "y76",
         "domain": [
          0.25416666666666665,
          0.3222222222222222
         ]
        },
        "xaxis77": {
         "anchor": "y77",
         "domain": [
          0.33888888888888885,
          0.4069444444444444
         ]
        },
        "xaxis78": {
         "anchor": "y78",
         "domain": [
          0.42361111111111105,
          0.4916666666666666
         ]
        },
        "xaxis79": {
         "anchor": "y79",
         "domain": [
          0.5083333333333333,
          0.5763888888888888
         ]
        },
        "xaxis8": {
         "anchor": "y8",
         "domain": [
          0.5930555555555554,
          0.661111111111111
         ]
        },
        "xaxis80": {
         "anchor": "y80",
         "domain": [
          0.5930555555555554,
          0.661111111111111
         ]
        },
        "xaxis81": {
         "anchor": "y81",
         "domain": [
          0.6777777777777777,
          0.7458333333333332
         ]
        },
        "xaxis82": {
         "anchor": "y82",
         "domain": [
          0.7625,
          0.8305555555555555
         ]
        },
        "xaxis83": {
         "anchor": "y83",
         "domain": [
          0.8472222222222221,
          0.9152777777777776
         ]
        },
        "xaxis84": {
         "anchor": "y84",
         "domain": [
          0.9319444444444444,
          0.9999999999999999
         ]
        },
        "xaxis85": {
         "anchor": "y85",
         "domain": [
          0,
          0.06805555555555555
         ]
        },
        "xaxis86": {
         "anchor": "y86",
         "domain": [
          0.08472222222222221,
          0.15277777777777776
         ]
        },
        "xaxis87": {
         "anchor": "y87",
         "domain": [
          0.16944444444444443,
          0.2375
         ]
        },
        "xaxis88": {
         "anchor": "y88",
         "domain": [
          0.25416666666666665,
          0.3222222222222222
         ]
        },
        "xaxis89": {
         "anchor": "y89",
         "domain": [
          0.33888888888888885,
          0.4069444444444444
         ]
        },
        "xaxis9": {
         "anchor": "y9",
         "domain": [
          0.6777777777777777,
          0.7458333333333332
         ]
        },
        "xaxis90": {
         "anchor": "y90",
         "domain": [
          0.42361111111111105,
          0.4916666666666666
         ]
        },
        "xaxis91": {
         "anchor": "y91",
         "domain": [
          0.5083333333333333,
          0.5763888888888888
         ]
        },
        "xaxis92": {
         "anchor": "y92",
         "domain": [
          0.5930555555555554,
          0.661111111111111
         ]
        },
        "xaxis93": {
         "anchor": "y93",
         "domain": [
          0.6777777777777777,
          0.7458333333333332
         ]
        },
        "xaxis94": {
         "anchor": "y94",
         "domain": [
          0.7625,
          0.8305555555555555
         ]
        },
        "xaxis95": {
         "anchor": "y95",
         "domain": [
          0.8472222222222221,
          0.9152777777777776
         ]
        },
        "xaxis96": {
         "anchor": "y96",
         "domain": [
          0.9319444444444444,
          0.9999999999999999
         ]
        },
        "xaxis97": {
         "anchor": "y97",
         "domain": [
          0,
          0.06805555555555555
         ]
        },
        "xaxis98": {
         "anchor": "y98",
         "domain": [
          0.08472222222222221,
          0.15277777777777776
         ]
        },
        "xaxis99": {
         "anchor": "y99",
         "domain": [
          0.16944444444444443,
          0.2375
         ]
        },
        "yaxis": {
         "anchor": "x",
         "domain": [
          0.9382716049382716,
          1
         ]
        },
        "yaxis10": {
         "anchor": "x10",
         "domain": [
          0.9382716049382716,
          1
         ]
        },
        "yaxis100": {
         "anchor": "x100",
         "domain": [
          0,
          0.0617283950617284
         ]
        },
        "yaxis101": {
         "anchor": "x101",
         "domain": [
          0,
          0.0617283950617284
         ]
        },
        "yaxis102": {
         "anchor": "x102",
         "domain": [
          0,
          0.0617283950617284
         ]
        },
        "yaxis103": {
         "anchor": "x103",
         "domain": [
          0,
          0.0617283950617284
         ]
        },
        "yaxis104": {
         "anchor": "x104",
         "domain": [
          0,
          0.0617283950617284
         ]
        },
        "yaxis105": {
         "anchor": "x105",
         "domain": [
          0,
          0.0617283950617284
         ]
        },
        "yaxis106": {
         "anchor": "x106",
         "domain": [
          0,
          0.0617283950617284
         ]
        },
        "yaxis107": {
         "anchor": "x107",
         "domain": [
          0,
          0.0617283950617284
         ]
        },
        "yaxis108": {
         "anchor": "x108",
         "domain": [
          0,
          0.0617283950617284
         ]
        },
        "yaxis11": {
         "anchor": "x11",
         "domain": [
          0.9382716049382716,
          1
         ]
        },
        "yaxis12": {
         "anchor": "x12",
         "domain": [
          0.9382716049382716,
          1
         ]
        },
        "yaxis13": {
         "anchor": "x13",
         "domain": [
          0.8209876543209876,
          0.8827160493827161
         ]
        },
        "yaxis14": {
         "anchor": "x14",
         "domain": [
          0.8209876543209876,
          0.8827160493827161
         ]
        },
        "yaxis15": {
         "anchor": "x15",
         "domain": [
          0.8209876543209876,
          0.8827160493827161
         ]
        },
        "yaxis16": {
         "anchor": "x16",
         "domain": [
          0.8209876543209876,
          0.8827160493827161
         ]
        },
        "yaxis17": {
         "anchor": "x17",
         "domain": [
          0.8209876543209876,
          0.8827160493827161
         ]
        },
        "yaxis18": {
         "anchor": "x18",
         "domain": [
          0.8209876543209876,
          0.8827160493827161
         ]
        },
        "yaxis19": {
         "anchor": "x19",
         "domain": [
          0.8209876543209876,
          0.8827160493827161
         ]
        },
        "yaxis2": {
         "anchor": "x2",
         "domain": [
          0.9382716049382716,
          1
         ]
        },
        "yaxis20": {
         "anchor": "x20",
         "domain": [
          0.8209876543209876,
          0.8827160493827161
         ]
        },
        "yaxis21": {
         "anchor": "x21",
         "domain": [
          0.8209876543209876,
          0.8827160493827161
         ]
        },
        "yaxis22": {
         "anchor": "x22",
         "domain": [
          0.8209876543209876,
          0.8827160493827161
         ]
        },
        "yaxis23": {
         "anchor": "x23",
         "domain": [
          0.8209876543209876,
          0.8827160493827161
         ]
        },
        "yaxis24": {
         "anchor": "x24",
         "domain": [
          0.8209876543209876,
          0.8827160493827161
         ]
        },
        "yaxis25": {
         "anchor": "x25",
         "domain": [
          0.7037037037037037,
          0.7654320987654322
         ]
        },
        "yaxis26": {
         "anchor": "x26",
         "domain": [
          0.7037037037037037,
          0.7654320987654322
         ]
        },
        "yaxis27": {
         "anchor": "x27",
         "domain": [
          0.7037037037037037,
          0.7654320987654322
         ]
        },
        "yaxis28": {
         "anchor": "x28",
         "domain": [
          0.7037037037037037,
          0.7654320987654322
         ]
        },
        "yaxis29": {
         "anchor": "x29",
         "domain": [
          0.7037037037037037,
          0.7654320987654322
         ]
        },
        "yaxis3": {
         "anchor": "x3",
         "domain": [
          0.9382716049382716,
          1
         ]
        },
        "yaxis30": {
         "anchor": "x30",
         "domain": [
          0.7037037037037037,
          0.7654320987654322
         ]
        },
        "yaxis31": {
         "anchor": "x31",
         "domain": [
          0.7037037037037037,
          0.7654320987654322
         ]
        },
        "yaxis32": {
         "anchor": "x32",
         "domain": [
          0.7037037037037037,
          0.7654320987654322
         ]
        },
        "yaxis33": {
         "anchor": "x33",
         "domain": [
          0.7037037037037037,
          0.7654320987654322
         ]
        },
        "yaxis34": {
         "anchor": "x34",
         "domain": [
          0.7037037037037037,
          0.7654320987654322
         ]
        },
        "yaxis35": {
         "anchor": "x35",
         "domain": [
          0.7037037037037037,
          0.7654320987654322
         ]
        },
        "yaxis36": {
         "anchor": "x36",
         "domain": [
          0.7037037037037037,
          0.7654320987654322
         ]
        },
        "yaxis37": {
         "anchor": "x37",
         "domain": [
          0.5864197530864198,
          0.6481481481481483
         ]
        },
        "yaxis38": {
         "anchor": "x38",
         "domain": [
          0.5864197530864198,
          0.6481481481481483
         ]
        },
        "yaxis39": {
         "anchor": "x39",
         "domain": [
          0.5864197530864198,
          0.6481481481481483
         ]
        },
        "yaxis4": {
         "anchor": "x4",
         "domain": [
          0.9382716049382716,
          1
         ]
        },
        "yaxis40": {
         "anchor": "x40",
         "domain": [
          0.5864197530864198,
          0.6481481481481483
         ]
        },
        "yaxis41": {
         "anchor": "x41",
         "domain": [
          0.5864197530864198,
          0.6481481481481483
         ]
        },
        "yaxis42": {
         "anchor": "x42",
         "domain": [
          0.5864197530864198,
          0.6481481481481483
         ]
        },
        "yaxis43": {
         "anchor": "x43",
         "domain": [
          0.5864197530864198,
          0.6481481481481483
         ]
        },
        "yaxis44": {
         "anchor": "x44",
         "domain": [
          0.5864197530864198,
          0.6481481481481483
         ]
        },
        "yaxis45": {
         "anchor": "x45",
         "domain": [
          0.5864197530864198,
          0.6481481481481483
         ]
        },
        "yaxis46": {
         "anchor": "x46",
         "domain": [
          0.5864197530864198,
          0.6481481481481483
         ]
        },
        "yaxis47": {
         "anchor": "x47",
         "domain": [
          0.5864197530864198,
          0.6481481481481483
         ]
        },
        "yaxis48": {
         "anchor": "x48",
         "domain": [
          0.5864197530864198,
          0.6481481481481483
         ]
        },
        "yaxis49": {
         "anchor": "x49",
         "domain": [
          0.4691358024691358,
          0.5308641975308642
         ]
        },
        "yaxis5": {
         "anchor": "x5",
         "domain": [
          0.9382716049382716,
          1
         ]
        },
        "yaxis50": {
         "anchor": "x50",
         "domain": [
          0.4691358024691358,
          0.5308641975308642
         ]
        },
        "yaxis51": {
         "anchor": "x51",
         "domain": [
          0.4691358024691358,
          0.5308641975308642
         ]
        },
        "yaxis52": {
         "anchor": "x52",
         "domain": [
          0.4691358024691358,
          0.5308641975308642
         ]
        },
        "yaxis53": {
         "anchor": "x53",
         "domain": [
          0.4691358024691358,
          0.5308641975308642
         ]
        },
        "yaxis54": {
         "anchor": "x54",
         "domain": [
          0.4691358024691358,
          0.5308641975308642
         ]
        },
        "yaxis55": {
         "anchor": "x55",
         "domain": [
          0.4691358024691358,
          0.5308641975308642
         ]
        },
        "yaxis56": {
         "anchor": "x56",
         "domain": [
          0.4691358024691358,
          0.5308641975308642
         ]
        },
        "yaxis57": {
         "anchor": "x57",
         "domain": [
          0.4691358024691358,
          0.5308641975308642
         ]
        },
        "yaxis58": {
         "anchor": "x58",
         "domain": [
          0.4691358024691358,
          0.5308641975308642
         ]
        },
        "yaxis59": {
         "anchor": "x59",
         "domain": [
          0.4691358024691358,
          0.5308641975308642
         ]
        },
        "yaxis6": {
         "anchor": "x6",
         "domain": [
          0.9382716049382716,
          1
         ]
        },
        "yaxis60": {
         "anchor": "x60",
         "domain": [
          0.4691358024691358,
          0.5308641975308642
         ]
        },
        "yaxis61": {
         "anchor": "x61",
         "domain": [
          0.35185185185185186,
          0.41358024691358025
         ]
        },
        "yaxis62": {
         "anchor": "x62",
         "domain": [
          0.35185185185185186,
          0.41358024691358025
         ]
        },
        "yaxis63": {
         "anchor": "x63",
         "domain": [
          0.35185185185185186,
          0.41358024691358025
         ]
        },
        "yaxis64": {
         "anchor": "x64",
         "domain": [
          0.35185185185185186,
          0.41358024691358025
         ]
        },
        "yaxis65": {
         "anchor": "x65",
         "domain": [
          0.35185185185185186,
          0.41358024691358025
         ]
        },
        "yaxis66": {
         "anchor": "x66",
         "domain": [
          0.35185185185185186,
          0.41358024691358025
         ]
        },
        "yaxis67": {
         "anchor": "x67",
         "domain": [
          0.35185185185185186,
          0.41358024691358025
         ]
        },
        "yaxis68": {
         "anchor": "x68",
         "domain": [
          0.35185185185185186,
          0.41358024691358025
         ]
        },
        "yaxis69": {
         "anchor": "x69",
         "domain": [
          0.35185185185185186,
          0.41358024691358025
         ]
        },
        "yaxis7": {
         "anchor": "x7",
         "domain": [
          0.9382716049382716,
          1
         ]
        },
        "yaxis70": {
         "anchor": "x70",
         "domain": [
          0.35185185185185186,
          0.41358024691358025
         ]
        },
        "yaxis71": {
         "anchor": "x71",
         "domain": [
          0.35185185185185186,
          0.41358024691358025
         ]
        },
        "yaxis72": {
         "anchor": "x72",
         "domain": [
          0.35185185185185186,
          0.41358024691358025
         ]
        },
        "yaxis73": {
         "anchor": "x73",
         "domain": [
          0.2345679012345679,
          0.2962962962962963
         ]
        },
        "yaxis74": {
         "anchor": "x74",
         "domain": [
          0.2345679012345679,
          0.2962962962962963
         ]
        },
        "yaxis75": {
         "anchor": "x75",
         "domain": [
          0.2345679012345679,
          0.2962962962962963
         ]
        },
        "yaxis76": {
         "anchor": "x76",
         "domain": [
          0.2345679012345679,
          0.2962962962962963
         ]
        },
        "yaxis77": {
         "anchor": "x77",
         "domain": [
          0.2345679012345679,
          0.2962962962962963
         ]
        },
        "yaxis78": {
         "anchor": "x78",
         "domain": [
          0.2345679012345679,
          0.2962962962962963
         ]
        },
        "yaxis79": {
         "anchor": "x79",
         "domain": [
          0.2345679012345679,
          0.2962962962962963
         ]
        },
        "yaxis8": {
         "anchor": "x8",
         "domain": [
          0.9382716049382716,
          1
         ]
        },
        "yaxis80": {
         "anchor": "x80",
         "domain": [
          0.2345679012345679,
          0.2962962962962963
         ]
        },
        "yaxis81": {
         "anchor": "x81",
         "domain": [
          0.2345679012345679,
          0.2962962962962963
         ]
        },
        "yaxis82": {
         "anchor": "x82",
         "domain": [
          0.2345679012345679,
          0.2962962962962963
         ]
        },
        "yaxis83": {
         "anchor": "x83",
         "domain": [
          0.2345679012345679,
          0.2962962962962963
         ]
        },
        "yaxis84": {
         "anchor": "x84",
         "domain": [
          0.2345679012345679,
          0.2962962962962963
         ]
        },
        "yaxis85": {
         "anchor": "x85",
         "domain": [
          0.11728395061728394,
          0.17901234567901234
         ]
        },
        "yaxis86": {
         "anchor": "x86",
         "domain": [
          0.11728395061728394,
          0.17901234567901234
         ]
        },
        "yaxis87": {
         "anchor": "x87",
         "domain": [
          0.11728395061728394,
          0.17901234567901234
         ]
        },
        "yaxis88": {
         "anchor": "x88",
         "domain": [
          0.11728395061728394,
          0.17901234567901234
         ]
        },
        "yaxis89": {
         "anchor": "x89",
         "domain": [
          0.11728395061728394,
          0.17901234567901234
         ]
        },
        "yaxis9": {
         "anchor": "x9",
         "domain": [
          0.9382716049382716,
          1
         ]
        },
        "yaxis90": {
         "anchor": "x90",
         "domain": [
          0.11728395061728394,
          0.17901234567901234
         ]
        },
        "yaxis91": {
         "anchor": "x91",
         "domain": [
          0.11728395061728394,
          0.17901234567901234
         ]
        },
        "yaxis92": {
         "anchor": "x92",
         "domain": [
          0.11728395061728394,
          0.17901234567901234
         ]
        },
        "yaxis93": {
         "anchor": "x93",
         "domain": [
          0.11728395061728394,
          0.17901234567901234
         ]
        },
        "yaxis94": {
         "anchor": "x94",
         "domain": [
          0.11728395061728394,
          0.17901234567901234
         ]
        },
        "yaxis95": {
         "anchor": "x95",
         "domain": [
          0.11728395061728394,
          0.17901234567901234
         ]
        },
        "yaxis96": {
         "anchor": "x96",
         "domain": [
          0.11728395061728394,
          0.17901234567901234
         ]
        },
        "yaxis97": {
         "anchor": "x97",
         "domain": [
          0,
          0.0617283950617284
         ]
        },
        "yaxis98": {
         "anchor": "x98",
         "domain": [
          0,
          0.0617283950617284
         ]
        },
        "yaxis99": {
         "anchor": "x99",
         "domain": [
          0,
          0.0617283950617284
         ]
        }
       }
      }
     },
     "metadata": {}
    }
   ],
   "source": [
    "from plotly.subplots import make_subplots\n",
    "import plotly.graph_objects as go\n",
    "import itertools\n",
    "\n",
    "x = np.array([(x, y) for x in rows for y in cols])\n",
    "x = pd.DataFrame([(x, y) for x in rows for y in cols], columns=[\"row\",\"col\"])\n",
    "\n",
    "x = pd.merge(x, wi_grid, how = \"left\", on = [\"row\",\"col\"])\n",
    "x = x.fillna(\"\")\n",
    "\n",
    "\n",
    "# create figure with subplots\n",
    "fig = make_subplots(rows=max(rows), cols=max(cols), subplot_titles = [y.replace(\" County\", \"\") for y in x[\"name\"].tolist()])\n",
    "fig.for_each_annotation(lambda a: a.update(font=dict(size = 7)))\n",
    "\n",
    "for row, col in itertools.product(rows, cols):\n",
    "    index = (r0_county_grid[\"row\"] == row) & (r0_county_grid[\"col\"] == col)\n",
    "    subset_df = r0_county_grid[index]\n",
    "    if not subset_df.empty:\n",
    "        fig.add_trace(\n",
    "            go.Scatter(x=subset_df[\"t_end\"], y=subset_df[\"Mean(R)\"], mode = \"lines\"),\n",
    "            row = row,\n",
    "            col = col\n",
    "        )\n",
    "    \n",
    "\n",
    "# fig.add_trace(\n",
    "#     go.Scatter(x=[1, 2, 3], y=[4, 5, 6]),\n",
    "#     row=1, col=1\n",
    "# )\n",
    "\n",
    "# fig.add_trace(\n",
    "#     go.Scatter(x=[20, 30, 40], y=[50, 60, 70]),\n",
    "#     row=1, col=2\n",
    "# )\n",
    "\n",
    "fig.show()"
   ]
  },
  {
   "cell_type": "markdown",
   "metadata": {},
   "source": [
    "## Everything below this line is scratch work!"
   ]
  },
  {
   "cell_type": "code",
   "execution_count": 130,
   "metadata": {},
   "outputs": [
    {
     "output_type": "execute_result",
     "data": {
      "text/plain": "True"
     },
     "metadata": {},
     "execution_count": 130
    }
   ],
   "source": [
    "index = (r0_county_grid[\"row\"] == 1) & (r0_county_grid[\"col\"] == 1)\n",
    "subset_df = r0_county_grid[index]\n",
    "subset_df.empty\n",
    "#     \n",
    "\n",
    "# r0_county_grid[]"
   ]
  },
  {
   "cell_type": "code",
   "execution_count": 4,
   "metadata": {},
   "outputs": [
    {
     "output_type": "display_data",
     "data": {
      "application/vnd.plotly.v1+json": {
       "config": {
        "plotlyServerURL": "https://plot.ly"
       },
       "data": [
        {
         "hovertemplate": "smoker=No<br>total_bill=%{x}<br>tip=%{y}<extra></extra>",
         "legendgroup": "",
         "marker": {
          "color": "#636efa",
          "symbol": "circle"
         },
         "mode": "markers",
         "name": "",
         "showlegend": false,
         "type": "scatter",
         "x": [
          16.99,
          10.34,
          21.01,
          23.68,
          24.59,
          25.29,
          8.77,
          26.88,
          15.04,
          14.78,
          10.27,
          35.26,
          15.42,
          18.43,
          14.83,
          21.58,
          10.33,
          16.29,
          16.97,
          20.65,
          17.92,
          20.29,
          15.77,
          39.42,
          19.82,
          17.81,
          13.37,
          12.69,
          21.7,
          19.65,
          9.55,
          18.35,
          15.06,
          20.69,
          17.78,
          24.06,
          16.31,
          16.93,
          18.69,
          31.27,
          16.04,
          17.46,
          13.94,
          9.68,
          30.4,
          18.29,
          22.23,
          32.4,
          28.55,
          18.04,
          12.54,
          10.29,
          34.81,
          9.94,
          25.56,
          19.49,
          26.41,
          48.27,
          17.59,
          20.08,
          16.45,
          20.23,
          12.02,
          17.07,
          14.73,
          10.51,
          27.2,
          22.76,
          17.29,
          16.66,
          10.07,
          15.98,
          34.83,
          13.03,
          18.28,
          24.71,
          21.16,
          22.49,
          22.75,
          12.46,
          20.92,
          18.24,
          14,
          7.25,
          38.07,
          23.95,
          25.71,
          17.31,
          29.93,
          10.65,
          12.43,
          24.08,
          11.69,
          13.42,
          14.26,
          15.95,
          12.48,
          29.8,
          8.52,
          14.52,
          11.38,
          22.82,
          19.08,
          20.27,
          11.17,
          12.26,
          18.26,
          8.51,
          10.33,
          14.15,
          13.16,
          17.47,
          34.3,
          41.19,
          27.05,
          16.43,
          8.35,
          18.64,
          11.87,
          9.78,
          7.51,
          14.07,
          13.13,
          17.26,
          24.55,
          19.77,
          29.85,
          48.17,
          25,
          13.39,
          16.49,
          21.5,
          12.66,
          16.21,
          13.81,
          24.52,
          20.76,
          31.71,
          20.69,
          7.56,
          48.33,
          15.98,
          20.45,
          13.28,
          11.61,
          10.77,
          10.07,
          35.83,
          29.03,
          17.82,
          18.78
         ],
         "xaxis": "x",
         "y": [
          1.01,
          1.66,
          3.5,
          3.31,
          3.61,
          4.71,
          2,
          3.12,
          1.96,
          3.23,
          1.71,
          5,
          1.57,
          3,
          3.02,
          3.92,
          1.67,
          3.71,
          3.5,
          3.35,
          4.08,
          2.75,
          2.23,
          7.58,
          3.18,
          2.34,
          2,
          2,
          4.3,
          3,
          1.45,
          2.5,
          3,
          2.45,
          3.27,
          3.6,
          2,
          3.07,
          2.31,
          5,
          2.24,
          2.54,
          3.06,
          1.32,
          5.6,
          3,
          5,
          6,
          2.05,
          3,
          2.5,
          2.6,
          5.2,
          1.56,
          4.34,
          3.51,
          1.5,
          6.73,
          2.64,
          3.15,
          2.47,
          2.01,
          1.97,
          3,
          2.2,
          1.25,
          4,
          3,
          2.71,
          3.4,
          1.83,
          2.03,
          5.17,
          2,
          4,
          5.85,
          3,
          3.5,
          3.25,
          1.5,
          4.08,
          3.76,
          3,
          1,
          4,
          2.55,
          4,
          3.5,
          5.07,
          1.5,
          1.8,
          2.92,
          2.31,
          1.68,
          2.5,
          2,
          2.52,
          4.2,
          1.48,
          2,
          2,
          2.18,
          1.5,
          2.83,
          1.5,
          2,
          3.25,
          1.25,
          2,
          2,
          2.75,
          3.5,
          6.7,
          5,
          5,
          2.3,
          1.5,
          1.36,
          1.63,
          1.73,
          2,
          2.5,
          2,
          2.74,
          2,
          2,
          5.14,
          5,
          3.75,
          2.61,
          2,
          3.5,
          2.5,
          2,
          2,
          3.48,
          2.24,
          4.5,
          5,
          1.44,
          9,
          3,
          3,
          2.72,
          3.39,
          1.47,
          1.25,
          4.67,
          5.92,
          1.75,
          3
         ],
         "yaxis": "y"
        },
        {
         "hovertemplate": "smoker=Yes<br>total_bill=%{x}<br>tip=%{y}<extra></extra>",
         "legendgroup": "",
         "marker": {
          "color": "#636efa",
          "symbol": "circle"
         },
         "mode": "markers",
         "name": "",
         "showlegend": false,
         "type": "scatter",
         "x": [
          38.01,
          11.24,
          20.29,
          13.81,
          11.02,
          18.29,
          3.07,
          15.01,
          26.86,
          25.28,
          17.92,
          19.44,
          32.68,
          28.97,
          5.75,
          16.32,
          40.17,
          27.28,
          12.03,
          21.01,
          11.35,
          15.38,
          44.3,
          22.42,
          15.36,
          20.49,
          25.21,
          14.31,
          16,
          17.51,
          10.59,
          10.63,
          50.81,
          15.81,
          7.25,
          31.85,
          16.82,
          32.9,
          17.89,
          14.48,
          9.6,
          34.63,
          34.65,
          23.33,
          45.35,
          23.17,
          40.55,
          20.9,
          30.46,
          18.15,
          23.1,
          15.69,
          19.81,
          28.44,
          15.48,
          16.58,
          10.34,
          43.11,
          13,
          13.51,
          18.71,
          12.74,
          13,
          16.4,
          20.53,
          16.47,
          26.59,
          38.73,
          24.27,
          12.76,
          30.06,
          25.89,
          13.27,
          28.17,
          12.9,
          28.15,
          11.59,
          7.74,
          30.14,
          12.16,
          13.42,
          8.58,
          13.42,
          16.27,
          10.09,
          22.12,
          24.01,
          15.69,
          15.53,
          12.6,
          32.83,
          27.18,
          22.67
         ],
         "xaxis": "x2",
         "y": [
          3,
          1.76,
          3.21,
          2,
          1.98,
          3.76,
          1,
          2.09,
          3.14,
          5,
          3.08,
          3,
          5,
          3,
          1,
          4.3,
          4.73,
          4,
          1.5,
          3,
          2.5,
          3,
          2.5,
          3.48,
          1.64,
          4.06,
          4.29,
          4,
          2,
          3,
          1.61,
          2,
          10,
          3.16,
          5.15,
          3.18,
          4,
          3.11,
          2,
          2,
          4,
          3.55,
          3.68,
          5.65,
          3.5,
          6.5,
          3,
          3.5,
          2,
          3.5,
          4,
          1.5,
          4.19,
          2.56,
          2.02,
          4,
          2,
          5,
          2,
          2,
          4,
          2.01,
          2,
          2.5,
          4,
          3.23,
          3.41,
          3,
          2.03,
          2.23,
          2,
          5.16,
          2.5,
          6.5,
          1.1,
          3,
          1.5,
          1.44,
          3.09,
          2.2,
          3.48,
          1.92,
          1.58,
          2.5,
          2,
          2.88,
          2,
          3,
          3,
          1,
          1.17,
          2,
          2
         ],
         "yaxis": "y2"
        }
       ],
       "layout": {
        "annotations": [
         {
          "font": {},
          "showarrow": false,
          "text": "No",
          "x": 0.245,
          "xanchor": "center",
          "xref": "paper",
          "y": 1,
          "yanchor": "bottom",
          "yref": "paper"
         },
         {
          "font": {},
          "showarrow": false,
          "text": "Yes",
          "x": 0.755,
          "xanchor": "center",
          "xref": "paper",
          "y": 1,
          "yanchor": "bottom",
          "yref": "paper"
         }
        ],
        "legend": {
         "tracegroupgap": 0
        },
        "margin": {
         "t": 60
        },
        "template": {
         "data": {
          "bar": [
           {
            "error_x": {
             "color": "#2a3f5f"
            },
            "error_y": {
             "color": "#2a3f5f"
            },
            "marker": {
             "line": {
              "color": "#E5ECF6",
              "width": 0.5
             }
            },
            "type": "bar"
           }
          ],
          "barpolar": [
           {
            "marker": {
             "line": {
              "color": "#E5ECF6",
              "width": 0.5
             }
            },
            "type": "barpolar"
           }
          ],
          "carpet": [
           {
            "aaxis": {
             "endlinecolor": "#2a3f5f",
             "gridcolor": "white",
             "linecolor": "white",
             "minorgridcolor": "white",
             "startlinecolor": "#2a3f5f"
            },
            "baxis": {
             "endlinecolor": "#2a3f5f",
             "gridcolor": "white",
             "linecolor": "white",
             "minorgridcolor": "white",
             "startlinecolor": "#2a3f5f"
            },
            "type": "carpet"
           }
          ],
          "choropleth": [
           {
            "colorbar": {
             "outlinewidth": 0,
             "ticks": ""
            },
            "type": "choropleth"
           }
          ],
          "contour": [
           {
            "colorbar": {
             "outlinewidth": 0,
             "ticks": ""
            },
            "colorscale": [
             [
              0,
              "#0d0887"
             ],
             [
              0.1111111111111111,
              "#46039f"
             ],
             [
              0.2222222222222222,
              "#7201a8"
             ],
             [
              0.3333333333333333,
              "#9c179e"
             ],
             [
              0.4444444444444444,
              "#bd3786"
             ],
             [
              0.5555555555555556,
              "#d8576b"
             ],
             [
              0.6666666666666666,
              "#ed7953"
             ],
             [
              0.7777777777777778,
              "#fb9f3a"
             ],
             [
              0.8888888888888888,
              "#fdca26"
             ],
             [
              1,
              "#f0f921"
             ]
            ],
            "type": "contour"
           }
          ],
          "contourcarpet": [
           {
            "colorbar": {
             "outlinewidth": 0,
             "ticks": ""
            },
            "type": "contourcarpet"
           }
          ],
          "heatmap": [
           {
            "colorbar": {
             "outlinewidth": 0,
             "ticks": ""
            },
            "colorscale": [
             [
              0,
              "#0d0887"
             ],
             [
              0.1111111111111111,
              "#46039f"
             ],
             [
              0.2222222222222222,
              "#7201a8"
             ],
             [
              0.3333333333333333,
              "#9c179e"
             ],
             [
              0.4444444444444444,
              "#bd3786"
             ],
             [
              0.5555555555555556,
              "#d8576b"
             ],
             [
              0.6666666666666666,
              "#ed7953"
             ],
             [
              0.7777777777777778,
              "#fb9f3a"
             ],
             [
              0.8888888888888888,
              "#fdca26"
             ],
             [
              1,
              "#f0f921"
             ]
            ],
            "type": "heatmap"
           }
          ],
          "heatmapgl": [
           {
            "colorbar": {
             "outlinewidth": 0,
             "ticks": ""
            },
            "colorscale": [
             [
              0,
              "#0d0887"
             ],
             [
              0.1111111111111111,
              "#46039f"
             ],
             [
              0.2222222222222222,
              "#7201a8"
             ],
             [
              0.3333333333333333,
              "#9c179e"
             ],
             [
              0.4444444444444444,
              "#bd3786"
             ],
             [
              0.5555555555555556,
              "#d8576b"
             ],
             [
              0.6666666666666666,
              "#ed7953"
             ],
             [
              0.7777777777777778,
              "#fb9f3a"
             ],
             [
              0.8888888888888888,
              "#fdca26"
             ],
             [
              1,
              "#f0f921"
             ]
            ],
            "type": "heatmapgl"
           }
          ],
          "histogram": [
           {
            "marker": {
             "colorbar": {
              "outlinewidth": 0,
              "ticks": ""
             }
            },
            "type": "histogram"
           }
          ],
          "histogram2d": [
           {
            "colorbar": {
             "outlinewidth": 0,
             "ticks": ""
            },
            "colorscale": [
             [
              0,
              "#0d0887"
             ],
             [
              0.1111111111111111,
              "#46039f"
             ],
             [
              0.2222222222222222,
              "#7201a8"
             ],
             [
              0.3333333333333333,
              "#9c179e"
             ],
             [
              0.4444444444444444,
              "#bd3786"
             ],
             [
              0.5555555555555556,
              "#d8576b"
             ],
             [
              0.6666666666666666,
              "#ed7953"
             ],
             [
              0.7777777777777778,
              "#fb9f3a"
             ],
             [
              0.8888888888888888,
              "#fdca26"
             ],
             [
              1,
              "#f0f921"
             ]
            ],
            "type": "histogram2d"
           }
          ],
          "histogram2dcontour": [
           {
            "colorbar": {
             "outlinewidth": 0,
             "ticks": ""
            },
            "colorscale": [
             [
              0,
              "#0d0887"
             ],
             [
              0.1111111111111111,
              "#46039f"
             ],
             [
              0.2222222222222222,
              "#7201a8"
             ],
             [
              0.3333333333333333,
              "#9c179e"
             ],
             [
              0.4444444444444444,
              "#bd3786"
             ],
             [
              0.5555555555555556,
              "#d8576b"
             ],
             [
              0.6666666666666666,
              "#ed7953"
             ],
             [
              0.7777777777777778,
              "#fb9f3a"
             ],
             [
              0.8888888888888888,
              "#fdca26"
             ],
             [
              1,
              "#f0f921"
             ]
            ],
            "type": "histogram2dcontour"
           }
          ],
          "mesh3d": [
           {
            "colorbar": {
             "outlinewidth": 0,
             "ticks": ""
            },
            "type": "mesh3d"
           }
          ],
          "parcoords": [
           {
            "line": {
             "colorbar": {
              "outlinewidth": 0,
              "ticks": ""
             }
            },
            "type": "parcoords"
           }
          ],
          "pie": [
           {
            "automargin": true,
            "type": "pie"
           }
          ],
          "scatter": [
           {
            "marker": {
             "colorbar": {
              "outlinewidth": 0,
              "ticks": ""
             }
            },
            "type": "scatter"
           }
          ],
          "scatter3d": [
           {
            "line": {
             "colorbar": {
              "outlinewidth": 0,
              "ticks": ""
             }
            },
            "marker": {
             "colorbar": {
              "outlinewidth": 0,
              "ticks": ""
             }
            },
            "type": "scatter3d"
           }
          ],
          "scattercarpet": [
           {
            "marker": {
             "colorbar": {
              "outlinewidth": 0,
              "ticks": ""
             }
            },
            "type": "scattercarpet"
           }
          ],
          "scattergeo": [
           {
            "marker": {
             "colorbar": {
              "outlinewidth": 0,
              "ticks": ""
             }
            },
            "type": "scattergeo"
           }
          ],
          "scattergl": [
           {
            "marker": {
             "colorbar": {
              "outlinewidth": 0,
              "ticks": ""
             }
            },
            "type": "scattergl"
           }
          ],
          "scattermapbox": [
           {
            "marker": {
             "colorbar": {
              "outlinewidth": 0,
              "ticks": ""
             }
            },
            "type": "scattermapbox"
           }
          ],
          "scatterpolar": [
           {
            "marker": {
             "colorbar": {
              "outlinewidth": 0,
              "ticks": ""
             }
            },
            "type": "scatterpolar"
           }
          ],
          "scatterpolargl": [
           {
            "marker": {
             "colorbar": {
              "outlinewidth": 0,
              "ticks": ""
             }
            },
            "type": "scatterpolargl"
           }
          ],
          "scatterternary": [
           {
            "marker": {
             "colorbar": {
              "outlinewidth": 0,
              "ticks": ""
             }
            },
            "type": "scatterternary"
           }
          ],
          "surface": [
           {
            "colorbar": {
             "outlinewidth": 0,
             "ticks": ""
            },
            "colorscale": [
             [
              0,
              "#0d0887"
             ],
             [
              0.1111111111111111,
              "#46039f"
             ],
             [
              0.2222222222222222,
              "#7201a8"
             ],
             [
              0.3333333333333333,
              "#9c179e"
             ],
             [
              0.4444444444444444,
              "#bd3786"
             ],
             [
              0.5555555555555556,
              "#d8576b"
             ],
             [
              0.6666666666666666,
              "#ed7953"
             ],
             [
              0.7777777777777778,
              "#fb9f3a"
             ],
             [
              0.8888888888888888,
              "#fdca26"
             ],
             [
              1,
              "#f0f921"
             ]
            ],
            "type": "surface"
           }
          ],
          "table": [
           {
            "cells": {
             "fill": {
              "color": "#EBF0F8"
             },
             "line": {
              "color": "white"
             }
            },
            "header": {
             "fill": {
              "color": "#C8D4E3"
             },
             "line": {
              "color": "white"
             }
            },
            "type": "table"
           }
          ]
         },
         "layout": {
          "annotationdefaults": {
           "arrowcolor": "#2a3f5f",
           "arrowhead": 0,
           "arrowwidth": 1
          },
          "coloraxis": {
           "colorbar": {
            "outlinewidth": 0,
            "ticks": ""
           }
          },
          "colorscale": {
           "diverging": [
            [
             0,
             "#8e0152"
            ],
            [
             0.1,
             "#c51b7d"
            ],
            [
             0.2,
             "#de77ae"
            ],
            [
             0.3,
             "#f1b6da"
            ],
            [
             0.4,
             "#fde0ef"
            ],
            [
             0.5,
             "#f7f7f7"
            ],
            [
             0.6,
             "#e6f5d0"
            ],
            [
             0.7,
             "#b8e186"
            ],
            [
             0.8,
             "#7fbc41"
            ],
            [
             0.9,
             "#4d9221"
            ],
            [
             1,
             "#276419"
            ]
           ],
           "sequential": [
            [
             0,
             "#0d0887"
            ],
            [
             0.1111111111111111,
             "#46039f"
            ],
            [
             0.2222222222222222,
             "#7201a8"
            ],
            [
             0.3333333333333333,
             "#9c179e"
            ],
            [
             0.4444444444444444,
             "#bd3786"
            ],
            [
             0.5555555555555556,
             "#d8576b"
            ],
            [
             0.6666666666666666,
             "#ed7953"
            ],
            [
             0.7777777777777778,
             "#fb9f3a"
            ],
            [
             0.8888888888888888,
             "#fdca26"
            ],
            [
             1,
             "#f0f921"
            ]
           ],
           "sequentialminus": [
            [
             0,
             "#0d0887"
            ],
            [
             0.1111111111111111,
             "#46039f"
            ],
            [
             0.2222222222222222,
             "#7201a8"
            ],
            [
             0.3333333333333333,
             "#9c179e"
            ],
            [
             0.4444444444444444,
             "#bd3786"
            ],
            [
             0.5555555555555556,
             "#d8576b"
            ],
            [
             0.6666666666666666,
             "#ed7953"
            ],
            [
             0.7777777777777778,
             "#fb9f3a"
            ],
            [
             0.8888888888888888,
             "#fdca26"
            ],
            [
             1,
             "#f0f921"
            ]
           ]
          },
          "colorway": [
           "#636efa",
           "#EF553B",
           "#00cc96",
           "#ab63fa",
           "#FFA15A",
           "#19d3f3",
           "#FF6692",
           "#B6E880",
           "#FF97FF",
           "#FECB52"
          ],
          "font": {
           "color": "#2a3f5f"
          },
          "geo": {
           "bgcolor": "white",
           "lakecolor": "white",
           "landcolor": "#E5ECF6",
           "showlakes": true,
           "showland": true,
           "subunitcolor": "white"
          },
          "hoverlabel": {
           "align": "left"
          },
          "hovermode": "closest",
          "mapbox": {
           "style": "light"
          },
          "paper_bgcolor": "white",
          "plot_bgcolor": "#E5ECF6",
          "polar": {
           "angularaxis": {
            "gridcolor": "white",
            "linecolor": "white",
            "ticks": ""
           },
           "bgcolor": "#E5ECF6",
           "radialaxis": {
            "gridcolor": "white",
            "linecolor": "white",
            "ticks": ""
           }
          },
          "scene": {
           "xaxis": {
            "backgroundcolor": "#E5ECF6",
            "gridcolor": "white",
            "gridwidth": 2,
            "linecolor": "white",
            "showbackground": true,
            "ticks": "",
            "zerolinecolor": "white"
           },
           "yaxis": {
            "backgroundcolor": "#E5ECF6",
            "gridcolor": "white",
            "gridwidth": 2,
            "linecolor": "white",
            "showbackground": true,
            "ticks": "",
            "zerolinecolor": "white"
           },
           "zaxis": {
            "backgroundcolor": "#E5ECF6",
            "gridcolor": "white",
            "gridwidth": 2,
            "linecolor": "white",
            "showbackground": true,
            "ticks": "",
            "zerolinecolor": "white"
           }
          },
          "shapedefaults": {
           "line": {
            "color": "#2a3f5f"
           }
          },
          "ternary": {
           "aaxis": {
            "gridcolor": "white",
            "linecolor": "white",
            "ticks": ""
           },
           "baxis": {
            "gridcolor": "white",
            "linecolor": "white",
            "ticks": ""
           },
           "bgcolor": "#E5ECF6",
           "caxis": {
            "gridcolor": "white",
            "linecolor": "white",
            "ticks": ""
           }
          },
          "title": {
           "x": 0.05
          },
          "xaxis": {
           "automargin": true,
           "gridcolor": "white",
           "linecolor": "white",
           "ticks": "",
           "title": {
            "standoff": 15
           },
           "zerolinecolor": "white",
           "zerolinewidth": 2
          },
          "yaxis": {
           "automargin": true,
           "gridcolor": "white",
           "linecolor": "white",
           "ticks": "",
           "title": {
            "standoff": 15
           },
           "zerolinecolor": "white",
           "zerolinewidth": 2
          }
         }
        },
        "xaxis": {
         "anchor": "y",
         "domain": [
          0,
          0.49
         ],
         "title": {
          "text": "total_bill"
         }
        },
        "xaxis2": {
         "anchor": "y2",
         "domain": [
          0.51,
          1
         ],
         "matches": "x",
         "title": {
          "text": "total_bill"
         }
        },
        "yaxis": {
         "anchor": "x",
         "domain": [
          0,
          1
         ],
         "title": {
          "text": "tip"
         }
        },
        "yaxis2": {
         "anchor": "x2",
         "domain": [
          0,
          1
         ],
         "matches": "y",
         "showticklabels": false
        }
       }
      }
     },
     "metadata": {}
    }
   ],
   "source": [
    "fig = px.scatter(px.data.tips(), x=\"total_bill\", y=\"tip\", facet_col=\"smoker\")\n",
    "fig.for_each_annotation(lambda a: a.update(text=a.text.split(\"=\")[-1]))\n",
    "fig.show()"
   ]
  },
  {
   "cell_type": "code",
   "execution_count": 8,
   "metadata": {},
   "outputs": [
    {
     "output_type": "stream",
     "name": "stdout",
     "text": "total_bill   tip     sex smoker   day    time  size\n0         16.99  1.01  Female     No   Sun  Dinner     2\n1         10.34  1.66    Male     No   Sun  Dinner     3\n2         21.01  3.50    Male     No   Sun  Dinner     3\n3         23.68  3.31    Male     No   Sun  Dinner     2\n4         24.59  3.61  Female     No   Sun  Dinner     4\n..          ...   ...     ...    ...   ...     ...   ...\n239       29.03  5.92    Male     No   Sat  Dinner     3\n240       27.18  2.00  Female    Yes   Sat  Dinner     2\n241       22.67  2.00    Male    Yes   Sat  Dinner     2\n242       17.82  1.75    Male     No   Sat  Dinner     2\n243       18.78  3.00  Female     No  Thur  Dinner     2\n\n[244 rows x 7 columns]\n"
    }
   ],
   "source": [
    "print(px.data.tips())"
   ]
  },
  {
   "cell_type": "code",
   "execution_count": 53,
   "metadata": {},
   "outputs": [
    {
     "output_type": "display_data",
     "data": {
      "application/vnd.plotly.v1+json": {
       "config": {
        "plotlyServerURL": "https://plot.ly"
       },
       "data": [
        {
         "type": "scatter",
         "x": [
          1,
          2,
          3
         ],
         "xaxis": "x",
         "y": [
          4,
          5,
          6
         ],
         "yaxis": "y"
        },
        {
         "type": "scatter",
         "x": [
          20,
          30,
          40
         ],
         "xaxis": "x2",
         "y": [
          50,
          60,
          70
         ],
         "yaxis": "y2"
        }
       ],
       "layout": {
        "annotations": [
         {
          "font": {
           "size": 16
          },
          "showarrow": false,
          "text": "title1",
          "x": 0.225,
          "xanchor": "center",
          "xref": "paper",
          "y": 1,
          "yanchor": "bottom",
          "yref": "paper"
         },
         {
          "font": {
           "size": 16
          },
          "showarrow": false,
          "text": "title2",
          "x": 0.775,
          "xanchor": "center",
          "xref": "paper",
          "y": 1,
          "yanchor": "bottom",
          "yref": "paper"
         },
         {
          "font": {
           "size": 16
          },
          "showarrow": false,
          "text": "title3",
          "x": 0.225,
          "xanchor": "center",
          "xref": "paper",
          "y": 0.375,
          "yanchor": "bottom",
          "yref": "paper"
         }
        ],
        "height": 600,
        "template": {
         "data": {
          "bar": [
           {
            "error_x": {
             "color": "#2a3f5f"
            },
            "error_y": {
             "color": "#2a3f5f"
            },
            "marker": {
             "line": {
              "color": "#E5ECF6",
              "width": 0.5
             }
            },
            "type": "bar"
           }
          ],
          "barpolar": [
           {
            "marker": {
             "line": {
              "color": "#E5ECF6",
              "width": 0.5
             }
            },
            "type": "barpolar"
           }
          ],
          "carpet": [
           {
            "aaxis": {
             "endlinecolor": "#2a3f5f",
             "gridcolor": "white",
             "linecolor": "white",
             "minorgridcolor": "white",
             "startlinecolor": "#2a3f5f"
            },
            "baxis": {
             "endlinecolor": "#2a3f5f",
             "gridcolor": "white",
             "linecolor": "white",
             "minorgridcolor": "white",
             "startlinecolor": "#2a3f5f"
            },
            "type": "carpet"
           }
          ],
          "choropleth": [
           {
            "colorbar": {
             "outlinewidth": 0,
             "ticks": ""
            },
            "type": "choropleth"
           }
          ],
          "contour": [
           {
            "colorbar": {
             "outlinewidth": 0,
             "ticks": ""
            },
            "colorscale": [
             [
              0,
              "#0d0887"
             ],
             [
              0.1111111111111111,
              "#46039f"
             ],
             [
              0.2222222222222222,
              "#7201a8"
             ],
             [
              0.3333333333333333,
              "#9c179e"
             ],
             [
              0.4444444444444444,
              "#bd3786"
             ],
             [
              0.5555555555555556,
              "#d8576b"
             ],
             [
              0.6666666666666666,
              "#ed7953"
             ],
             [
              0.7777777777777778,
              "#fb9f3a"
             ],
             [
              0.8888888888888888,
              "#fdca26"
             ],
             [
              1,
              "#f0f921"
             ]
            ],
            "type": "contour"
           }
          ],
          "contourcarpet": [
           {
            "colorbar": {
             "outlinewidth": 0,
             "ticks": ""
            },
            "type": "contourcarpet"
           }
          ],
          "heatmap": [
           {
            "colorbar": {
             "outlinewidth": 0,
             "ticks": ""
            },
            "colorscale": [
             [
              0,
              "#0d0887"
             ],
             [
              0.1111111111111111,
              "#46039f"
             ],
             [
              0.2222222222222222,
              "#7201a8"
             ],
             [
              0.3333333333333333,
              "#9c179e"
             ],
             [
              0.4444444444444444,
              "#bd3786"
             ],
             [
              0.5555555555555556,
              "#d8576b"
             ],
             [
              0.6666666666666666,
              "#ed7953"
             ],
             [
              0.7777777777777778,
              "#fb9f3a"
             ],
             [
              0.8888888888888888,
              "#fdca26"
             ],
             [
              1,
              "#f0f921"
             ]
            ],
            "type": "heatmap"
           }
          ],
          "heatmapgl": [
           {
            "colorbar": {
             "outlinewidth": 0,
             "ticks": ""
            },
            "colorscale": [
             [
              0,
              "#0d0887"
             ],
             [
              0.1111111111111111,
              "#46039f"
             ],
             [
              0.2222222222222222,
              "#7201a8"
             ],
             [
              0.3333333333333333,
              "#9c179e"
             ],
             [
              0.4444444444444444,
              "#bd3786"
             ],
             [
              0.5555555555555556,
              "#d8576b"
             ],
             [
              0.6666666666666666,
              "#ed7953"
             ],
             [
              0.7777777777777778,
              "#fb9f3a"
             ],
             [
              0.8888888888888888,
              "#fdca26"
             ],
             [
              1,
              "#f0f921"
             ]
            ],
            "type": "heatmapgl"
           }
          ],
          "histogram": [
           {
            "marker": {
             "colorbar": {
              "outlinewidth": 0,
              "ticks": ""
             }
            },
            "type": "histogram"
           }
          ],
          "histogram2d": [
           {
            "colorbar": {
             "outlinewidth": 0,
             "ticks": ""
            },
            "colorscale": [
             [
              0,
              "#0d0887"
             ],
             [
              0.1111111111111111,
              "#46039f"
             ],
             [
              0.2222222222222222,
              "#7201a8"
             ],
             [
              0.3333333333333333,
              "#9c179e"
             ],
             [
              0.4444444444444444,
              "#bd3786"
             ],
             [
              0.5555555555555556,
              "#d8576b"
             ],
             [
              0.6666666666666666,
              "#ed7953"
             ],
             [
              0.7777777777777778,
              "#fb9f3a"
             ],
             [
              0.8888888888888888,
              "#fdca26"
             ],
             [
              1,
              "#f0f921"
             ]
            ],
            "type": "histogram2d"
           }
          ],
          "histogram2dcontour": [
           {
            "colorbar": {
             "outlinewidth": 0,
             "ticks": ""
            },
            "colorscale": [
             [
              0,
              "#0d0887"
             ],
             [
              0.1111111111111111,
              "#46039f"
             ],
             [
              0.2222222222222222,
              "#7201a8"
             ],
             [
              0.3333333333333333,
              "#9c179e"
             ],
             [
              0.4444444444444444,
              "#bd3786"
             ],
             [
              0.5555555555555556,
              "#d8576b"
             ],
             [
              0.6666666666666666,
              "#ed7953"
             ],
             [
              0.7777777777777778,
              "#fb9f3a"
             ],
             [
              0.8888888888888888,
              "#fdca26"
             ],
             [
              1,
              "#f0f921"
             ]
            ],
            "type": "histogram2dcontour"
           }
          ],
          "mesh3d": [
           {
            "colorbar": {
             "outlinewidth": 0,
             "ticks": ""
            },
            "type": "mesh3d"
           }
          ],
          "parcoords": [
           {
            "line": {
             "colorbar": {
              "outlinewidth": 0,
              "ticks": ""
             }
            },
            "type": "parcoords"
           }
          ],
          "pie": [
           {
            "automargin": true,
            "type": "pie"
           }
          ],
          "scatter": [
           {
            "marker": {
             "colorbar": {
              "outlinewidth": 0,
              "ticks": ""
             }
            },
            "type": "scatter"
           }
          ],
          "scatter3d": [
           {
            "line": {
             "colorbar": {
              "outlinewidth": 0,
              "ticks": ""
             }
            },
            "marker": {
             "colorbar": {
              "outlinewidth": 0,
              "ticks": ""
             }
            },
            "type": "scatter3d"
           }
          ],
          "scattercarpet": [
           {
            "marker": {
             "colorbar": {
              "outlinewidth": 0,
              "ticks": ""
             }
            },
            "type": "scattercarpet"
           }
          ],
          "scattergeo": [
           {
            "marker": {
             "colorbar": {
              "outlinewidth": 0,
              "ticks": ""
             }
            },
            "type": "scattergeo"
           }
          ],
          "scattergl": [
           {
            "marker": {
             "colorbar": {
              "outlinewidth": 0,
              "ticks": ""
             }
            },
            "type": "scattergl"
           }
          ],
          "scattermapbox": [
           {
            "marker": {
             "colorbar": {
              "outlinewidth": 0,
              "ticks": ""
             }
            },
            "type": "scattermapbox"
           }
          ],
          "scatterpolar": [
           {
            "marker": {
             "colorbar": {
              "outlinewidth": 0,
              "ticks": ""
             }
            },
            "type": "scatterpolar"
           }
          ],
          "scatterpolargl": [
           {
            "marker": {
             "colorbar": {
              "outlinewidth": 0,
              "ticks": ""
             }
            },
            "type": "scatterpolargl"
           }
          ],
          "scatterternary": [
           {
            "marker": {
             "colorbar": {
              "outlinewidth": 0,
              "ticks": ""
             }
            },
            "type": "scatterternary"
           }
          ],
          "surface": [
           {
            "colorbar": {
             "outlinewidth": 0,
             "ticks": ""
            },
            "colorscale": [
             [
              0,
              "#0d0887"
             ],
             [
              0.1111111111111111,
              "#46039f"
             ],
             [
              0.2222222222222222,
              "#7201a8"
             ],
             [
              0.3333333333333333,
              "#9c179e"
             ],
             [
              0.4444444444444444,
              "#bd3786"
             ],
             [
              0.5555555555555556,
              "#d8576b"
             ],
             [
              0.6666666666666666,
              "#ed7953"
             ],
             [
              0.7777777777777778,
              "#fb9f3a"
             ],
             [
              0.8888888888888888,
              "#fdca26"
             ],
             [
              1,
              "#f0f921"
             ]
            ],
            "type": "surface"
           }
          ],
          "table": [
           {
            "cells": {
             "fill": {
              "color": "#EBF0F8"
             },
             "line": {
              "color": "white"
             }
            },
            "header": {
             "fill": {
              "color": "#C8D4E3"
             },
             "line": {
              "color": "white"
             }
            },
            "type": "table"
           }
          ]
         },
         "layout": {
          "annotationdefaults": {
           "arrowcolor": "#2a3f5f",
           "arrowhead": 0,
           "arrowwidth": 1
          },
          "coloraxis": {
           "colorbar": {
            "outlinewidth": 0,
            "ticks": ""
           }
          },
          "colorscale": {
           "diverging": [
            [
             0,
             "#8e0152"
            ],
            [
             0.1,
             "#c51b7d"
            ],
            [
             0.2,
             "#de77ae"
            ],
            [
             0.3,
             "#f1b6da"
            ],
            [
             0.4,
             "#fde0ef"
            ],
            [
             0.5,
             "#f7f7f7"
            ],
            [
             0.6,
             "#e6f5d0"
            ],
            [
             0.7,
             "#b8e186"
            ],
            [
             0.8,
             "#7fbc41"
            ],
            [
             0.9,
             "#4d9221"
            ],
            [
             1,
             "#276419"
            ]
           ],
           "sequential": [
            [
             0,
             "#0d0887"
            ],
            [
             0.1111111111111111,
             "#46039f"
            ],
            [
             0.2222222222222222,
             "#7201a8"
            ],
            [
             0.3333333333333333,
             "#9c179e"
            ],
            [
             0.4444444444444444,
             "#bd3786"
            ],
            [
             0.5555555555555556,
             "#d8576b"
            ],
            [
             0.6666666666666666,
             "#ed7953"
            ],
            [
             0.7777777777777778,
             "#fb9f3a"
            ],
            [
             0.8888888888888888,
             "#fdca26"
            ],
            [
             1,
             "#f0f921"
            ]
           ],
           "sequentialminus": [
            [
             0,
             "#0d0887"
            ],
            [
             0.1111111111111111,
             "#46039f"
            ],
            [
             0.2222222222222222,
             "#7201a8"
            ],
            [
             0.3333333333333333,
             "#9c179e"
            ],
            [
             0.4444444444444444,
             "#bd3786"
            ],
            [
             0.5555555555555556,
             "#d8576b"
            ],
            [
             0.6666666666666666,
             "#ed7953"
            ],
            [
             0.7777777777777778,
             "#fb9f3a"
            ],
            [
             0.8888888888888888,
             "#fdca26"
            ],
            [
             1,
             "#f0f921"
            ]
           ]
          },
          "colorway": [
           "#636efa",
           "#EF553B",
           "#00cc96",
           "#ab63fa",
           "#FFA15A",
           "#19d3f3",
           "#FF6692",
           "#B6E880",
           "#FF97FF",
           "#FECB52"
          ],
          "font": {
           "color": "#2a3f5f"
          },
          "geo": {
           "bgcolor": "white",
           "lakecolor": "white",
           "landcolor": "#E5ECF6",
           "showlakes": true,
           "showland": true,
           "subunitcolor": "white"
          },
          "hoverlabel": {
           "align": "left"
          },
          "hovermode": "closest",
          "mapbox": {
           "style": "light"
          },
          "paper_bgcolor": "white",
          "plot_bgcolor": "#E5ECF6",
          "polar": {
           "angularaxis": {
            "gridcolor": "white",
            "linecolor": "white",
            "ticks": ""
           },
           "bgcolor": "#E5ECF6",
           "radialaxis": {
            "gridcolor": "white",
            "linecolor": "white",
            "ticks": ""
           }
          },
          "scene": {
           "xaxis": {
            "backgroundcolor": "#E5ECF6",
            "gridcolor": "white",
            "gridwidth": 2,
            "linecolor": "white",
            "showbackground": true,
            "ticks": "",
            "zerolinecolor": "white"
           },
           "yaxis": {
            "backgroundcolor": "#E5ECF6",
            "gridcolor": "white",
            "gridwidth": 2,
            "linecolor": "white",
            "showbackground": true,
            "ticks": "",
            "zerolinecolor": "white"
           },
           "zaxis": {
            "backgroundcolor": "#E5ECF6",
            "gridcolor": "white",
            "gridwidth": 2,
            "linecolor": "white",
            "showbackground": true,
            "ticks": "",
            "zerolinecolor": "white"
           }
          },
          "shapedefaults": {
           "line": {
            "color": "#2a3f5f"
           }
          },
          "ternary": {
           "aaxis": {
            "gridcolor": "white",
            "linecolor": "white",
            "ticks": ""
           },
           "baxis": {
            "gridcolor": "white",
            "linecolor": "white",
            "ticks": ""
           },
           "bgcolor": "#E5ECF6",
           "caxis": {
            "gridcolor": "white",
            "linecolor": "white",
            "ticks": ""
           }
          },
          "title": {
           "x": 0.05
          },
          "xaxis": {
           "automargin": true,
           "gridcolor": "white",
           "linecolor": "white",
           "ticks": "",
           "title": {
            "standoff": 15
           },
           "zerolinecolor": "white",
           "zerolinewidth": 2
          },
          "yaxis": {
           "automargin": true,
           "gridcolor": "white",
           "linecolor": "white",
           "ticks": "",
           "title": {
            "standoff": 15
           },
           "zerolinecolor": "white",
           "zerolinewidth": 2
          }
         }
        },
        "title": {
         "text": "Subplots"
        },
        "width": 800,
        "xaxis": {
         "anchor": "y",
         "domain": [
          0,
          0.45
         ]
        },
        "xaxis2": {
         "anchor": "y2",
         "domain": [
          0.55,
          1
         ]
        },
        "xaxis3": {
         "anchor": "y3",
         "domain": [
          0,
          0.45
         ]
        },
        "xaxis4": {
         "anchor": "y4",
         "domain": [
          0.55,
          1
         ]
        },
        "yaxis": {
         "anchor": "x",
         "domain": [
          0.625,
          1
         ]
        },
        "yaxis2": {
         "anchor": "x2",
         "domain": [
          0.625,
          1
         ]
        },
        "yaxis3": {
         "anchor": "x3",
         "domain": [
          0,
          0.375
         ]
        },
        "yaxis4": {
         "anchor": "x4",
         "domain": [
          0,
          0.375
         ]
        }
       }
      }
     },
     "metadata": {}
    },
    {
     "output_type": "stream",
     "name": "stdout",
     "text": "(layout.Annotation({\n    'font': {'size': 16},\n    'showarrow': False,\n    'text': 'your text here',\n    'x': 0.225,\n    'xanchor': 'center',\n    'xref': 'paper',\n    'y': 1.0,\n    'yanchor': 'bottom',\n    'yref': 'paper'\n}), layout.Annotation({\n    'font': {'size': 16},\n    'showarrow': False,\n    'text': 'title2',\n    'x': 0.775,\n    'xanchor': 'center',\n    'xref': 'paper',\n    'y': 1.0,\n    'yanchor': 'bottom',\n    'yref': 'paper'\n}), layout.Annotation({\n    'font': {'size': 16},\n    'showarrow': False,\n    'text': 'title3',\n    'x': 0.225,\n    'xanchor': 'center',\n    'xref': 'paper',\n    'y': 0.375,\n    'yanchor': 'bottom',\n    'yref': 'paper'\n}))\n"
    },
    {
     "output_type": "display_data",
     "data": {
      "application/vnd.plotly.v1+json": {
       "config": {
        "plotlyServerURL": "https://plot.ly"
       },
       "data": [
        {
         "type": "scatter",
         "x": [
          1,
          2,
          3
         ],
         "xaxis": "x",
         "y": [
          4,
          5,
          6
         ],
         "yaxis": "y"
        },
        {
         "type": "scatter",
         "x": [
          20,
          30,
          40
         ],
         "xaxis": "x2",
         "y": [
          50,
          60,
          70
         ],
         "yaxis": "y2"
        }
       ],
       "layout": {
        "annotations": [
         {
          "font": {
           "size": 16
          },
          "showarrow": false,
          "text": "your text here",
          "x": 0.225,
          "xanchor": "center",
          "xref": "paper",
          "y": 1,
          "yanchor": "bottom",
          "yref": "paper"
         },
         {
          "font": {
           "size": 16
          },
          "showarrow": false,
          "text": "title2",
          "x": 0.775,
          "xanchor": "center",
          "xref": "paper",
          "y": 1,
          "yanchor": "bottom",
          "yref": "paper"
         },
         {
          "font": {
           "size": 16
          },
          "showarrow": false,
          "text": "title3",
          "x": 0.225,
          "xanchor": "center",
          "xref": "paper",
          "y": 0.375,
          "yanchor": "bottom",
          "yref": "paper"
         }
        ],
        "height": 600,
        "template": {
         "data": {
          "bar": [
           {
            "error_x": {
             "color": "#2a3f5f"
            },
            "error_y": {
             "color": "#2a3f5f"
            },
            "marker": {
             "line": {
              "color": "#E5ECF6",
              "width": 0.5
             }
            },
            "type": "bar"
           }
          ],
          "barpolar": [
           {
            "marker": {
             "line": {
              "color": "#E5ECF6",
              "width": 0.5
             }
            },
            "type": "barpolar"
           }
          ],
          "carpet": [
           {
            "aaxis": {
             "endlinecolor": "#2a3f5f",
             "gridcolor": "white",
             "linecolor": "white",
             "minorgridcolor": "white",
             "startlinecolor": "#2a3f5f"
            },
            "baxis": {
             "endlinecolor": "#2a3f5f",
             "gridcolor": "white",
             "linecolor": "white",
             "minorgridcolor": "white",
             "startlinecolor": "#2a3f5f"
            },
            "type": "carpet"
           }
          ],
          "choropleth": [
           {
            "colorbar": {
             "outlinewidth": 0,
             "ticks": ""
            },
            "type": "choropleth"
           }
          ],
          "contour": [
           {
            "colorbar": {
             "outlinewidth": 0,
             "ticks": ""
            },
            "colorscale": [
             [
              0,
              "#0d0887"
             ],
             [
              0.1111111111111111,
              "#46039f"
             ],
             [
              0.2222222222222222,
              "#7201a8"
             ],
             [
              0.3333333333333333,
              "#9c179e"
             ],
             [
              0.4444444444444444,
              "#bd3786"
             ],
             [
              0.5555555555555556,
              "#d8576b"
             ],
             [
              0.6666666666666666,
              "#ed7953"
             ],
             [
              0.7777777777777778,
              "#fb9f3a"
             ],
             [
              0.8888888888888888,
              "#fdca26"
             ],
             [
              1,
              "#f0f921"
             ]
            ],
            "type": "contour"
           }
          ],
          "contourcarpet": [
           {
            "colorbar": {
             "outlinewidth": 0,
             "ticks": ""
            },
            "type": "contourcarpet"
           }
          ],
          "heatmap": [
           {
            "colorbar": {
             "outlinewidth": 0,
             "ticks": ""
            },
            "colorscale": [
             [
              0,
              "#0d0887"
             ],
             [
              0.1111111111111111,
              "#46039f"
             ],
             [
              0.2222222222222222,
              "#7201a8"
             ],
             [
              0.3333333333333333,
              "#9c179e"
             ],
             [
              0.4444444444444444,
              "#bd3786"
             ],
             [
              0.5555555555555556,
              "#d8576b"
             ],
             [
              0.6666666666666666,
              "#ed7953"
             ],
             [
              0.7777777777777778,
              "#fb9f3a"
             ],
             [
              0.8888888888888888,
              "#fdca26"
             ],
             [
              1,
              "#f0f921"
             ]
            ],
            "type": "heatmap"
           }
          ],
          "heatmapgl": [
           {
            "colorbar": {
             "outlinewidth": 0,
             "ticks": ""
            },
            "colorscale": [
             [
              0,
              "#0d0887"
             ],
             [
              0.1111111111111111,
              "#46039f"
             ],
             [
              0.2222222222222222,
              "#7201a8"
             ],
             [
              0.3333333333333333,
              "#9c179e"
             ],
             [
              0.4444444444444444,
              "#bd3786"
             ],
             [
              0.5555555555555556,
              "#d8576b"
             ],
             [
              0.6666666666666666,
              "#ed7953"
             ],
             [
              0.7777777777777778,
              "#fb9f3a"
             ],
             [
              0.8888888888888888,
              "#fdca26"
             ],
             [
              1,
              "#f0f921"
             ]
            ],
            "type": "heatmapgl"
           }
          ],
          "histogram": [
           {
            "marker": {
             "colorbar": {
              "outlinewidth": 0,
              "ticks": ""
             }
            },
            "type": "histogram"
           }
          ],
          "histogram2d": [
           {
            "colorbar": {
             "outlinewidth": 0,
             "ticks": ""
            },
            "colorscale": [
             [
              0,
              "#0d0887"
             ],
             [
              0.1111111111111111,
              "#46039f"
             ],
             [
              0.2222222222222222,
              "#7201a8"
             ],
             [
              0.3333333333333333,
              "#9c179e"
             ],
             [
              0.4444444444444444,
              "#bd3786"
             ],
             [
              0.5555555555555556,
              "#d8576b"
             ],
             [
              0.6666666666666666,
              "#ed7953"
             ],
             [
              0.7777777777777778,
              "#fb9f3a"
             ],
             [
              0.8888888888888888,
              "#fdca26"
             ],
             [
              1,
              "#f0f921"
             ]
            ],
            "type": "histogram2d"
           }
          ],
          "histogram2dcontour": [
           {
            "colorbar": {
             "outlinewidth": 0,
             "ticks": ""
            },
            "colorscale": [
             [
              0,
              "#0d0887"
             ],
             [
              0.1111111111111111,
              "#46039f"
             ],
             [
              0.2222222222222222,
              "#7201a8"
             ],
             [
              0.3333333333333333,
              "#9c179e"
             ],
             [
              0.4444444444444444,
              "#bd3786"
             ],
             [
              0.5555555555555556,
              "#d8576b"
             ],
             [
              0.6666666666666666,
              "#ed7953"
             ],
             [
              0.7777777777777778,
              "#fb9f3a"
             ],
             [
              0.8888888888888888,
              "#fdca26"
             ],
             [
              1,
              "#f0f921"
             ]
            ],
            "type": "histogram2dcontour"
           }
          ],
          "mesh3d": [
           {
            "colorbar": {
             "outlinewidth": 0,
             "ticks": ""
            },
            "type": "mesh3d"
           }
          ],
          "parcoords": [
           {
            "line": {
             "colorbar": {
              "outlinewidth": 0,
              "ticks": ""
             }
            },
            "type": "parcoords"
           }
          ],
          "pie": [
           {
            "automargin": true,
            "type": "pie"
           }
          ],
          "scatter": [
           {
            "marker": {
             "colorbar": {
              "outlinewidth": 0,
              "ticks": ""
             }
            },
            "type": "scatter"
           }
          ],
          "scatter3d": [
           {
            "line": {
             "colorbar": {
              "outlinewidth": 0,
              "ticks": ""
             }
            },
            "marker": {
             "colorbar": {
              "outlinewidth": 0,
              "ticks": ""
             }
            },
            "type": "scatter3d"
           }
          ],
          "scattercarpet": [
           {
            "marker": {
             "colorbar": {
              "outlinewidth": 0,
              "ticks": ""
             }
            },
            "type": "scattercarpet"
           }
          ],
          "scattergeo": [
           {
            "marker": {
             "colorbar": {
              "outlinewidth": 0,
              "ticks": ""
             }
            },
            "type": "scattergeo"
           }
          ],
          "scattergl": [
           {
            "marker": {
             "colorbar": {
              "outlinewidth": 0,
              "ticks": ""
             }
            },
            "type": "scattergl"
           }
          ],
          "scattermapbox": [
           {
            "marker": {
             "colorbar": {
              "outlinewidth": 0,
              "ticks": ""
             }
            },
            "type": "scattermapbox"
           }
          ],
          "scatterpolar": [
           {
            "marker": {
             "colorbar": {
              "outlinewidth": 0,
              "ticks": ""
             }
            },
            "type": "scatterpolar"
           }
          ],
          "scatterpolargl": [
           {
            "marker": {
             "colorbar": {
              "outlinewidth": 0,
              "ticks": ""
             }
            },
            "type": "scatterpolargl"
           }
          ],
          "scatterternary": [
           {
            "marker": {
             "colorbar": {
              "outlinewidth": 0,
              "ticks": ""
             }
            },
            "type": "scatterternary"
           }
          ],
          "surface": [
           {
            "colorbar": {
             "outlinewidth": 0,
             "ticks": ""
            },
            "colorscale": [
             [
              0,
              "#0d0887"
             ],
             [
              0.1111111111111111,
              "#46039f"
             ],
             [
              0.2222222222222222,
              "#7201a8"
             ],
             [
              0.3333333333333333,
              "#9c179e"
             ],
             [
              0.4444444444444444,
              "#bd3786"
             ],
             [
              0.5555555555555556,
              "#d8576b"
             ],
             [
              0.6666666666666666,
              "#ed7953"
             ],
             [
              0.7777777777777778,
              "#fb9f3a"
             ],
             [
              0.8888888888888888,
              "#fdca26"
             ],
             [
              1,
              "#f0f921"
             ]
            ],
            "type": "surface"
           }
          ],
          "table": [
           {
            "cells": {
             "fill": {
              "color": "#EBF0F8"
             },
             "line": {
              "color": "white"
             }
            },
            "header": {
             "fill": {
              "color": "#C8D4E3"
             },
             "line": {
              "color": "white"
             }
            },
            "type": "table"
           }
          ]
         },
         "layout": {
          "annotationdefaults": {
           "arrowcolor": "#2a3f5f",
           "arrowhead": 0,
           "arrowwidth": 1
          },
          "coloraxis": {
           "colorbar": {
            "outlinewidth": 0,
            "ticks": ""
           }
          },
          "colorscale": {
           "diverging": [
            [
             0,
             "#8e0152"
            ],
            [
             0.1,
             "#c51b7d"
            ],
            [
             0.2,
             "#de77ae"
            ],
            [
             0.3,
             "#f1b6da"
            ],
            [
             0.4,
             "#fde0ef"
            ],
            [
             0.5,
             "#f7f7f7"
            ],
            [
             0.6,
             "#e6f5d0"
            ],
            [
             0.7,
             "#b8e186"
            ],
            [
             0.8,
             "#7fbc41"
            ],
            [
             0.9,
             "#4d9221"
            ],
            [
             1,
             "#276419"
            ]
           ],
           "sequential": [
            [
             0,
             "#0d0887"
            ],
            [
             0.1111111111111111,
             "#46039f"
            ],
            [
             0.2222222222222222,
             "#7201a8"
            ],
            [
             0.3333333333333333,
             "#9c179e"
            ],
            [
             0.4444444444444444,
             "#bd3786"
            ],
            [
             0.5555555555555556,
             "#d8576b"
            ],
            [
             0.6666666666666666,
             "#ed7953"
            ],
            [
             0.7777777777777778,
             "#fb9f3a"
            ],
            [
             0.8888888888888888,
             "#fdca26"
            ],
            [
             1,
             "#f0f921"
            ]
           ],
           "sequentialminus": [
            [
             0,
             "#0d0887"
            ],
            [
             0.1111111111111111,
             "#46039f"
            ],
            [
             0.2222222222222222,
             "#7201a8"
            ],
            [
             0.3333333333333333,
             "#9c179e"
            ],
            [
             0.4444444444444444,
             "#bd3786"
            ],
            [
             0.5555555555555556,
             "#d8576b"
            ],
            [
             0.6666666666666666,
             "#ed7953"
            ],
            [
             0.7777777777777778,
             "#fb9f3a"
            ],
            [
             0.8888888888888888,
             "#fdca26"
            ],
            [
             1,
             "#f0f921"
            ]
           ]
          },
          "colorway": [
           "#636efa",
           "#EF553B",
           "#00cc96",
           "#ab63fa",
           "#FFA15A",
           "#19d3f3",
           "#FF6692",
           "#B6E880",
           "#FF97FF",
           "#FECB52"
          ],
          "font": {
           "color": "#2a3f5f"
          },
          "geo": {
           "bgcolor": "white",
           "lakecolor": "white",
           "landcolor": "#E5ECF6",
           "showlakes": true,
           "showland": true,
           "subunitcolor": "white"
          },
          "hoverlabel": {
           "align": "left"
          },
          "hovermode": "closest",
          "mapbox": {
           "style": "light"
          },
          "paper_bgcolor": "white",
          "plot_bgcolor": "#E5ECF6",
          "polar": {
           "angularaxis": {
            "gridcolor": "white",
            "linecolor": "white",
            "ticks": ""
           },
           "bgcolor": "#E5ECF6",
           "radialaxis": {
            "gridcolor": "white",
            "linecolor": "white",
            "ticks": ""
           }
          },
          "scene": {
           "xaxis": {
            "backgroundcolor": "#E5ECF6",
            "gridcolor": "white",
            "gridwidth": 2,
            "linecolor": "white",
            "showbackground": true,
            "ticks": "",
            "zerolinecolor": "white"
           },
           "yaxis": {
            "backgroundcolor": "#E5ECF6",
            "gridcolor": "white",
            "gridwidth": 2,
            "linecolor": "white",
            "showbackground": true,
            "ticks": "",
            "zerolinecolor": "white"
           },
           "zaxis": {
            "backgroundcolor": "#E5ECF6",
            "gridcolor": "white",
            "gridwidth": 2,
            "linecolor": "white",
            "showbackground": true,
            "ticks": "",
            "zerolinecolor": "white"
           }
          },
          "shapedefaults": {
           "line": {
            "color": "#2a3f5f"
           }
          },
          "ternary": {
           "aaxis": {
            "gridcolor": "white",
            "linecolor": "white",
            "ticks": ""
           },
           "baxis": {
            "gridcolor": "white",
            "linecolor": "white",
            "ticks": ""
           },
           "bgcolor": "#E5ECF6",
           "caxis": {
            "gridcolor": "white",
            "linecolor": "white",
            "ticks": ""
           }
          },
          "title": {
           "x": 0.05
          },
          "xaxis": {
           "automargin": true,
           "gridcolor": "white",
           "linecolor": "white",
           "ticks": "",
           "title": {
            "standoff": 15
           },
           "zerolinecolor": "white",
           "zerolinewidth": 2
          },
          "yaxis": {
           "automargin": true,
           "gridcolor": "white",
           "linecolor": "white",
           "ticks": "",
           "title": {
            "standoff": 15
           },
           "zerolinecolor": "white",
           "zerolinewidth": 2
          }
         }
        },
        "title": {
         "text": "Subplots"
        },
        "width": 800,
        "xaxis": {
         "anchor": "y",
         "domain": [
          0,
          0.45
         ]
        },
        "xaxis2": {
         "anchor": "y2",
         "domain": [
          0.55,
          1
         ]
        },
        "xaxis3": {
         "anchor": "y3",
         "domain": [
          0,
          0.45
         ]
        },
        "xaxis4": {
         "anchor": "y4",
         "domain": [
          0.55,
          1
         ]
        },
        "yaxis": {
         "anchor": "x",
         "domain": [
          0.625,
          1
         ]
        },
        "yaxis2": {
         "anchor": "x2",
         "domain": [
          0.625,
          1
         ]
        },
        "yaxis3": {
         "anchor": "x3",
         "domain": [
          0,
          0.375
         ]
        },
        "yaxis4": {
         "anchor": "x4",
         "domain": [
          0,
          0.375
         ]
        }
       }
      }
     },
     "metadata": {}
    }
   ],
   "source": [
    "from plotly.subplots import make_subplots\n",
    "import plotly.graph_objects as go\n",
    "\n",
    "# create figure with subplots\n",
    "fig = make_subplots(rows=2, cols=2, subplot_titles = ['title1','title2',\"title3\"])\n",
    "\n",
    "fig.add_trace(\n",
    "    go.Scatter(x=[1, 2, 3], y=[4, 5, 6]),\n",
    "    row=1, col=1\n",
    ")\n",
    "\n",
    "fig.add_trace(\n",
    "    go.Scatter(x=[20, 30, 40], y=[50, 60, 70]),\n",
    "    row=1, col=2\n",
    ")\n",
    "\n",
    "fig.update_layout(height=600, width=800, title_text=\"Subplots\")\n",
    "\n",
    "fig.show()\n",
    "\n",
    "# to change subtitle, address subplot\n",
    "fig['layout']['annotations'][0].update(text='your text here');\n",
    "print(fig[\"layout\"][\"annotations\"])\n",
    "\n",
    "fig.show()\n",
    "\n",
    "\n",
    "# fig.add_annotation(text = \"title4\", row = 2, col = 2)\n",
    "# fig.show()"
   ]
  }
 ],
 "metadata": {
  "language_info": {
   "codemirror_mode": {
    "name": "ipython",
    "version": 3
   },
   "file_extension": ".py",
   "mimetype": "text/x-python",
   "name": "python",
   "nbconvert_exporter": "python",
   "pygments_lexer": "ipython3",
   "version": "3.6.10-final"
  },
  "orig_nbformat": 2,
  "kernelspec": {
   "name": "python3",
   "display_name": "Python 3"
  }
 },
 "nbformat": 4,
 "nbformat_minor": 2
}